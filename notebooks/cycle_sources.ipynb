{
 "cells": [
  {
   "cell_type": "code",
   "execution_count": null,
   "metadata": {},
   "outputs": [],
   "source": [
    "import pickle\n",
    "import sys\n",
    "from zoneinfo import ZoneInfo\n",
    "sys.path.append(\"../\")\n",
    "\n",
    "from dotenv import load_dotenv\n",
    "load_dotenv()\n",
    "import geopandas as gpd\n",
    "import importlib\n",
    "import copy\n",
    "import logging\n",
    "import contextily as cx\n",
    "import gtfs_kit as gk\n",
    "import fastsim as fsim\n",
    "import matplotlib.pyplot as plt\n",
    "import numpy as np\n",
    "import os\n",
    "import pandas as pd\n",
    "from pathlib import Path\n",
    "import lightning.pytorch as pl\n",
    "import rasterio as rio\n",
    "from rasterio.plot import show\n",
    "import seaborn as sns\n",
    "import shapely\n",
    "import statsmodels.api as sm\n",
    "from torch.utils.data import DataLoader\n",
    "\n",
    "from openbustools import plotting, spatial, standardfeeds\n",
    "from openbustools.traveltime import data_loader, model_utils\n",
    "from openbustools.drivecycle import trajectory, busnetwork\n",
    "from openbustools.drivecycle.physics import conditions, energy, vehicle"
   ]
  },
  {
   "cell_type": "code",
   "execution_count": null,
   "metadata": {},
   "outputs": [],
   "source": [
    "epsg = 32148\n",
    "timezone = \"America/Los_Angeles\"\n",
    "coord_ref_center = [386910,69022]\n",
    "chop_n = 500\n",
    "point_sep_m = 200\n",
    "dem_file = Path(\"..\",\"data\",\"kcm_spatial\",\"usgs10m_dem_32148.tif\")\n",
    "phone_trajectory_folders = [x for x in Path(\"..\",\"data\",\"kcm_sensor\",\"match_realtime\",\"gnss_validated\").glob(\"*\") if x.is_dir()]\n",
    "realtime_folder = Path(\"..\",\"data\",\"kcm_sensor_realtime\")\n",
    "gnss_solution_file = Path(\"..\",\"data\",\"gnss\",\"CEErover_solution_20240312160029.LLH\")\n",
    "\n",
    "veh = fsim.vehicle.Vehicle.from_vehdb(63, veh_file=Path(\"..\", \"data\", \"FASTSim_py_veh_db.csv\")) # New Flyer XE40\n",
    "# veh = fsim.vehicle.Vehicle.from_vehdb(25, veh_file=Path(\"..\", \"data\", \"FASTSim_py_veh_db.csv\")) # Class 8 Delivery Truck\n",
    "\n",
    "model_folder = \"../logs\"\n",
    "run_label = \"/mix\"\n",
    "model_type = \"GRU\"\n",
    "fold_num = 0\n",
    "version = \"version_0\"\n",
    "model = model_utils.load_model(model_folder, run_label, model_type, fold_num, version=version)\n",
    "model.eval()"
   ]
  },
  {
   "cell_type": "markdown",
   "metadata": {},
   "source": [
    "### Altoona, FastSIM Standardized Cycle Comparison (validate BEB model)"
   ]
  },
  {
   "cell_type": "code",
   "execution_count": null,
   "metadata": {},
   "outputs": [],
   "source": [
    "altoona_economy = {\n",
    "    \"manhattan.csv\": (2767 / 1000),\n",
    "    \"orange_county.csv\": (2176 / 1000),\n",
    "    \"hd_udds.csv\": (1980 / 1000)\n",
    "}\n",
    "economies = []\n",
    "for cycle_file in [\"manhattan.csv\", \"orange_county.csv\", \"hd_udds.csv\"]:\n",
    "    df = pd.read_csv(Path(\"..\",\"data\",cycle_file))\n",
    "    cycle = {\n",
    "        \"cycSecs\": df[\"Time (seconds)\"].to_numpy(),\n",
    "        \"cycMps\": df[\"Speed (mph)\"].to_numpy() * 0.44704,\n",
    "        \"cycGrade\": np.zeros(df.shape[0]),\n",
    "        \"cycRoadType\": np.zeros(df.shape[0])\n",
    "    }\n",
    "    cycle = fsim.cycle.Cycle.from_dict(cycle)\n",
    "    sim_drive = fsim.simdrive.SimDrive(cycle, veh)\n",
    "    sim_drive.sim_drive()\n",
    "    economies.append(sim_drive.battery_kwh_per_mi)\n",
    "for i,cycle_file in enumerate([\"manhattan.csv\", \"orange_county.csv\", \"hd_udds.csv\"]):\n",
    "    print(f\"{cycle_file}: (FASTSim BEB): {economies[i]:.2f} kWh/mi | (Altoona: {altoona_economy[cycle_file]:.2f} kWh/mi)\")"
   ]
  },
  {
   "cell_type": "code",
   "execution_count": null,
   "metadata": {},
   "outputs": [],
   "source": [
    "# Smooth or increase velocity peaks\n",
    "df['Speed (mph)_smoothed'] = spatial.apply_sg_filter(df[\"Speed (mph)\"].to_numpy(), clip_min=0, clip_max=80)\n",
    "df['Speed (mph)_peaked_2'] = spatial.apply_peak_filter(df['Speed (mph)'].to_numpy(), scalar=2.0, window_len=51, clip_min=0, clip_max=80)\n",
    "df['Speed (mph)_peaked_5'] = spatial.apply_peak_filter(df['Speed (mph)'].to_numpy(), scalar=5.0, window_len=51, clip_min=0, clip_max=80)\n",
    "\n",
    "fig, axes = plt.subplots(1, 1, figsize=(15, 5))\n",
    "sns.lineplot(x=df[\"Time (seconds)\"], y=df[\"Speed (mph)_peaked_2\"], ax=axes, label=\"Peaked 2x\")\n",
    "sns.lineplot(x=df[\"Time (seconds)\"], y=df[\"Speed (mph)_peaked_5\"], ax=axes, label=\"Peaked 5x\")\n",
    "sns.lineplot(x=df[\"Time (seconds)\"], y=df[\"Speed (mph)\"], ax=axes, label=\"Original\")\n",
    "sns.lineplot(x=df[\"Time (seconds)\"], y=df[\"Speed (mph)_smoothed\"], ax=axes, label=\"Smoothed\")\n",
    "cycle_file"
   ]
  },
  {
   "cell_type": "code",
   "execution_count": null,
   "metadata": {},
   "outputs": [],
   "source": [
    "fig, axes = plt.subplots(1, 1, figsize=(15, 5))\n",
    "df['acc_mph_s'] = df['Speed (mph)'].diff() / df['Time (seconds)'].diff()\n",
    "df['acc_mph_s_smoothed'] = df['Speed (mph)_smoothed'].diff() / df['Time (seconds)'].diff()\n",
    "df['acc_mph_s_peaked_2'] = df['Speed (mph)_peaked_2'].diff() / df['Time (seconds)'].diff()\n",
    "df['acc_mph_s_peaked_5'] = df['Speed (mph)_peaked_5'].diff() / df['Time (seconds)'].diff()\n",
    "sns.histplot(df['acc_mph_s'], bins=100, kde=True, label=\"Original\", ax=axes)\n",
    "sns.histplot(df['acc_mph_s_smoothed'], bins=100, kde=True, label=\"Smoothed\", ax=axes)\n",
    "sns.histplot(df['acc_mph_s_peaked_2'], bins=100, kde=True, label=\"Peaked 2x\", ax=axes)\n",
    "sns.histplot(df['acc_mph_s_peaked_10'], bins=100, kde=True, label=\"Peaked 5x\", ax=axes)\n",
    "axes.set_xlim(-20, 20)\n",
    "axes.set_ylim(0, 100)\n",
    "fig.legend()"
   ]
  },
  {
   "cell_type": "markdown",
   "metadata": {},
   "source": [
    "### Phone, Receiver, Realtime Comparison (validate realtime trajectory)"
   ]
  },
  {
   "cell_type": "code",
   "execution_count": null,
   "metadata": {},
   "outputs": [],
   "source": [
    "# Load phone/realtime data as trajectories\n",
    "phone_trajectories = [standardfeeds.get_phone_trajectory(x, timezone=timezone, epsg=epsg, coord_ref_center=coord_ref_center, dem_file=dem_file, chop_n=chop_n, resample=True) for x in phone_trajectory_folders]\n",
    "phone_gnss_trajectories = [standardfeeds.get_gnss_trajectory(x, gnss_solution_file=gnss_solution_file, resample=True) for x in phone_trajectories]\n",
    "phone_realtime_trajectories = [standardfeeds.get_realtime_trajectory(x, realtime_folder=realtime_folder,  resample=True) for x in phone_trajectories]\n",
    "print(len(phone_trajectories[0].gdf))\n",
    "print(len(phone_gnss_trajectories[0].gdf))\n",
    "print(len(phone_realtime_trajectories[0].gdf))"
   ]
  },
  {
   "cell_type": "code",
   "execution_count": null,
   "metadata": {},
   "outputs": [],
   "source": [
    "traj_n = 2\n",
    "fig, axes = plt.subplots(1,3,figsize=(12,8))\n",
    "fig.tight_layout()\n",
    "axes = axes.flatten()\n",
    "phone_gnss_trajectories[0].gdf.plot(ax=axes[0], color=\"blue\", markersize=1)\n",
    "phone_gnss_trajectories[1].gdf.plot(ax=axes[1], color=\"red\", markersize=1)\n",
    "phone_gnss_trajectories[2].gdf.plot(ax=axes[2], color=\"purple\", markersize=1)\n",
    "axes[0].set_xticks([])\n",
    "axes[1].set_xticks([])\n",
    "axes[2].set_xticks([])\n",
    "axes[0].set_yticks([])\n",
    "axes[1].set_yticks([])\n",
    "axes[2].set_yticks([])\n",
    "cx.add_basemap(ax=axes[0], crs=phone_gnss_trajectories[0].gdf.crs.to_string(), alpha=0.6, source=cx.providers.MapBox(accessToken=os.getenv(key=\"MAPBOX_TOKEN\")))\n",
    "cx.add_basemap(ax=axes[1], crs=phone_gnss_trajectories[1].gdf.crs.to_string(), alpha=0.6, source=cx.providers.MapBox(accessToken=os.getenv(key=\"MAPBOX_TOKEN\")))\n",
    "cx.add_basemap(ax=axes[2], crs=phone_gnss_trajectories[2].gdf.crs.to_string(), alpha=0.6, source=cx.providers.MapBox(accessToken=os.getenv(key=\"MAPBOX_TOKEN\")))"
   ]
  },
  {
   "cell_type": "code",
   "execution_count": null,
   "metadata": {},
   "outputs": [],
   "source": [
    "# Run fastsim energy analysis for each trajectory\n",
    "energy_results = []\n",
    "economies = []\n",
    "\n",
    "# Phone/receiver/realtime energy consumption\n",
    "for i, (traj_phone, traj_gnss, traj_realtime) in enumerate(zip(phone_trajectories, phone_gnss_trajectories, phone_realtime_trajectories)):\n",
    "    # Energy analysis for phone\n",
    "    cycle_phone = {\n",
    "        \"cycGrade\": np.clip(spatial.divide_fwd_back_fill(np.diff(traj_phone.gdf['calc_elev_m'], prepend=traj_phone.gdf['calc_elev_m'].iloc[0]), traj_phone.gdf['calc_dist_m']), -0.15, 0.15),\n",
    "        \"mps\": spatial.apply_sg_filter(traj_phone.gdf[\"calc_speed_m_s\"].to_numpy(), clip_min=0, clip_max=30),\n",
    "        \"time_s\": traj_phone.gdf['cumul_time_s'].to_numpy(),\n",
    "        \"road_type\": np.zeros(len(traj_phone.gdf))\n",
    "    }\n",
    "    # cycle_phone = fsim.cycle.Cycle.from_dict(fsim.cycle.resample(cycle_phone, new_dt=1))\n",
    "    cycle_phone = fsim.cycle.Cycle.from_dict(cycle_phone)\n",
    "    sim_drive_phone = fsim.simdrive.SimDrive(cycle_phone, veh)\n",
    "    sim_drive_phone.sim_drive()\n",
    "    # Energy analysis for GNSS\n",
    "    cycle_gnss = {\n",
    "        \"cycGrade\": np.clip(spatial.divide_fwd_back_fill(np.diff(traj_gnss.gdf['calc_elev_m'], prepend=traj_gnss.gdf['calc_elev_m'].iloc[0]), traj_gnss.gdf['calc_dist_m']), -0.15, 0.15),\n",
    "        \"mps\": spatial.apply_sg_filter(traj_gnss.gdf[\"calc_speed_m_s\"].to_numpy(), clip_min=0, clip_max=30),\n",
    "        \"time_s\": traj_gnss.gdf['cumul_time_s'].to_numpy(),\n",
    "        \"road_type\": np.zeros(len(traj_gnss.gdf))\n",
    "    }\n",
    "    cycle_gnss = fsim.cycle.Cycle.from_dict(cycle_gnss)\n",
    "    sim_drive_gnss = fsim.simdrive.SimDrive(cycle_gnss, veh)\n",
    "    sim_drive_gnss.sim_drive()\n",
    "    # Energy analysis for realtime\n",
    "    cycle_realtime = {\n",
    "        \"cycGrade\": np.clip(spatial.divide_fwd_back_fill(np.diff(traj_realtime.gdf['calc_elev_m'], prepend=traj_realtime.gdf['calc_elev_m'].iloc[0]), traj_realtime.gdf['calc_dist_m']), -0.15, 0.15),\n",
    "        \"mps\": spatial.apply_sg_filter(traj_realtime.gdf[\"calc_speed_m_s\"].to_numpy(), clip_min=0, clip_max=30),\n",
    "        \"time_s\": traj_realtime.gdf['cumul_time_s'].to_numpy(),\n",
    "        \"road_type\": np.zeros(len(traj_realtime.gdf))\n",
    "    }\n",
    "    cycle_realtime = fsim.cycle.Cycle.from_dict(cycle_realtime)\n",
    "    sim_drive_realtime = fsim.simdrive.SimDrive(cycle_realtime, veh)\n",
    "    sim_drive_realtime.sim_drive()\n",
    "    energy_results.append({\"phone\": (cycle_phone, sim_drive_phone), \"gnss\": (cycle_gnss, sim_drive_gnss), \"realtime\": (cycle_realtime, sim_drive_realtime)})\n",
    "    economies.append((sim_drive_phone.electric_kwh_per_mi, sim_drive_gnss.electric_kwh_per_mi, sim_drive_realtime.electric_kwh_per_mi))\n",
    "\n",
    "print(f\"\\economies:\")\n",
    "print(f\"Avg. Phone: {np.mean([x[0] for x in economies]):.2f} kWh/mi\")\n",
    "print(f\"Avg. GNSS: {np.mean([x[1] for x in economies]):.2f} kWh/mi\")\n",
    "print(f\"Avg. Realtime: {np.mean([x[2] for x in economies]):.2f} kWh/mi\\n\")\n",
    "\n",
    "fig, axes = plt.subplots(3,2,figsize=(15,10))\n",
    "fig.tight_layout()\n",
    "for traj_n in range(3):\n",
    "    ax = axes[traj_n,0]\n",
    "    ax.set_ylabel(\"Speed (mph)\")\n",
    "    ax.set_xlabel(\"Time (s)\")\n",
    "    sns.lineplot(x=phone_trajectories[traj_n].gdf[\"cumul_time_s\"], y=phone_trajectories[traj_n].gdf[\"calc_speed_m_s\"]*2.2, ax=ax, label=\"Phone\")\n",
    "    sns.lineplot(x=phone_gnss_trajectories[traj_n].gdf[\"cumul_time_s\"], y=phone_gnss_trajectories[traj_n].gdf[\"calc_speed_m_s\"]*2.2, ax=ax, label=\"GNSS\")\n",
    "    sns.lineplot(x=phone_realtime_trajectories[traj_n].gdf[\"cumul_time_s\"], y=phone_realtime_trajectories[traj_n].gdf[\"calc_speed_m_s\"]*2.2, ax=ax, label=\"Realtime\")\n",
    "for traj_n in range(3):\n",
    "    ax = axes[traj_n,1]\n",
    "    ax.set_ylabel(\"Speed (mph)\")\n",
    "    ax.set_xlabel(\"Time (s)\")\n",
    "    sim_drive_phone, sim_drive_gnss, sim_drive_realtime = energy_results[traj_n][\"phone\"][1], energy_results[traj_n][\"gnss\"][1], energy_results[traj_n][\"realtime\"][1]\n",
    "    sns.lineplot(x=sim_drive_phone.cyc.time_s, y=sim_drive_phone.cyc.mph, ax=ax, label=\"Phone\")\n",
    "    sns.lineplot(x=sim_drive_gnss.cyc.time_s, y=sim_drive_gnss.cyc.mph, ax=ax, label=\"GNSS\")\n",
    "    sns.lineplot(x=sim_drive_realtime.cyc.time_s, y=sim_drive_realtime.cyc.mph, ax=ax, label=\"Realtime\")\n",
    "axes[0,0].set_title(\"Input Speed\")\n",
    "axes[0,1].set_title(\"Smoothed Speed\")\n",
    "plt.show()"
   ]
  },
  {
   "cell_type": "code",
   "execution_count": null,
   "metadata": {},
   "outputs": [],
   "source": [
    "plotting.drive_cycle_energy_plot(energy_results)"
   ]
  },
  {
   "cell_type": "markdown",
   "metadata": {},
   "source": [
    "### Mean Realtime, Model Predicted Comparison"
   ]
  },
  {
   "cell_type": "code",
   "execution_count": null,
   "metadata": {},
   "outputs": [],
   "source": [
    "# Load a static feed and break each shape into regularly spaced points\n",
    "static_file = Path(\"..\", \"data\", \"kcm_static\", \"2023_03_18\")\n",
    "static_feed = gk.read_feed(static_file, dist_units=\"km\")\n",
    "route_shape_points = standardfeeds.segmentize_shapes(static_feed, epsg=epsg, point_sep_m=point_sep_m)\n",
    "route_shape_points"
   ]
  },
  {
   "cell_type": "code",
   "execution_count": null,
   "metadata": {},
   "outputs": [],
   "source": [
    "# Load set of realtime data to aggregate to route shapes; join it to static feed ids\n",
    "realtime_files = [Path(\"..\", \"data\", \"kcm_realtime\", \"processed\", \"analysis\", f\"2023_04_2{x}.pkl\") for x in np.arange(5)]\n",
    "realtime_data = [pd.read_pickle(i) for i in realtime_files]\n",
    "realtime_data = pd.concat(realtime_data)\n",
    "realtime_data = pd.merge(realtime_data[['calc_speed_m_s', 'x', 'y', 'trip_id']], static_feed.trips[['trip_id', 'shape_id']], on='trip_id')\n",
    "realtime_data = gpd.GeoDataFrame(realtime_data, geometry=gpd.points_from_xy(realtime_data.x, realtime_data.y), crs=epsg)\n",
    "\n",
    "# Group realtime data by shape and find closest static point in that shape for each observation\n",
    "route_shape_metrics = realtime_data.groupby('shape_id').apply(lambda x: gpd.sjoin_nearest(x, route_shape_points[x.name]), include_groups=False)\n",
    "route_shape_metrics = route_shape_metrics.drop(columns=['shape_id']).reset_index()\n",
    "route_shape_metrics = route_shape_metrics.groupby(['shape_id', 'seq_id'], as_index=False).agg({\n",
    "    'calc_speed_m_s': ['mean', 'std'],\n",
    "    'trip_id': 'count',\n",
    "    'geometry': 'first'\n",
    "})\n",
    "route_shape_metrics = {\n",
    "    'geometry': route_shape_metrics[('geometry', 'first')],\n",
    "    'speed_mean': route_shape_metrics[('calc_speed_m_s', 'mean')],\n",
    "    'speed_std': route_shape_metrics[('calc_speed_m_s', 'std')],\n",
    "    'count_n': route_shape_metrics[('trip_id', 'count')],\n",
    "    'shape_id': route_shape_metrics['shape_id'],\n",
    "    'seq_id': route_shape_metrics['seq_id']\n",
    "}\n",
    "route_shape_metrics = gpd.GeoDataFrame(route_shape_metrics, crs=epsg)\n",
    "route_shape_metrics.head()"
   ]
  },
  {
   "cell_type": "code",
   "execution_count": null,
   "metadata": {},
   "outputs": [],
   "source": [
    "# Subset of shape_ids for testing\n",
    "plot_routes = route_shape_metrics.sample(4, random_state=42)['shape_id'].to_numpy()\n",
    "plot_df = route_shape_metrics[route_shape_metrics['shape_id'].isin(plot_routes)].copy()\n",
    "plot_df_groups = {k: v for k, v in plot_df.groupby('shape_id')}"
   ]
  },
  {
   "cell_type": "code",
   "execution_count": null,
   "metadata": {},
   "outputs": [],
   "source": [
    "# Turning regularly spaced points w/speeds into calculated distances and times\n",
    "# Important to base distance on sequence id because some points do not have observations\n",
    "for k,df in plot_df_groups.items():\n",
    "    plot_df_groups[k]['cumul_dist_m'] = df['seq_id'] * point_sep_m\n",
    "    plot_df_groups[k]['calc_dist_m'] = df['cumul_dist_m'].diff().fillna(0)\n",
    "    plot_df_groups[k]['calc_time_s'] = df['calc_dist_m'] / df['speed_mean']\n",
    "    plot_df_groups[k]['cumul_time_s'] = df['calc_time_s'].cumsum()\n",
    "    plot_df_groups[k]['speed_std'] = df['speed_std'].bfill().ffill()"
   ]
  },
  {
   "cell_type": "code",
   "execution_count": null,
   "metadata": {},
   "outputs": [],
   "source": [
    "# Overview of the routes\n",
    "fig, axes = plt.subplots(1,len(plot_df_groups), figsize=(30,5))\n",
    "fig.tight_layout()\n",
    "for i, (k,df) in enumerate(plot_df_groups.items()):\n",
    "    ax = axes[i]\n",
    "    ax.plot(df['cumul_dist_m'], df['speed_mean'], label=\"Mean Speed\")\n",
    "    ax.fill_between(df['cumul_dist_m'], df['speed_mean'] - df['speed_std'], df['speed_mean'] + df['speed_std'], alpha=0.2, label=\"Speed Std\")\n",
    "    ax.set_xlabel(\"Distance [m]\")\n",
    "    ax.set_ylabel(\"Speed [m/s]\")\n",
    "    ax.set_title(f\"Shape {k}\")\n",
    "    ax.legend()"
   ]
  },
  {
   "cell_type": "code",
   "execution_count": null,
   "metadata": {},
   "outputs": [],
   "source": [
    "# Map of the routes\n",
    "fig, axes = plt.subplots(1,len(plot_df_groups), figsize=(30,5))\n",
    "fig.tight_layout()\n",
    "for i, (k,df) in enumerate(plot_df_groups.items()):\n",
    "    ax = axes[i]\n",
    "    df.plot(ax=ax, column='speed_mean', cmap='plasma', legend=True)\n",
    "    cx.add_basemap(ax=ax, crs=plot_df.crs.to_string(), alpha=0.6, source=cx.providers.MapBox(accessToken=os.getenv(key=\"MAPBOX_TOKEN\")))\n",
    "    ax.set_title(f\"Shape {k}\")"
   ]
  },
  {
   "cell_type": "code",
   "execution_count": null,
   "metadata": {},
   "outputs": [],
   "source": [
    "# Create trajectory for each shape\n",
    "plot_trajectories = []\n",
    "for shape_id, df in plot_df_groups.items():\n",
    "    traj = trajectory.Trajectory(\n",
    "        point_attr={\n",
    "            \"lon\": df.to_crs(4326).geometry.x.to_numpy(),\n",
    "            \"lat\": df.to_crs(4326).geometry.y.to_numpy(),\n",
    "            \"locationtime\": df.cumul_time_s.to_numpy(),\n",
    "            \"measured_speed_m_s\": df.speed_mean.to_numpy(),\n",
    "            \"seq_id\": df.seq_id.to_numpy(),\n",
    "            \"count_n\": df.count_n.to_numpy()\n",
    "        },\n",
    "        traj_attr={\n",
    "            'shape_id': shape_id,\n",
    "            \"coord_ref_center\": coord_ref_center,\n",
    "            \"epsg\": epsg,\n",
    "            \"dem_file\": dem_file,\n",
    "            \"t_min_of_day\": 9*60,\n",
    "            \"t_day_of_week\": 4,\n",
    "            \"start_epoch\": df.cumul_time_s.iloc[0],\n",
    "            \"end_epoch\": df.cumul_time_s.iloc[-1]\n",
    "        },\n",
    "        resample=False\n",
    "    )\n",
    "    plot_trajectories.append(traj)"
   ]
  },
  {
   "cell_type": "code",
   "execution_count": null,
   "metadata": {},
   "outputs": [],
   "source": [
    "# Predict speeds along each trajectory\n",
    "busnetwork.update_travel_times(plot_trajectories, model)"
   ]
  },
  {
   "cell_type": "code",
   "execution_count": null,
   "metadata": {},
   "outputs": [],
   "source": [
    "energy_results = []\n",
    "economies = []\n",
    "mpgge = []\n",
    "\n",
    "for i, traj in enumerate(plot_trajectories):\n",
    "    # Energy analysis for aggregated\n",
    "    cycle_agg = {\n",
    "        \"cycGrade\": np.clip(spatial.divide_fwd_back_fill(np.diff(traj.gdf['calc_elev_m'], prepend=traj.gdf['calc_elev_m'].iloc[0]), traj.gdf['calc_dist_m']), -0.15, 0.15),\n",
    "        \"mps\": spatial.apply_sg_filter(traj.gdf[\"calc_speed_m_s\"].to_numpy(), 8, 0, 30),\n",
    "        \"time_s\": traj.gdf['cumul_time_s'].to_numpy(),\n",
    "        \"road_type\": np.zeros(len(traj.gdf))\n",
    "    }\n",
    "    cycle_agg = fsim.cycle.Cycle.from_dict(fsim.cycle.resample(cycle_agg, new_dt=1))\n",
    "    sim_drive_agg = fsim.simdrive.SimDrive(cycle_agg, veh)\n",
    "    sim_drive_agg.sim_drive()\n",
    "    # Energy analysis for predicted\n",
    "    cycle_pred = {\n",
    "        \"cycGrade\": np.clip(spatial.divide_fwd_back_fill(np.diff(traj.gdf['calc_elev_m'], prepend=traj.gdf['calc_elev_m'].iloc[0]), traj.gdf['calc_dist_m']), -0.15, 0.15),\n",
    "        \"mps\": spatial.apply_sg_filter(traj.gdf[\"pred_speed_m_s\"].to_numpy(), 8, 0, 30),\n",
    "        \"time_s\": traj.gdf['cumul_time_s'].to_numpy(),\n",
    "        \"road_type\": np.zeros(len(traj.gdf))\n",
    "    }\n",
    "    cycle_pred = fsim.cycle.Cycle.from_dict(fsim.cycle.resample(cycle_pred, new_dt=1))\n",
    "    sim_drive_pred = fsim.simdrive.SimDrive(cycle_pred, veh)\n",
    "    sim_drive_pred.sim_drive()\n",
    "    energy_results.append({\"agg\": (cycle_agg, sim_drive_agg), \"pred\": (cycle_pred, sim_drive_pred)})\n",
    "    economies.append((sim_drive_agg.electric_kwh_per_mi, sim_drive_pred.electric_kwh_per_mi))\n",
    "    mpgge.append((sim_drive_agg.mpgge, sim_drive_pred.mpgge))\n",
    "\n",
    "print(f\"economies:\")\n",
    "print(f\"Avg. Agg: {np.mean([x[0] for x in economies]):.2f} kWh/mi\")\n",
    "print(f\"Avg. Pred: {np.mean([x[1] for x in economies]):.2f} kWh/mi\\n\")\n",
    "print(f\"RMSE Agg/Pred: {np.sqrt(np.mean([(x-y)**2 for x,y in economies])):.2f} kWh/mi\")"
   ]
  },
  {
   "cell_type": "code",
   "execution_count": null,
   "metadata": {},
   "outputs": [],
   "source": [
    "sim_drive_pred.electric_kwh_per_mi"
   ]
  },
  {
   "cell_type": "code",
   "execution_count": null,
   "metadata": {},
   "outputs": [],
   "source": [
    "plotting.drive_cycle_energy_plot(energy_results)"
   ]
  },
  {
   "cell_type": "code",
   "execution_count": null,
   "metadata": {},
   "outputs": [],
   "source": [
    "plotting.drive_cycle_comparison(energy_results[3], \"drive_cycle_comparison\")"
   ]
  }
 ],
 "metadata": {
  "kernelspec": {
   "display_name": "valle_m1",
   "language": "python",
   "name": "python3"
  },
  "language_info": {
   "codemirror_mode": {
    "name": "ipython",
    "version": 3
   },
   "file_extension": ".py",
   "mimetype": "text/x-python",
   "name": "python",
   "nbconvert_exporter": "python",
   "pygments_lexer": "ipython3",
   "version": "3.9.18"
  },
  "orig_nbformat": 4,
  "vscode": {
   "interpreter": {
    "hash": "b30fe1de1713ca8e7537eef068b13a2de77ded03f86aab2e80ea73416dd3d704"
   }
  }
 },
 "nbformat": 4,
 "nbformat_minor": 2
}
