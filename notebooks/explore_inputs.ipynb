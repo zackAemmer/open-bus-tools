{
 "cells": [
  {
   "cell_type": "code",
   "execution_count": 1,
   "metadata": {},
   "outputs": [],
   "source": [
    "import datetime\n",
    "import os\n",
    "import random\n",
    "import sys\n",
    "sys.path.append(\"../\")\n",
    "\n",
    "import matplotlib.pyplot as plt\n",
    "import numpy as np\n",
    "import pandas as pd\n",
    "import seaborn as sns\n",
    "\n",
    "from openbustools.traveltime import grid, data_loader\n",
    "from openbustools import plotting, spatial, standardfeeds"
   ]
  },
  {
   "cell_type": "code",
   "execution_count": 6,
   "metadata": {},
   "outputs": [],
   "source": [
    "network_name = 'kcm'\n",
    "data_folders = ['../data/kcm_realtime/processed/', '../data/atb_realtime/processed/']\n",
    "train_date = '2023_03_15'\n",
    "train_n = 3\n",
    "train_dates = standardfeeds.get_date_list(train_date, int(train_n))"
   ]
  },
  {
   "cell_type": "markdown",
   "metadata": {},
   "source": [
    "### Metadata"
   ]
  },
  {
   "cell_type": "code",
   "execution_count": 29,
   "metadata": {},
   "outputs": [
    {
     "name": "stdout",
     "output_type": "stream",
     "text": [
      "../data/kcm_realtime/processed/\n",
      "230 days\n",
      "345127.4, 104873.11225972079 points per day\n",
      "21122.4, 5311.272600799171 samples per day\n",
      "79379302 points\n",
      "4858152 samples\n",
      "['100246' '102705' '100113' '102720' '100031' '100068']\n",
      "../data/atb_realtime/processed/\n",
      "230 days\n",
      "55001.6, 17375.701270452366 points per day\n",
      "3975.6, 826.9221486935757 samples per day\n",
      "12650368 points\n",
      "914388 samples\n",
      "['ATB:Line:2_26' 'ATB:Line:2_25' 'ATB:Line:2_116']\n"
     ]
    }
   ],
   "source": [
    "route_ids = {k:[] for k in data_folders}\n",
    "sample_size = 5\n",
    "for folder_name in data_folders:\n",
    "    data_dates = [f for f in os.listdir(folder_name) if os.path.isfile(f'{folder_name}{f}')]\n",
    "    n_dates = len(data_dates)\n",
    "    n_samples = []\n",
    "    n_points = []\n",
    "    for file_name in random.sample(data_dates, sample_size):\n",
    "        data = pd.read_pickle(f'{folder_name}{file_name}')\n",
    "        n_samples.append(len(pd.unique(data['shingle_id'])))\n",
    "        n_points.append(len(data))\n",
    "        route_ids[folder_name].append(pd.unique(data['route_id']))\n",
    "    print(folder_name)\n",
    "    print(f\"{n_dates} days\")\n",
    "    print(f\"{np.mean(n_points)}, {np.std(n_points)} points per day\")\n",
    "    print(f\"{np.mean(n_samples)}, {np.std(n_samples)} samples per day\")\n",
    "    print(f\"{int(np.mean(n_points) * n_dates)} points\")\n",
    "    print(f\"{int(np.mean(n_samples) * n_dates)} samples\")\n",
    "    unique_routes = np.unique(np.concatenate(route_ids[folder_name]))\n",
    "    print(np.random.choice(unique_routes, int(len(unique_routes)*.05), replace=False))"
   ]
  },
  {
   "attachments": {},
   "cell_type": "markdown",
   "metadata": {},
   "source": [
    "### Traces"
   ]
  },
  {
   "cell_type": "code",
   "execution_count": null,
   "metadata": {},
   "outputs": [],
   "source": [
    "train_dataset = data_loader.DictDataset(data_folders, train_dates)\n",
    "data_df = train_dataset.data\n",
    "data_df.head()"
   ]
  },
  {
   "cell_type": "code",
   "execution_count": null,
   "metadata": {},
   "outputs": [],
   "source": [
    "# Sample one trajectory for plotting, use KCM network\n",
    "sample = data_df[data_df['data_folder']=='../data/kcm_realtime/processed/'].sample(1)\n",
    "sample_trip_id = sample['trip_id'].iloc[0]\n",
    "sample_file = sample['file'].iloc[0]\n",
    "sample_df = data_df[(data_df['trip_id']==sample_trip_id)&(data_df['file']==sample_file)]\n",
    "sample_df = sample_df[sample_df['file']==sample_file]\n",
    "sample_df = sample_df.to_crs('EPSG:32148').reset_index()\n",
    "sample_df.head()"
   ]
  },
  {
   "cell_type": "code",
   "execution_count": null,
   "metadata": {},
   "outputs": [],
   "source": [
    "plotting.formatted_shingle_scatterplot(sample_df)"
   ]
  },
  {
   "attachments": {},
   "cell_type": "markdown",
   "metadata": {},
   "source": [
    "### Feature Distributions"
   ]
  },
  {
   "cell_type": "code",
   "execution_count": null,
   "metadata": {},
   "outputs": [],
   "source": [
    "plotting.formatted_feature_distributions_histplot(data_df)"
   ]
  },
  {
   "attachments": {},
   "cell_type": "markdown",
   "metadata": {},
   "source": [
    "### Grid"
   ]
  },
  {
   "cell_type": "code",
   "execution_count": null,
   "metadata": {},
   "outputs": [],
   "source": [
    "g = train_dataset.grids[data_folders[0]][train_date]"
   ]
  },
  {
   "cell_type": "code",
   "execution_count": null,
   "metadata": {},
   "outputs": [],
   "source": [
    "res = grid.convert_to_frames(g)"
   ]
  },
  {
   "cell_type": "code",
   "execution_count": null,
   "metadata": {},
   "outputs": [],
   "source": [
    "plotting.formatted_grid_animation(res[500:600,:,:])"
   ]
  }
 ],
 "metadata": {
  "kernelspec": {
   "display_name": "valle_m1",
   "language": "python",
   "name": "python3"
  },
  "language_info": {
   "codemirror_mode": {
    "name": "ipython",
    "version": 3
   },
   "file_extension": ".py",
   "mimetype": "text/x-python",
   "name": "python",
   "nbconvert_exporter": "python",
   "pygments_lexer": "ipython3",
   "version": "3.9.6"
  },
  "orig_nbformat": 4,
  "vscode": {
   "interpreter": {
    "hash": "b30fe1de1713ca8e7537eef068b13a2de77ded03f86aab2e80ea73416dd3d704"
   }
  }
 },
 "nbformat": 4,
 "nbformat_minor": 2
}
