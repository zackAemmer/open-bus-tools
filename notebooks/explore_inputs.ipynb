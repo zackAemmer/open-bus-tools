{
 "cells": [
  {
   "cell_type": "code",
   "execution_count": 1,
   "metadata": {},
   "outputs": [],
   "source": [
    "import sys\n",
    "sys.path.append(\"../\")\n",
    "\n",
    "import matplotlib.pyplot as plt\n",
    "import numpy as np\n",
    "import seaborn as sns\n",
    "\n",
    "from openbustools.traveltime import grids, data_loader\n",
    "from openbustools import data_utils, spatial"
   ]
  },
  {
   "cell_type": "code",
   "execution_count": 8,
   "metadata": {},
   "outputs": [],
   "source": [
    "network_name = 'kcm'\n",
    "data_folder = '../data/kcm_realtime/processed/'\n",
    "train_date = '2023_03_15'\n",
    "train_n = 3\n",
    "train_dates = data_utils.get_date_list(train_date, int(train_n))\n",
    "train_dataset = data_loader.ContentDataset(data_folder, train_dates)\n",
    "data_df = train_dataset.data"
   ]
  },
  {
   "cell_type": "code",
   "execution_count": 38,
   "metadata": {},
   "outputs": [
    {
     "data": {
      "text/plain": [
       "<Axes: >"
      ]
     },
     "execution_count": 38,
     "metadata": {},
     "output_type": "execute_result"
    },
    {
     "data": {
      "image/png": "[encoded data removed]",
      "text/plain": [
       "<Figure size 640x480 with 1 Axes>"
      ]
     },
     "metadata": {},
     "output_type": "display_data"
    }
   ],
   "source": [
    "labels = data_df.groupby('shingle_id')[['cumul_time_s']].last()\n",
    "bad = list(labels[labels['cumul_time_s']<1].index)\n",
    "data_df.loc[bad[5]].plot()"
   ]
  },
  {
   "cell_type": "code",
   "execution_count": null,
   "metadata": {},
   "outputs": [],
   "source": [
    "RUN_FOLDER = \"../results/big_run/\"\n",
    "n_samples = 1000"
   ]
  },
  {
   "cell_type": "code",
   "execution_count": null,
   "metadata": {},
   "outputs": [],
   "source": [
    "data_loader"
   ]
  },
  {
   "cell_type": "code",
   "execution_count": null,
   "metadata": {},
   "outputs": [],
   "source": [
    "kcm_inputs = data_utils.load_all_inputs(RUN_FOLDER, \"kcm/\", n_samples)\n",
    "atb_inputs = data_utils.load_all_inputs(RUN_FOLDER, \"atb/\", n_samples)"
   ]
  },
  {
   "attachments": {},
   "cell_type": "markdown",
   "metadata": {},
   "source": [
    "### Traces"
   ]
  },
  {
   "cell_type": "code",
   "execution_count": null,
   "metadata": {},
   "outputs": [],
   "source": [
    "# Look at a single trip\n",
    "train_traces = kcm_inputs['train_traces']\n",
    "shingle_data = train_traces[train_traces['shingle_id']==np.unique(train_traces.shingle_id)[0]]\n",
    "shingle_data.head()\n",
    "# Plot overview of the shingle\n",
    "plot_data = shingle_data\n",
    "fig, axes = plt.subplots(1,1)\n",
    "fig.set_figheight(8)\n",
    "fig.set_figwidth(8)\n",
    "axes.xaxis.set_visible(False)\n",
    "axes.yaxis.set_visible(False)\n",
    "shape_utils.plot_gtfsrt_trip(axes, plot_data, kcm_inputs['summary_config']['epsg'][0], f\".{kcm_inputs['summary_config']['gtfs_folder'][0]}\")\n",
    "plt.savefig(\"../plots/kcm_sample_shingle.eps\", format='eps', dpi=600, bbox_inches='tight')\n",
    "plt.savefig(\"../plots/kcm_sample_shingle.png\", format='png', dpi=600, bbox_inches='tight')"
   ]
  },
  {
   "cell_type": "code",
   "execution_count": null,
   "metadata": {},
   "outputs": [],
   "source": [
    "# Look at a single trip\n",
    "train_traces = atb_inputs['train_traces']\n",
    "shingle_data = train_traces[train_traces['shingle_id']==np.unique(train_traces.shingle_id)[73]]\n",
    "shingle_data.head() \n",
    "# Plot overview of the shingle\n",
    "plot_data = shingle_data\n",
    "fig, axes = plt.subplots(1,1)\n",
    "fig.set_figheight(8)\n",
    "fig.set_figwidth(8)\n",
    "axes.xaxis.set_visible(False)\n",
    "axes.yaxis.set_visible(False)\n",
    "shape_utils.plot_gtfsrt_trip(axes, plot_data, atb_inputs['summary_config']['epsg'][0], f\".{atb_inputs['summary_config']['gtfs_folder'][0]}\")\n",
    "plt.savefig(\"../plots/atb_sample_shingle.eps\", format='eps', dpi=600, bbox_inches='tight')\n",
    "plt.savefig(\"../plots/atb_sample_shingle.png\", format='png', dpi=600, bbox_inches='tight')"
   ]
  },
  {
   "attachments": {},
   "cell_type": "markdown",
   "metadata": {},
   "source": [
    "### Feature Distributions"
   ]
  },
  {
   "cell_type": "code",
   "execution_count": null,
   "metadata": {},
   "outputs": [],
   "source": [
    "fig, axes = plt.subplots(4,2,figsize=(6,8))\n",
    "fig.tight_layout()\n",
    "axes = axes.flatten()\n",
    "\n",
    "kcm_metric = kcm_inputs['train_traces'].groupby(['shingle_id']).count()['lat']\n",
    "atb_metric = atb_inputs['train_traces'].groupby(['shingle_id']).count()['lat']\n",
    "sns.histplot(kcm_metric, ax=axes[0])\n",
    "axes[0].set_title(f\"KCM Shingle Metrics\")\n",
    "axes[0].set_xlabel(\"Observations (n)\")\n",
    "axes[0].set_xlim(0,70)\n",
    "sns.histplot(atb_metric, ax=axes[1])\n",
    "axes[1].set_title(f\"AtB Shingle Metrics\")\n",
    "axes[1].set_xlabel(\"Observations (n)\")\n",
    "axes[1].set_xlim(0,70)\n",
    "\n",
    "kcm_metric = kcm_inputs['train_traces'].groupby('shingle_id').sum(numeric_only=True)['dist_calc_km']*1000\n",
    "atb_metric = atb_inputs['train_traces'].groupby('shingle_id').sum(numeric_only=True)['dist_calc_km']*1000\n",
    "sns.histplot(kcm_metric, ax=axes[2])\n",
    "axes[2].set_xlabel(\"Travel Dist (m)\")\n",
    "axes[2].set_xlim(0,20000)\n",
    "sns.histplot(atb_metric, ax=axes[3])\n",
    "axes[3].set_xlabel(\"Travel Dist (m)\")\n",
    "axes[3].set_xlim(0,20000)\n",
    "\n",
    "kcm_metric = kcm_inputs['train_traces'].groupby('shingle_id').last()['time_cumulative_s']\n",
    "atb_metric = atb_inputs['train_traces'].groupby('shingle_id').last()['time_cumulative_s']\n",
    "sns.histplot(kcm_metric, ax=axes[4])\n",
    "axes[4].set_xlabel(\"Travel Time (s)\")\n",
    "axes[4].set_xlim(0,3000)\n",
    "sns.histplot(atb_metric, ax=axes[5])\n",
    "axes[5].set_xlabel(\"Travel Time (s)\")\n",
    "axes[5].set_xlim(0,3000)\n",
    "\n",
    "kcm_metric = kcm_inputs['train_traces'].groupby('shingle_id').last()['scheduled_time_s']\n",
    "atb_metric = atb_inputs['train_traces'].groupby('shingle_id').last()['scheduled_time_s']\n",
    "sns.histplot(kcm_metric, ax=axes[6])\n",
    "axes[6].set_xlabel(\"Scheduled Time (s)\")\n",
    "axes[6].set_xlim(-100,2000)\n",
    "sns.histplot(atb_metric, ax=axes[7])\n",
    "axes[7].set_xlabel(\"Scheduled Time (s)\")\n",
    "axes[7].set_xlim(-100,2000)\n",
    "plt.savefig(\"../plots/shingle_feature_distributions.eps\", format='eps', dpi=600, bbox_inches='tight')\n",
    "plt.savefig(\"../plots/shingle_feature_distributions.png\", format='png', dpi=600, bbox_inches='tight')"
   ]
  },
  {
   "attachments": {},
   "cell_type": "markdown",
   "metadata": {},
   "source": [
    "### Grid"
   ]
  },
  {
   "cell_type": "code",
   "execution_count": null,
   "metadata": {},
   "outputs": [],
   "source": [
    "ngrid_kcm = grids.NGridBetter(kcm_inputs['summary_config']['grid_bounds'][0], 500)\n",
    "ngrid_kcm.add_grid_content(kcm_inputs['train_traces'], trace_format=True)\n",
    "ngrid_kcm.build_cell_lookup()\n",
    "ngrid_atb = grids.NGridBetter(atb_inputs['summary_config']['grid_bounds'][0], 500)\n",
    "ngrid_atb.add_grid_content(atb_inputs['train_traces'], trace_format=True)\n",
    "ngrid_atb.build_cell_lookup()"
   ]
  },
  {
   "cell_type": "code",
   "execution_count": null,
   "metadata": {},
   "outputs": [],
   "source": [
    "# Examine ngrid\n",
    "print(f\"KCM ngrid points: {ngrid_kcm.points.shape}\")\n",
    "for i in range(ngrid_kcm.points.shape[1]):\n",
    "    print(f\"KCM ngrid feature {i}, mean: {np.mean(ngrid_kcm.points[:,i])}, std: {np.std(ngrid_kcm.points[:,i])}, min: {np.min(ngrid_kcm.points[:,i])}, max: {np.max(ngrid_kcm.points[:,i])}\")\n",
    "print(f\"AtB ngrid points: {ngrid_atb.points.shape}\")\n",
    "for i in range(ngrid_atb.points.shape[1]):\n",
    "    print(f\"AtB ngrid feature {i}, mean: {np.mean(ngrid_atb.points[:,i])}, std: {np.std(ngrid_atb.points[:,i])}, min: {np.min(ngrid_atb.points[:,i])}, max: {np.max(ngrid_atb.points[:,i])}\")"
   ]
  },
  {
   "cell_type": "code",
   "execution_count": null,
   "metadata": {},
   "outputs": [],
   "source": [
    "# # Look at 1 KCM trip\n",
    "# train_traces = kcm_inputs['train_traces']\n",
    "# sample = train_traces[train_traces['shingle_id']==np.unique(train_traces.shingle_id)[0]]\n",
    "# xbin_idxs, ybin_idxs = ngrid_kcm.digitize_points(sample['x'], sample['y'])\n",
    "# grid_features = ngrid_kcm.get_grid_features(xbin_idxs, ybin_idxs, sample['locationtime'])\n",
    "# print(grid_features.shape) # (tsteps, channels, samples, ysteps, xsteps)\n",
    "# # Select 1st sample for plotting\n",
    "# grid_features_plot = grid_features[:,:,0,:,:]\n",
    "# grids.save_grid_anim(grid_features_plot, \"grid_n_shingle_kcm.mp4\")"
   ]
  },
  {
   "cell_type": "code",
   "execution_count": null,
   "metadata": {},
   "outputs": [],
   "source": [
    "# # Look at 1 AtB trip\n",
    "# train_traces = atb_inputs['train_traces']\n",
    "# sample = train_traces[train_traces['shingle_id']==np.unique(train_traces.shingle_id)[0]]\n",
    "# xbin_idxs, ybin_idxs = ngrid_atb.digitize_points(sample['x'], sample['y'])\n",
    "# grid_features = ngrid_atb.get_grid_features(xbin_idxs, ybin_idxs, sample['locationtime'])\n",
    "# print(grid_features.shape) # (tsteps, channels, samples, ysteps, xsteps)\n",
    "# # Select 1st sample for plotting\n",
    "# grid_features_plot = grid_features[:,:,0,:,:]\n",
    "# grids.save_grid_anim(grid_features_plot, \"grid_n_shingle_atb.mp4\")"
   ]
  },
  {
   "cell_type": "code",
   "execution_count": null,
   "metadata": {},
   "outputs": [],
   "source": [
    "# # Save plots of full ngrid features\n",
    "# ngrid_features = ngrid_kcm.get_full_grid(240)\n",
    "# print(ngrid_features.shape) # (tsteps, channels, latteps, lonsteps)\n",
    "# ngrid_features = ngrid_features[:500,:,0,:,:] # Look at only first sample, first 16hrs\n",
    "# grids.save_grid_anim(ngrid_features, \"grid_n_kcm.mp4\")"
   ]
  },
  {
   "cell_type": "code",
   "execution_count": null,
   "metadata": {},
   "outputs": [],
   "source": [
    "# # Save plots of full ngrid features\n",
    "# ngrid_features = ngrid_atb.get_full_grid(240)\n",
    "# print(ngrid_features.shape) # (tsteps, channels, latteps, lonsteps)\n",
    "# ngrid_features = ngrid_features[:500,:,0,:,:] # Look at only first sample, first 16hrs\n",
    "# grids.save_grid_anim(ngrid_features, \"grid_n_atb.mp4\")"
   ]
  },
  {
   "attachments": {},
   "cell_type": "markdown",
   "metadata": {},
   "source": [
    "### Adjacent Trips"
   ]
  },
  {
   "cell_type": "code",
   "execution_count": null,
   "metadata": {},
   "outputs": [],
   "source": [
    "# # Run parameters\n",
    "# shingle_sample_size = 200\n",
    "# d_buffers = np.linspace(1,1000,20)\n",
    "# t_buffers = np.linspace(1,60*20,20)\n",
    "# b_buffer = None\n",
    "# orthogonal = False\n",
    "\n",
    "# # Look at speed correlation between adjacent bus trips\n",
    "# if NETWORK==\"kcm\":\n",
    "#     traces = kcm_inputs['test_traces']\n",
    "# else:\n",
    "#     traces = atb_inputs['test_traces']\n",
    "# # Look at only a single hour for the sake of speed (assumes loaded test data comes from single day)\n",
    "# traces = traces[traces.time<10*60]\n",
    "# traces = traces[traces.time>=9*60]\n",
    "# shingle_ids = pd.unique(traces['shingle_id'])\n",
    "# shingle_id_sample = np.random.choice(shingle_ids, shingle_sample_size, replace=False)\n",
    "\n",
    "# # Test shingle data against all other data\n",
    "# shingle_traces = traces[traces['shingle_id'].isin(shingle_id_sample)][['x','y','locationtime','bearing','speed_m_s','shingle_id']]\n",
    "# shingle_groups = shingle_traces.groupby('shingle_id')\n",
    "# adj_traces = traces[~traces['shingle_id'].isin(shingle_id_sample)][['x','y','locationtime','bearing','speed_m_s']].values\n",
    "# # Save results for each shingle, and buffer combination\n",
    "# targets_res = np.zeros((len(shingle_id_sample), len(d_buffers), len(t_buffers)))\n",
    "# preds_res = np.zeros((len(shingle_id_sample), len(d_buffers), len(t_buffers)))\n",
    "\n",
    "# # Parallel: 1min with 200 samples, 20x20 buffers, 1hr data\n",
    "# # Each item in the results corresponds to a distance buffer; it has n subitems, 1 for each time buffer\n",
    "# # Within a d-t buffer, there are 4 values; (targets, preds, d_buffer idx, t_buffer idx)\n",
    "# def parallel_get_metrics(d):\n",
    "#     dist_buffer = d_buffers[d]\n",
    "#     results = []\n",
    "#     for t, t_buffer in enumerate(t_buffers):\n",
    "#         res = shingle_groups.apply(shape_utils.get_adjacent_metric, adj_traces, dist_buffer, t_buffer, b_buffer=b_buffer, orthogonal=orthogonal)\n",
    "#         targets = np.array([x[0] for x in res])\n",
    "#         preds = np.array([x[1] for x in res])\n",
    "#         results.append((targets, preds, d, t))\n",
    "#     return results\n",
    "# res_parallel = Parallel(n_jobs=-2)(delayed(parallel_get_metrics)(x) for x in range(len(d_buffers)))\n",
    "\n",
    "# # Expand parallel adjacent metric results\n",
    "# for d_idx in range(len(res_parallel)):\n",
    "#     for t_idx in range(len(res_parallel[0])):\n",
    "#         targets = res_parallel[d_idx][t_idx][0]\n",
    "#         preds = res_parallel[d_idx][t_idx][1]\n",
    "#         targets_res[:,d_idx,t_idx] = targets\n",
    "#         preds_res[:,d_idx,t_idx] = preds\n",
    "# # Get R2 value for each combination of preds and targets and for each d and t buffer\n",
    "# r_values = np.empty((preds_res.shape[1], preds_res.shape[2]))\n",
    "# slope_mean = 0.0\n",
    "# slope_ct = 0\n",
    "# for d in range(preds_res.shape[1]):\n",
    "#     for t in range(preds_res.shape[2]):\n",
    "#         try:\n",
    "#             non_nan_preds = preds_res[:,d,t][~np.isnan(preds_res[:,d,t])]\n",
    "#             non_nan_targs = targets_res[:,d,t][~np.isnan(preds_res[:,d,t])]\n",
    "#             if len(non_nan_preds)>1:\n",
    "#                 slope, intercept, r_value, p_value, std_err = scipy.stats.linregress(non_nan_preds, non_nan_targs)\n",
    "#                 r_values[d,t] = r_value**2\n",
    "#                 slope_mean += slope\n",
    "#                 slope_ct += 1\n",
    "#             else:\n",
    "#                 r_values[d,t] = np.nan\n",
    "#         except:\n",
    "#             r_values[d,t] = np.nan\n",
    "            \n",
    "# # Plot results for all d/t combos\n",
    "# print(f\"Average slope: {slope_mean / slope_ct}\")\n",
    "# fig, ax = plt.subplots()\n",
    "# im = ax.imshow(r_values, origin=\"lower\", cmap=\"plasma\")\n",
    "# fig.suptitle(\"R2 of Linear Fit to Mean Adjacent Speeds\")\n",
    "# ax.set_title(f\"B={b_buffer} deg, Orth={str(orthogonal)}, Net={NETWORK}\")\n",
    "# ax.set_xlabel(\"Time (s)\")\n",
    "# ax.set_xticks([x for x in range(len(t_buffers))])\n",
    "# ax.set_xticklabels([str(int(x)) for x in t_buffers], rotation=45)\n",
    "# ax.set_ylabel(\"Distance (m)\")\n",
    "# ax.set_yticks([y for y in range(len(d_buffers))])\n",
    "# ax.set_yticklabels([str(int(y)) for y in d_buffers])\n",
    "# cbar = fig.colorbar(im, ax=ax)\n",
    "# plt.draw()\n",
    "# plt.savefig(f\"../plots/R2_adj_{b_buffer}_{str(orthogonal)}_{NETWORK}.png\", dpi=600, bbox_inches='tight')\n",
    "# plt.show()"
   ]
  }
 ],
 "metadata": {
  "kernelspec": {
   "display_name": "valle_m1",
   "language": "python",
   "name": "python3"
  },
  "language_info": {
   "codemirror_mode": {
    "name": "ipython",
    "version": 3
   },
   "file_extension": ".py",
   "mimetype": "text/x-python",
   "name": "python",
   "nbconvert_exporter": "python",
   "pygments_lexer": "ipython3",
   "version": "3.9.6"
  },
  "orig_nbformat": 4,
  "vscode": {
   "interpreter": {
    "hash": "b30fe1de1713ca8e7537eef068b13a2de77ded03f86aab2e80ea73416dd3d704"
   }
  }
 },
 "nbformat": 4,
 "nbformat_minor": 2
}
