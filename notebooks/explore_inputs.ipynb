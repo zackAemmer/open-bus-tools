{
 "cells": [
  {
   "cell_type": "code",
   "execution_count": null,
   "metadata": {},
   "outputs": [],
   "source": [
    "import datetime\n",
    "import os\n",
    "import pickle\n",
    "import random\n",
    "import sys\n",
    "sys.path.append(\"../\")\n",
    "\n",
    "import geopandas as gpd\n",
    "import matplotlib.pyplot as plt\n",
    "import numpy as np\n",
    "import pandas as pd\n",
    "import seaborn as sns\n",
    "\n",
    "from openbustools.traveltime import grid, data_loader\n",
    "from openbustools import plotting, spatial, standardfeeds"
   ]
  },
  {
   "cell_type": "code",
   "execution_count": null,
   "metadata": {},
   "outputs": [],
   "source": [
    "network_name = 'kcm'\n",
    "data_folders = ['../data/kcm_realtime/processed/', '../data/atb_realtime/processed/']\n",
    "train_date = '2023_03_15'\n",
    "train_n = 3\n",
    "train_dates = standardfeeds.get_date_list(train_date, int(train_n))"
   ]
  },
  {
   "cell_type": "markdown",
   "metadata": {},
   "source": [
    "### Metadata"
   ]
  },
  {
   "cell_type": "code",
   "execution_count": null,
   "metadata": {},
   "outputs": [],
   "source": [
    "route_ids = {k:[] for k in data_folders}\n",
    "sample_size = 5\n",
    "for folder_name in data_folders:\n",
    "    data_dates = [f for f in os.listdir(folder_name) if os.path.isfile(f'{folder_name}{f}')]\n",
    "    n_dates = len(data_dates)\n",
    "    n_samples = []\n",
    "    n_points = []\n",
    "    for file_name in random.sample(data_dates, sample_size):\n",
    "        if file_name[-4:] == '.pkl':\n",
    "            data = pd.read_pickle(f'{folder_name}{file_name}')\n",
    "            n_samples.append(len(pd.unique(data['shingle_id'])))\n",
    "            n_points.append(len(data))\n",
    "            route_ids[folder_name].append(pd.unique(data['route_id']))\n",
    "    print(folder_name)\n",
    "    print(f\"{n_dates} days\")\n",
    "    print(f\"{np.mean(n_points) = :.0f}, {np.std(n_points) = :.0f} points per day\")\n",
    "    print(f\"{np.mean(n_samples) = :.0f}, {np.std(n_samples) = :.0f} samples per day\")\n",
    "    print(f\"{np.mean(n_points) * n_dates = :.0f} points\")\n",
    "    print(f\"{np.mean(n_samples) * n_dates = :.0f} samples\")\n",
    "    unique_routes = np.unique(np.concatenate(route_ids[folder_name]))\n",
    "    print(np.random.choice(unique_routes, int(len(unique_routes)*.05), replace=False))\n",
    "    print()"
   ]
  },
  {
   "attachments": {},
   "cell_type": "markdown",
   "metadata": {},
   "source": [
    "### Traces"
   ]
  },
  {
   "cell_type": "code",
   "execution_count": null,
   "metadata": {},
   "outputs": [],
   "source": [
    "train_data, holdout_routes, train_config = data_loader.load_h5([data_folders[0]], train_dates, holdout_routes=data_loader.HOLDOUT_ROUTES)\n",
    "train_dataset = data_loader.H5Dataset(train_data)"
   ]
  },
  {
   "cell_type": "code",
   "execution_count": null,
   "metadata": {},
   "outputs": [],
   "source": [
    "# Sample one trajectory for plotting, use KCM network\n",
    "sample = np.random.randint(len(train_dataset))\n",
    "sample_df = pd.DataFrame(train_dataset.data[sample]['feats_n']).set_axis(data_loader.NUM_FEAT_COLS, axis=1)\n",
    "sample_df = gpd.GeoDataFrame(sample_df, geometry=gpd.points_from_xy(sample_df['x'].to_numpy(), sample_df['y'].to_numpy()), crs='EPSG:32148')\n",
    "sample_df.head()"
   ]
  },
  {
   "cell_type": "code",
   "execution_count": null,
   "metadata": {},
   "outputs": [],
   "source": [
    "plotting.formatted_shingle_scatterplot(sample_df)"
   ]
  },
  {
   "attachments": {},
   "cell_type": "markdown",
   "metadata": {},
   "source": [
    "### Feature Distributions"
   ]
  },
  {
   "cell_type": "code",
   "execution_count": null,
   "metadata": {},
   "outputs": [],
   "source": [
    "data_df = train_dataset.to_df()\n",
    "data_df['data_folder'] = data_folders[0]\n",
    "data_df['cumul_dist_m'] = data_df.groupby(['shingle_id'])['calc_dist_m'].cumsum()\n",
    "data_df['cumul_dist_km'] = data_df['cumul_dist_m'] / 1000"
   ]
  },
  {
   "cell_type": "code",
   "execution_count": null,
   "metadata": {},
   "outputs": [],
   "source": [
    "plotting.formatted_feature_distributions_histplot(data_df)"
   ]
  },
  {
   "attachments": {},
   "cell_type": "markdown",
   "metadata": {},
   "source": [
    "### Grid"
   ]
  },
  {
   "cell_type": "code",
   "execution_count": null,
   "metadata": {},
   "outputs": [],
   "source": [
    "g = pickle.load(open(f\"../data/kcm_realtime/processed/grid/{train_date}.pkl\", 'rb'))"
   ]
  },
  {
   "cell_type": "code",
   "execution_count": null,
   "metadata": {},
   "outputs": [],
   "source": [
    "res = grid.convert_to_frames(g)"
   ]
  },
  {
   "cell_type": "code",
   "execution_count": null,
   "metadata": {},
   "outputs": [],
   "source": [
    "plotting.formatted_grid_animation(res[500:600,:,:])"
   ]
  }
 ],
 "metadata": {
  "kernelspec": {
   "display_name": "valle_m1",
   "language": "python",
   "name": "python3"
  },
  "language_info": {
   "codemirror_mode": {
    "name": "ipython",
    "version": 3
   },
   "file_extension": ".py",
   "mimetype": "text/x-python",
   "name": "python",
   "nbconvert_exporter": "python",
   "pygments_lexer": "ipython3",
   "version": "3.9.18"
  },
  "orig_nbformat": 4,
  "vscode": {
   "interpreter": {
    "hash": "b30fe1de1713ca8e7537eef068b13a2de77ded03f86aab2e80ea73416dd3d704"
   }
  }
 },
 "nbformat": 4,
 "nbformat_minor": 2
}
