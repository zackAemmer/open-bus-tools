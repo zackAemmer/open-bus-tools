{
 "cells": [
  {
   "cell_type": "code",
   "execution_count": null,
   "metadata": {},
   "outputs": [],
   "source": [
    "from pathlib import Path\n",
    "import pickle\n",
    "import random\n",
    "import sys\n",
    "sys.path.append(\"../\")\n",
    "\n",
    "import numpy as np\n",
    "import pandas as pd\n",
    "\n",
    "from openbustools.traveltime import grid\n",
    "from openbustools import plotting, standardfeeds"
   ]
  },
  {
   "cell_type": "code",
   "execution_count": null,
   "metadata": {},
   "outputs": [],
   "source": [
    "network_name = 'kcm'\n",
    "data_folders = ['kcm_realtime', 'atb_realtime']\n",
    "train_day = '2023_03_15'\n",
    "train_n = 3\n",
    "train_days = standardfeeds.get_date_list(train_day, int(train_n))"
   ]
  },
  {
   "cell_type": "markdown",
   "metadata": {},
   "source": [
    "### Metadata"
   ]
  },
  {
   "cell_type": "code",
   "execution_count": null,
   "metadata": {},
   "outputs": [],
   "source": [
    "sample_size = 10\n",
    "route_ids = {k:[] for k in data_folders}\n",
    "for folder_name in data_folders:\n",
    "    folder_path = Path(\"..\", \"data\", folder_name, \"processed\", \"analysis\")\n",
    "    folder_days = list(folder_path.glob(\"*.pkl\"))\n",
    "    n_days = len(folder_days)\n",
    "    n_samples = []\n",
    "    n_points = []\n",
    "    for file_name in random.sample(folder_days, sample_size):\n",
    "        data = pd.read_pickle(file_name)\n",
    "        n_samples.append(len(pd.unique(data['shingle_id'])))\n",
    "        n_points.append(len(data))\n",
    "        route_ids[folder_name].append(pd.unique(data['route_id']))\n",
    "    print(folder_name)\n",
    "    print(f\"{n_days} days\")\n",
    "    print(f\"{np.mean(n_points) = :_.0f}, {np.std(n_points) = :_.0f} points per day\")\n",
    "    print(f\"{np.mean(n_samples) = :_.0f}, {np.std(n_samples) = :_.0f} samples per day\")\n",
    "    print(f\"{np.mean(n_points) * n_days = :_.0f} points\")\n",
    "    print(f\"{np.mean(n_samples) * n_days = :_.0f} samples\")\n",
    "    unique_routes = np.unique(np.concatenate(route_ids[folder_name]))\n",
    "    print(np.random.choice(unique_routes, int(len(unique_routes)*.05), replace=False))\n",
    "    print()"
   ]
  },
  {
   "attachments": {},
   "cell_type": "markdown",
   "metadata": {},
   "source": [
    "### Traces"
   ]
  },
  {
   "cell_type": "code",
   "execution_count": null,
   "metadata": {},
   "outputs": [],
   "source": [
    "for folder_name in data_folders:\n",
    "    folder_path = Path(\"..\", \"data\", folder_name, \"processed\", \"analysis\")\n",
    "    folder_days = list(folder_path.glob(\"*.pkl\"))\n",
    "    day_sample = pd.read_pickle(random.choice(folder_days))\n",
    "    shingle_sample = random.choice(day_sample.shingle_id)\n",
    "    shingle_sample = day_sample[day_sample['shingle_id'] == shingle_sample]\n",
    "    print(f\"{folder_name} Route ID: {shingle_sample['route_id'].iloc[0]}\")\n",
    "    plotting.formatted_shingle_scatterplot(shingle_sample)"
   ]
  },
  {
   "attachments": {},
   "cell_type": "markdown",
   "metadata": {},
   "source": [
    "### Feature Distributions"
   ]
  },
  {
   "cell_type": "code",
   "execution_count": null,
   "metadata": {},
   "outputs": [],
   "source": [
    "all_data = []\n",
    "for folder_name in data_folders:\n",
    "    folder_path = Path(\"..\", \"data\", folder_name, \"processed\", \"analysis\")\n",
    "    folder_days = list(folder_path.glob(\"*.pkl\"))\n",
    "    day_sample = pd.read_pickle(random.choice(folder_days)).to_crs(\"EPSG:4326\")\n",
    "    all_data.append(day_sample)\n",
    "all_data = pd.concat(all_data)"
   ]
  },
  {
   "cell_type": "code",
   "execution_count": null,
   "metadata": {},
   "outputs": [],
   "source": [
    "plotting.formatted_feature_distributions_histplot(all_data)"
   ]
  },
  {
   "attachments": {},
   "cell_type": "markdown",
   "metadata": {},
   "source": [
    "### Grid"
   ]
  },
  {
   "cell_type": "code",
   "execution_count": null,
   "metadata": {},
   "outputs": [],
   "source": [
    "for folder_name in data_folders:\n",
    "    folder_path = Path(\"..\", \"data\", folder_name, \"processed\", \"grid\")\n",
    "    folder_days = list(folder_path.glob(\"*.pkl\"))\n",
    "    day_sample = pickle.load(open(random.choice(folder_days), 'rb'))\n",
    "    grid_frames = grid.convert_to_frames(day_sample)\n",
    "    plotting.formatted_grid_animation(grid_frames[500:600,:,:])"
   ]
  }
 ],
 "metadata": {
  "kernelspec": {
   "display_name": "valle_m1",
   "language": "python",
   "name": "python3"
  },
  "language_info": {
   "codemirror_mode": {
    "name": "ipython",
    "version": 3
   },
   "file_extension": ".py",
   "mimetype": "text/x-python",
   "name": "python",
   "nbconvert_exporter": "python",
   "pygments_lexer": "ipython3",
   "version": "3.9.18"
  },
  "orig_nbformat": 4,
  "vscode": {
   "interpreter": {
    "hash": "b30fe1de1713ca8e7537eef068b13a2de77ded03f86aab2e80ea73416dd3d704"
   }
  }
 },
 "nbformat": 4,
 "nbformat_minor": 2
}
