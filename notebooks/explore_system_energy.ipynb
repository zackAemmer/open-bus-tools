{
 "cells": [
  {
   "cell_type": "code",
   "execution_count": null,
   "metadata": {},
   "outputs": [],
   "source": [
    "import pickle\n",
    "import sys\n",
    "from zoneinfo import ZoneInfo\n",
    "sys.path.append(\"../\")\n",
    "\n",
    "from dotenv import load_dotenv\n",
    "load_dotenv()\n",
    "import geopandas as gpd\n",
    "import importlib\n",
    "import copy\n",
    "import logging\n",
    "import contextily as cx\n",
    "import gtfs_kit as gk\n",
    "import fastsim as fsim\n",
    "import matplotlib.pyplot as plt\n",
    "import numpy as np\n",
    "import os\n",
    "import pandas as pd\n",
    "from pathlib import Path\n",
    "import lightning.pytorch as pl\n",
    "import rasterio as rio\n",
    "from rasterio.plot import show\n",
    "import seaborn as sns\n",
    "import shapely\n",
    "import statsmodels.api as sm\n",
    "from torch.utils.data import DataLoader\n",
    "\n",
    "from openbustools import plotting, spatial, standardfeeds\n",
    "from openbustools.traveltime import data_loader, model_utils\n",
    "from openbustools.drivecycle import trajectory\n",
    "from openbustools.drivecycle.physics import conditions, energy, vehicle"
   ]
  },
  {
   "cell_type": "code",
   "execution_count": null,
   "metadata": {},
   "outputs": [],
   "source": [
    "epsg = 32148\n",
    "timezone = \"America/Los_Angeles\"\n",
    "coord_ref_center = [386910,69022]\n",
    "chop_n = 500\n",
    "point_sep_m = 300\n",
    "dem_file = Path(\"..\",\"data\",\"kcm_spatial\",\"usgs10m_dem_32148.tif\")\n",
    "phone_trajectory_folders = [x for x in Path(\"..\",\"data\",\"kcm_sensor\",\"match_realtime\",\"gnss_validated\").glob(\"*\") if x.is_dir()]\n",
    "realtime_folder = Path(\"..\",\"data\",\"kcm_sensor_realtime\")\n",
    "gnss_solution_file = Path(\"..\",\"data\",\"gnss\",\"CEErover_solution_20240312160029.LLH\")\n",
    "\n",
    "model_folder = \"../logs\"\n",
    "run_label = \"/kcm\"\n",
    "model_type = \"GRU\"\n",
    "fold_num = 0\n",
    "version = \"version_3\"\n",
    "model = model_utils.load_model(model_folder, run_label, model_type, fold_num, version=version)\n",
    "model.eval()"
   ]
  },
  {
   "cell_type": "markdown",
   "metadata": {},
   "source": [
    "### Expand Predicted to Full Network"
   ]
  },
  {
   "cell_type": "code",
   "execution_count": null,
   "metadata": {},
   "outputs": [],
   "source": [
    "# Load a static feed and break each shape into regularly spaced points\n",
    "static_file = Path(\"..\", \"data\", \"kcm_static\", \"2023_03_18\")\n",
    "static_feed = gk.read_feed(static_file, dist_units=\"km\")\n",
    "route_shape_points = standardfeeds.segmentize_route_shapes(static_feed, epsg=epsg, point_sep_m=point_sep_m)\n",
    "route_shape_points"
   ]
  },
  {
   "cell_type": "code",
   "execution_count": null,
   "metadata": {},
   "outputs": [],
   "source": [
    "# Turning regularly spaced points w/speeds into calculated distances and times\n",
    "# Important to base distance on sequence id because some points do not have observations\n",
    "for k,df in plot_df_groups.items():\n",
    "    plot_df_groups[k]['cumul_dist_m'] = df['seq_id'] * point_sep_m\n",
    "    plot_df_groups[k]['calc_dist_m'] = df['cumul_dist_m'].diff().fillna(0)\n",
    "    plot_df_groups[k]['calc_time_s'] = df['calc_dist_m'] / df['speed_mean']\n",
    "    plot_df_groups[k]['cumul_time_s'] = df['calc_time_s'].cumsum()\n",
    "    plot_df_groups[k]['speed_std'] = df['speed_std'].bfill().ffill()"
   ]
  },
  {
   "cell_type": "code",
   "execution_count": null,
   "metadata": {},
   "outputs": [],
   "source": [
    "# Create trajectory for each shape\n",
    "plot_trajectories = []\n",
    "for shape_id, df in plot_df_groups.items():\n",
    "    traj = trajectory.Trajectory(\n",
    "        point_attr={\n",
    "            \"lon\": df.to_crs(4326).geometry.x.to_numpy(),\n",
    "            \"lat\": df.to_crs(4326).geometry.y.to_numpy(),\n",
    "            \"locationtime\": df.cumul_time_s.to_numpy(),\n",
    "            \"measured_speed_m_s\": df.speed_mean.to_numpy(),\n",
    "            \"seq_id\": df.seq_id.to_numpy(),\n",
    "            \"count_n\": df.count_n.to_numpy()\n",
    "        },\n",
    "        traj_attr={\n",
    "            'shape_id': shape_id,\n",
    "            \"coord_ref_center\": coord_ref_center,\n",
    "            \"epsg\": epsg,\n",
    "            \"dem_file\": dem_file,\n",
    "            \"t_min_of_day\": 9*60,\n",
    "            \"t_day_of_week\": 4,\n",
    "            \"start_epoch\": df.cumul_time_s.iloc[0],\n",
    "            \"end_epoch\": df.cumul_time_s.iloc[-1]\n",
    "        },\n",
    "        resample=False\n",
    "    )\n",
    "    plot_trajectories.append(traj)"
   ]
  },
  {
   "cell_type": "code",
   "execution_count": null,
   "metadata": {},
   "outputs": [],
   "source": [
    "# Predict speeds along each trajectory\n",
    "importlib.reload(trajectory)\n",
    "preds = trajectory.predict_speeds(plot_trajectories, model)[0]\n",
    "preds['mask'][0,:] = True\n",
    "pred_times = [preds['preds_seq'][:,i][preds['mask'][:,i]] for i in range(preds['preds_seq'].shape[1])]\n",
    "dists = [traj.gdf['calc_dist_m'].to_numpy() for traj in plot_trajectories]\n",
    "pred_speeds = [dists[i] / pred_times[i] for i in range(len(pred_times))]\n",
    "\n",
    "for traj in plot_trajectories:\n",
    "    traj.gdf['pred_speed_m_s'] = pred_speeds.pop(0)"
   ]
  },
  {
   "cell_type": "code",
   "execution_count": null,
   "metadata": {},
   "outputs": [],
   "source": [
    "energy_results = []\n",
    "efficiencies = []\n",
    "\n",
    "veh = fsim.vehicle.Vehicle.from_vehdb(63, veh_file=Path(\"..\", \"data\", \"FASTSim_py_veh_db.csv\")) # New Flyer XE40\n",
    "print(f\"Vehicle: {veh.scenario_name}\\n\")\n",
    "\n",
    "for i, traj in enumerate(plot_trajectories):\n",
    "    # Energy analysis for aggregated\n",
    "    cycle_agg = {\n",
    "        \"cycGrade\": np.clip(spatial.divide_fwd_back_fill(np.diff(traj.gdf['calc_elev_m'], prepend=traj.gdf['calc_elev_m'].iloc[0]), traj.gdf['calc_dist_m']), -0.15, 0.15),\n",
    "        \"mps\": spatial.apply_sg_filter(traj.gdf[\"calc_speed_m_s\"].to_numpy(), 8, 0, 30),\n",
    "        \"time_s\": traj.gdf['cumul_time_s'].to_numpy(),\n",
    "        \"road_type\": np.zeros(len(traj.gdf))\n",
    "    }\n",
    "    cycle_agg = fsim.cycle.Cycle.from_dict(fsim.cycle.resample(cycle_agg, new_dt=1))\n",
    "    sim_drive_agg = fsim.simdrive.SimDrive(cycle_agg, veh)\n",
    "    sim_drive_agg.sim_drive()\n",
    "    # Energy analysis for predicted\n",
    "    cycle_pred = {\n",
    "        \"cycGrade\": np.clip(spatial.divide_fwd_back_fill(np.diff(traj.gdf['calc_elev_m'], prepend=traj.gdf['calc_elev_m'].iloc[0]), traj.gdf['calc_dist_m']), -0.15, 0.15),\n",
    "        \"mps\": spatial.apply_sg_filter(traj.gdf[\"pred_speed_m_s\"].to_numpy(), 8, 0, 30),\n",
    "        \"time_s\": traj.gdf['cumul_time_s'].to_numpy(),\n",
    "        \"road_type\": np.zeros(len(traj.gdf))\n",
    "    }\n",
    "    cycle_pred = fsim.cycle.Cycle.from_dict(fsim.cycle.resample(cycle_pred, new_dt=1))\n",
    "    sim_drive_pred = fsim.simdrive.SimDrive(cycle_pred, veh)\n",
    "    sim_drive_pred.sim_drive()\n",
    "    energy_results.append({\"agg\": (cycle_agg, sim_drive_agg), \"pred\": (cycle_pred, sim_drive_pred)})\n",
    "    efficiencies.append((1 / sim_drive_agg.electric_kwh_per_mi, 1 / sim_drive_pred.electric_kwh_per_mi))\n",
    "\n",
    "print(f\"Efficiencies:\")\n",
    "print(f\"Avg. Agg: {np.mean([x[0] for x in efficiencies]):.2f} mi/kWh\")\n",
    "print(f\"Avg. Pred: {np.mean([x[1] for x in efficiencies]):.2f} mi/kWh\\n\")\n",
    "print(f\"RMSE Agg/Pred: {np.sqrt(np.mean([(x-y)**2 for x,y in efficiencies])):.2f} mi/kWh\")"
   ]
  },
  {
   "cell_type": "markdown",
   "metadata": {},
   "source": [
    "### Expand Predicted to All Networks"
   ]
  },
  {
   "cell_type": "code",
   "execution_count": null,
   "metadata": {},
   "outputs": [],
   "source": []
  },
  {
   "cell_type": "code",
   "execution_count": null,
   "metadata": {},
   "outputs": [],
   "source": []
  },
  {
   "cell_type": "code",
   "execution_count": null,
   "metadata": {},
   "outputs": [],
   "source": []
  }
 ],
 "metadata": {
  "kernelspec": {
   "display_name": "valle_m1",
   "language": "python",
   "name": "python3"
  },
  "language_info": {
   "codemirror_mode": {
    "name": "ipython",
    "version": 3
   },
   "file_extension": ".py",
   "mimetype": "text/x-python",
   "name": "python",
   "nbconvert_exporter": "python",
   "pygments_lexer": "ipython3",
   "version": "3.9.18"
  },
  "orig_nbformat": 4,
  "vscode": {
   "interpreter": {
    "hash": "b30fe1de1713ca8e7537eef068b13a2de77ded03f86aab2e80ea73416dd3d704"
   }
  }
 },
 "nbformat": 4,
 "nbformat_minor": 2
}
