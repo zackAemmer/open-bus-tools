{
 "cells": [
  {
   "cell_type": "code",
   "execution_count": null,
   "metadata": {},
   "outputs": [],
   "source": [
    "import pickle\n",
    "import sys\n",
    "from zoneinfo import ZoneInfo\n",
    "sys.path.append(\"../\")\n",
    "\n",
    "from dotenv import load_dotenv\n",
    "load_dotenv()\n",
    "import geopandas as gpd\n",
    "import importlib\n",
    "import logging\n",
    "import fastsim as fsim\n",
    "import matplotlib.pyplot as plt\n",
    "import numpy as np\n",
    "import os\n",
    "import pandas as pd\n",
    "from pathlib import Path\n",
    "import lightning.pytorch as pl\n",
    "import rasterio as rio\n",
    "from rasterio.plot import show\n",
    "import seaborn as sns\n",
    "import shapely\n",
    "import statsmodels.api as sm\n",
    "from torch.utils.data import DataLoader\n",
    "\n",
    "from openbustools import plotting, spatial, standardfeeds\n",
    "from openbustools.traveltime import data_loader, model_utils\n",
    "from openbustools.drivecycle import trajectory\n",
    "from openbustools.drivecycle.physics import conditions, energy, vehicle"
   ]
  },
  {
   "cell_type": "code",
   "execution_count": null,
   "metadata": {},
   "outputs": [],
   "source": [
    "epsg = 32148\n",
    "timezone = \"America/Los_Angeles\"\n",
    "coord_ref_center = [386910,69022]\n",
    "apply_filter = True\n",
    "dem_file = Path(\"..\",\"data\",\"kcm_spatial\",\"usgs10m_dem_32148.tif\")\n",
    "phone_trajectory_folders = [x for x in Path(\"..\",\"data\",\"kcm_sensor\",\"match_realtime\").glob(\"*\") if x.is_dir()]\n",
    "realtime_folder = Path(\"..\",\"data\",\"kcm_sensor_realtime\")"
   ]
  },
  {
   "cell_type": "markdown",
   "metadata": {},
   "source": [
    "### Phone, Realtime, Receiver Comparison"
   ]
  },
  {
   "cell_type": "code",
   "execution_count": null,
   "metadata": {},
   "outputs": [],
   "source": [
    "# Create a trajectory for each tracked phone record and its corresponding realtime trip\n",
    "phone_trajectories = [standardfeeds.get_phone_trajectory(x, timezone=timezone, epsg=epsg, coord_ref_center=coord_ref_center, apply_filter=apply_filter) for x in phone_trajectory_folders]\n",
    "phone_realtime_trajectories = [standardfeeds.get_realtime_trajectory(x, realtime_folder=realtime_folder, dem_file=dem_file) for x in phone_trajectories]"
   ]
  },
  {
   "cell_type": "code",
   "execution_count": null,
   "metadata": {},
   "outputs": [],
   "source": [
    "# Run fastsim energy analysis for each trajectory\n",
    "energy_results = []\n",
    "# Load vehicle\n",
    "veh = fsim.vehicle.Vehicle.from_vehdb(17)\n",
    "\n",
    "# Calculate cycle energy consumption\n",
    "for i, (traj_phone, traj_realtime) in enumerate(zip(phone_trajectories, phone_realtime_trajectories)):\n",
    "    # Run energy analysis for phone\n",
    "    cycle_phone = traj_phone.to_fastsim_cycle()\n",
    "    cycle_phone = fsim.cycle.Cycle.from_dict(fsim.cycle.resample(cycle_phone, new_dt=1))\n",
    "    sim_drive_phone = fsim.simdrive.SimDrive(cycle_phone, veh)\n",
    "    sim_drive_phone.sim_drive()\n",
    "    # Run energy analysis for realtime\n",
    "    cycle_realtime = traj_realtime.to_fastsim_cycle()\n",
    "    cycle_realtime = fsim.cycle.Cycle.from_dict(fsim.cycle.resample(cycle_realtime, new_dt=1))\n",
    "    sim_drive_realtime = fsim.simdrive.SimDrive(cycle_realtime, veh)\n",
    "    sim_drive_realtime.sim_drive()\n",
    "    energy_results.append({\"phone\": (cycle_phone, sim_drive_phone), \"realtime\": (cycle_realtime, sim_drive_realtime)})"
   ]
  },
  {
   "cell_type": "code",
   "execution_count": null,
   "metadata": {},
   "outputs": [],
   "source": [
    "# Plot comparisons of key metrics over trajectory for each sensor source\n",
    "efficiencies = []\n",
    "\n",
    "fig, axes = plt.subplots(len(energy_results), 3, figsize=(20,20))\n",
    "fig.tight_layout()\n",
    "for i, res in enumerate(energy_results):\n",
    "    res_cycle_phone, res_simdrive_phone = res[\"phone\"]\n",
    "    res_cycle_realtime, res_simdrive_realtime = res[\"realtime\"]\n",
    "    efficiencies.append((1 / res_simdrive_phone.electric_kwh_per_mi, 1 / res_simdrive_realtime.electric_kwh_per_mi))\n",
    "    ax = axes[i,0]\n",
    "    ax.plot(res_simdrive_phone.cyc.time_s, res_simdrive_phone.mph_ach, label=\"Phone\")\n",
    "    ax.plot(res_simdrive_realtime.cyc.time_s, res_simdrive_realtime.mph_ach, label=\"Realtime\")\n",
    "    ax = axes[i,1]\n",
    "    ax.plot(res_simdrive_phone.cyc.time_s, res_simdrive_phone.ess_kw_out_ach, label=\"Phone\")\n",
    "    ax.plot(res_simdrive_realtime.cyc.time_s, res_simdrive_realtime.ess_kw_out_ach, label=\"Realtime\")\n",
    "    ax = axes[i,2]\n",
    "    ax.plot(res_simdrive_phone.cyc.time_s, res_simdrive_phone.soc, label=\"Phone\")\n",
    "    ax.plot(res_simdrive_realtime.cyc.time_s, res_simdrive_realtime.soc, label=\"Realtime\")\n",
    "axes[0,0].set_title(\"Phone vs Realtime Speed [MPH]\")\n",
    "axes[0,0].set_xlabel(\"Time [s]\")\n",
    "axes[0,0].set_ylabel(\"Speed [MPH]\")\n",
    "axes[0,1].set_title(\"Phone vs Realtime ESS Power Out [kW]\")\n",
    "axes[0,1].set_xlabel(\"Time [s]\")\n",
    "axes[0,1].set_ylabel(\"Total Power [kW]\")\n",
    "axes[0,2].set_title(\"Phone vs Realtime Battery SoC [%]\")\n",
    "axes[0,2].set_xlabel(\"Time [s]\")\n",
    "axes[0,2].set_ylabel(\"SoC [%]\")\n",
    "axes[0,2].legend()\n",
    "plt.show()\n",
    "print(f\"Avg. Efficiency: {np.mean([x[0] for x in efficiencies]):.2f} phone, {np.mean([x[1] for x in efficiencies]):.2f} realtime, {np.sqrt(np.mean([(x-y)**2 for x,y in efficiencies])):.2f} mi/kWh RMSE\")"
   ]
  },
  {
   "cell_type": "code",
   "execution_count": null,
   "metadata": {},
   "outputs": [],
   "source": [
    "# power_components = {\n",
    "#     \"accel_kw\": sim_drive.accel_kw,\n",
    "#     \"rr_kw\": sim_drive.rr_kw,\n",
    "#     \"ess_loss_kw\": sim_drive.ess_loss_kw,\n",
    "#     \"ascent_kw\": sim_drive.ascent_kw,\n",
    "#     \"drag_kw\": sim_drive.drag_kw,\n",
    "#     \"aux_in_kw\": sim_drive.aux_in_kw,\n",
    "# }\n",
    "# fig, ax = plt.subplots(6, 1, figsize=(9,9))\n",
    "# fig.tight_layout()\n",
    "# i=0\n",
    "# for name, power in power_components.items():\n",
    "#     ax[i].plot(cyc.time_s, power, label=name)\n",
    "#     ax[i].set_xlabel('Time [s]')\n",
    "#     ax[i].set_ylabel(name)\n",
    "#     i+=1"
   ]
  },
  {
   "cell_type": "markdown",
   "metadata": {},
   "source": [
    "### Mean Realtime, Predicted Comparison"
   ]
  },
  {
   "cell_type": "code",
   "execution_count": null,
   "metadata": {},
   "outputs": [],
   "source": []
  },
  {
   "cell_type": "code",
   "execution_count": null,
   "metadata": {},
   "outputs": [],
   "source": []
  },
  {
   "cell_type": "code",
   "execution_count": null,
   "metadata": {},
   "outputs": [],
   "source": []
  },
  {
   "cell_type": "markdown",
   "metadata": {},
   "source": [
    "### Expand Predicted to Full Network"
   ]
  },
  {
   "cell_type": "code",
   "execution_count": null,
   "metadata": {},
   "outputs": [],
   "source": []
  },
  {
   "cell_type": "code",
   "execution_count": null,
   "metadata": {},
   "outputs": [],
   "source": []
  },
  {
   "cell_type": "code",
   "execution_count": null,
   "metadata": {},
   "outputs": [],
   "source": []
  },
  {
   "cell_type": "markdown",
   "metadata": {},
   "source": [
    "### Phone Baseline Compared to Realtime"
   ]
  },
  {
   "cell_type": "code",
   "execution_count": null,
   "metadata": {},
   "outputs": [],
   "source": [
    "importlib.reload(trajectory)\n",
    "importlib.reload(energy)\n",
    "importlib.reload(standardfeeds)\n",
    "importlib.reload(vehicle)\n",
    "importlib.reload(spatial)\n",
    "\n",
    "all_phone_intensities = []\n",
    "all_realtime_intensities = []\n",
    "\n",
    "# List of phone trajectories available that have matching realtime data\n",
    "phone_trajectory_folders = [x for x in Path(\"..\",\"data\",\"kcm_sensor\",\"match_realtime\").glob(\"*\") if x.is_dir()]\n",
    "\n",
    "# Build trajectory for each phone recording\n",
    "for phone_trajectory_folder in phone_trajectory_folders:\n",
    "    # Load phone data\n",
    "    metadata_phone, data_phone = standardfeeds.combine_phone_sensors(phone_trajectory_folder, \"America/Los_Angeles\")\n",
    "    data_phone.loc[data_phone['speed']<0, 'speed'] = np.nan\n",
    "    data_phone.loc[data_phone['bearing']<0, 'bearing'] = np.nan\n",
    "    data_phone = data_phone.bfill()\n",
    "    # Create trajectory\n",
    "    phone_traj = trajectory.Trajectory(\n",
    "        point_attr={\n",
    "            \"lon\": data_phone.longitude.to_numpy(),\n",
    "            \"lat\": data_phone.latitude.to_numpy(),\n",
    "            \"measured_elev_m\": data_phone.altitudeAboveMeanSeaLevel.to_numpy(),\n",
    "            \"measured_speed_m_s\": data_phone.speed.to_numpy(),\n",
    "            \"measured_bear_d\": data_phone.bearing.to_numpy(),\n",
    "            \"measured_accel_m_s2\": np.diff(data_phone.speed.to_numpy(), prepend=0), # Can be accelerometer or speed derivative\n",
    "            \"measured_theta_d\": data_phone.pitch.to_numpy() - np.mean(data_phone.pitch.to_numpy()),\n",
    "            \"cumul_time_s\": data_phone.cumul_time_s.to_numpy(),\n",
    "        },\n",
    "        traj_attr=metadata_phone,\n",
    "        coord_ref_center=[386910, 69022],\n",
    "        epsg=32148,\n",
    "        apply_filter=False\n",
    "    )\n",
    "    # Create drivecycle\n",
    "    phone_cycle = phone_traj.measured_to_drivecycle()\n",
    "    energy_model = energy.EnergyModel(vehicle.TransitBus(), conditions.AmbientConditions())\n",
    "    phone_cycle_energy_df = energy_model.getEnergyDataFrame(phone_cycle)\n",
    "    all_phone_intensities.append(energy_model.calcIntensity(phone_cycle)*1.6)\n",
    "\n",
    "\n",
    "    # Load corresponding realtime data\n",
    "    data_realtime = pd.read_pickle(Path(\"..\", \"data\", \"kcm_sensor_realtime\", f\"{phone_traj.traj_attr['t_day']}.pkl\"))\n",
    "    # Pull the phone trajectory\n",
    "    data_realtime = data_realtime[data_realtime['vehicleid'].astype(int).astype(str) == phone_traj.traj_attr['veh_id']]\n",
    "    data_realtime = data_realtime[data_realtime['locationtime'].astype(int) >= phone_traj.traj_attr['start_epoch']]\n",
    "    data_realtime = data_realtime[data_realtime['locationtime'].astype(int) <= phone_traj.traj_attr['end_epoch']]\n",
    "    metadata_realtime = metadata_phone.copy()\n",
    "    metadata_realtime.update({\n",
    "        \"start_epoch\": data_realtime['locationtime'].iloc[0].astype(int),\n",
    "        \"end_epoch\": data_realtime['locationtime'].iloc[-1].astype(int)\n",
    "    })\n",
    "    # Create trajectory\n",
    "    realtime_traj = trajectory.Trajectory(\n",
    "        point_attr={\n",
    "            \"lon\": data_realtime.lon.to_numpy(),\n",
    "            \"lat\": data_realtime.lat.to_numpy(),\n",
    "            \"cumul_time_s\": (data_realtime.locationtime - metadata_phone['start_epoch']).to_numpy(),\n",
    "        },\n",
    "        traj_attr=metadata_realtime,\n",
    "        coord_ref_center=[386910, 69022],\n",
    "        epsg=32148,\n",
    "        dem_file=Path(\"..\", \"data\", \"kcm_spatial\",\"usgs10m_dem_32148.tif\"),\n",
    "        apply_filter=False\n",
    "    )\n",
    "    # Create drivecycle\n",
    "    realtime_cycle = realtime_traj.gps_to_drivecycle()\n",
    "    energy_model = energy.EnergyModel(vehicle.TransitBus(), conditions.AmbientConditions())\n",
    "    realtime_cycle_energy_df = energy_model.getEnergyDataFrame(realtime_cycle)\n",
    "    all_realtime_intensities.append(energy_model.calcIntensity(realtime_cycle)*1.6)"
   ]
  },
  {
   "cell_type": "code",
   "execution_count": null,
   "metadata": {},
   "outputs": [],
   "source": [
    "print(\"Phone\")\n",
    "print(f\"Mean: {np.mean(all_phone_intensities):.2f} kWh/mi\")\n",
    "print(f\"Std: {np.std(all_phone_intensities):.2f} kWh/mi\")\n",
    "print()\n",
    "print(\"Realtime\") \n",
    "print(f\"Mean: {np.mean(all_realtime_intensities):.2f} kWh/mi\")\n",
    "print(f\"Std: {np.std(all_realtime_intensities):.2f} kWh/mi\")\n",
    "print()\n",
    "print(f\"RMSE: {np.sqrt(np.mean((np.array(all_phone_intensities) - np.array(all_realtime_intensities))**2)):.2f} kWh/mi\")"
   ]
  },
  {
   "cell_type": "code",
   "execution_count": null,
   "metadata": {},
   "outputs": [],
   "source": [
    "realtime_cycle_energy_df['Source'] = 'Realtime'\n",
    "realtime_cycle_energy_df['cumul_time_s'] = realtime_cycle_energy_df['Time'].cumsum()\n",
    "phone_cycle_energy_df['Source'] = 'Phone'\n",
    "phone_cycle_energy_df['cumul_time_s'] = phone_cycle_energy_df['Time'].cumsum()\n",
    "rt_df = realtime_cycle_energy_df[['Source','cumul_time_s','Velocity','Acceleration','Time','Distance']]\n",
    "ph_df = phone_cycle_energy_df[['Source','cumul_time_s','Velocity','Acceleration','Time','Distance']]\n",
    "plot_df = pd.concat([rt_df, ph_df], axis=0)\n",
    "fig = plotting.formatted_trajectory_lineplot(plot_df, \"Phone and Realtime Trajectories\")"
   ]
  },
  {
   "cell_type": "code",
   "execution_count": null,
   "metadata": {},
   "outputs": [],
   "source": [
    "importlib.reload(plotting)\n",
    "realtime_cycle_energy_df['Source'] = 'Realtime'\n",
    "realtime_cycle_energy_df['cumul_time_s'] = realtime_cycle_energy_df['Time'].cumsum()\n",
    "phone_cycle_energy_df['Source'] = 'Phone'\n",
    "phone_cycle_energy_df['cumul_time_s'] = phone_cycle_energy_df['Time'].cumsum()\n",
    "rt_df = realtime_cycle_energy_df[['Source','cumul_time_s','F_aero','F_grav','F_roll','F_acc','P_tot']]\n",
    "ph_df = phone_cycle_energy_df[['Source','cumul_time_s','F_aero','F_grav','F_roll','F_acc','P_tot']]\n",
    "plot_df = pd.concat([rt_df, ph_df], axis=0)\n",
    "fig = plotting.formatted_forces_lineplot(plot_df, \"Phone and Realtime Forces\")"
   ]
  },
  {
   "cell_type": "markdown",
   "metadata": {},
   "source": [
    "### Phone Baseline Compared to Resampled + Modeled"
   ]
  },
  {
   "cell_type": "code",
   "execution_count": null,
   "metadata": {},
   "outputs": [],
   "source": [
    "importlib.reload(trajectory)\n",
    "importlib.reload(energy)\n",
    "importlib.reload(standardfeeds)\n",
    "importlib.reload(vehicle)\n",
    "importlib.reload(spatial)\n",
    "importlib.reload(pl)\n",
    "importlib.reload(data_loader)\n",
    "\n",
    "\n",
    "logging.getLogger(\"pytorch_lightning\").setLevel(logging.CRITICAL)\n",
    "all_phone_intensities = []\n",
    "all_realtime_intensities = []\n",
    "\n",
    "# List of phone trajectories available that have matching realtime data\n",
    "phone_trajectory_folders = [x for x in Path(\"..\",\"data\",\"kcm_sensor\",\"match_realtime\").glob(\"*\") if x.is_dir()]\n",
    "\n",
    "# Build trajectory for each phone recording\n",
    "for phone_trajectory_folder in phone_trajectory_folders:\n",
    "    # Load phone data\n",
    "    metadata_phone, data_phone = standardfeeds.combine_phone_sensors(phone_trajectory_folder, \"America/Los_Angeles\")\n",
    "    data_phone.loc[data_phone['speed']<0, 'speed'] = np.nan\n",
    "    data_phone.loc[data_phone['bearing']<0, 'bearing'] = np.nan\n",
    "    data_phone = data_phone.bfill()\n",
    "    # Create trajectory\n",
    "    phone_traj = trajectory.Trajectory(\n",
    "        point_attr={\n",
    "            \"lon\": data_phone.longitude.to_numpy(),\n",
    "            \"lat\": data_phone.latitude.to_numpy(),\n",
    "            \"measured_elev_m\": data_phone.altitudeAboveMeanSeaLevel.to_numpy(),\n",
    "            \"measured_speed_m_s\": data_phone.speed.to_numpy(),\n",
    "            \"measured_bear_d\": data_phone.bearing.to_numpy(),\n",
    "            \"measured_accel_m_s2\": np.diff(data_phone.speed.to_numpy(), prepend=0), # Can be accelerometer or speed derivative\n",
    "            \"measured_theta_d\": data_phone.pitch.to_numpy() - np.mean(data_phone.pitch.to_numpy()),\n",
    "            \"cumul_time_s\": data_phone.cumul_time_s.to_numpy(),\n",
    "        },\n",
    "        traj_attr=metadata_phone,\n",
    "        coord_ref_center=[386910, 69022],\n",
    "        epsg=32148,\n",
    "        apply_filter=False\n",
    "    )\n",
    "    # Create drivecycle\n",
    "    phone_cycle = phone_traj.measured_to_drivecycle()\n",
    "    energy_model = energy.EnergyModel(vehicle.TransitBus(), conditions.AmbientConditions())\n",
    "    phone_cycle_energy_df = energy_model.getEnergyDataFrame(phone_cycle)\n",
    "    all_phone_intensities.append(energy_model.calcIntensity(phone_cycle)*1.6)\n",
    "\n",
    "\n",
    "    # Load corresponding realtime data\n",
    "    data_realtime = pd.read_pickle(Path(\"..\", \"data\", \"kcm_sensor_realtime\", f\"{phone_traj.traj_attr['t_day']}.pkl\"))\n",
    "    # Pull the phone trajectory\n",
    "    data_realtime = data_realtime[data_realtime['vehicleid'].astype(int).astype(str) == phone_traj.traj_attr['veh_id']]\n",
    "    data_realtime = data_realtime[data_realtime['locationtime'].astype(int) >= phone_traj.traj_attr['start_epoch']]\n",
    "    data_realtime = data_realtime[data_realtime['locationtime'].astype(int) <= phone_traj.traj_attr['end_epoch']]\n",
    "    metadata_realtime = metadata_phone.copy()\n",
    "    metadata_realtime.update({\n",
    "        \"start_epoch\": data_realtime['locationtime'].iloc[0].astype(int),\n",
    "        \"end_epoch\": data_realtime['locationtime'].iloc[-1].astype(int)\n",
    "    })\n",
    "    # Create trajectory\n",
    "    realtime_traj = trajectory.Trajectory(\n",
    "        point_attr={\n",
    "            \"lon\": data_realtime.lon.to_numpy(),\n",
    "            \"lat\": data_realtime.lat.to_numpy(),\n",
    "            \"cumul_time_s\": (data_realtime.locationtime - metadata_phone['start_epoch']).to_numpy(),\n",
    "        },\n",
    "        traj_attr=metadata_realtime,\n",
    "        coord_ref_center=[386910, 69022],\n",
    "        epsg=32148,\n",
    "        dem_file=Path(\"..\", \"data\", \"kcm_spatial\",\"usgs10m_dem_32148.tif\"),\n",
    "        apply_filter=False,\n",
    "        resample_len=100\n",
    "    )\n",
    "\n",
    "    # Update the trajectory with predicted travel times\n",
    "    model = model_utils.load_model(\"../logs/\", \"kcm\", \"GRU\", 0)\n",
    "    realtime_traj.update_predicted_time(model)\n",
    "\n",
    "    # Create drivecycle\n",
    "    realtime_cycle = realtime_traj.gps_to_drivecycle()\n",
    "    energy_model = energy.EnergyModel(vehicle.TransitBus(), conditions.AmbientConditions())\n",
    "    realtime_cycle_energy_df = energy_model.getEnergyDataFrame(realtime_cycle)\n",
    "    all_realtime_intensities.append(energy_model.calcIntensity(realtime_cycle)*1.6)"
   ]
  },
  {
   "cell_type": "code",
   "execution_count": null,
   "metadata": {},
   "outputs": [],
   "source": [
    "print(\"Phone\")\n",
    "print(f\"Mean: {np.mean(all_phone_intensities):.2f} kWh/mi\")\n",
    "print(f\"Std: {np.std(all_phone_intensities):.2f} kWh/mi\")\n",
    "print()\n",
    "print(\"Realtime\")\n",
    "print(f\"Mean: {np.mean(all_realtime_intensities):.2f} kWh/mi\")\n",
    "print(f\"Std: {np.std(all_realtime_intensities):.2f} kWh/mi\")\n",
    "print()\n",
    "print(f\"RMSE: {np.sqrt(np.mean((np.array(all_phone_intensities) - np.array(all_realtime_intensities))**2)):.2f} (kWh/mi)\")"
   ]
  },
  {
   "cell_type": "code",
   "execution_count": null,
   "metadata": {},
   "outputs": [],
   "source": [
    "realtime_cycle_energy_df['Source'] = 'Realtime'\n",
    "realtime_cycle_energy_df['cumul_time_s'] = realtime_cycle_energy_df['Time'].cumsum()\n",
    "phone_cycle_energy_df['Source'] = 'Phone'\n",
    "phone_cycle_energy_df['cumul_time_s'] = phone_cycle_energy_df['Time'].cumsum()\n",
    "rt_df = realtime_cycle_energy_df[['Source','cumul_time_s','Velocity','Acceleration','Time','Distance']]\n",
    "ph_df = phone_cycle_energy_df[['Source','cumul_time_s','Velocity','Acceleration','Time','Distance']]\n",
    "plot_df = pd.concat([rt_df, ph_df], axis=0)\n",
    "fig = plotting.formatted_trajectory_lineplot(plot_df, \"Phone and Realtime Trajectories\")"
   ]
  },
  {
   "cell_type": "markdown",
   "metadata": {},
   "source": [
    "### Compare Phone Sensor Kinematics"
   ]
  },
  {
   "cell_type": "code",
   "execution_count": null,
   "metadata": {},
   "outputs": [],
   "source": [
    "# fig, axes = plt.subplots(1,1,figsize=(8,4))\n",
    "# phone_traj.gdf['calc_dist_m'].cumsum().plot(ax=axes)\n",
    "# phone_traj.gdf['measured_speed_m_s'].cumsum().plot(ax=axes)\n",
    "# phone_traj.gdf['measured_accel_m_s2'].cumsum().cumsum().plot(ax=axes)\n",
    "# axes.legend(['gps','integrated speedometer','integrated accelerometer'])\n",
    "# axes.set_title(\"Total Distance (m)\")"
   ]
  },
  {
   "cell_type": "code",
   "execution_count": null,
   "metadata": {},
   "outputs": [],
   "source": [
    "# fig, axes = plt.subplots(1,1,figsize=(8,4))\n",
    "# phone_traj.gdf['calc_dist_m'].plot(ax=axes)\n",
    "# phone_traj.gdf['measured_speed_m_s'].plot(ax=axes)\n",
    "# phone_traj.gdf['measured_accel_m_s2'].cumsum().plot(ax=axes)\n",
    "# axes.legend(['rate of change gps','speedometer','integrated accelerometer'])\n",
    "# axes.set_title(\"Velocity (m/s)\")"
   ]
  },
  {
   "cell_type": "code",
   "execution_count": null,
   "metadata": {},
   "outputs": [],
   "source": [
    "# fig, axes = plt.subplots(1,1,figsize=(8,4))\n",
    "# phone_traj.gdf['calc_dist_m'].diff().clip(-1,1).plot(ax=axes)\n",
    "# phone_traj.gdf['measured_speed_m_s'].diff().plot(ax=axes)\n",
    "# phone_traj.gdf['measured_accel_m_s2'].plot(ax=axes)\n",
    "# axes.legend(['rate of change gps','rate of change speedometer','accelerometer'])\n",
    "# axes.set_title(\"Acceleration (m/s^2)\")"
   ]
  },
  {
   "cell_type": "markdown",
   "metadata": {},
   "source": [
    "### Distance Along GTFS Shape"
   ]
  },
  {
   "cell_type": "code",
   "execution_count": null,
   "metadata": {},
   "outputs": [],
   "source": [
    "# # GTFS shapes\n",
    "# shape_lookup = standardfeeds.get_gtfs_shapes_lookup(f\"../data/kcm_gtfs/{static_date}/\")\n",
    "# shapes = standardfeeds.get_gtfs_shapes(f\"../data/kcm_gtfs/{static_date}/\").to_crs(\"EPSG:32148\")\n",
    "# shapes.plot()\n",
    "\n",
    "# route_ids = pd.unique(data_gtfs[(data_gtfs['route_short_name']==short_name) & (data_gtfs['direction_id']==0)].route_id)\n",
    "# phone_shape = shapes[(shapes['route_id'].isin(route_ids)) & (shapes['direction_id']==0) & (shapes['service_id']==21133)]\n",
    "\n",
    "# # Get one shape to work with\n",
    "# sample_service_id, sample_route_id, sample_direction_id = data_gtfsrt.groupby(['service_id','route_id','direction_id']).count().index[0]\n",
    "# print(sample_service_id, sample_route_id, sample_direction_id)\n",
    "\n",
    "# # GTFS-RT\n",
    "# sample_realtime = data_gtfsrt[(data_gtfsrt['service_id']==sample_service_id) & (data_gtfsrt['route_id']==sample_route_id) & (data_gtfsrt['direction_id']==sample_direction_id)].copy()\n",
    "\n",
    "# # Shape\n",
    "# sample_shape = shapes[(shapes['service_id']==sample_service_id) & (shapes['route_id']==sample_route_id) & (shapes['direction_id']==sample_direction_id)].copy()\n",
    "# sample_shape.plot()\n",
    "\n",
    "# # Get distance along shape\n",
    "# sample_realtime['dist_along_line'] = sample_realtime['geometry'].apply(lambda pt: shapely.line_locate_point(sample_shape.geometry, pt))\n",
    "# # sample_static['dist_along_line'] = sample_static['geometry'].apply(lambda pt: shapely.line_locate_point(sample_shape.geometry, pt))\n",
    "\n",
    "# # Also get a timestamp column on the samples\n",
    "# sample_realtime['t'] = pd.to_datetime(sample_realtime['locationtime'], unit='s')\n",
    "# sample_realtime = sample_realtime.set_index('t')"
   ]
  }
 ],
 "metadata": {
  "kernelspec": {
   "display_name": "valle_m1",
   "language": "python",
   "name": "python3"
  },
  "language_info": {
   "codemirror_mode": {
    "name": "ipython",
    "version": 3
   },
   "file_extension": ".py",
   "mimetype": "text/x-python",
   "name": "python",
   "nbconvert_exporter": "python",
   "pygments_lexer": "ipython3",
   "version": "3.9.18"
  },
  "orig_nbformat": 4,
  "vscode": {
   "interpreter": {
    "hash": "b30fe1de1713ca8e7537eef068b13a2de77ded03f86aab2e80ea73416dd3d704"
   }
  }
 },
 "nbformat": 4,
 "nbformat_minor": 2
}
