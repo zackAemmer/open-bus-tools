{
 "cells": [
  {
   "cell_type": "code",
   "execution_count": null,
   "metadata": {},
   "outputs": [],
   "source": [
    "import pickle\n",
    "import sys\n",
    "from zoneinfo import ZoneInfo\n",
    "sys.path.append(\"../\")\n",
    "\n",
    "from dotenv import load_dotenv\n",
    "load_dotenv()\n",
    "import geopandas as gpd\n",
    "import importlib\n",
    "import logging\n",
    "import matplotlib.pyplot as plt\n",
    "import numpy as np\n",
    "import os\n",
    "import pandas as pd\n",
    "from pathlib import Path\n",
    "import lightning.pytorch as pl\n",
    "import rasterio as rio\n",
    "from rasterio.plot import show\n",
    "import seaborn as sns\n",
    "import shapely\n",
    "import statsmodels.api as sm\n",
    "from torch.utils.data import DataLoader\n",
    "\n",
    "from openbustools import plotting, spatial, standardfeeds\n",
    "from openbustools.traveltime import data_loader, model_utils\n",
    "from openbustools.drivecycle import trajectory\n",
    "from openbustools.drivecycle.physics import conditions, energy, vehicle"
   ]
  },
  {
   "cell_type": "markdown",
   "metadata": {},
   "source": [
    "### Phone Baseline Compared to Realtime"
   ]
  },
  {
   "cell_type": "code",
   "execution_count": null,
   "metadata": {},
   "outputs": [],
   "source": [
    "importlib.reload(trajectory)\n",
    "importlib.reload(energy)\n",
    "importlib.reload(standardfeeds)\n",
    "importlib.reload(vehicle)\n",
    "importlib.reload(spatial)\n",
    "\n",
    "all_phone_intensities = []\n",
    "all_realtime_intensities = []\n",
    "\n",
    "# List of phone trajectories available that have matching realtime data\n",
    "phone_trajectory_folders = [x for x in Path(\"..\",\"data\",\"kcm_sensor\",\"match_realtime\").glob(\"*\") if x.is_dir()]\n",
    "\n",
    "# Build trajectory for each phone recording\n",
    "for phone_trajectory_folder in phone_trajectory_folders:\n",
    "    # Load phone data\n",
    "    metadata_phone, data_phone = standardfeeds.combine_phone_sensors(phone_trajectory_folder, \"America/Los_Angeles\")\n",
    "    # Create trajectory\n",
    "    phone_traj = trajectory.Trajectory(\n",
    "        point_attr={\n",
    "            \"lon\": data_phone.longitude.to_numpy(),\n",
    "            \"lat\": data_phone.latitude.to_numpy(),\n",
    "            \"measured_elev_m\": data_phone.altitudeAboveMeanSeaLevel.to_numpy(),\n",
    "            \"measured_speed_m_s\": data_phone.speed.to_numpy(),\n",
    "            \"measured_bear_d\": data_phone.bearing.to_numpy(),\n",
    "            \"measured_accel_m_s2\": np.diff(data_phone.speed.to_numpy(), prepend=0), # Can be accelerometer or speed derivative\n",
    "            \"measured_theta_d\": data_phone.pitch.to_numpy() - np.mean(data_phone.pitch.to_numpy()),\n",
    "            \"cumul_time_s\": data_phone.cumul_time_s.to_numpy(),\n",
    "        },\n",
    "        traj_attr=metadata_phone,\n",
    "        coord_ref_center=[386910, 69022],\n",
    "        epsg=32148,\n",
    "        apply_filter=True\n",
    "    )\n",
    "    # Create drivecycle\n",
    "    phone_cycle = phone_traj.to_momentary_drivecycle()\n",
    "    energy_model = energy.EnergyModel(vehicle.TransitBus(), conditions.AmbientConditions())\n",
    "    phone_cycle_energy_df = energy_model.getEnergyDataFrame(phone_cycle)\n",
    "    all_phone_intensities.append(energy_model.calcIntensity(phone_cycle)*1.6)\n",
    "\n",
    "\n",
    "    # Load corresponding realtime data\n",
    "    data_realtime = pd.read_pickle(Path(\"..\", \"data\", \"kcm_sensor_realtime\", f\"{phone_traj.traj_attr['t_day']}.pkl\"))\n",
    "    # Pull the phone trajectory\n",
    "    data_realtime = data_realtime[data_realtime['vehicleid'].astype(int).astype(str) == phone_traj.traj_attr['veh_id']]\n",
    "    data_realtime = data_realtime[data_realtime['locationtime'].astype(int) >= phone_traj.traj_attr['start_epoch']]\n",
    "    data_realtime = data_realtime[data_realtime['locationtime'].astype(int) <= phone_traj.traj_attr['end_epoch']]\n",
    "    # Create trajectory\n",
    "    realtime_traj = trajectory.Trajectory(\n",
    "        point_attr={\n",
    "            \"lon\": data_realtime.lon.to_numpy(),\n",
    "            \"lat\": data_realtime.lat.to_numpy(),\n",
    "            \"cumul_time_s\": (data_realtime.locationtime - data_realtime.locationtime.min()).to_numpy(),\n",
    "        },\n",
    "        traj_attr=metadata_phone,\n",
    "        coord_ref_center=[386910, 69022],\n",
    "        epsg=32148,\n",
    "        dem_file=Path(\"..\", \"data\", \"kcm_spatial\",\"usgs10m_dem_32148.tif\"),\n",
    "        apply_filter=False\n",
    "    )\n",
    "    # Create drivecycle\n",
    "    realtime_cycle = realtime_traj.to_averaged_drivecycle()\n",
    "    energy_model = energy.EnergyModel(vehicle.TransitBus(), conditions.AmbientConditions())\n",
    "    realtime_cycle_energy_df = energy_model.getEnergyDataFrame(realtime_cycle)\n",
    "    all_realtime_intensities.append(energy_model.calcIntensity(realtime_cycle)*1.6)"
   ]
  },
  {
   "cell_type": "code",
   "execution_count": null,
   "metadata": {},
   "outputs": [],
   "source": [
    "print(\"Phone\")\n",
    "energy_model.printSummary(phone_cycle)\n",
    "print(f\"Mean: {np.mean(all_phone_intensities)} kWh/mi\")\n",
    "print()\n",
    "print(\"Realtime\")\n",
    "energy_model.printSummary(realtime_cycle)\n",
    "print(f\"Mean: {np.mean(all_realtime_intensities)} kWh/mi\")\n",
    "print()\n",
    "print(\"RMSE (kWh/mi)\")\n",
    "print(np.sqrt(np.mean((np.array(all_phone_intensities) - np.array(all_realtime_intensities))**2)))"
   ]
  },
  {
   "cell_type": "code",
   "execution_count": null,
   "metadata": {},
   "outputs": [],
   "source": [
    "phone_traj.gdf.plot()"
   ]
  },
  {
   "cell_type": "code",
   "execution_count": null,
   "metadata": {},
   "outputs": [],
   "source": [
    "realtime_traj.gdf.plot()"
   ]
  },
  {
   "cell_type": "code",
   "execution_count": null,
   "metadata": {},
   "outputs": [],
   "source": [
    "plotting.formatted_trajectory_lineplot(phone_cycle_energy_df[['Velocity','Acceleration','Theta','Time','Distance','P_tot']])"
   ]
  },
  {
   "cell_type": "code",
   "execution_count": null,
   "metadata": {},
   "outputs": [],
   "source": [
    "plotting.formatted_trajectory_lineplot(realtime_cycle_energy_df[['Velocity','Acceleration','Theta','Time','Distance','P_tot']])"
   ]
  },
  {
   "cell_type": "markdown",
   "metadata": {},
   "source": [
    "### Phone Baseline Compared to Realtime Resampled"
   ]
  },
  {
   "cell_type": "code",
   "execution_count": null,
   "metadata": {},
   "outputs": [],
   "source": [
    "importlib.reload(trajectory)\n",
    "importlib.reload(energy)\n",
    "importlib.reload(standardfeeds)\n",
    "importlib.reload(vehicle)\n",
    "importlib.reload(spatial)\n",
    "\n",
    "all_phone_intensities = []\n",
    "all_realtime_intensities = []\n",
    "\n",
    "# List of phone trajectories available that have matching realtime data\n",
    "phone_trajectory_folders = [x for x in Path(\"..\",\"data\",\"kcm_sensor\",\"match_realtime\").glob(\"*\") if x.is_dir()]\n",
    "\n",
    "# Build trajectory for each phone recording\n",
    "for phone_trajectory_folder in phone_trajectory_folders:\n",
    "    # Load phone data\n",
    "    metadata_phone, data_phone = standardfeeds.combine_phone_sensors(phone_trajectory_folder, \"America/Los_Angeles\")\n",
    "    # Create trajectory\n",
    "    phone_traj = trajectory.Trajectory(\n",
    "        point_attr={\n",
    "            \"lon\": data_phone.longitude.to_numpy(),\n",
    "            \"lat\": data_phone.latitude.to_numpy(),\n",
    "            \"measured_elev_m\": data_phone.altitudeAboveMeanSeaLevel.to_numpy(),\n",
    "            \"measured_speed_m_s\": data_phone.speed.to_numpy(),\n",
    "            \"measured_bear_d\": data_phone.bearing.to_numpy(),\n",
    "            \"measured_accel_m_s2\": np.diff(data_phone.speed.to_numpy(), prepend=0), # Can be accelerometer or speed derivative\n",
    "            \"measured_theta_d\": data_phone.pitch.to_numpy() - np.mean(data_phone.pitch.to_numpy()),\n",
    "            \"cumul_time_s\": data_phone.cumul_time_s.to_numpy(),\n",
    "        },\n",
    "        traj_attr=metadata_phone,\n",
    "        coord_ref_center=[386910, 69022],\n",
    "        epsg=32148,\n",
    "        apply_filter=True\n",
    "    )\n",
    "    # Create drivecycle\n",
    "    phone_cycle = phone_traj.to_momentary_drivecycle()\n",
    "    energy_model = energy.EnergyModel(vehicle.TransitBus(), conditions.AmbientConditions())\n",
    "    phone_cycle_energy_df = energy_model.getEnergyDataFrame(phone_cycle)\n",
    "    all_phone_intensities.append(energy_model.calcIntensity(phone_cycle)*1.6)\n",
    "\n",
    "\n",
    "    # Load corresponding realtime data\n",
    "    data_realtime = pd.read_pickle(Path(\"..\", \"data\", \"kcm_sensor_realtime\", f\"{phone_traj.traj_attr['t_day']}.pkl\"))\n",
    "    # Pull the phone trajectory\n",
    "    data_realtime = data_realtime[data_realtime['vehicleid'].astype(int).astype(str) == phone_traj.traj_attr['veh_id']]\n",
    "    data_realtime = data_realtime[data_realtime['locationtime'].astype(int) >= phone_traj.traj_attr['start_epoch']]\n",
    "    data_realtime = data_realtime[data_realtime['locationtime'].astype(int) <= phone_traj.traj_attr['end_epoch']]\n",
    "    # Create trajectory\n",
    "    realtime_traj = trajectory.Trajectory(\n",
    "        point_attr={\n",
    "            \"lon\": data_realtime.lon.to_numpy(),\n",
    "            \"lat\": data_realtime.lat.to_numpy(),\n",
    "            \"cumul_time_s\": (data_realtime.locationtime - data_realtime.locationtime.min()).to_numpy(),\n",
    "        },\n",
    "        traj_attr=metadata_phone,\n",
    "        coord_ref_center=[386910, 69022],\n",
    "        epsg=32148,\n",
    "        dem_file=Path(\"..\", \"data\", \"kcm_spatial\",\"usgs10m_dem_32148.tif\"),\n",
    "        apply_filter=False,\n",
    "        resample_len=phone_traj.traj_len\n",
    "    )\n",
    "    # Create drivecycle\n",
    "    realtime_cycle = realtime_traj.to_averaged_drivecycle()\n",
    "    energy_model = energy.EnergyModel(vehicle.TransitBus(), conditions.AmbientConditions())\n",
    "    realtime_cycle_energy_df = energy_model.getEnergyDataFrame(realtime_cycle)\n",
    "    all_realtime_intensities.append(energy_model.calcIntensity(realtime_cycle)*1.6)"
   ]
  },
  {
   "cell_type": "code",
   "execution_count": null,
   "metadata": {},
   "outputs": [],
   "source": [
    "print(\"Phone\")\n",
    "energy_model.printSummary(phone_cycle)\n",
    "print(f\"Mean: {np.mean(all_phone_intensities)} kWh/mi\")\n",
    "print()\n",
    "print(\"Realtime\")\n",
    "energy_model.printSummary(realtime_cycle)\n",
    "print(f\"Mean: {np.mean(all_realtime_intensities)} kWh/mi\")\n",
    "print()\n",
    "print(\"RMSE (kWh/mi)\")\n",
    "print(np.sqrt(np.mean((np.array(all_phone_intensities) - np.array(all_realtime_intensities))**2)))"
   ]
  },
  {
   "cell_type": "code",
   "execution_count": null,
   "metadata": {},
   "outputs": [],
   "source": [
    "realtime_traj.gdf.plot()"
   ]
  },
  {
   "cell_type": "code",
   "execution_count": null,
   "metadata": {},
   "outputs": [],
   "source": [
    "plotting.formatted_trajectory_lineplot(realtime_cycle_energy_df[['Velocity','Acceleration','Theta','Time','Distance','P_tot']])"
   ]
  },
  {
   "cell_type": "markdown",
   "metadata": {},
   "source": [
    "### Phone Baseline Compared to Realtime Resampled + Modeled"
   ]
  },
  {
   "cell_type": "code",
   "execution_count": null,
   "metadata": {},
   "outputs": [],
   "source": [
    "importlib.reload(trajectory)\n",
    "importlib.reload(energy)\n",
    "importlib.reload(standardfeeds)\n",
    "importlib.reload(vehicle)\n",
    "importlib.reload(spatial)\n",
    "importlib.reload(pl)\n",
    "\n",
    "\n",
    "logging.getLogger(\"pytorch_lightning\").setLevel(logging.CRITICAL)\n",
    "all_phone_intensities = []\n",
    "all_realtime_intensities = []\n",
    "\n",
    "# List of phone trajectories available that have matching realtime data\n",
    "phone_trajectory_folders = [x for x in Path(\"..\",\"data\",\"kcm_sensor\",\"match_realtime\").glob(\"*\") if x.is_dir()]\n",
    "\n",
    "# Build trajectory for each phone recording\n",
    "for phone_trajectory_folder in phone_trajectory_folders:\n",
    "    # Load phone data\n",
    "    metadata_phone, data_phone = standardfeeds.combine_phone_sensors(phone_trajectory_folder, \"America/Los_Angeles\")\n",
    "    # Create trajectory\n",
    "    phone_traj = trajectory.Trajectory(\n",
    "        point_attr={\n",
    "            \"lon\": data_phone.longitude.to_numpy(),\n",
    "            \"lat\": data_phone.latitude.to_numpy(),\n",
    "            \"measured_elev_m\": data_phone.altitudeAboveMeanSeaLevel.to_numpy(),\n",
    "            \"measured_speed_m_s\": data_phone.speed.to_numpy(),\n",
    "            \"measured_bear_d\": data_phone.bearing.to_numpy(),\n",
    "            \"measured_accel_m_s2\": np.diff(data_phone.speed.to_numpy(), prepend=0), # Can be accelerometer or speed derivative\n",
    "            \"measured_theta_d\": data_phone.pitch.to_numpy() - np.mean(data_phone.pitch.to_numpy()),\n",
    "            \"cumul_time_s\": data_phone.cumul_time_s.to_numpy(),\n",
    "        },\n",
    "        traj_attr=metadata_phone,\n",
    "        coord_ref_center=[386910, 69022],\n",
    "        epsg=32148,\n",
    "        apply_filter=True\n",
    "    )\n",
    "    # Create drivecycle\n",
    "    phone_cycle = phone_traj.to_momentary_drivecycle()\n",
    "    energy_model = energy.EnergyModel(vehicle.TransitBus(), conditions.AmbientConditions())\n",
    "    phone_cycle_energy_df = energy_model.getEnergyDataFrame(phone_cycle)\n",
    "    all_phone_intensities.append(energy_model.calcIntensity(phone_cycle)*1.6)\n",
    "\n",
    "\n",
    "    # Load corresponding realtime data\n",
    "    data_realtime = pd.read_pickle(Path(\"..\", \"data\", \"kcm_sensor_realtime\", f\"{phone_traj.traj_attr['t_day']}.pkl\"))\n",
    "    # Pull the phone trajectory\n",
    "    data_realtime = data_realtime[data_realtime['vehicleid'].astype(int).astype(str) == phone_traj.traj_attr['veh_id']]\n",
    "    data_realtime = data_realtime[data_realtime['locationtime'].astype(int) >= phone_traj.traj_attr['start_epoch']]\n",
    "    data_realtime = data_realtime[data_realtime['locationtime'].astype(int) <= phone_traj.traj_attr['end_epoch']]\n",
    "    # Create trajectory\n",
    "    realtime_traj = trajectory.Trajectory(\n",
    "        point_attr={\n",
    "            \"lon\": data_realtime.lon.to_numpy(),\n",
    "            \"lat\": data_realtime.lat.to_numpy(),\n",
    "            \"cumul_time_s\": (data_realtime.locationtime - data_realtime.locationtime.min()).to_numpy(),\n",
    "        },\n",
    "        traj_attr=metadata_phone,\n",
    "        coord_ref_center=[386910, 69022],\n",
    "        epsg=32148,\n",
    "        dem_file=Path(\"..\", \"data\", \"kcm_spatial\",\"usgs10m_dem_32148.tif\"),\n",
    "        apply_filter=False,\n",
    "        # resample_len=phone_traj.traj_len\n",
    "    )\n",
    "\n",
    "    # Update the trajectory with predicted travel times\n",
    "    model = model_utils.load_model(\"../logs/\", \"kcm\", \"GRU\", 0)\n",
    "    realtime_traj.update_predicted_time(model)\n",
    "\n",
    "    # Create drivecycle\n",
    "    realtime_cycle = realtime_traj.to_averaged_drivecycle()\n",
    "    energy_model = energy.EnergyModel(vehicle.TransitBus(), conditions.AmbientConditions())\n",
    "    realtime_cycle_energy_df = energy_model.getEnergyDataFrame(realtime_cycle)\n",
    "    all_realtime_intensities.append(energy_model.calcIntensity(realtime_cycle)*1.6)"
   ]
  },
  {
   "cell_type": "code",
   "execution_count": null,
   "metadata": {},
   "outputs": [],
   "source": [
    "print(\"Phone\")\n",
    "energy_model.printSummary(phone_cycle)\n",
    "print(f\"Mean: {np.mean(all_phone_intensities)} kWh/mi\")\n",
    "print()\n",
    "print(\"Realtime\")\n",
    "energy_model.printSummary(realtime_cycle)\n",
    "print(f\"Mean: {np.mean(all_realtime_intensities)} kWh/mi\")\n",
    "print()\n",
    "print(\"RMSE (kWh/mi)\")\n",
    "print(np.sqrt(np.mean((np.array(all_phone_intensities) - np.array(all_realtime_intensities))**2)))"
   ]
  },
  {
   "cell_type": "code",
   "execution_count": null,
   "metadata": {},
   "outputs": [],
   "source": [
    "plotting.formatted_trajectory_lineplot(realtime_cycle_energy_df[['Velocity','Acceleration','Theta','Time','Distance','P_tot']])"
   ]
  },
  {
   "cell_type": "markdown",
   "metadata": {},
   "source": [
    "### Old Code"
   ]
  },
  {
   "cell_type": "code",
   "execution_count": null,
   "metadata": {},
   "outputs": [],
   "source": [
    "fig, axes = plt.subplots(1,1,figsize=(8,4))\n",
    "phone_traj.gdf['calc_dist_m'].cumsum().plot(ax=axes)\n",
    "phone_traj.gdf['measured_speed_m_s'].cumsum().plot(ax=axes)\n",
    "phone_traj.gdf['measured_accel_m_s2'].cumsum().cumsum().plot(ax=axes)\n",
    "axes.legend(['gps','integrated speedometer','integrated accelerometer'])\n",
    "axes.set_title(\"Total Distance (m)\")"
   ]
  },
  {
   "cell_type": "code",
   "execution_count": null,
   "metadata": {},
   "outputs": [],
   "source": [
    "fig, axes = plt.subplots(1,1,figsize=(8,4))\n",
    "phone_traj.gdf['calc_dist_m'].plot(ax=axes)\n",
    "phone_traj.gdf['measured_speed_m_s'].plot(ax=axes)\n",
    "phone_traj.gdf['measured_accel_m_s2'].cumsum().plot(ax=axes)\n",
    "axes.legend(['rate of change gps','speedometer','integrated accelerometer'])\n",
    "axes.set_title(\"Velocity (m/s)\")"
   ]
  },
  {
   "cell_type": "code",
   "execution_count": null,
   "metadata": {},
   "outputs": [],
   "source": [
    "fig, axes = plt.subplots(1,1,figsize=(8,4))\n",
    "phone_traj.gdf['calc_dist_m'].diff().clip(-1,1).plot(ax=axes)\n",
    "phone_traj.gdf['measured_speed_m_s'].diff().plot(ax=axes)\n",
    "phone_traj.gdf['measured_accel_m_s2'].plot(ax=axes)\n",
    "axes.legend(['rate of change gps','rate of change speedometer','accelerometer'])\n",
    "axes.set_title(\"Acceleration (m/s^2)\")"
   ]
  },
  {
   "cell_type": "code",
   "execution_count": null,
   "metadata": {},
   "outputs": [],
   "source": [
    "# GTFS shapes\n",
    "shape_lookup = standardfeeds.get_gtfs_shapes_lookup(f\"../data/kcm_gtfs/{static_date}/\")\n",
    "shapes = standardfeeds.get_gtfs_shapes(f\"../data/kcm_gtfs/{static_date}/\").to_crs(\"EPSG:32148\")\n",
    "shapes.plot()\n",
    "\n",
    "route_ids = pd.unique(data_gtfs[(data_gtfs['route_short_name']==short_name) & (data_gtfs['direction_id']==0)].route_id)\n",
    "phone_shape = shapes[(shapes['route_id'].isin(route_ids)) & (shapes['direction_id']==0) & (shapes['service_id']==21133)]\n",
    "\n",
    "# Get one shape to work with\n",
    "sample_service_id, sample_route_id, sample_direction_id = data_gtfsrt.groupby(['service_id','route_id','direction_id']).count().index[0]\n",
    "print(sample_service_id, sample_route_id, sample_direction_id)\n",
    "\n",
    "# GTFS-RT\n",
    "sample_realtime = data_gtfsrt[(data_gtfsrt['service_id']==sample_service_id) & (data_gtfsrt['route_id']==sample_route_id) & (data_gtfsrt['direction_id']==sample_direction_id)].copy()\n",
    "\n",
    "# Shape\n",
    "sample_shape = shapes[(shapes['service_id']==sample_service_id) & (shapes['route_id']==sample_route_id) & (shapes['direction_id']==sample_direction_id)].copy()\n",
    "sample_shape.plot()\n",
    "\n",
    "# Get distance along shape\n",
    "sample_realtime['dist_along_line'] = sample_realtime['geometry'].apply(lambda pt: shapely.line_locate_point(sample_shape.geometry, pt))\n",
    "# sample_static['dist_along_line'] = sample_static['geometry'].apply(lambda pt: shapely.line_locate_point(sample_shape.geometry, pt))\n",
    "\n",
    "# Also get a timestamp column on the samples\n",
    "sample_realtime['t'] = pd.to_datetime(sample_realtime['locationtime'], unit='s')\n",
    "sample_realtime = sample_realtime.set_index('t')"
   ]
  },
  {
   "cell_type": "code",
   "execution_count": null,
   "metadata": {},
   "outputs": [],
   "source": [
    "importlib.reload(trajectory)\n",
    "importlib.reload(energy)\n",
    "importlib.reload(standardfeeds)\n",
    "importlib.reload(vehicle)\n",
    "\n",
    "\n",
    "# Load realtime data\n",
    "data_realtime = \n",
    "data_phone = standardfeeds.combine_phone_sensors(\"../data/kcm_sensor/8124-33-2022-10-17_20-52-26/\", chop_n=60)\n",
    "\n",
    "short_name, veh_id = str.split(pd.read_csv(\"../data/kcm_sensor/8124-33-2022-10-17_20-52-26/Annotation.csv\").iloc[0].text,\"-\")\n",
    "\n",
    "# Create trajectory then drive cycle\n",
    "phone_traj = trajectory.Trajectory(\n",
    "    point_attr={\n",
    "        \"lon\": data_phone.longitude.to_numpy(),\n",
    "        \"lat\": data_phone.latitude.to_numpy(),\n",
    "        \"measured_elev_m\": data_phone.altitudeAboveMeanSeaLevel.to_numpy(),\n",
    "        \"measured_speed_m_s\": data_phone.speed.to_numpy(),\n",
    "        \"measured_bear_d\": data_phone.bearing.to_numpy(),\n",
    "        \"measured_accel_m_s2\": np.diff(data_phone.speed.to_numpy(), prepend=0), # Can be accelerometer or speed derivative\n",
    "        \"measured_theta_d\": data_phone.pitch.to_numpy() - np.mean(data_phone.pitch.to_numpy()),\n",
    "        \"cumul_time_s\": data_phone.cumul_time_s.to_numpy(),\n",
    "    },\n",
    "    traj_attr={\n",
    "        \"short_name\": short_name,\n",
    "        \"veh_id\": veh_id,\n",
    "        \"t_min_of_day\": 300,\n",
    "        \"t_day_of_week\": 0\n",
    "    },\n",
    "    coord_ref_center=[386910, 69022],\n",
    "    epsg=32148,\n",
    "    apply_filter=True\n",
    ")\n",
    "\n",
    "phone_cycle = phone_traj.to_momentary_drivecycle()\n",
    "energy_model = energy.EnergyModel(vehicle.TransitBus(), conditions.AmbientConditions())\n",
    "phone_cycle_energy_df = energy_model.getEnergyDataFrame(phone_cycle)\n",
    "energy_model.printSummary(phone_cycle)"
   ]
  },
  {
   "cell_type": "code",
   "execution_count": null,
   "metadata": {},
   "outputs": [],
   "source": []
  },
  {
   "cell_type": "code",
   "execution_count": null,
   "metadata": {},
   "outputs": [],
   "source": []
  },
  {
   "cell_type": "code",
   "execution_count": null,
   "metadata": {},
   "outputs": [],
   "source": []
  },
  {
   "cell_type": "code",
   "execution_count": null,
   "metadata": {},
   "outputs": [],
   "source": []
  },
  {
   "cell_type": "code",
   "execution_count": null,
   "metadata": {},
   "outputs": [],
   "source": [
    "# Create resampled trajectory\n",
    "phone_traj = trajectory.Trajectory(data_phone.longitude, data_phone.latitude, 322, 0, [386910,69022], 32148, resample_len=200)\n",
    "model = model_utils.load_model('../logs/', 'kcm', 'GRU', 0)\n",
    "phone_traj.update_predicted_time(model)\n",
    "\n",
    "# Create trajectory then drive cycle\n",
    "phone_cycle = phone_traj.to_drivecycle(\"../data/kcm_spatial/usgs10m_dem_32148.tif\")\n",
    "cycle_df = phone_cycle.to_df()\n",
    "cycle_df['F_aero'], cycle_df['F_grav'], cycle_df['F_roll'], cycle_df['F_acc'], cycle_df['F_tot'] = energy_model.calcTotalLoad(phone_cycle, combine=False)\n",
    "cycle_df['P_motor'], cycle_df['P_regen'], cycle_df['P_aux'], cycle_df['P_tot'] = energy_model.calcTotalPower(phone_cycle, combine=False)\n",
    "energy_model.printSummary(phone_cycle)\n",
    "cycle_df.head()"
   ]
  },
  {
   "cell_type": "code",
   "execution_count": null,
   "metadata": {},
   "outputs": [],
   "source": [
    "plotting.formatted_trajectory_lineplot(cycle_df)"
   ]
  },
  {
   "cell_type": "code",
   "execution_count": null,
   "metadata": {},
   "outputs": [],
   "source": [
    "# Create resampled trajectory\n",
    "phone_traj = trajectory.Trajectory(data_phone.longitude, data_phone.latitude, 322, 0, [386910,69022], 32148, resample_len=200)\n",
    "model = pickle.load(open(f\"../logs/kcm/AVG-0.pkl\", 'rb'))\n",
    "phone_traj.update_predicted_time(model)\n",
    "\n",
    "# Create trajectory then drive cycle\n",
    "phone_cycle = phone_traj.to_drivecycle(\"../data/kcm_spatial/usgs10m_dem_32148.tif\")\n",
    "cycle_df = phone_cycle.to_df()\n",
    "cycle_df['F_aero'], cycle_df['F_grav'], cycle_df['F_roll'], cycle_df['F_acc'], cycle_df['F_tot'] = energy_model.calcTotalLoad(phone_cycle, combine=False)\n",
    "cycle_df['P_motor'], cycle_df['P_regen'], cycle_df['P_aux'], cycle_df['P_tot'] = energy_model.calcTotalPower(phone_cycle, combine=False)\n",
    "energy_model.printSummary(phone_cycle)\n",
    "cycle_df.head()"
   ]
  },
  {
   "cell_type": "code",
   "execution_count": null,
   "metadata": {},
   "outputs": [],
   "source": [
    "plotting.formatted_trajectory_lineplot(cycle_df)"
   ]
  },
  {
   "cell_type": "code",
   "execution_count": null,
   "metadata": {},
   "outputs": [],
   "source": []
  },
  {
   "cell_type": "code",
   "execution_count": null,
   "metadata": {},
   "outputs": [],
   "source": []
  },
  {
   "cell_type": "code",
   "execution_count": null,
   "metadata": {},
   "outputs": [],
   "source": []
  },
  {
   "cell_type": "code",
   "execution_count": null,
   "metadata": {},
   "outputs": [],
   "source": []
  },
  {
   "cell_type": "code",
   "execution_count": null,
   "metadata": {},
   "outputs": [],
   "source": []
  },
  {
   "cell_type": "code",
   "execution_count": null,
   "metadata": {},
   "outputs": [],
   "source": []
  },
  {
   "cell_type": "code",
   "execution_count": null,
   "metadata": {},
   "outputs": [],
   "source": [
    "filtered = sm.nonparametric.lowess(endog=sample_realtime['calc_speed_m_s'], exog=sample_realtime['dist_along_line'], frac=0.01, it=1)\n",
    "axes = sns.lineplot(sample_realtime, x='dist_along_line', y='calc_speed_m_s', hue='trip_id', legend=False)\n",
    "sns.lineplot(x=filtered[:,0], y=filtered[:,1], ax=axes, color='black')"
   ]
  },
  {
   "cell_type": "code",
   "execution_count": null,
   "metadata": {},
   "outputs": [],
   "source": [
    "# Compute the 95% confidence interval\n",
    "eval_x = np.linspace(0, max(sample_realtime['dist_along_line'].values))\n",
    "smoothed, bottom, top = plotting.lowess_with_confidence_bounds(sample_realtime['dist_along_line'].values, sample_realtime['calc_speed_m_s'].values, eval_x, lowess_kw={\"frac\": 0.01})\n",
    "axes = sns.lineplot(sample_realtime, x='dist_along_line', y='calc_speed_m_s', hue='trip_id', legend=False)\n",
    "# axes.set_xlim(0,5000)\n",
    "# axes.set_ylim(0,20)\n",
    "sns.lineplot(x=eval_x, y=smoothed, color='black', ax=axes)\n",
    "sns.lineplot(x=eval_x, y=top, color='blue', ax=axes)\n",
    "sns.lineplot(x=eval_x, y=bottom, color='blue', ax=axes)"
   ]
  },
  {
   "cell_type": "code",
   "execution_count": null,
   "metadata": {},
   "outputs": [],
   "source": [
    "data_phone['dist_along_line'] = data_phone['geometry'].apply(lambda pt: shapely.line_locate_point(phone_shape.geometry, pt))\n"
   ]
  },
  {
   "cell_type": "code",
   "execution_count": null,
   "metadata": {},
   "outputs": [],
   "source": [
    "fig, axes = plotting.formatted_basemap_scatterplot(data_phone)\n",
    "phone_shape.plot(ax=axes, color='black')"
   ]
  },
  {
   "cell_type": "code",
   "execution_count": null,
   "metadata": {},
   "outputs": [],
   "source": [
    "sns.lineplot(data_phone, x='dist_along_line', y='calc_speed_m_s')"
   ]
  },
  {
   "cell_type": "markdown",
   "metadata": {},
   "source": [
    "### Trip GPS Points"
   ]
  },
  {
   "cell_type": "code",
   "execution_count": null,
   "metadata": {},
   "outputs": [],
   "source": [
    "data_phone = pd.read_csv(\"../data/kcm_sensor/8124-33-2022-10-17_20-52-26/Location.csv\")\n",
    "short_name, veh_id = str.split(pd.read_csv(\"../data/kcm_sensor/8124-33-2022-10-17_20-52-26/Annotation.csv\").iloc[0].text,\"-\")\n",
    "data_phone = gpd.GeoDataFrame(data_phone, geometry=gpd.points_from_xy(data_phone.longitude, data_phone.latitude), crs=\"EPSG:4326\").to_crs(\"EPSG:32148\")\n",
    "_, _, data_phone['calc_speed_m_s'] = spatial.calculate_speed(data_phone, 'seconds_elapsed')\n",
    "plotting.formatted_basemap_scatterplot(data_phone, \"Phone Basemap\")"
   ]
  },
  {
   "cell_type": "code",
   "execution_count": null,
   "metadata": {},
   "outputs": [],
   "source": [
    "data_gtfs = data_utils.merge_gtfs_files(\"../data/kcm_gtfs/2023_05_14/\", epsg=\"32148\", coord_ref_center=[386910,69022])\n",
    "gtfs_calendar = pd.read_csv(\"../data/kcm_gtfs/2023_05_14/calendar.txt\")\n",
    "filtered_gtfs, remaining_trip_ids = data_utils.filter_gtfs_w_phone(data_phone, data_gtfs, short_name, gtfs_calendar)\n",
    "filtered_gtfs = gpd.GeoDataFrame(filtered_gtfs, geometry=gpd.points_from_xy(filtered_gtfs.stop_lon, filtered_gtfs.stop_lat), crs=\"EPSG:4326\").to_crs(\"EPSG:32148\")\n",
    "filtered_gtfs['seconds_elapsed'] = filtered_gtfs['arrival_s'] - filtered_gtfs['arrival_s'].iloc[0]\n",
    "_, _, filtered_gtfs['calc_speed_m_s'] = spatial.calculate_speed(filtered_gtfs, 'seconds_elapsed')\n",
    "plotting.formatted_basemap_scatterplot(filtered_gtfs, \"GTFS Basemap\")"
   ]
  },
  {
   "cell_type": "code",
   "execution_count": null,
   "metadata": {},
   "outputs": [],
   "source": [
    "data_gtfsrt = pd.read_pickle(\"../data/kcm_realtime/2023_05_20.pkl\")\n",
    "data_gtfsrt['locationtime'] = pd.to_numeric(data_gtfsrt['locationtime'])\n",
    "filtered_gtfsrt_daily = data_gtfsrt[data_gtfsrt['trip_id'].isin(remaining_trip_ids)]\n",
    "filtered_gtfsrt_one = filtered_gtfsrt_daily[filtered_gtfsrt_daily['trip_id']==remaining_trip_ids[0]]\n",
    "filtered_gtfsrt_one = gpd.GeoDataFrame(filtered_gtfsrt_one, geometry=gpd.points_from_xy(filtered_gtfsrt_one.lon, filtered_gtfsrt_one.lat), crs=\"EPSG:4326\").to_crs(\"EPSG:32148\")\n",
    "filtered_gtfsrt_one['seconds_elapsed'] = filtered_gtfsrt_one['locationtime'] - filtered_gtfsrt_one['locationtime'].iloc[0]\n",
    "_, _, filtered_gtfsrt_one['calc_speed_m_s'] = spatial.calculate_speed(filtered_gtfsrt_one, 'locationtime')\n",
    "plotting.formatted_basemap_scatterplot(filtered_gtfsrt_one, \"GTFS-RT Basemap One Trip\")"
   ]
  },
  {
   "cell_type": "code",
   "execution_count": null,
   "metadata": {},
   "outputs": [],
   "source": [
    "filtered_gtfsrt_daily = gpd.GeoDataFrame(filtered_gtfsrt_daily, geometry=gpd.points_from_xy(filtered_gtfsrt_daily.lon, filtered_gtfsrt_daily.lat), crs=\"EPSG:4326\").to_crs(\"EPSG:32148\")\n",
    "filtered_gtfsrt_daily['seconds_elapsed'] = filtered_gtfsrt_daily['locationtime'] - filtered_gtfsrt_daily['locationtime'].iloc[0]\n",
    "_, _, filtered_gtfsrt_daily['calc_speed_m_s'] = spatial.calculate_speed(filtered_gtfsrt_daily, 'locationtime')\n",
    "plotting.formatted_basemap_scatterplot(filtered_gtfsrt_daily, \"GTFS-RT Basemap Daily Trips\")"
   ]
  },
  {
   "cell_type": "markdown",
   "metadata": {},
   "source": [
    "### Drive Cycles"
   ]
  },
  {
   "cell_type": "code",
   "execution_count": null,
   "metadata": {},
   "outputs": [],
   "source": [
    "data_melt_phone = pd.melt(data_phone, id_vars=['seconds_elapsed'], value_vars=['speed','calc_speed_m_s','altitudeAboveMeanSeaLevel'])\n",
    "plotting.formatted_rel_lineplot(data_melt_phone, x_var='seconds_elapsed', y_var='value', rel_var='variable', title_text='Phone Speed')"
   ]
  },
  {
   "cell_type": "code",
   "execution_count": null,
   "metadata": {},
   "outputs": [],
   "source": [
    "filtered_melt_gtfs = pd.melt(filtered_gtfs, id_vars=['seconds_elapsed'], value_vars=['calc_speed_m_s'])\n",
    "plotting.formatted_rel_lineplot(filtered_melt_gtfs, x_var='seconds_elapsed', y_var='value', rel_var='variable', title_text='GTFS Speed', xlim=(0,2000), ylim=(0,35))"
   ]
  },
  {
   "cell_type": "code",
   "execution_count": null,
   "metadata": {},
   "outputs": [],
   "source": [
    "filtered_melt_gtfsrt_one = pd.melt(filtered_gtfsrt_one, id_vars=['seconds_elapsed'], value_vars=['calc_speed_m_s'])\n",
    "plotting.formatted_rel_lineplot(filtered_melt_gtfsrt_one, x_var='seconds_elapsed', y_var='value', rel_var='variable', title_text='GTFS-RT Drive Cycle One Trip', xlim=(0,2000), ylim=(0,35))"
   ]
  },
  {
   "cell_type": "code",
   "execution_count": null,
   "metadata": {},
   "outputs": [],
   "source": [
    "filtered_melt_gtfsrt_daily = pd.melt(filtered_gtfsrt_daily, id_vars=['seconds_elapsed'], value_vars=['calc_speed_m_s'])\n",
    "plotting.formatted_rel_lineplot(filtered_melt_gtfsrt_daily, x_var='seconds_elapsed', y_var='value', rel_var='variable', title_text='GTFS-RT Drive Cycle Daily Trips')"
   ]
  }
 ],
 "metadata": {
  "kernelspec": {
   "display_name": "valle_m1",
   "language": "python",
   "name": "python3"
  },
  "language_info": {
   "codemirror_mode": {
    "name": "ipython",
    "version": 3
   },
   "file_extension": ".py",
   "mimetype": "text/x-python",
   "name": "python",
   "nbconvert_exporter": "python",
   "pygments_lexer": "ipython3",
   "version": "3.9.18"
  },
  "orig_nbformat": 4,
  "vscode": {
   "interpreter": {
    "hash": "b30fe1de1713ca8e7537eef068b13a2de77ded03f86aab2e80ea73416dd3d704"
   }
  }
 },
 "nbformat": 4,
 "nbformat_minor": 2
}
