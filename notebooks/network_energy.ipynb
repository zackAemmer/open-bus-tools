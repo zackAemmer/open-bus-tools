{
 "cells": [
  {
   "cell_type": "code",
   "execution_count": null,
   "metadata": {},
   "outputs": [],
   "source": [
    "import pickle\n",
    "import sys\n",
    "from zoneinfo import ZoneInfo\n",
    "sys.path.append(\"../\")\n",
    "from datetime import datetime\n",
    "\n",
    "from dotenv import load_dotenv\n",
    "load_dotenv()\n",
    "import geopandas as gpd\n",
    "import importlib\n",
    "import copy\n",
    "import logging\n",
    "import contextily as cx\n",
    "import gtfs_kit as gk\n",
    "import fastsim as fsim\n",
    "import matplotlib.pyplot as plt\n",
    "import numpy as np\n",
    "import os\n",
    "import pandas as pd\n",
    "from pathlib import Path\n",
    "import lightning.pytorch as pl\n",
    "import rasterio as rio\n",
    "import seaborn as sns\n",
    "from rasterio.plot import show\n",
    "import seaborn as sns\n",
    "from sklearn.cluster import KMeans\n",
    "import shapely\n",
    "import statsmodels.api as sm\n",
    "from torch.utils.data import DataLoader\n",
    "\n",
    "from openbustools.traveltime.models import rnn\n",
    "from openbustools import plotting, spatial, standardfeeds\n",
    "from openbustools.traveltime import data_loader, model_utils\n",
    "from openbustools.drivecycle import trajectory, busnetwork\n",
    "from openbustools.drivecycle.physics import conditions, energy, vehicle"
   ]
  },
  {
   "cell_type": "code",
   "execution_count": null,
   "metadata": {},
   "outputs": [],
   "source": [
    "depot_ratio = 7 / 5530 # depots/km^2\n",
    "deadhead_eff = 0.49 * 1.609 # km/kWh\n",
    "epsg = 32148"
   ]
  },
  {
   "cell_type": "markdown",
   "metadata": {},
   "source": [
    "### Energy Use for Full KCM Network"
   ]
  },
  {
   "cell_type": "code",
   "execution_count": null,
   "metadata": {},
   "outputs": [],
   "source": [
    "network_name = \"kcm\"\n",
    "\n",
    "res_dir = Path(\"..\",\"results\",\"energy\", network_name)\n",
    "\n",
    "file = open(res_dir / \"trajectories.pkl\", \"rb\")\n",
    "trajectories = pickle.load(file)\n",
    "file.close()\n",
    "\n",
    "file = open(res_dir / \"cycles.pkl\", \"rb\")\n",
    "cycles = pickle.load(file)\n",
    "file.close()"
   ]
  },
  {
   "cell_type": "code",
   "execution_count": null,
   "metadata": {},
   "outputs": [],
   "source": [
    "importlib.reload(busnetwork)\n",
    "kcm_energy_res, kcm_depot_locations = busnetwork.get_energy_results(trajectories, cycles, n_depots=int(5530*depot_ratio), deadhead_eff=0.49)\n",
    "kcm_energy_res = kcm_energy_res[kcm_energy_res['efficiency'] < 4]\n",
    "\n",
    "print(f\"Mean trip efficiency (mi/kWh): {kcm_energy_res['efficiency'].mean():2f}\")\n",
    "print(f\"Mean trip deadhead (kWh): {kcm_energy_res['trip_deadhead_kwh'].mean():2f}\")\n",
    "print(f\"Mean block energy (kWh): {kcm_energy_res.groupby('block_id')[['total_kwh']].sum()['total_kwh'].mean():2f}\")\n",
    "print(f\"Mean start deadhead (kWh): {kcm_energy_res.groupby('block_id').first()['block_deadhead_start_kwh'].mean():2f}\")\n",
    "print(f\"Mean end deadhead (kWh): {kcm_energy_res.groupby('block_id').first()['block_deadhead_end_kwh'].mean():2f}\")\n",
    "\n",
    "kcm_energy_res"
   ]
  },
  {
   "cell_type": "code",
   "execution_count": null,
   "metadata": {},
   "outputs": [],
   "source": [
    "efficiencies = kcm_energy_res['efficiency']\n",
    "fig, ax = plt.subplots()\n",
    "sns.histplot(efficiencies, kde=True, ax=ax)\n",
    "ax.set_title(f\"BEB Trip Efficiency Distribution\\n{len(efficiencies)} Routes\")\n",
    "ax.set_xlabel(\"Efficiency (mi/kWh)\")\n",
    "plt.show()"
   ]
  },
  {
   "cell_type": "code",
   "execution_count": null,
   "metadata": {},
   "outputs": [],
   "source": [
    "plot_df = kcm_energy_res.groupby('block_id').first()\n",
    "plot_df = gpd.GeoDataFrame(plot_df, geometry=gpd.points_from_xy([t.x for t in plot_df['start_loc']], [t.y for t in plot_df['start_loc']])).set_crs(epsg)\n",
    "kcm_depot_locations = gpd.GeoDataFrame(kcm_depot_locations, geometry=gpd.points_from_xy(kcm_depot_locations['depot_x'], kcm_depot_locations['depot_y'])).set_crs(epsg)\n",
    "\n",
    "fig, axes = plt.subplots(1,1, figsize=(10,10))\n",
    "plot_df.plot(ax=axes, column='depot_id', markersize=10, cmap='tab20')\n",
    "kcm_depot_locations.plot(ax=axes, marker='x', markersize=100, color=\"blue\", linewidth=3)\n",
    "cx.add_basemap(ax=axes, crs=plot_df.crs.to_string(), source=cx.providers.CartoDB.Positron)"
   ]
  },
  {
   "cell_type": "code",
   "execution_count": null,
   "metadata": {},
   "outputs": [],
   "source": [
    "block_total_energy_kwh = kcm_energy_res.groupby('block_id').agg({'total_kwh': 'sum', 'trip_deadhead_kwh': 'sum', 'block_deadhead_start_kwh': 'first', 'block_deadhead_end_kwh': 'first'})\n",
    "total_energy_kwh = block_total_energy_kwh['total_kwh'] + block_total_energy_kwh['trip_deadhead_kwh'] + block_total_energy_kwh['block_deadhead_start_kwh'] + block_total_energy_kwh['block_deadhead_end_kwh']\n",
    "\n",
    "fig, axes = plt.subplots(1,1, figsize=(12,6))\n",
    "sns.ecdfplot(total_energy_kwh, ax=axes)\n",
    "axes.axvline(x=466, linestyle='dashed', color='r')\n",
    "axes.text(470, 0.4, \"New Flyer XE40\", color='black', fontsize=12)\n",
    "axes.set_title(\"Net Energy Consumption\")\n",
    "axes.set_xlabel(\"Vehicle Available SoC (kWh)\")\n",
    "axes.set_ylabel(\"Proportion of Blocks Met\")\n",
    "plt.show()"
   ]
  },
  {
   "cell_type": "markdown",
   "metadata": {},
   "source": [
    "### Draw Energy Predictions for All Networks"
   ]
  },
  {
   "cell_type": "code",
   "execution_count": null,
   "metadata": {},
   "outputs": [],
   "source": [
    "# Does a higher GTFS-RT sampling frequency improve energy estimates of the model?\n",
    "# Which blocks are BEBs viable on, and what is the cost in infrastructure of electrifying them?\n",
    "\n",
    "# How accurately can bus energy consumption be predicted using a combination of route\n",
    "# geometry, elevation and models trained on standardized open bus data to inform system\n",
    "# design for transit agencies transitioning to BEBs?\n",
    "# 2. Given demand estimates from different sources (AVL, GTFS-RT, onboard logger) com-\n",
    "# bined with a power consumption modeling framework:\n",
    "# (a) Which blocks are BEBs viable on?\n",
    "# (b) How do design parameters such as battery and charger sizing affect the decision\n",
    "# of which blocks to electrify?\n",
    "# (c) How does the availability of data sources (e.g., static only, static and realtime\n",
    "# sample) impact energy predictions?\n",
    "\n",
    "# Calculate operating parameters from GTFS + TT model\n",
    "# Given GTFS energy, operating profile, design strategy, cost assumptions: Compare energy needs/electrification barriers across wide array of agencies\n",
    "# Calculate drive cycle/energy use for full GTFS feed\n",
    "# Growth in GTFS-RT, GTFS-Flex, API sampling resolutions, Simulate/propose change in GTFS-RT sampling frequency\n",
    "# Where is GPS precision high/low in network? Energy implications?\n",
    "# Energy models as constraint in blocking software\n",
    "# BEB abatement curve?"
   ]
  },
  {
   "cell_type": "code",
   "execution_count": null,
   "metadata": {},
   "outputs": [],
   "source": [
    "# Load and combine energy results from all bus networks\n",
    "cleaned_sources = pd.read_csv(Path('..', 'data', 'cleaned_sources.csv'))\n",
    "cleaned_sources['busnetwork_name'] = cleaned_sources['subdivision_name'] + \"_\" + cleaned_sources['municipality'] + \"_\" + cleaned_sources['provider']\n",
    "all_energy_res = []\n",
    "all_depot_locations = []\n",
    "for i, row in cleaned_sources.iterrows():\n",
    "    try:\n",
    "        # Load network results\n",
    "        network_id = row['uuid']\n",
    "        file = open(Path(\"..\",\"results\",\"energy\",network_id) / \"trajectories.pkl\", \"rb\")\n",
    "        trajectories = pickle.load(file)\n",
    "        file.close()\n",
    "        file = open(Path(\"..\",\"results\",\"energy\",network_id) / \"cycles.pkl\", \"rb\")\n",
    "        cycles = pickle.load(file)\n",
    "        file.close()\n",
    "        # Post process\n",
    "        bbox = gpd.GeoDataFrame(geometry=gpd.points_from_xy([row['min_lon'], row['max_lon']], [row['min_lat'], row['max_lat']])).set_crs(4326).to_crs(row['epsg_code'])\n",
    "        bbox_area_km2 = (bbox['geometry'].iloc[1].x - bbox['geometry'].iloc[0].x) * (bbox['geometry'].iloc[1].y - bbox['geometry'].iloc[0].y) / (1000 * 1000)\n",
    "        n_depots = min([max([int(bbox_area_km2 * depot_ratio), 1]), 10])\n",
    "        energy_res, depot_locations = busnetwork.get_energy_results(trajectories, cycles, n_depots=n_depots, deadhead_eff=0.49)\n",
    "        energy_res['network_id'] = network_id\n",
    "        depot_locations['network_id'] = network_id\n",
    "        # Combine\n",
    "        all_energy_res.append(energy_res)\n",
    "        all_depot_locations.append(depot_locations)\n",
    "    except FileNotFoundError:\n",
    "        print(f\"Network {network_id} not found\")\n",
    "\n",
    "all_energy_res = pd.concat(all_energy_res)\n",
    "all_depot_locations = pd.concat(all_depot_locations)"
   ]
  },
  {
   "cell_type": "code",
   "execution_count": null,
   "metadata": {},
   "outputs": [],
   "source": [
    "fig, axes = plt.subplots(1,1, figsize=(18,5))\n",
    "sns.boxplot(x=\"network_id\", y=\"efficiency\", data=all_energy_res[all_energy_res['efficiency']<4], order=all_energy_res.groupby(\"network_id\")[['efficiency']].median().sort_values(\"efficiency\").index, ax=axes)\n",
    "plt.xticks(rotation=90)\n",
    "plt.xlabel(\"\")\n",
    "plt.ylabel(\"Trip Efficiency (mi/kWh)\")\n",
    "plt.show()"
   ]
  },
  {
   "cell_type": "code",
   "execution_count": null,
   "metadata": {},
   "outputs": [],
   "source": [
    "block_total_energy_kwh = all_energy_res.groupby(['network_id','block_id'], as_index=False).agg({'total_kwh': 'sum', 'trip_deadhead_kwh': 'sum', 'block_deadhead_start_kwh': 'first', 'block_deadhead_end_kwh': 'first'})\n",
    "block_total_energy_kwh['total_energy_kwh'] = block_total_energy_kwh['total_kwh'] + block_total_energy_kwh['trip_deadhead_kwh'] + block_total_energy_kwh['block_deadhead_start_kwh'] + block_total_energy_kwh['block_deadhead_end_kwh']\n",
    "\n",
    "fig, axes = plt.subplots(1,1, figsize=(12,6))\n",
    "sns.ecdfplot(data=block_total_energy_kwh, x='total_energy_kwh', hue='network_id', ax=axes, legend=False)\n",
    "axes.axvline(x=466, linestyle='dashed', color='r')\n",
    "axes.text(470, 0.4, \"New Flyer XE40\", color='black', fontsize=12)\n",
    "axes.set_xlim(0, 1000)\n",
    "axes.set_title(\"Distribution of Block Energy Needs\")\n",
    "axes.set_xlabel(\"Vehicle Available SoC (kWh)\")\n",
    "axes.set_ylabel(\"Proportion of Blocks Met\")\n",
    "plt.show()"
   ]
  },
  {
   "cell_type": "code",
   "execution_count": null,
   "metadata": {},
   "outputs": [],
   "source": [
    "fig, axes = plt.subplots(1,1, figsize=(18,5))\n",
    "plot_df = block_total_energy_kwh.groupby('network_id', as_index=False).agg({'total_kwh': 'sum'})\n",
    "plot_df = pd.merge(plot_df, cleaned_sources[['uuid', 'busnetwork_name']], left_on='network_id', right_on='uuid')\n",
    "plot_df_sorted = plot_df.sort_values('total_kwh', ascending=False)\n",
    "sns.barplot(plot_df, y='busnetwork_name', x='total_kwh', order=plot_df_sorted['busnetwork_name'])\n",
    "axes.set_title(\"Total Weekday Energy Needs by Bus Network\")\n",
    "axes.set_ylabel(\"\")\n",
    "axes.set_xlabel(\"Total Energy Needs (kWh)\")\n",
    "plt.show()"
   ]
  },
  {
   "cell_type": "code",
   "execution_count": null,
   "metadata": {},
   "outputs": [],
   "source": [
    "plot_df['total_kwh'] / 5"
   ]
  }
 ],
 "metadata": {
  "kernelspec": {
   "display_name": "valle_m1",
   "language": "python",
   "name": "python3"
  },
  "language_info": {
   "codemirror_mode": {
    "name": "ipython",
    "version": 3
   },
   "file_extension": ".py",
   "mimetype": "text/x-python",
   "name": "python",
   "nbconvert_exporter": "python",
   "pygments_lexer": "ipython3",
   "version": "3.9.18"
  },
  "orig_nbformat": 4,
  "vscode": {
   "interpreter": {
    "hash": "b30fe1de1713ca8e7537eef068b13a2de77ded03f86aab2e80ea73416dd3d704"
   }
  }
 },
 "nbformat": 4,
 "nbformat_minor": 2
}
