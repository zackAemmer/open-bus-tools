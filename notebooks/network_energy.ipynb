{
 "cells": [
  {
   "cell_type": "code",
   "execution_count": null,
   "metadata": {},
   "outputs": [],
   "source": [
    "import pickle\n",
    "import sys\n",
    "from zoneinfo import ZoneInfo\n",
    "sys.path.append(\"../\")\n",
    "from datetime import datetime\n",
    "\n",
    "from dotenv import load_dotenv\n",
    "load_dotenv()\n",
    "import geopandas as gpd\n",
    "import importlib\n",
    "import copy\n",
    "import logging\n",
    "import contextily as cx\n",
    "import gtfs_kit as gk\n",
    "import fastsim as fsim\n",
    "import matplotlib.pyplot as plt\n",
    "import numpy as np\n",
    "import os\n",
    "import pandas as pd\n",
    "from pathlib import Path\n",
    "import lightning.pytorch as pl\n",
    "import rasterio as rio\n",
    "import seaborn as sns\n",
    "from rasterio.plot import show\n",
    "import seaborn as sns\n",
    "from sklearn.cluster import KMeans\n",
    "import shapely\n",
    "import statsmodels.api as sm\n",
    "from torch.utils.data import DataLoader\n",
    "\n",
    "from openbustools.traveltime.models import rnn\n",
    "from openbustools import plotting, spatial, standardfeeds\n",
    "from openbustools.traveltime import data_loader, model_utils\n",
    "from openbustools.drivecycle import trajectory, busnetwork\n",
    "from openbustools.drivecycle.physics import conditions, energy, vehicle"
   ]
  },
  {
   "cell_type": "markdown",
   "metadata": {},
   "source": [
    "### Energy Use for KCM Network"
   ]
  },
  {
   "cell_type": "code",
   "execution_count": null,
   "metadata": {},
   "outputs": [],
   "source": [
    "network_name = \"kcm\"\n",
    "depot_ratio = 7 / 5530 # depots/km^2\n",
    "epsg = 32148\n",
    "default_economy = 2.77 # kWh/mi\n",
    "aux_kw = 10.2 # kW\n",
    "\n",
    "res_dir = Path(\"..\",\"results\",\"energy\", network_name)\n",
    "\n",
    "file = open(res_dir / \"trajectories.pkl\", \"rb\")\n",
    "trajectories = pickle.load(file)\n",
    "file.close()\n",
    "\n",
    "file = open(res_dir / \"cycles.pkl\", \"rb\")\n",
    "cycles = pickle.load(file)\n",
    "file.close()"
   ]
  },
  {
   "cell_type": "code",
   "execution_count": null,
   "metadata": {},
   "outputs": [],
   "source": [
    "importlib.reload(busnetwork)\n",
    "kcm_energy_res, kcm_depot_locations = busnetwork.get_energy_results(trajectories, cycles, n_depots=int(5530*depot_ratio))\n",
    "kcm_energy_res.groupby('block_id').agg({'total_kwh': 'sum', 'trip_deadhead_kwh': 'sum', 'block_deadhead_start_kwh': 'first', 'block_deadhead_end_kwh': 'first'}).describe()"
   ]
  },
  {
   "cell_type": "code",
   "execution_count": null,
   "metadata": {},
   "outputs": [],
   "source": [
    "economies = kcm_energy_res['economy']\n",
    "fig, ax = plt.subplots()\n",
    "sns.histplot(economies, kde=True, ax=ax)\n",
    "ax.set_title(f\"BEB Trip Economy Distribution\\n{len(economies)} Routes\")\n",
    "ax.set_xlabel(\"Economy (kWh/mi)\")\n",
    "plt.show()"
   ]
  },
  {
   "cell_type": "code",
   "execution_count": null,
   "metadata": {},
   "outputs": [],
   "source": [
    "plot_df = kcm_energy_res.groupby('block_id').first()\n",
    "plot_df = gpd.GeoDataFrame(plot_df, geometry=gpd.points_from_xy([t.x for t in plot_df['start_loc']], [t.y for t in plot_df['start_loc']])).set_crs(epsg)\n",
    "kcm_depot_locations = gpd.GeoDataFrame(kcm_depot_locations, geometry=gpd.points_from_xy(kcm_depot_locations['depot_x'], kcm_depot_locations['depot_y'])).set_crs(epsg)\n",
    "\n",
    "fig, axes = plt.subplots(1,1, figsize=(10,10))\n",
    "plot_df.plot(ax=axes, column='depot_id', markersize=10, cmap='tab20')\n",
    "kcm_depot_locations.plot(ax=axes, marker='x', markersize=100, color=\"blue\", linewidth=3)\n",
    "cx.add_basemap(ax=axes, crs=plot_df.crs.to_string(), source=cx.providers.CartoDB.Positron)"
   ]
  },
  {
   "cell_type": "code",
   "execution_count": null,
   "metadata": {},
   "outputs": [],
   "source": [
    "fig, axes = plt.subplots(1,1, figsize=(12,6))\n",
    "sns.ecdfplot(kcm_energy_res.groupby('block_id').first()['block_total_kwh'], ax=axes)\n",
    "axes.axvline(x=466, linestyle='dashed', color='r')\n",
    "axes.text(470, 0.4, \"New Flyer XE40\", color='black', fontsize=12)\n",
    "axes.set_title(\"Net Energy Consumption\")\n",
    "axes.set_xlabel(\"Vehicle Available SoC (kWh)\")\n",
    "axes.set_ylabel(\"Proportion of Blocks Met\")\n",
    "plt.show()"
   ]
  },
  {
   "cell_type": "markdown",
   "metadata": {},
   "source": [
    "### Charging for KCM Network"
   ]
  },
  {
   "cell_type": "code",
   "execution_count": null,
   "metadata": {},
   "outputs": [],
   "source": [
    "charge_rate = 500 # kW\n",
    "\n",
    "block_coverage = kcm_energy_res.groupby('block_id').agg({'t_min_of_day': 'first', 't_min_of_day_end': 'last', 'block_total_kwh': 'first'}).sort_values(['block_id', 't_min_of_day'])\n",
    "block_coverage['charge_time_min'] = block_coverage['block_total_kwh'] / charge_rate * 60\n",
    "block_coverage['t_charge_start_min'] = block_coverage['t_min_of_day_end']\n",
    "block_coverage['t_charge_end_min'] = block_coverage['t_min_of_day_end'] + block_coverage['charge_time_min']\n",
    "block_coverage['t_block_min'] = block_coverage['t_min_of_day_end'] - block_coverage['t_min_of_day']\n",
    "block_coverage['t_until_pullout_hr'] = (1441 - block_coverage['t_block_min']) / 60\n",
    "block_coverage['min_charge_rate'] = block_coverage['block_total_kwh'] / block_coverage['t_until_pullout_hr']\n",
    "block_coverage['t_charge_end_managed_min'] = block_coverage['t_min_of_day_end'] + (block_coverage['t_until_pullout_hr'] * 60)\n",
    "\n",
    "print(f\"Blocks with minimum charge rate above {charge_rate} kW: {len(block_coverage[block_coverage['min_charge_rate'] > charge_rate])} / {len(block_coverage)}\")\n",
    "block_coverage = block_coverage[block_coverage['min_charge_rate'] < charge_rate]\n",
    "block_coverage.describe()"
   ]
  },
  {
   "cell_type": "code",
   "execution_count": null,
   "metadata": {},
   "outputs": [],
   "source": [
    "# Pull-in and out requirements\n",
    "pullout_requirements = block_coverage[['t_min_of_day','block_total_kwh']].sort_values('t_min_of_day')\n",
    "pullin_availability = block_coverage[['t_min_of_day_end','block_total_kwh']].sort_values('t_min_of_day_end')\n",
    "\n",
    "sns.ecdfplot(pullout_requirements['t_min_of_day'], label=\"needed\")\n",
    "sns.ecdfplot(pullin_availability['t_min_of_day_end'], label=\"available\")\n",
    "plt.legend()"
   ]
  },
  {
   "cell_type": "code",
   "execution_count": null,
   "metadata": {},
   "outputs": [],
   "source": [
    "# Unmanaged charging; plug in as soon as back, charge at full capacity\n",
    "active_veh = []\n",
    "charging_veh = []\n",
    "charging_managed_veh = []\n",
    "charging_managed_rate = []\n",
    "for min_of_day in np.arange(0, max(block_coverage['t_charge_end_managed_min']), 1):\n",
    "    x = len(block_coverage[(block_coverage['t_min_of_day'] <= min_of_day) & (block_coverage['t_min_of_day_end'] >= min_of_day)])\n",
    "    active_veh.append(x)\n",
    "    x = len(block_coverage[(block_coverage['t_charge_start_min'] <= min_of_day) & (block_coverage['t_charge_end_min'] >= min_of_day)])\n",
    "    charging_veh.append(x)\n",
    "    x = len(block_coverage[(block_coverage['t_charge_start_min'] <= min_of_day) & (block_coverage['t_charge_end_managed_min'] >= min_of_day)])\n",
    "    charging_managed_veh.append(x)\n",
    "    x = sum(block_coverage[(block_coverage['t_charge_start_min'] <= min_of_day) & (block_coverage['t_charge_end_managed_min'] >= min_of_day)]['min_charge_rate'])\n",
    "    charging_managed_rate.append(x)\n",
    "\n",
    "veh_status = pd.DataFrame({\n",
    "    \"min_of_day\": np.arange(0, max(block_coverage['t_charge_end_managed_min']), 1),\n",
    "    \"active_veh\": active_veh,\n",
    "    \"charging_veh\": charging_veh,\n",
    "    \"charging_managed_veh\": charging_managed_veh,\n",
    "    \"charging_managed_rate\": charging_managed_rate\n",
    "})\n",
    "\n",
    "veh_status.loc[veh_status['min_of_day'] >= 1440, 'min_of_day'] -= 1440\n",
    "veh_status = veh_status.groupby('min_of_day').agg({'active_veh': 'sum', 'charging_veh': 'sum', 'charging_managed_veh': 'sum', 'charging_managed_rate': 'sum'}).reset_index()\n",
    "\n",
    "veh_status['charging_rate'] = veh_status['charging_veh'] * charge_rate\n",
    "\n",
    "sns.lineplot(veh_status['active_veh'], label=\"active\")\n",
    "sns.lineplot(veh_status['charging_veh'], label=\"charging\")\n",
    "sns.lineplot(veh_status['charging_managed_veh'], label=\"charging_managed\")\n",
    "\n",
    "veh_status.head()"
   ]
  },
  {
   "cell_type": "code",
   "execution_count": null,
   "metadata": {},
   "outputs": [],
   "source": [
    "sns.lineplot(veh_status['charging_rate'], label=\"charging_rate\")\n",
    "sns.lineplot(veh_status['charging_managed_rate'], label=\"charging_managed_rate\")"
   ]
  },
  {
   "cell_type": "code",
   "execution_count": null,
   "metadata": {},
   "outputs": [],
   "source": [
    "# Try a diesel Class 6-8 truck with GTFS-RT, Phone cycles\n",
    "# These may better reveal differences in energy consumption\n",
    "# Try changing the regenerative braking parameter\n",
    "# Look at how regen is influencing the energy consumption differences between smoother trajectories (GTFS-RT) and more stop/go\n",
    "# This may influence diesel and BEB modeling in different ways\n",
    "# How might higher speed travel change this?\n",
    "# NTD Service miles? Check code against GTFS\n",
    "# What are a set of useful constraints\n"
   ]
  },
  {
   "cell_type": "markdown",
   "metadata": {},
   "source": [
    "### Energy Use for All Networks"
   ]
  },
  {
   "cell_type": "code",
   "execution_count": null,
   "metadata": {},
   "outputs": [],
   "source": [
    "# Does a higher GTFS-RT sampling frequency improve energy estimates of the model?\n",
    "# Which blocks are BEBs viable on, and what is the cost in infrastructure of electrifying them?\n",
    "\n",
    "# How accurately can bus energy consumption be predicted using a combination of route\n",
    "# geometry, elevation and models trained on standardized open bus data to inform system\n",
    "# design for transit agencies transitioning to BEBs?\n",
    "# 2. Given demand estimates from different sources (AVL, GTFS-RT, onboard logger) com-\n",
    "# bined with a power consumption modeling framework:\n",
    "# (a) Which blocks are BEBs viable on?\n",
    "# (b) How do design parameters such as battery and charger sizing affect the decision\n",
    "# of which blocks to electrify?\n",
    "# (c) How does the availability of data sources (e.g., static only, static and realtime\n",
    "# sample) impact energy predictions?\n",
    "\n",
    "# Calculate operating parameters from GTFS + TT model\n",
    "# Given GTFS energy, operating profile, design strategy, cost assumptions: Compare energy needs/electrification barriers across wide array of agencies\n",
    "# Calculate drive cycle/energy use for full GTFS feed\n",
    "# Growth in GTFS-RT, GTFS-Flex, API sampling resolutions, Simulate/propose change in GTFS-RT sampling frequency\n",
    "# Where is GPS precision high/low in network? Energy implications?\n",
    "# Energy models as constraint in blocking software\n",
    "# BEB abatement curve?"
   ]
  },
  {
   "cell_type": "code",
   "execution_count": null,
   "metadata": {},
   "outputs": [],
   "source": [
    "# Load and combine energy results from all bus networks\n",
    "cleaned_sources = pd.read_csv(Path('..', 'data', 'cleaned_sources.csv'))\n",
    "cleaned_sources['busnetwork_name'] = cleaned_sources['subdivision_name'] + \"_\" + cleaned_sources['municipality'] + \"_\" + cleaned_sources['provider']\n",
    "all_energy_res = []\n",
    "all_depot_locations = []\n",
    "for i, row in cleaned_sources.iterrows():\n",
    "    try:\n",
    "        # Load network results\n",
    "        network_id = row['uuid']\n",
    "        file = open(Path(\"..\",\"results\",\"energy\",network_id) / \"trajectories.pkl\", \"rb\")\n",
    "        trajectories = pickle.load(file)\n",
    "        file.close()\n",
    "        file = open(Path(\"..\",\"results\",\"energy\",network_id) / \"cycles.pkl\", \"rb\")\n",
    "        cycles = pickle.load(file)\n",
    "        file.close()\n",
    "        # Post process\n",
    "        bbox = gpd.GeoDataFrame(geometry=gpd.points_from_xy([row['min_lon'], row['max_lon']], [row['min_lat'], row['max_lat']])).set_crs(4326).to_crs(row['epsg_code'])\n",
    "        bbox_area_km2 = (bbox['geometry'].iloc[1].x - bbox['geometry'].iloc[0].x) * (bbox['geometry'].iloc[1].y - bbox['geometry'].iloc[0].y) / (1000 * 1000)\n",
    "        n_depots = min([max([int(bbox_area_km2 * depot_ratio), 1]), 10])\n",
    "        energy_res, depot_locations = busnetwork.get_energy_results(trajectories, cycles, n_depots=n_depots)\n",
    "        energy_res['network_id'] = network_id\n",
    "        depot_locations['network_id'] = network_id\n",
    "        # Combine\n",
    "        all_energy_res.append(energy_res)\n",
    "        all_depot_locations.append(depot_locations)\n",
    "    except FileNotFoundError:\n",
    "        print(f\"Network {network_id} not found\")\n",
    "\n",
    "all_energy_res = pd.concat(all_energy_res)\n",
    "all_depot_locations = pd.concat(all_depot_locations)"
   ]
  },
  {
   "cell_type": "code",
   "execution_count": null,
   "metadata": {},
   "outputs": [],
   "source": [
    "fig, axes = plt.subplots(1,1, figsize=(18,5))\n",
    "sns.boxplot(x=\"network_id\", y=\"economy\", data=all_energy_res, order=all_energy_res.groupby(\"network_id\")[['economy']].median().sort_values(\"economy\").index, ax=axes)\n",
    "plt.xticks(rotation=90)\n",
    "plt.xlabel(\"\")\n",
    "plt.ylabel(\"Trip Economy (kWh/mi)\")\n",
    "plt.show()"
   ]
  },
  {
   "cell_type": "code",
   "execution_count": null,
   "metadata": {},
   "outputs": [],
   "source": [
    "block_total_energy_kwh = all_energy_res.groupby(['network_id','block_id'], as_index=False).agg({'total_kwh': 'sum', 'trip_deadhead_kwh': 'sum', 'block_deadhead_start_kwh': 'first', 'block_deadhead_end_kwh': 'first'})\n",
    "block_total_energy_kwh['total_energy_kwh'] = block_total_energy_kwh['total_kwh'] + block_total_energy_kwh['trip_deadhead_kwh'] + block_total_energy_kwh['block_deadhead_start_kwh'] + block_total_energy_kwh['block_deadhead_end_kwh']\n",
    "\n",
    "fig, axes = plt.subplots(1,1, figsize=(12,6))\n",
    "sns.ecdfplot(data=block_total_energy_kwh, x='total_energy_kwh', hue='network_id', ax=axes, legend=False)\n",
    "axes.axvline(x=466, linestyle='dashed', color='r')\n",
    "axes.text(470, 0.4, \"New Flyer XE40\", color='black', fontsize=12)\n",
    "axes.set_xlim(0, 1000)\n",
    "axes.set_title(\"Distribution of Block Energy Needs\")\n",
    "axes.set_xlabel(\"Vehicle Available SoC (kWh)\")\n",
    "axes.set_ylabel(\"Proportion of Blocks Met\")\n",
    "plt.show()"
   ]
  },
  {
   "cell_type": "code",
   "execution_count": null,
   "metadata": {},
   "outputs": [],
   "source": [
    "fig, axes = plt.subplots(1,1, figsize=(18,5))\n",
    "plot_df = block_total_energy_kwh.groupby('network_id', as_index=False).agg({'total_kwh': 'sum'})\n",
    "plot_df = pd.merge(plot_df, cleaned_sources[['uuid', 'busnetwork_name']], left_on='network_id', right_on='uuid')\n",
    "plot_df_sorted = plot_df.sort_values('total_kwh', ascending=False)\n",
    "sns.barplot(plot_df, y='busnetwork_name', x='total_kwh', order=plot_df_sorted['busnetwork_name'])\n",
    "axes.set_title(\"Total Weekday Energy Needs by Bus Network\")\n",
    "axes.set_ylabel(\"\")\n",
    "axes.set_xlabel(\"Total Energy Needs (kWh)\")\n",
    "plt.show()"
   ]
  },
  {
   "cell_type": "markdown",
   "metadata": {},
   "source": [
    "### Charging for All Networks"
   ]
  },
  {
   "cell_type": "code",
   "execution_count": null,
   "metadata": {},
   "outputs": [],
   "source": []
  }
 ],
 "metadata": {
  "kernelspec": {
   "display_name": "valle_m1",
   "language": "python",
   "name": "python3"
  },
  "language_info": {
   "codemirror_mode": {
    "name": "ipython",
    "version": 3
   },
   "file_extension": ".py",
   "mimetype": "text/x-python",
   "name": "python",
   "nbconvert_exporter": "python",
   "pygments_lexer": "ipython3",
   "version": "3.9.18"
  },
  "orig_nbformat": 4,
  "vscode": {
   "interpreter": {
    "hash": "b30fe1de1713ca8e7537eef068b13a2de77ded03f86aab2e80ea73416dd3d704"
   }
  }
 },
 "nbformat": 4,
 "nbformat_minor": 2
}
