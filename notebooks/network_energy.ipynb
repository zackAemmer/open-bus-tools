{
 "cells": [
  {
   "cell_type": "code",
   "execution_count": null,
   "metadata": {},
   "outputs": [],
   "source": [
    "import pickle\n",
    "import sys\n",
    "from zoneinfo import ZoneInfo\n",
    "sys.path.append(\"../\")\n",
    "from datetime import datetime\n",
    "\n",
    "from dotenv import load_dotenv\n",
    "load_dotenv()\n",
    "import geopandas as gpd\n",
    "import importlib\n",
    "import copy\n",
    "import logging\n",
    "import contextily as cx\n",
    "import gtfs_kit as gk\n",
    "import fastsim as fsim\n",
    "import matplotlib.pyplot as plt\n",
    "import numpy as np\n",
    "import os\n",
    "import pandas as pd\n",
    "from pathlib import Path\n",
    "import lightning.pytorch as pl\n",
    "import rasterio as rio\n",
    "import seaborn as sns\n",
    "from rasterio.plot import show\n",
    "import seaborn as sns\n",
    "from sklearn.cluster import KMeans\n",
    "import shapely\n",
    "import statsmodels.api as sm\n",
    "from torch.utils.data import DataLoader\n",
    "\n",
    "from openbustools.traveltime.models import rnn\n",
    "from openbustools import plotting, spatial, standardfeeds\n",
    "from openbustools.traveltime import data_loader, model_utils\n",
    "from openbustools.drivecycle import trajectory, busnetwork\n",
    "from openbustools.drivecycle.physics import conditions, energy, vehicle"
   ]
  },
  {
   "cell_type": "markdown",
   "metadata": {},
   "source": [
    "### Energy Use for KCM Network"
   ]
  },
  {
   "cell_type": "code",
   "execution_count": null,
   "metadata": {},
   "outputs": [],
   "source": [
    "network_name = \"kcm\"\n",
    "res_dir = Path(\"..\",\"results\",\"energy\", network_name)\n",
    "epsg = 32148\n",
    "\n",
    "file = open(res_dir / \"trajectories_updated.pkl\", \"rb\")\n",
    "trajectories_updated = pickle.load(file)\n",
    "file.close()\n",
    "\n",
    "file = open(res_dir / \"depot_locations.pkl\", \"rb\")\n",
    "depot_locations = pickle.load(file)\n",
    "file.close()\n",
    "\n",
    "file = open(res_dir / \"cycles.pkl\", \"rb\")\n",
    "cycles = pickle.load(file)\n",
    "file.close()\n",
    "\n",
    "file = open(res_dir / \"network_energy.pkl\", \"rb\")\n",
    "network_energy = pickle.load(file)\n",
    "file.close()\n",
    "\n",
    "file = open(res_dir / \"network_charging.pkl\", \"rb\")\n",
    "network_charging = pickle.load(file)\n",
    "file.close()"
   ]
  },
  {
   "cell_type": "code",
   "execution_count": null,
   "metadata": {},
   "outputs": [],
   "source": [
    "# Drive cycle reported trip economy\n",
    "fig, ax = plt.subplots()\n",
    "sns.histplot(network_energy['economy_kwh_mi'], kde=True, ax=ax)\n",
    "ax.axvline(x=np.mean(network_energy['economy_kwh_mi']), linestyle='dashed', color='r')\n",
    "ax.set_xlabel(\"Economy (kWh/mi)\")\n",
    "fig.suptitle(f\"BEB Trip Economy Distribution\\n{len(network_energy)} Trips - (Avg. {np.mean(network_energy['economy_kwh_mi']):.2} kWh/mi)\")\n",
    "fig.tight_layout()\n",
    "plt.show()"
   ]
  },
  {
   "cell_type": "code",
   "execution_count": null,
   "metadata": {},
   "outputs": [],
   "source": [
    "block_energy_df = network_energy.groupby('block_id').first()\n",
    "\n",
    "fig, axes = plt.subplots(1,1, figsize=(12,6))\n",
    "sns.ecdfplot(block_energy_df['Energy used estimate'], ax=axes)\n",
    "axes.axvline(x=466, linestyle='dashed', color='r')\n",
    "axes.text(475, 0.4, \"New Flyer XE40\", color='black', fontsize=12)\n",
    "axes.set_xlabel(\"Block Required Energy (kWh)\")\n",
    "axes.set_ylabel(\"Proportion of Total Blocks\")\n",
    "fig.suptitle(f\"BEB Block Energy Distribution\\n{len(block_energy_df)} Blocks - (Avg. {np.mean(block_energy_df['Energy used estimate']):.0f} kWh)\")\n",
    "fig.tight_layout()\n",
    "plt.show()"
   ]
  },
  {
   "cell_type": "code",
   "execution_count": null,
   "metadata": {},
   "outputs": [],
   "source": [
    "# Depot locations\n",
    "block_starts_df = network_energy.groupby('block_id').first()\n",
    "block_starts_df = gpd.GeoDataFrame(block_starts_df, geometry=gpd.points_from_xy([t.x for t in block_starts_df['start_loc']], [t.y for t in block_starts_df['start_loc']])).set_crs(epsg)\n",
    "depot_df = gpd.GeoDataFrame(depot_locations, geometry=gpd.points_from_xy(depot_locations['depot_x'], depot_locations['depot_y'])).set_crs(epsg)\n",
    "\n",
    "fig, axes = plt.subplots(1,1, figsize=(10,10))\n",
    "block_starts_df.plot(ax=axes, column='depot_id', markersize=10, cmap='tab20')\n",
    "depot_df.plot(ax=axes, marker='x', markersize=100, color=\"blue\", linewidth=3)\n",
    "cx.add_basemap(ax=axes, crs=block_starts_df.crs.to_string(), source=cx.providers.CartoDB.Positron)\n",
    "axes.set_xticks([])\n",
    "axes.set_yticks([])\n",
    "fig.suptitle(\"Depot Locations from Clustered Block Starts\")\n",
    "fig.tight_layout()\n",
    "plt.show()"
   ]
  },
  {
   "cell_type": "markdown",
   "metadata": {},
   "source": [
    "### Charging for KCM Network"
   ]
  },
  {
   "cell_type": "code",
   "execution_count": null,
   "metadata": {},
   "outputs": [],
   "source": [
    "# Minimum charging rate to cover block energy\n",
    "fig, axes = plt.subplots(1,1, figsize=(12,6))\n",
    "sns.ecdfplot(network_charging['min_charge_rate'], ax=axes)\n",
    "axes.set_xlabel(\"Charging Rate (kW)\")\n",
    "axes.set_ylabel(\"Proportion of Total Blocks\")\n",
    "axes.set_xlim(0, 350)\n",
    "fig.suptitle(f\"Block Minimum Charging Rate\\n{len(block_energy_df)} Blocks\")\n",
    "fig.tight_layout()\n",
    "plt.show()"
   ]
  },
  {
   "cell_type": "code",
   "execution_count": null,
   "metadata": {},
   "outputs": [],
   "source": [
    "# Block pullout needs by time of day\n",
    "minute_increment = 10\n",
    "pullout_requirements = network_charging.groupby('t_min_of_day').count()[['charge_time_min']]\n",
    "pullout_requirements['t_15min_bin'] = np.digitize(pullout_requirements.index, np.arange(0, 1440+60*3, minute_increment)) - 1\n",
    "pullout_requirements = pullout_requirements.groupby('t_15min_bin').sum().reset_index()\n",
    "pullout_requirements['t_15min_bin'] = pullout_requirements['t_15min_bin'] * minute_increment\n",
    "# Block energy needs by time of day\n",
    "energy_requirements = network_charging.groupby('t_min_of_day').sum()[['Energy used estimate']]\n",
    "energy_requirements['t_15min_bin'] = np.digitize(energy_requirements.index, np.arange(0, 1440+60*3, minute_increment)) - 1\n",
    "energy_requirements = energy_requirements.groupby('t_15min_bin').sum().reset_index()\n",
    "energy_requirements['t_15min_bin'] = energy_requirements['t_15min_bin'] * minute_increment\n",
    "\n",
    "fig, axes = plt.subplots(1,1, figsize=(15,6))\n",
    "axes2 = plt.twinx()\n",
    "sns.lineplot(pullout_requirements, x='t_15min_bin', y='charge_time_min', ax=axes, color='blue', label=\"Vehicles\")\n",
    "sns.lineplot(energy_requirements, x='t_15min_bin', y='Energy used estimate', ax=axes2, color='orange', label=\"Energy\")\n",
    "axes.set_xlabel(\"Time of Day (minutes)\")\n",
    "axes.set_ylabel(\"Number of Vehicles\")\n",
    "axes2.set_ylabel(\"Energy (veh-kWh)\")\n",
    "axes.legend([])\n",
    "axes2.legend([])\n",
    "fig.legend()\n",
    "fig.suptitle(\"Block Pullout Needs by Time of Day\")\n",
    "fig.tight_layout()\n",
    "plt.show()"
   ]
  },
  {
   "cell_type": "code",
   "execution_count": null,
   "metadata": {},
   "outputs": [],
   "source": [
    "t_mins = np.arange(0, 1440+6*60)\n",
    "veh_status_df = pd.DataFrame({\n",
    "    't_min_of_day': t_mins,\n",
    "    'tot_veh_active': [len(network_charging[(network_charging['t_min_of_day']<=t) & (network_charging['t_min_of_day_end']>=t)]) for t in t_mins],\n",
    "    'tot_veh_charging_unmanaged': [len(network_charging[(network_charging['t_charge_start_min']<=t) & (network_charging['t_charge_end_min']>=t)]) for t in t_mins],\n",
    "    'tot_power_unmanaged': [network_charging[(network_charging['t_charge_start_min']<=t) & (network_charging['t_charge_end_min']>=t)]['plug_power_kw'].sum() for t in t_mins],\n",
    "})\n",
    "# Reset time to 0-1440\n",
    "veh_status_df.loc[veh_status_df['t_min_of_day'] >= 1440, 't_min_of_day'] -= 1440\n",
    "veh_status_df = veh_status_df.groupby('t_min_of_day', as_index=False).sum()"
   ]
  },
  {
   "cell_type": "code",
   "execution_count": null,
   "metadata": {},
   "outputs": [],
   "source": [
    "fig, axes = plt.subplots(1,1, figsize=(15,6))\n",
    "sns.lineplot(veh_status_df, x='t_min_of_day', y='tot_veh_active', ax=axes, color='blue', label=\"Active\")\n",
    "sns.lineplot(veh_status_df, x='t_min_of_day', y='tot_veh_charging_unmanaged', ax=axes, color='red', label=\"Charging Unmanaged\")\n",
    "axes.set_xlabel(\"Time of Day (minutes)\")\n",
    "axes.set_ylabel(\"Number of Vehicles\")\n",
    "axes.legend()\n",
    "fig.suptitle(\"Vehicle Status by Time of Day\")\n",
    "fig.tight_layout()\n",
    "plt.show()"
   ]
  },
  {
   "cell_type": "code",
   "execution_count": null,
   "metadata": {},
   "outputs": [],
   "source": [
    "fig, axes = plt.subplots(1,1, figsize=(15,6))\n",
    "sns.lineplot(veh_status_df, x='t_min_of_day', y='tot_power_unmanaged', ax=axes, color='blue', label=\"Power Unmanaged\")\n",
    "axes.axhline(y=veh_status_df['tot_power_unmanaged'].max(), linestyle='dashed', color='r')\n",
    "axes.text(200, veh_status_df['tot_power_unmanaged'].max()-.05*veh_status_df['tot_power_unmanaged'].max(), f\"Peak Power Demand: {veh_status_df['tot_power_unmanaged'].max():.0f} kW\", color='black', fontsize=12)\n",
    "axes.set_xlabel(\"Time of Day (minutes)\")\n",
    "axes.set_ylabel(\"Power (kW)\")\n",
    "axes.legend()\n",
    "fig.suptitle(\"Power Usage by Time of Day\")\n",
    "fig.tight_layout()\n",
    "plt.show()"
   ]
  },
  {
   "cell_type": "markdown",
   "metadata": {},
   "source": [
    "### Validate Block Energy w/KCM Report"
   ]
  },
  {
   "cell_type": "code",
   "execution_count": null,
   "metadata": {},
   "outputs": [],
   "source": [
    "# Load the daily summaries from KCM report\n",
    "summary_data = standardfeeds.clean_parametrix(\"../data/bebdatafollowup/Viriciti_Energy_Reports-2023.csv\")\n",
    "summary_data = summary_data[summary_data['DateTime'] >= datetime(2023, 12, 1)]\n",
    "summary_data['realtime_filename'] = summary_data['DateTime'].dt.strftime(\"%Y_%m_%d\")\n",
    "summary_data = summary_data.groupby(['realtime_filename','vehicle_id','metric']).agg({'value':'mean'}).reset_index().sort_values(['realtime_filename', 'vehicle_id', 'metric'])\n",
    "\n",
    "# Load the most recent static feed\n",
    "static_path = Path(\"..\",\"data\",\"kcm_static\",\"2023_09_27\")\n",
    "static = gk.read_feed(static_path, dist_units='km')\n",
    "\n",
    "# Load realtime data from all BEB vehicle IDs in the KCM report\n",
    "realtime_path = Path(\"..\",\"data\",\"kcm_realtime\",\"processed\", \"analysis\")\n",
    "beb_ids = summary_data['vehicle_id'].unique()\n",
    "beb_dates = summary_data['realtime_filename'].unique()\n",
    "all_realtime_data = []\n",
    "for d in beb_dates:\n",
    "    realtime_data = pd.read_pickle(Path(f\"../data/kcm_realtime/processed/analysis/{d}.pkl\"))\n",
    "    realtime_data = realtime_data[realtime_data['vehicle_id'].isin(beb_ids)]\n",
    "    realtime_data['realtime_filename'] = realtime_data['realtime_filename'].str[:-4]\n",
    "    all_realtime_data.append(realtime_data)\n",
    "all_realtime_data = pd.concat(all_realtime_data).sort_values(['realtime_filename','vehicle_id','trip_id','locationtime'])\n",
    "\n",
    "# Map (day, vehicle_id) > trip_ids using the realtime data\n",
    "trip_id_lookup = all_realtime_data[['realtime_filename','vehicle_id','trip_id']].drop_duplicates().copy()\n",
    "# Map trip_id > (service_id, block_id) using the static data\n",
    "block_id_lookup = static.get_trips()[['service_id','block_id','trip_id']].drop_duplicates().copy()\n",
    "block_id_lookup = pd.merge(trip_id_lookup, block_id_lookup, on='trip_id')\n",
    "block_id_lookup = block_id_lookup[['realtime_filename','vehicle_id','service_id','block_id']].drop_duplicates().copy()\n",
    "# Join energy summaries to their block_ids; note there are days where the vehicle was tracked on multiple blocks in the realtime\n",
    "summary_data = pd.merge(summary_data, block_id_lookup, on=['realtime_filename','vehicle_id'])\n",
    "# Get comparison metrics for each block\n",
    "summary_data_means = summary_data.groupby(['block_id','metric'], as_index=False).agg({'value': 'mean'}).pivot(index='block_id', columns='metric', values='value')\n",
    "summary_data_stds = summary_data.groupby(['block_id','metric'], as_index=False).agg({'value': 'std'}).pivot(index='block_id', columns='metric', values='value').mean()\n",
    "summary_data_means"
   ]
  },
  {
   "cell_type": "code",
   "execution_count": null,
   "metadata": {},
   "outputs": [],
   "source": [
    "# Comparison data from modeled blocks\n",
    "modeled_energy_data = network_energy.groupby('block_id', as_index=False).agg({\n",
    "    'Energy charged': 'first',\n",
    "    'Energy used': 'first',\n",
    "    'Energy used estimate': 'first',\n",
    "    'Energy used in service': 'first',\n",
    "    'Energy used not in service': 'first',\n",
    "    'Energy idled in service': 'first',\n",
    "    'Energy idled not in service': 'first',\n",
    "    'Energy driven': 'first',\n",
    "    'Energy consumed driving': 'first',\n",
    "    'Energy regenerated driving': 'first'})\n",
    "modeled_energy_data['Energy idled'] = modeled_energy_data['Energy idled in service'] + modeled_energy_data['Energy idled not in service']\n",
    "energy_comparison = pd.merge(summary_data_means, modeled_energy_data, on='block_id', how='inner')\n",
    "\n",
    "metrics = ['Energy used', 'Energy consumed driving', 'Energy regenerated driving', 'Energy idled']\n",
    "lims = [[0,800], [0, 800], [0, 150], [0, 150]]\n",
    "fig, axes = plt.subplots(1,4, figsize=(20,5))\n",
    "fig.tight_layout()\n",
    "for i, metric in enumerate(metrics):\n",
    "    sns.scatterplot(data=energy_comparison, x=f\"{metric}_x\", y=f\"{metric}_y\", ax=axes[i])\n",
    "    axes[i].set_title(f\"{metric}\")\n",
    "    axes[i].set_xlabel(\"Reported\")\n",
    "    axes[i].set_ylabel(\"Modeled\")\n",
    "    axes[i].set_xlim(lims[i])\n",
    "    axes[i].set_ylim(lims[i])\n",
    "    axes[i].axline([0,0], [1,1], color='red', linestyle='--', alpha=.8)\n",
    "    axes[i].axline([0, 0+summary_data_stds[metric]], [1, 1+summary_data_stds[metric]], color='red', alpha=.3)\n",
    "    axes[i].axline([0, 0-summary_data_stds[metric]], [1, 1-summary_data_stds[metric]], color='red', alpha=.3)"
   ]
  },
  {
   "cell_type": "markdown",
   "metadata": {},
   "source": [
    "### Sensitivity Analysis and Performance Metrics"
   ]
  },
  {
   "cell_type": "code",
   "execution_count": null,
   "metadata": {},
   "outputs": [],
   "source": []
  },
  {
   "cell_type": "code",
   "execution_count": null,
   "metadata": {},
   "outputs": [],
   "source": [
    "# # Load and combine energy results from all bus networks\n",
    "# cleaned_sources = pd.read_csv(Path('..', 'data', 'cleaned_sources.csv'))\n",
    "# cleaned_sources['busnetwork_name'] = cleaned_sources['subdivision_name'] + \"_\" + cleaned_sources['municipality'] + \"_\" + cleaned_sources['provider']\n",
    "# all_energy_res = []\n",
    "# all_depot_locations = []\n",
    "# for i, row in cleaned_sources.iterrows():\n",
    "    # try:\n",
    "    #     # Load network results\n",
    "    #     network_id = row['uuid']\n",
    "    #     file = open(Path(\"..\",\"results\",\"energy\",network_id) / \"trajectories.pkl\", \"rb\")\n",
    "    #     trajectories = pickle.load(file)\n",
    "    #     file.close()\n",
    "    #     file = open(Path(\"..\",\"results\",\"energy\",network_id) / \"cycles.pkl\", \"rb\")\n",
    "    #     cycles = pickle.load(file)\n",
    "    #     file.close()\n",
    "    #     # Post process\n",
    "    #     bbox = gpd.GeoDataFrame(geometry=gpd.points_from_xy([row['min_lon'], row['max_lon']], [row['min_lat'], row['max_lat']])).set_crs(4326).to_crs(row['epsg_code'])\n",
    "    #     bbox_area_km2 = (bbox['geometry'].iloc[1].x - bbox['geometry'].iloc[0].x) * (bbox['geometry'].iloc[1].y - bbox['geometry'].iloc[0].y) / (1000 * 1000)\n",
    "    #     n_depots = min([max([int(bbox_area_km2 * depot_ratio), 1]), 10])\n",
    "    #     energy_res, depot_locations = busnetwork.get_energy_results(trajectories, cycles, n_depots=n_depots)\n",
    "    #     energy_res['network_id'] = network_id\n",
    "    #     depot_locations['network_id'] = network_id\n",
    "    #     # Combine\n",
    "    #     all_energy_res.append(energy_res)\n",
    "    #     all_depot_locations.append(depot_locations)\n",
    "    # except FileNotFoundError:\n",
    "    #     print(f\"Network {network_id} not found\")"
   ]
  },
  {
   "cell_type": "code",
   "execution_count": null,
   "metadata": {},
   "outputs": [],
   "source": []
  }
 ],
 "metadata": {
  "kernelspec": {
   "display_name": "valle_m1",
   "language": "python",
   "name": "python3"
  },
  "language_info": {
   "codemirror_mode": {
    "name": "ipython",
    "version": 3
   },
   "file_extension": ".py",
   "mimetype": "text/x-python",
   "name": "python",
   "nbconvert_exporter": "python",
   "pygments_lexer": "ipython3",
   "version": "3.9.18"
  },
  "orig_nbformat": 4,
  "vscode": {
   "interpreter": {
    "hash": "b30fe1de1713ca8e7537eef068b13a2de77ded03f86aab2e80ea73416dd3d704"
   }
  }
 },
 "nbformat": 4,
 "nbformat_minor": 2
}
