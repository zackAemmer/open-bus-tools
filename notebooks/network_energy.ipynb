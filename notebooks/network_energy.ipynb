{
 "cells": [
  {
   "cell_type": "code",
   "execution_count": null,
   "metadata": {},
   "outputs": [],
   "source": [
    "import pickle\n",
    "import sys\n",
    "from zoneinfo import ZoneInfo\n",
    "sys.path.append(\"../\")\n",
    "from datetime import datetime\n",
    "\n",
    "from dotenv import load_dotenv\n",
    "load_dotenv()\n",
    "import geopandas as gpd\n",
    "import importlib\n",
    "import copy\n",
    "import logging\n",
    "import contextily as cx\n",
    "import gtfs_kit as gk\n",
    "import fastsim as fsim\n",
    "import matplotlib.pyplot as plt\n",
    "import numpy as np\n",
    "import os\n",
    "import pandas as pd\n",
    "from pathlib import Path\n",
    "import lightning.pytorch as pl\n",
    "import rasterio as rio\n",
    "import seaborn as sns\n",
    "from rasterio.plot import show\n",
    "import seaborn as sns\n",
    "import shapely\n",
    "import statsmodels.api as sm\n",
    "from torch.utils.data import DataLoader\n",
    "\n",
    "from openbustools.traveltime.models import rnn\n",
    "from openbustools import plotting, spatial, standardfeeds\n",
    "from openbustools.traveltime import data_loader, model_utils\n",
    "from openbustools.drivecycle import trajectory, busnetwork\n",
    "from openbustools.drivecycle.physics import conditions, energy, vehicle"
   ]
  },
  {
   "cell_type": "markdown",
   "metadata": {},
   "source": [
    "### Draw Energy Predictions for Full KCM Network"
   ]
  },
  {
   "cell_type": "code",
   "execution_count": null,
   "metadata": {},
   "outputs": [],
   "source": [
    "network_name = \"kcm\"\n",
    "\n",
    "res_dir = Path(\"..\",\"results\",\"energy\", network_name)\n",
    "\n",
    "file = open(res_dir / \"trajectories.pkl\", \"rb\")\n",
    "trajectories = pickle.load(file)\n",
    "file.close()\n",
    "\n",
    "file = open(res_dir / \"cycles.pkl\", \"rb\")\n",
    "cycles = pickle.load(file)\n",
    "file.close()"
   ]
  },
  {
   "cell_type": "code",
   "execution_count": null,
   "metadata": {},
   "outputs": [],
   "source": [
    "efficiencies = np.array([1/cycle.electric_kwh_per_mi for cycle in cycles])\n",
    "fig, ax = plt.subplots()\n",
    "sns.histplot(efficiencies[efficiencies<5], kde=True, ax=ax)\n",
    "ax.set_title(f\"BEB Shape Efficiency Distribution\\n{len(efficiencies)} Routes\")\n",
    "ax.set_xlabel(\"Efficiency (mi/kWh)\")\n",
    "plt.show()"
   ]
  },
  {
   "cell_type": "code",
   "execution_count": null,
   "metadata": {},
   "outputs": [],
   "source": [
    "static_dir = Path(\"..\",\"data\",\"kcm_static\",\"2023_09_27\")\n",
    "target_day = \"2024_01_03\"\n",
    "t_day_of_week = datetime.strptime(target_day, \"%Y_%m_%d\").weekday()\n",
    "static_feed = gk.read_feed(static_dir, dist_units=\"km\").restrict_to_dates([str.replace(target_day,'_','')])\n",
    "active_service_ids = static_feed.calendar[static_feed.calendar.iloc[:,t_day_of_week+1]==1]['service_id'].to_numpy()\n",
    "trips = static_feed.get_trips()\n",
    "trips = trips[trips['service_id'].isin(active_service_ids)]\n",
    "trip_start_end = standardfeeds.get_trip_start_and_end_times(static_feed)\n",
    "trips = pd.merge(trips, trip_start_end, on='trip_id')\n",
    "trips"
   ]
  },
  {
   "cell_type": "code",
   "execution_count": null,
   "metadata": {},
   "outputs": [],
   "source": [
    "blocks = trips.sort_values(['block_id', 't_min_of_day_first']).groupby('block_id')\n",
    "blocks = {k:v for k,v in blocks}\n",
    "blocks[list(blocks.keys())[0]]"
   ]
  },
  {
   "cell_type": "code",
   "execution_count": null,
   "metadata": {},
   "outputs": [],
   "source": [
    "traj_block_ids = [traj.traj_attr['block_id'] for traj in trajectories]\n",
    "traj_block_ids = traj_block_ids.index(list(blocks.keys())[100])\n",
    "trajectories[traj_block_ids]"
   ]
  },
  {
   "cell_type": "code",
   "execution_count": null,
   "metadata": {},
   "outputs": [],
   "source": [
    "block_size = [len(blocks[block]) for block in blocks]\n",
    "block_size"
   ]
  },
  {
   "cell_type": "code",
   "execution_count": null,
   "metadata": {},
   "outputs": [],
   "source": [
    "traj_block_ids = [traj.traj_attr['block_id'] for traj in trajectories]\n",
    "np.unique(traj_block_ids).shape\n",
    "# len(trajectories)"
   ]
  },
  {
   "cell_type": "markdown",
   "metadata": {},
   "source": [
    "### Draw Energy Predictions for All Networks"
   ]
  },
  {
   "cell_type": "code",
   "execution_count": null,
   "metadata": {},
   "outputs": [],
   "source": [
    "# Does a higher GTFS-RT sampling frequency improve energy estimates of the model?\n",
    "# Which blocks are BEBs viable on, and what is the cost in infrastructure of electrifying them?\n",
    "\n",
    "# How accurately can bus energy consumption be predicted using a combination of route\n",
    "# geometry, elevation and models trained on standardized open bus data to inform system\n",
    "# design for transit agencies transitioning to BEBs?\n",
    "# 2. Given demand estimates from different sources (AVL, GTFS-RT, onboard logger) com-\n",
    "# bined with a power consumption modeling framework:\n",
    "# (a) Which blocks are BEBs viable on?\n",
    "# (b) How do design parameters such as battery and charger sizing affect the decision\n",
    "# of which blocks to electrify?\n",
    "# (c) How does the availability of data sources (e.g., static only, static and realtime\n",
    "# sample) impact energy predictions?\n",
    "\n",
    "# Calculate operating parameters from GTFS + TT model\n",
    "# Given GTFS energy, operating profile, design strategy, cost assumptions: Compare energy needs/electrification barriers across wide array of agencies\n",
    "# Calculate drive cycle/energy use for full GTFS feed\n",
    "# Growth in GTFS-RT, GTFS-Flex, API sampling resolutions, Simulate/propose change in GTFS-RT sampling frequency\n",
    "# Where is GPS precision high/low in network? Energy implications?\n",
    "# Energy models as constraint in blocking software\n",
    "# BEB abatement curve?"
   ]
  },
  {
   "cell_type": "code",
   "execution_count": null,
   "metadata": {},
   "outputs": [],
   "source": [
    "cleaned_sources = pd.read_csv(Path('..', 'data', 'cleaned_sources.csv'))\n",
    "all_network_trajs = []\n",
    "all_network_cycles = []\n",
    "for i, row in cleaned_sources.iterrows():\n",
    "    print(i)\n",
    "    network_name = row['uuid']\n",
    "    res_dir = Path(\"results\",\"energy\", network_name)\n",
    "\n",
    "    file = open(res_dir / \"trajectories.pkl\", \"rb\")\n",
    "    trajectories = pickle.load(file)\n",
    "    file.close()\n",
    "    all_network_trajs.append(trajectories)\n",
    "\n",
    "    file = open(res_dir / \"cycles.pkl\", \"rb\")\n",
    "    cycles = pickle.load(file)\n",
    "    file.close()\n",
    "    all_network_cycles.append(cycles)"
   ]
  },
  {
   "cell_type": "code",
   "execution_count": null,
   "metadata": {},
   "outputs": [],
   "source": [
    "df = []\n",
    "for i, network_cycles in enumerate(all_network_cycles):\n",
    "    for cycle in network_cycles:\n",
    "        df.append({\"efficiency\": 1/cycle.electric_kwh_per_mi, \"network\": cleaned_sources.iloc[i]['provider'], \"num_shapes\": len(network_cycles)})\n",
    "df = pd.DataFrame(df)\n",
    "df_sorted = df.groupby(\"network\").median().sort_values(\"efficiency\")\n",
    "df"
   ]
  },
  {
   "cell_type": "code",
   "execution_count": null,
   "metadata": {},
   "outputs": [],
   "source": [
    "fig, axes = plt.subplots(1,1, figsize=(18,5))\n",
    "sns.boxplot(x=\"network\", y=\"efficiency\", data=df[df['efficiency']<1], order=df_sorted.index)\n",
    "plt.xticks(rotation=90)\n",
    "plt.xlabel(\"\")\n",
    "plt.ylabel(\"Efficiency (mi/kWh)\")\n",
    "plt.show()"
   ]
  },
  {
   "cell_type": "code",
   "execution_count": null,
   "metadata": {},
   "outputs": [],
   "source": [
    "# test_network = cleaned_sources[cleaned_sources['provider'] == 'Massachusetts Bay Transportation Authority (MBTA)']\n",
    "# test_idx = test_network.index[0]\n",
    "# static_dir = data_dir / \"other_feeds\" / f\"{test_network['uuid'].values[0]}_static\"\n",
    "# latest_static_file = standardfeeds.latest_available_static(\"2024_02_06\", static_dir)\n",
    "# latest_static_file = static_dir / latest_static_file\n",
    "# test_network"
   ]
  },
  {
   "cell_type": "code",
   "execution_count": null,
   "metadata": {},
   "outputs": [],
   "source": [
    "# test_trajs = all_network_trajs[test_idx]\n",
    "# test_cycles = all_network_cycles[test_idx]\n",
    "# test_static = gk.read_feed(latest_static_file, dist_units=\"km\")"
   ]
  },
  {
   "cell_type": "code",
   "execution_count": null,
   "metadata": {},
   "outputs": [],
   "source": [
    "# shape_id = [traj.traj_attr['shape_id'] for traj in test_trajs]\n",
    "# efficiency = [1/cycle.electric_kwh_per_mi for cycle in test_cycles]\n",
    "# energy_consumed = [np.sum(cycle.ess_kw_out_ach)/3600 for cycle in test_cycles]\n",
    "# test_df = pd.DataFrame({\"shape_id\": shape_id, \"efficiency\": efficiency, \"energy_consumed\": energy_consumed})\n",
    "# test_df = pd.merge(test_static.trips, test_df, on=\"shape_id\")[['service_id','route_id','direction_id','trip_id','shape_id','block_id','efficiency','energy_consumed']].dropna()"
   ]
  },
  {
   "cell_type": "code",
   "execution_count": null,
   "metadata": {},
   "outputs": [],
   "source": [
    "# block_energy = test_df.groupby('block_id').agg({'efficiency': 'mean', 'energy_consumed': 'sum'}).sort_values('energy_consumed')"
   ]
  }
 ],
 "metadata": {
  "kernelspec": {
   "display_name": "valle_m1",
   "language": "python",
   "name": "python3"
  },
  "language_info": {
   "codemirror_mode": {
    "name": "ipython",
    "version": 3
   },
   "file_extension": ".py",
   "mimetype": "text/x-python",
   "name": "python",
   "nbconvert_exporter": "python",
   "pygments_lexer": "ipython3",
   "version": "3.9.18"
  },
  "orig_nbformat": 4,
  "vscode": {
   "interpreter": {
    "hash": "b30fe1de1713ca8e7537eef068b13a2de77ded03f86aab2e80ea73416dd3d704"
   }
  }
 },
 "nbformat": 4,
 "nbformat_minor": 2
}
