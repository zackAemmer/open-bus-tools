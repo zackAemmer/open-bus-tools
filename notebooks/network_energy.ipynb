{
 "cells": [
  {
   "cell_type": "code",
   "execution_count": null,
   "metadata": {},
   "outputs": [],
   "source": [
    "import pickle\n",
    "import sys\n",
    "from zoneinfo import ZoneInfo\n",
    "sys.path.append(\"../\")\n",
    "\n",
    "from dotenv import load_dotenv\n",
    "load_dotenv()\n",
    "import geopandas as gpd\n",
    "import importlib\n",
    "import copy\n",
    "import logging\n",
    "import contextily as cx\n",
    "import gtfs_kit as gk\n",
    "import fastsim as fsim\n",
    "import matplotlib.pyplot as plt\n",
    "import numpy as np\n",
    "import os\n",
    "import pandas as pd\n",
    "from pathlib import Path\n",
    "import lightning.pytorch as pl\n",
    "import rasterio as rio\n",
    "import seaborn as sns\n",
    "from rasterio.plot import show\n",
    "import seaborn as sns\n",
    "import shapely\n",
    "import statsmodels.api as sm\n",
    "from torch.utils.data import DataLoader\n",
    "\n",
    "from openbustools.traveltime.models import rnn\n",
    "from openbustools import plotting, spatial, standardfeeds\n",
    "from openbustools.traveltime import data_loader, model_utils\n",
    "from openbustools.drivecycle import trajectory, busnetwork\n",
    "from openbustools.drivecycle.physics import conditions, energy, vehicle"
   ]
  },
  {
   "cell_type": "code",
   "execution_count": null,
   "metadata": {},
   "outputs": [],
   "source": [
    "point_sep_m = 300"
   ]
  },
  {
   "cell_type": "markdown",
   "metadata": {},
   "source": [
    "### Draw Energy Predictions for Full KCM Network"
   ]
  },
  {
   "cell_type": "code",
   "execution_count": null,
   "metadata": {},
   "outputs": [],
   "source": [
    "data_dir = Path(\"..\", \"data\")\n",
    "epsg_code = 32148\n",
    "timezone = \"America/Los_Angeles\"\n",
    "coord_ref_center = [386910,69022]"
   ]
  },
  {
   "cell_type": "code",
   "execution_count": null,
   "metadata": {},
   "outputs": [],
   "source": [
    "importlib.reload(busnetwork)\n",
    "# Get most recent static feed\n",
    "static_dir = data_dir / f\"kcm_static\"\n",
    "latest_static_file = standardfeeds.latest_available_static(\"2024_02_06\", static_dir)\n",
    "latest_static_file = static_dir / latest_static_file\n",
    "# Get reprojected DEM file\n",
    "dem_file = Path(\"..\",\"data\",\"kcm_spatial\",\"usgs10m_dem_32148.tif\")\n",
    "# Load most recently trained model\n",
    "model_dir = Path(\"..\", \"logs\", \"kcm\", \"GRU-4\")\n",
    "latest_version = str(sorted([int(x.split('_')[1]) for x in os.listdir(model_dir)])[-1])\n",
    "latest_ckpt = sorted(os.listdir(model_dir / f\"version_{latest_version}\" / \"checkpoints\"))[-1]\n",
    "model = rnn.GRU.load_from_checkpoint(model_dir / f\"version_{latest_version}\" / \"checkpoints\" / latest_ckpt, strict=False).eval()\n",
    "# Get trajectories and update travel times\n",
    "trajectories = busnetwork.get_trajectories(latest_static_file, epsg=epsg_code, coord_ref_center=coord_ref_center, dem_file=dem_file)\n",
    "busnetwork.update_travel_times(trajectories, model)\n",
    "cycles = [busnetwork.get_trajectory_energy(traj) for traj in trajectories]"
   ]
  },
  {
   "cell_type": "code",
   "execution_count": null,
   "metadata": {},
   "outputs": [],
   "source": [
    "efficiencies = np.array([1/cycle.electric_kwh_per_mi for cycle in cycles])\n",
    "fig, ax = plt.subplots()\n",
    "sns.histplot(efficiencies[efficiencies<5], kde=True, ax=ax)\n",
    "ax.set_title(f\"BEB Shape Efficiency Distribution\\n{len(efficiencies)} Routes\")\n",
    "ax.set_xlabel(\"Efficiency (mi/kWh)\")"
   ]
  },
  {
   "cell_type": "code",
   "execution_count": null,
   "metadata": {},
   "outputs": [],
   "source": [
    "outlier_indices = np.where(efficiencies > 4)[0]\n",
    "outlier_trajs = [trajectories[i] for i in outlier_indices]\n",
    "outlier_cycles = [cycles[i] for i in outlier_indices]\n",
    "outlier_avg_grades = [np.mean(cycle.cyc.grade) for cycle in outlier_cycles]\n",
    "print(outlier_avg_grades)\n",
    "plotting.drive_cycle_energy_plot(outlier_cycles)"
   ]
  },
  {
   "cell_type": "markdown",
   "metadata": {},
   "source": [
    "### Draw Energy Predictions for All Networks"
   ]
  },
  {
   "cell_type": "code",
   "execution_count": null,
   "metadata": {},
   "outputs": [],
   "source": [
    "cleaned_sources = pd.read_csv(Path('..', 'data', 'cleaned_sources.csv'))\n",
    "data_dir = Path(\"..\", \"data\", \"other_feeds\")\n",
    "\n",
    "all_network_trajs = []\n",
    "all_network_results = []\n",
    "for i, row in cleaned_sources.iterrows():\n",
    "    # Get most recent static feed\n",
    "    static_dir = data_dir / f\"{row['uuid']}_static\"\n",
    "    latest_static_file = standardfeeds.latest_available_static(\"2024_02_06\", static_dir)\n",
    "    latest_static_file = static_dir / latest_static_file\n",
    "    # Get reprojected DEM file\n",
    "    dem_dir = data_dir / f\"{row['uuid']}_spatial\"\n",
    "    dem_file = list(dem_dir.glob(f\"*{row['epsg_code']}.tif\"))[0]\n",
    "    # Load most recently trained model\n",
    "    model_dir = data_dir / f\"{row['uuid']}_models\" / \"lightning_logs\"\n",
    "    latest_version = str(sorted([int(x.split('_')[1]) for x in os.listdir(model_dir)])[-1])\n",
    "    latest_ckpt = sorted(os.listdir(model_dir / f\"version_{latest_version}\" / \"checkpoints\"))[-1]\n",
    "    model = rnn.GRU.load_from_checkpoint(model_dir / f\"version_{latest_version}\" / \"checkpoints\" / latest_ckpt, strict=False).eval()\n",
    "    # Get trajectories and update travel times\n",
    "    trajectories = busnetwork.get_trajectories(latest_static_file, epsg=row['epsg_code'], coord_ref_center=[row['coord_ref_x'], row['coord_ref_y']], dem_file=dem_file)\n",
    "    busnetwork.update_travel_times(trajectories, model)\n",
    "    cycles = [busnetwork.get_trajectory_energy(traj) for traj in trajectories]\n",
    "    all_network_trajs.append(trajectories)\n",
    "    all_network_results.append(cycles)\n",
    "\n",
    "filehandler = open(\"../results/energy/all_network_trajs.pkl\", \"wb\")\n",
    "pickle.dump(all_network_trajs,filehandler)\n",
    "filehandler.close()\n",
    "\n",
    "filehandler = open(\"../results/energy/all_network_results.pkl\", \"wb\")\n",
    "pickle.dump(all_network_results,filehandler)\n",
    "filehandler.close()"
   ]
  },
  {
   "cell_type": "code",
   "execution_count": null,
   "metadata": {},
   "outputs": [],
   "source": [
    "file = open(\"../results/energy/all_network_trajs.pkl\", \"rb\")\n",
    "all_network_trajs = pickle.load(file)\n",
    "file.close()\n",
    "\n",
    "file = open(\"../results/energy/all_network_results.pkl\", \"rb\")\n",
    "all_network_results = pickle.load(file)\n",
    "file.close()"
   ]
  },
  {
   "cell_type": "code",
   "execution_count": null,
   "metadata": {},
   "outputs": [],
   "source": [
    "fig, ax = plt.subplots()\n",
    "for network_cycles in all_network_results:\n",
    "    efficiencies = np.array([1/cycle.electric_kwh_per_mi for cycle in network_cycles])\n",
    "    sns.histplot(efficiencies[efficiencies<5], kde=True, ax=ax, label=row['uuid'])\n",
    "ax.set_title(f\"\")\n",
    "ax.set_xlabel(\"Efficiency (mi/kWh)\")"
   ]
  },
  {
   "cell_type": "code",
   "execution_count": null,
   "metadata": {},
   "outputs": [],
   "source": [
    "# Use results to answer research questions."
   ]
  },
  {
   "cell_type": "code",
   "execution_count": null,
   "metadata": {},
   "outputs": [],
   "source": []
  }
 ],
 "metadata": {
  "kernelspec": {
   "display_name": "valle_m1",
   "language": "python",
   "name": "python3"
  },
  "language_info": {
   "codemirror_mode": {
    "name": "ipython",
    "version": 3
   },
   "file_extension": ".py",
   "mimetype": "text/x-python",
   "name": "python",
   "nbconvert_exporter": "python",
   "pygments_lexer": "ipython3",
   "version": "3.9.18"
  },
  "orig_nbformat": 4,
  "vscode": {
   "interpreter": {
    "hash": "b30fe1de1713ca8e7537eef068b13a2de77ded03f86aab2e80ea73416dd3d704"
   }
  }
 },
 "nbformat": 4,
 "nbformat_minor": 2
}
