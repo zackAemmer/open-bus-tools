{
 "cells": [
  {
   "cell_type": "code",
   "execution_count": 1,
   "metadata": {},
   "outputs": [],
   "source": [
    "import pickle\n",
    "import sys\n",
    "from zoneinfo import ZoneInfo\n",
    "sys.path.append(\"../\")\n",
    "\n",
    "from dotenv import load_dotenv\n",
    "load_dotenv()\n",
    "import geopandas as gpd\n",
    "import importlib\n",
    "import logging\n",
    "import matplotlib.pyplot as plt\n",
    "import numpy as np\n",
    "import os\n",
    "import pandas as pd\n",
    "from pathlib import Path\n",
    "import lightning.pytorch as pl\n",
    "import rasterio as rio\n",
    "from rasterio.plot import show\n",
    "import seaborn as sns\n",
    "import shapely\n",
    "import statsmodels.api as sm\n",
    "import torch\n",
    "from torch.utils.data import DataLoader\n",
    "\n",
    "from openbustools import plotting, spatial, standardfeeds\n",
    "from openbustools.traveltime import data_loader, model_utils\n",
    "from openbustools.drivecycle import trajectory\n",
    "from openbustools.drivecycle.physics import conditions, energy, vehicle\n",
    "\n",
    "from srai.embedders import GTFS2VecEmbedder\n",
    "from srai.joiners import IntersectionJoiner\n",
    "from srai.loaders import GTFSLoader\n",
    "from srai.loaders.osm_loaders.filters import HEX2VEC_FILTER\n",
    "from srai.neighbourhoods.h3_neighbourhood import H3Neighbourhood\n",
    "from srai.regionalizers import H3Regionalizer, geocode_to_region_gdf\n",
    "from srai.plotting import plot_regions, plot_numeric_data"
   ]
  },
  {
   "cell_type": "code",
   "execution_count": 5,
   "metadata": {},
   "outputs": [],
   "source": [
    "if torch.cuda.is_available():\n",
    "    num_workers=4\n",
    "    pin_memory=True\n",
    "    accelerator=\"cuda\"\n",
    "else:\n",
    "    num_workers=0\n",
    "    pin_memory=False\n",
    "    accelerator=\"cpu\"\n",
    "\n",
    "logging.getLogger(\"lightning\").setLevel(logging.ERROR)\n",
    "logging.getLogger(\"pytorch_lightning\").setLevel(logging.ERROR)\n",
    "logging.getLogger(\"lightning.pytorch.accelerators.cuda\").setLevel(logging.ERROR)\n",
    "\n",
    "model_network = \"kcm\"\n",
    "model_type = \"GRU\"\n",
    "\n",
    "train_days = standardfeeds.get_date_list('2024_01_05', 1)\n",
    "train_days = [x.split(\".\")[0] for x in train_days]\n",
    "test_days = standardfeeds.get_date_list('2024_02_06', 7)\n",
    "test_days = [x.split(\".\")[0] for x in test_days]\n",
    "\n",
    "cleaned_sources = pd.read_csv(Path('..', 'data', 'cleaned_sources.csv'))"
   ]
  },
  {
   "cell_type": "code",
   "execution_count": 4,
   "metadata": {},
   "outputs": [
    {
     "name": "stdout",
     "output_type": "stream",
     "text": [
      "London Transit Commission\n"
     ]
    },
    {
     "data": {
      "application/vnd.jupyter.widget-view+json": {
       "model_id": "033e6ee3341c423fb7d4cb6d3f15afd6",
       "version_major": 2,
       "version_minor": 0
      },
      "text/plain": [
       "Predicting: |          | 0/? [00:00<?, ?it/s]"
      ]
     },
     "metadata": {},
     "output_type": "display_data"
    },
    {
     "name": "stdout",
     "output_type": "stream",
     "text": [
      "Barrie Transit\n"
     ]
    },
    {
     "data": {
      "application/vnd.jupyter.widget-view+json": {
       "model_id": "f614b8e867d3473aa20483a376dae9e6",
       "version_major": 2,
       "version_minor": 0
      },
      "text/plain": [
       "Predicting: |          | 0/? [00:00<?, ?it/s]"
      ]
     },
     "metadata": {},
     "output_type": "display_data"
    },
    {
     "name": "stdout",
     "output_type": "stream",
     "text": [
      "Big Blue Bus\n"
     ]
    },
    {
     "data": {
      "application/vnd.jupyter.widget-view+json": {
       "model_id": "19c24f2aed6c40dab03f67905ea0e9de",
       "version_major": 2,
       "version_minor": 0
      },
      "text/plain": [
       "Predicting: |          | 0/? [00:00<?, ?it/s]"
      ]
     },
     "metadata": {},
     "output_type": "display_data"
    },
    {
     "name": "stdout",
     "output_type": "stream",
     "text": [
      "Mountain View Transportation Management Association (MVgo)\n"
     ]
    },
    {
     "data": {
      "application/vnd.jupyter.widget-view+json": {
       "model_id": "04e336a1a79c4ec1afdca31f0087e96f",
       "version_major": 2,
       "version_minor": 0
      },
      "text/plain": [
       "Predicting: |          | 0/? [00:00<?, ?it/s]"
      ]
     },
     "metadata": {},
     "output_type": "display_data"
    },
    {
     "name": "stdout",
     "output_type": "stream",
     "text": [
      "Capital Metro\n"
     ]
    },
    {
     "data": {
      "application/vnd.jupyter.widget-view+json": {
       "model_id": "f84583facc164c939c7d3560dc01a00d",
       "version_major": 2,
       "version_minor": 0
      },
      "text/plain": [
       "Predicting: |          | 0/? [00:00<?, ?it/s]"
      ]
     },
     "metadata": {},
     "output_type": "display_data"
    },
    {
     "name": "stdout",
     "output_type": "stream",
     "text": [
      "Regional Transportation District (RTD)\n"
     ]
    },
    {
     "data": {
      "application/vnd.jupyter.widget-view+json": {
       "model_id": "3b8832be24944e54a98342a3e949ba3d",
       "version_major": 2,
       "version_minor": 0
      },
      "text/plain": [
       "Predicting: |          | 0/? [00:00<?, ?it/s]"
      ]
     },
     "metadata": {},
     "output_type": "display_data"
    },
    {
     "name": "stdout",
     "output_type": "stream",
     "text": [
      "Metro St. Louis\n"
     ]
    },
    {
     "data": {
      "application/vnd.jupyter.widget-view+json": {
       "model_id": "10d2e4ae5333472eb7ec41f4f6af98b6",
       "version_major": 2,
       "version_minor": 0
      },
      "text/plain": [
       "Predicting: |          | 0/? [00:00<?, ?it/s]"
      ]
     },
     "metadata": {},
     "output_type": "display_data"
    },
    {
     "name": "stdout",
     "output_type": "stream",
     "text": [
      "Intercity Transit\n"
     ]
    },
    {
     "data": {
      "application/vnd.jupyter.widget-view+json": {
       "model_id": "2df0fdeca4f8418dbf8c664a8469df75",
       "version_major": 2,
       "version_minor": 0
      },
      "text/plain": [
       "Predicting: |          | 0/? [00:00<?, ?it/s]"
      ]
     },
     "metadata": {},
     "output_type": "display_data"
    },
    {
     "name": "stdout",
     "output_type": "stream",
     "text": [
      "Duluth Transit\n"
     ]
    },
    {
     "data": {
      "application/vnd.jupyter.widget-view+json": {
       "model_id": "5458a471270d44a5a35888a2d5d7e799",
       "version_major": 2,
       "version_minor": 0
      },
      "text/plain": [
       "Predicting: |          | 0/? [00:00<?, ?it/s]"
      ]
     },
     "metadata": {},
     "output_type": "display_data"
    },
    {
     "name": "stdout",
     "output_type": "stream",
     "text": [
      "Votran\n"
     ]
    },
    {
     "data": {
      "application/vnd.jupyter.widget-view+json": {
       "model_id": "03c1fb1242c44635987b216ce59050de",
       "version_major": 2,
       "version_minor": 0
      },
      "text/plain": [
       "Predicting: |          | 0/? [00:00<?, ?it/s]"
      ]
     },
     "metadata": {},
     "output_type": "display_data"
    },
    {
     "name": "stdout",
     "output_type": "stream",
     "text": [
      "Nashville Metropolitan Transit Authority (Nashville MTA)\n"
     ]
    },
    {
     "data": {
      "application/vnd.jupyter.widget-view+json": {
       "model_id": "6139b4fc38694249a800a96dd9a74920",
       "version_major": 2,
       "version_minor": 0
      },
      "text/plain": [
       "Predicting: |          | 0/? [00:00<?, ?it/s]"
      ]
     },
     "metadata": {},
     "output_type": "display_data"
    },
    {
     "name": "stdout",
     "output_type": "stream",
     "text": [
      "Transit Authority of River City (TARC)\n"
     ]
    },
    {
     "data": {
      "application/vnd.jupyter.widget-view+json": {
       "model_id": "0dec75d129834300a936438bd186b809",
       "version_major": 2,
       "version_minor": 0
      },
      "text/plain": [
       "Predicting: |          | 0/? [00:00<?, ?it/s]"
      ]
     },
     "metadata": {},
     "output_type": "display_data"
    },
    {
     "name": "stdout",
     "output_type": "stream",
     "text": [
      "Metropolitan Atlanta Rapid Transit Authority (MARTA)\n"
     ]
    },
    {
     "data": {
      "application/vnd.jupyter.widget-view+json": {
       "model_id": "2ba7f3169f6146f1a7f761ebf8451c6c",
       "version_major": 2,
       "version_minor": 0
      },
      "text/plain": [
       "Predicting: |          | 0/? [00:00<?, ?it/s]"
      ]
     },
     "metadata": {},
     "output_type": "display_data"
    },
    {
     "name": "stdout",
     "output_type": "stream",
     "text": [
      "Springfield Mass Transit District (SMTD)\n"
     ]
    },
    {
     "data": {
      "application/vnd.jupyter.widget-view+json": {
       "model_id": "64f03da3829840399f83ec07d4c6c945",
       "version_major": 2,
       "version_minor": 0
      },
      "text/plain": [
       "Predicting: |          | 0/? [00:00<?, ?it/s]"
      ]
     },
     "metadata": {},
     "output_type": "display_data"
    },
    {
     "name": "stdout",
     "output_type": "stream",
     "text": [
      "Metro Transit\n"
     ]
    },
    {
     "data": {
      "application/vnd.jupyter.widget-view+json": {
       "model_id": "f599274e2d054b788f135130dba24d0c",
       "version_major": 2,
       "version_minor": 0
      },
      "text/plain": [
       "Predicting: |          | 0/? [00:00<?, ?it/s]"
      ]
     },
     "metadata": {},
     "output_type": "display_data"
    },
    {
     "name": "stdout",
     "output_type": "stream",
     "text": [
      "Port Authority of Allegheny County\n"
     ]
    },
    {
     "data": {
      "application/vnd.jupyter.widget-view+json": {
       "model_id": "a8ed0887484248a18554ff5c46fd12b1",
       "version_major": 2,
       "version_minor": 0
      },
      "text/plain": [
       "Predicting: |          | 0/? [00:00<?, ?it/s]"
      ]
     },
     "metadata": {},
     "output_type": "display_data"
    },
    {
     "name": "stdout",
     "output_type": "stream",
     "text": [
      "Massachusetts Bay Transportation Authority (MBTA)\n"
     ]
    },
    {
     "data": {
      "application/vnd.jupyter.widget-view+json": {
       "model_id": "f091c131b0e549d7875939b1255d1be6",
       "version_major": 2,
       "version_minor": 0
      },
      "text/plain": [
       "Predicting: |          | 0/? [00:00<?, ?it/s]"
      ]
     },
     "metadata": {},
     "output_type": "display_data"
    },
    {
     "name": "stdout",
     "output_type": "stream",
     "text": [
      "Arlington Transit\n"
     ]
    },
    {
     "data": {
      "application/vnd.jupyter.widget-view+json": {
       "model_id": "bf7aa3b2b5b54c838fd9cd398b0272fb",
       "version_major": 2,
       "version_minor": 0
      },
      "text/plain": [
       "Predicting: |          | 0/? [00:00<?, ?it/s]"
      ]
     },
     "metadata": {},
     "output_type": "display_data"
    },
    {
     "name": "stdout",
     "output_type": "stream",
     "text": [
      "Rochester-Genesee Regional Transportation Authority (RGRTA)\n"
     ]
    },
    {
     "data": {
      "application/vnd.jupyter.widget-view+json": {
       "model_id": "c09e567557c049dbbdf5d4e845f6f279",
       "version_major": 2,
       "version_minor": 0
      },
      "text/plain": [
       "Predicting: |          | 0/? [00:00<?, ?it/s]"
      ]
     },
     "metadata": {},
     "output_type": "display_data"
    },
    {
     "name": "stdout",
     "output_type": "stream",
     "text": [
      "BC Transit (Victoria Regional Transit System)\n"
     ]
    },
    {
     "data": {
      "application/vnd.jupyter.widget-view+json": {
       "model_id": "102c741b644545eb9d79b1ba5a9bf3b5",
       "version_major": 2,
       "version_minor": 0
      },
      "text/plain": [
       "Predicting: |          | 0/? [00:00<?, ?it/s]"
      ]
     },
     "metadata": {},
     "output_type": "display_data"
    },
    {
     "name": "stdout",
     "output_type": "stream",
     "text": [
      "Edmonton Transit System\n"
     ]
    },
    {
     "data": {
      "application/vnd.jupyter.widget-view+json": {
       "model_id": "17584adfa65d4422bc7d726194e65c84",
       "version_major": 2,
       "version_minor": 0
      },
      "text/plain": [
       "Predicting: |          | 0/? [00:00<?, ?it/s]"
      ]
     },
     "metadata": {},
     "output_type": "display_data"
    },
    {
     "name": "stdout",
     "output_type": "stream",
     "text": [
      "Saskatoon Transit\n"
     ]
    },
    {
     "data": {
      "application/vnd.jupyter.widget-view+json": {
       "model_id": "5f18fbe50bf441e9970ab951dc0f279b",
       "version_major": 2,
       "version_minor": 0
      },
      "text/plain": [
       "Predicting: |          | 0/? [00:00<?, ?it/s]"
      ]
     },
     "metadata": {},
     "output_type": "display_data"
    },
    {
     "name": "stdout",
     "output_type": "stream",
     "text": [
      "Hamilton Street Railway\n"
     ]
    },
    {
     "data": {
      "application/vnd.jupyter.widget-view+json": {
       "model_id": "539aa068cf684161a4199aa41a86c0b7",
       "version_major": 2,
       "version_minor": 0
      },
      "text/plain": [
       "Predicting: |          | 0/? [00:00<?, ?it/s]"
      ]
     },
     "metadata": {},
     "output_type": "display_data"
    },
    {
     "name": "stdout",
     "output_type": "stream",
     "text": [
      "MiWay\n"
     ]
    },
    {
     "data": {
      "application/vnd.jupyter.widget-view+json": {
       "model_id": "b873ffcfc3a84c1089399a5132618fb3",
       "version_major": 2,
       "version_minor": 0
      },
      "text/plain": [
       "Predicting: |          | 0/? [00:00<?, ?it/s]"
      ]
     },
     "metadata": {},
     "output_type": "display_data"
    },
    {
     "name": "stdout",
     "output_type": "stream",
     "text": [
      "Kingston Transit\n"
     ]
    },
    {
     "data": {
      "application/vnd.jupyter.widget-view+json": {
       "model_id": "af8744dbe695477883226d719a7a2eec",
       "version_major": 2,
       "version_minor": 0
      },
      "text/plain": [
       "Predicting: |          | 0/? [00:00<?, ?it/s]"
      ]
     },
     "metadata": {},
     "output_type": "display_data"
    },
    {
     "name": "stdout",
     "output_type": "stream",
     "text": [
      "Halifax Transit\n"
     ]
    },
    {
     "data": {
      "application/vnd.jupyter.widget-view+json": {
       "model_id": "27c1b75749ce4220a548e2a0d588ed96",
       "version_major": 2,
       "version_minor": 0
      },
      "text/plain": [
       "Predicting: |          | 0/? [00:00<?, ?it/s]"
      ]
     },
     "metadata": {},
     "output_type": "display_data"
    },
    {
     "name": "stdout",
     "output_type": "stream",
     "text": [
      "Thunder Bay Transit\n"
     ]
    },
    {
     "data": {
      "application/vnd.jupyter.widget-view+json": {
       "model_id": "6b097218f625422ba22734f1ea922c34",
       "version_major": 2,
       "version_minor": 0
      },
      "text/plain": [
       "Predicting: |          | 0/? [00:00<?, ?it/s]"
      ]
     },
     "metadata": {},
     "output_type": "display_data"
    },
    {
     "name": "stdout",
     "output_type": "stream",
     "text": [
      "Port Alberni\n"
     ]
    },
    {
     "data": {
      "application/vnd.jupyter.widget-view+json": {
       "model_id": "b82148d6b8514c399588af8ab2469ac9",
       "version_major": 2,
       "version_minor": 0
      },
      "text/plain": [
       "Predicting: |          | 0/? [00:00<?, ?it/s]"
      ]
     },
     "metadata": {},
     "output_type": "display_data"
    },
    {
     "name": "stdout",
     "output_type": "stream",
     "text": [
      "Commerce Municipal Bus Lines\n"
     ]
    },
    {
     "data": {
      "application/vnd.jupyter.widget-view+json": {
       "model_id": "8330b4bc29224a1cbc2c1905bea79a47",
       "version_major": 2,
       "version_minor": 0
      },
      "text/plain": [
       "Predicting: |          | 0/? [00:00<?, ?it/s]"
      ]
     },
     "metadata": {},
     "output_type": "display_data"
    },
    {
     "name": "stdout",
     "output_type": "stream",
     "text": [
      "Stanislaus Regional Transit Authority (StanRTA)\n"
     ]
    },
    {
     "data": {
      "application/vnd.jupyter.widget-view+json": {
       "model_id": "53b09bafa9244731980ce52a1c4988a7",
       "version_major": 2,
       "version_minor": 0
      },
      "text/plain": [
       "Predicting: |          | 0/? [00:00<?, ?it/s]"
      ]
     },
     "metadata": {},
     "output_type": "display_data"
    }
   ],
   "source": [
    "# Test model on each city\n",
    "res = {}\n",
    "test_sources = cleaned_sources.iloc[:]\n",
    "for i, row in test_sources.iterrows():\n",
    "    # Load model and check if day has data for given city\n",
    "    model = model_utils.load_model(\"../logs/\", model_network, model_type, 0)\n",
    "    model.eval()\n",
    "    test_data_folders = [f\"../data/other_feeds/{row['uuid']}_realtime/processed\"]\n",
    "    available_days = [x.name for x in Path(test_data_folders[0], \"training\").glob('*')]\n",
    "    if test_days[0] not in available_days:\n",
    "        continue\n",
    "    # Run inference for city\n",
    "    print(row['provider'])\n",
    "    test_dataset = data_loader.NumpyDataset(\n",
    "        test_data_folders,\n",
    "        test_days,\n",
    "        holdout_routes=model.holdout_routes,\n",
    "        load_in_memory=True,\n",
    "        config = model.config,\n",
    "    )\n",
    "    test_loader = DataLoader(\n",
    "        test_dataset,\n",
    "        collate_fn=model.collate_fn,\n",
    "        batch_size=model.batch_size,\n",
    "        shuffle=False,\n",
    "        drop_last=False,\n",
    "        num_workers=num_workers,\n",
    "        pin_memory=pin_memory\n",
    "    )\n",
    "    trainer = pl.Trainer(\n",
    "        accelerator=accelerator,\n",
    "        logger=False,\n",
    "        inference_mode=True\n",
    "    )\n",
    "    preds_and_labels = trainer.predict(model=model, dataloaders=test_loader)\n",
    "    preds = np.concatenate([x['preds'] for x in preds_and_labels])\n",
    "    labels = np.concatenate([x['labels'] for x in preds_and_labels])\n",
    "    res[row['uuid']] = {'preds':preds, 'labels':labels}"
   ]
  },
  {
   "cell_type": "code",
   "execution_count": 10,
   "metadata": {},
   "outputs": [],
   "source": [
    "save_dir = Path(\"..\", \"results\", model_network, \"multicity_tuning\")\n",
    "save_dir.mkdir(parents=True, exist_ok=True)\n",
    "with open(save_dir / f\"{model_type}.pkl\", \"wb\") as f:\n",
    "    pickle.dump(res, f)"
   ]
  },
  {
   "cell_type": "code",
   "execution_count": 11,
   "metadata": {},
   "outputs": [
    {
     "name": "stdout",
     "output_type": "stream",
     "text": [
      "London Transit Commission\n"
     ]
    },
    {
     "name": "stderr",
     "output_type": "stream",
     "text": [
      "/home/zack/Desktop/open_bus_tools/.venv/lib/python3.9/site-packages/lightning/pytorch/trainer/configuration_validator.py:74: You defined a `validation_step` but have no `val_dataloader`. Skipping val loop.\n",
      "Missing logger folder: /home/zack/Desktop/open_bus_tools/notebooks/lightning_logs\n",
      "\n",
      "  | Name                       | Type            | Params\n",
      "---------------------------------------------------------------\n",
      "0 | loss_fn                    | MSELoss         | 0     \n",
      "1 | min_em                     | MinuteEmbedding | 69.1 K\n",
      "2 | day_em                     | DayEmbedding    | 28    \n",
      "3 | rnn                        | GRU             | 38.6 K\n",
      "4 | feature_extract            | Linear          | 117   \n",
      "5 | feature_extract_activation | ReLU            | 0     \n",
      "---------------------------------------------------------------\n",
      "107 K     Trainable params\n",
      "0         Non-trainable params\n",
      "107 K     Total params\n",
      "0.431     Total estimated model params size (MB)\n",
      "/home/zack/Desktop/open_bus_tools/.venv/lib/python3.9/site-packages/lightning/pytorch/loops/fit_loop.py:293: The number of training batches (1) is smaller than the logging interval Trainer(log_every_n_steps=50). Set a lower value for log_every_n_steps if you want to see logs for the training epoch.\n"
     ]
    },
    {
     "data": {
      "application/vnd.jupyter.widget-view+json": {
       "model_id": "7ed984eb63094a8c850bd66be94f0437",
       "version_major": 2,
       "version_minor": 0
      },
      "text/plain": [
       "Training: |          | 0/? [00:00<?, ?it/s]"
      ]
     },
     "metadata": {},
     "output_type": "display_data"
    },
    {
     "data": {
      "application/vnd.jupyter.widget-view+json": {
       "model_id": "f694e09ca6bb4f07adc002357ce84b09",
       "version_major": 2,
       "version_minor": 0
      },
      "text/plain": [
       "Predicting: |          | 0/? [00:00<?, ?it/s]"
      ]
     },
     "metadata": {},
     "output_type": "display_data"
    },
    {
     "name": "stdout",
     "output_type": "stream",
     "text": [
      "Barrie Transit\n"
     ]
    },
    {
     "name": "stderr",
     "output_type": "stream",
     "text": [
      "\n",
      "  | Name                       | Type            | Params\n",
      "---------------------------------------------------------------\n",
      "0 | loss_fn                    | MSELoss         | 0     \n",
      "1 | min_em                     | MinuteEmbedding | 69.1 K\n",
      "2 | day_em                     | DayEmbedding    | 28    \n",
      "3 | rnn                        | GRU             | 38.6 K\n",
      "4 | feature_extract            | Linear          | 117   \n",
      "5 | feature_extract_activation | ReLU            | 0     \n",
      "---------------------------------------------------------------\n",
      "107 K     Trainable params\n",
      "0         Non-trainable params\n",
      "107 K     Total params\n",
      "0.431     Total estimated model params size (MB)\n"
     ]
    },
    {
     "data": {
      "application/vnd.jupyter.widget-view+json": {
       "model_id": "ca4acab1742649efbda723e11a4a1506",
       "version_major": 2,
       "version_minor": 0
      },
      "text/plain": [
       "Training: |          | 0/? [00:00<?, ?it/s]"
      ]
     },
     "metadata": {},
     "output_type": "display_data"
    },
    {
     "data": {
      "application/vnd.jupyter.widget-view+json": {
       "model_id": "74185efe7c8d40f6a635de8e564a6f82",
       "version_major": 2,
       "version_minor": 0
      },
      "text/plain": [
       "Predicting: |          | 0/? [00:00<?, ?it/s]"
      ]
     },
     "metadata": {},
     "output_type": "display_data"
    },
    {
     "name": "stderr",
     "output_type": "stream",
     "text": [
      "\n",
      "  | Name                       | Type            | Params\n",
      "---------------------------------------------------------------\n",
      "0 | loss_fn                    | MSELoss         | 0     \n",
      "1 | min_em                     | MinuteEmbedding | 69.1 K\n",
      "2 | day_em                     | DayEmbedding    | 28    \n",
      "3 | rnn                        | GRU             | 38.6 K\n",
      "4 | feature_extract            | Linear          | 117   \n",
      "5 | feature_extract_activation | ReLU            | 0     \n",
      "---------------------------------------------------------------\n",
      "107 K     Trainable params\n",
      "0         Non-trainable params\n",
      "107 K     Total params\n",
      "0.431     Total estimated model params size (MB)\n"
     ]
    },
    {
     "name": "stdout",
     "output_type": "stream",
     "text": [
      "Big Blue Bus\n"
     ]
    },
    {
     "data": {
      "application/vnd.jupyter.widget-view+json": {
       "model_id": "02c9fd116fc8442099aceb96a504ec4f",
       "version_major": 2,
       "version_minor": 0
      },
      "text/plain": [
       "Training: |          | 0/? [00:00<?, ?it/s]"
      ]
     },
     "metadata": {},
     "output_type": "display_data"
    },
    {
     "data": {
      "application/vnd.jupyter.widget-view+json": {
       "model_id": "7cb4c064184446debe80ff3f77fed097",
       "version_major": 2,
       "version_minor": 0
      },
      "text/plain": [
       "Predicting: |          | 0/? [00:00<?, ?it/s]"
      ]
     },
     "metadata": {},
     "output_type": "display_data"
    },
    {
     "name": "stderr",
     "output_type": "stream",
     "text": [
      "\n",
      "  | Name                       | Type            | Params\n",
      "---------------------------------------------------------------\n",
      "0 | loss_fn                    | MSELoss         | 0     \n",
      "1 | min_em                     | MinuteEmbedding | 69.1 K\n",
      "2 | day_em                     | DayEmbedding    | 28    \n",
      "3 | rnn                        | GRU             | 38.6 K\n",
      "4 | feature_extract            | Linear          | 117   \n",
      "5 | feature_extract_activation | ReLU            | 0     \n",
      "---------------------------------------------------------------\n",
      "107 K     Trainable params\n",
      "0         Non-trainable params\n",
      "107 K     Total params\n",
      "0.431     Total estimated model params size (MB)\n"
     ]
    },
    {
     "name": "stdout",
     "output_type": "stream",
     "text": [
      "Mountain View Transportation Management Association (MVgo)\n"
     ]
    },
    {
     "data": {
      "application/vnd.jupyter.widget-view+json": {
       "model_id": "08d20e12d64947a1969f009b9028a5aa",
       "version_major": 2,
       "version_minor": 0
      },
      "text/plain": [
       "Training: |          | 0/? [00:00<?, ?it/s]"
      ]
     },
     "metadata": {},
     "output_type": "display_data"
    },
    {
     "data": {
      "application/vnd.jupyter.widget-view+json": {
       "model_id": "cb7bd8d80ee947b0a3eb198318f88fdf",
       "version_major": 2,
       "version_minor": 0
      },
      "text/plain": [
       "Predicting: |          | 0/? [00:00<?, ?it/s]"
      ]
     },
     "metadata": {},
     "output_type": "display_data"
    },
    {
     "name": "stderr",
     "output_type": "stream",
     "text": [
      "\n",
      "  | Name                       | Type            | Params\n",
      "---------------------------------------------------------------\n",
      "0 | loss_fn                    | MSELoss         | 0     \n",
      "1 | min_em                     | MinuteEmbedding | 69.1 K\n",
      "2 | day_em                     | DayEmbedding    | 28    \n",
      "3 | rnn                        | GRU             | 38.6 K\n",
      "4 | feature_extract            | Linear          | 117   \n",
      "5 | feature_extract_activation | ReLU            | 0     \n",
      "---------------------------------------------------------------\n",
      "107 K     Trainable params\n",
      "0         Non-trainable params\n",
      "107 K     Total params\n",
      "0.431     Total estimated model params size (MB)\n"
     ]
    },
    {
     "name": "stdout",
     "output_type": "stream",
     "text": [
      "Capital Metro\n"
     ]
    },
    {
     "data": {
      "application/vnd.jupyter.widget-view+json": {
       "model_id": "a180bbcb937645a3915403652b3c33ef",
       "version_major": 2,
       "version_minor": 0
      },
      "text/plain": [
       "Training: |          | 0/? [00:00<?, ?it/s]"
      ]
     },
     "metadata": {},
     "output_type": "display_data"
    },
    {
     "data": {
      "application/vnd.jupyter.widget-view+json": {
       "model_id": "8e4590a848f644beb7a5dc433150e9cf",
       "version_major": 2,
       "version_minor": 0
      },
      "text/plain": [
       "Predicting: |          | 0/? [00:00<?, ?it/s]"
      ]
     },
     "metadata": {},
     "output_type": "display_data"
    },
    {
     "name": "stderr",
     "output_type": "stream",
     "text": [
      "\n",
      "  | Name                       | Type            | Params\n",
      "---------------------------------------------------------------\n",
      "0 | loss_fn                    | MSELoss         | 0     \n",
      "1 | min_em                     | MinuteEmbedding | 69.1 K\n",
      "2 | day_em                     | DayEmbedding    | 28    \n",
      "3 | rnn                        | GRU             | 38.6 K\n",
      "4 | feature_extract            | Linear          | 117   \n",
      "5 | feature_extract_activation | ReLU            | 0     \n",
      "---------------------------------------------------------------\n",
      "107 K     Trainable params\n",
      "0         Non-trainable params\n",
      "107 K     Total params\n",
      "0.431     Total estimated model params size (MB)\n"
     ]
    },
    {
     "name": "stdout",
     "output_type": "stream",
     "text": [
      "Regional Transportation District (RTD)\n"
     ]
    },
    {
     "data": {
      "application/vnd.jupyter.widget-view+json": {
       "model_id": "328adc71418c48229bbbc28e2392a2fc",
       "version_major": 2,
       "version_minor": 0
      },
      "text/plain": [
       "Training: |          | 0/? [00:00<?, ?it/s]"
      ]
     },
     "metadata": {},
     "output_type": "display_data"
    },
    {
     "data": {
      "application/vnd.jupyter.widget-view+json": {
       "model_id": "590acde101ab4f9a9c9c8932bc94775c",
       "version_major": 2,
       "version_minor": 0
      },
      "text/plain": [
       "Predicting: |          | 0/? [00:00<?, ?it/s]"
      ]
     },
     "metadata": {},
     "output_type": "display_data"
    },
    {
     "name": "stdout",
     "output_type": "stream",
     "text": [
      "Metro St. Louis\n"
     ]
    },
    {
     "name": "stderr",
     "output_type": "stream",
     "text": [
      "\n",
      "  | Name                       | Type            | Params\n",
      "---------------------------------------------------------------\n",
      "0 | loss_fn                    | MSELoss         | 0     \n",
      "1 | min_em                     | MinuteEmbedding | 69.1 K\n",
      "2 | day_em                     | DayEmbedding    | 28    \n",
      "3 | rnn                        | GRU             | 38.6 K\n",
      "4 | feature_extract            | Linear          | 117   \n",
      "5 | feature_extract_activation | ReLU            | 0     \n",
      "---------------------------------------------------------------\n",
      "107 K     Trainable params\n",
      "0         Non-trainable params\n",
      "107 K     Total params\n",
      "0.431     Total estimated model params size (MB)\n"
     ]
    },
    {
     "data": {
      "application/vnd.jupyter.widget-view+json": {
       "model_id": "e0f2db94da1748199b1371134b6f4be2",
       "version_major": 2,
       "version_minor": 0
      },
      "text/plain": [
       "Training: |          | 0/? [00:00<?, ?it/s]"
      ]
     },
     "metadata": {},
     "output_type": "display_data"
    },
    {
     "data": {
      "application/vnd.jupyter.widget-view+json": {
       "model_id": "3b184733faf340d2b0e1dd01e15441d6",
       "version_major": 2,
       "version_minor": 0
      },
      "text/plain": [
       "Predicting: |          | 0/? [00:00<?, ?it/s]"
      ]
     },
     "metadata": {},
     "output_type": "display_data"
    },
    {
     "name": "stderr",
     "output_type": "stream",
     "text": [
      "\n",
      "  | Name                       | Type            | Params\n",
      "---------------------------------------------------------------\n",
      "0 | loss_fn                    | MSELoss         | 0     \n",
      "1 | min_em                     | MinuteEmbedding | 69.1 K\n",
      "2 | day_em                     | DayEmbedding    | 28    \n",
      "3 | rnn                        | GRU             | 38.6 K\n",
      "4 | feature_extract            | Linear          | 117   \n",
      "5 | feature_extract_activation | ReLU            | 0     \n",
      "---------------------------------------------------------------\n",
      "107 K     Trainable params\n",
      "0         Non-trainable params\n",
      "107 K     Total params\n",
      "0.431     Total estimated model params size (MB)\n"
     ]
    },
    {
     "name": "stdout",
     "output_type": "stream",
     "text": [
      "Intercity Transit\n"
     ]
    },
    {
     "data": {
      "application/vnd.jupyter.widget-view+json": {
       "model_id": "b946497db2ce4de498d5ea7455de8292",
       "version_major": 2,
       "version_minor": 0
      },
      "text/plain": [
       "Training: |          | 0/? [00:00<?, ?it/s]"
      ]
     },
     "metadata": {},
     "output_type": "display_data"
    },
    {
     "data": {
      "application/vnd.jupyter.widget-view+json": {
       "model_id": "9100b6bbb2c0415b8c0288d1f06638c9",
       "version_major": 2,
       "version_minor": 0
      },
      "text/plain": [
       "Predicting: |          | 0/? [00:00<?, ?it/s]"
      ]
     },
     "metadata": {},
     "output_type": "display_data"
    },
    {
     "name": "stderr",
     "output_type": "stream",
     "text": [
      "\n",
      "  | Name                       | Type            | Params\n",
      "---------------------------------------------------------------\n",
      "0 | loss_fn                    | MSELoss         | 0     \n",
      "1 | min_em                     | MinuteEmbedding | 69.1 K\n",
      "2 | day_em                     | DayEmbedding    | 28    \n",
      "3 | rnn                        | GRU             | 38.6 K\n",
      "4 | feature_extract            | Linear          | 117   \n",
      "5 | feature_extract_activation | ReLU            | 0     \n",
      "---------------------------------------------------------------\n",
      "107 K     Trainable params\n",
      "0         Non-trainable params\n",
      "107 K     Total params\n",
      "0.431     Total estimated model params size (MB)\n"
     ]
    },
    {
     "name": "stdout",
     "output_type": "stream",
     "text": [
      "Duluth Transit\n"
     ]
    },
    {
     "data": {
      "application/vnd.jupyter.widget-view+json": {
       "model_id": "05d2c712e130415d830a4b5bfb5f3467",
       "version_major": 2,
       "version_minor": 0
      },
      "text/plain": [
       "Training: |          | 0/? [00:00<?, ?it/s]"
      ]
     },
     "metadata": {},
     "output_type": "display_data"
    },
    {
     "data": {
      "application/vnd.jupyter.widget-view+json": {
       "model_id": "b3af80b9bfaf4a6f8ea410d3878af027",
       "version_major": 2,
       "version_minor": 0
      },
      "text/plain": [
       "Predicting: |          | 0/? [00:00<?, ?it/s]"
      ]
     },
     "metadata": {},
     "output_type": "display_data"
    },
    {
     "name": "stderr",
     "output_type": "stream",
     "text": [
      "\n",
      "  | Name                       | Type            | Params\n",
      "---------------------------------------------------------------\n",
      "0 | loss_fn                    | MSELoss         | 0     \n",
      "1 | min_em                     | MinuteEmbedding | 69.1 K\n",
      "2 | day_em                     | DayEmbedding    | 28    \n",
      "3 | rnn                        | GRU             | 38.6 K\n",
      "4 | feature_extract            | Linear          | 117   \n",
      "5 | feature_extract_activation | ReLU            | 0     \n",
      "---------------------------------------------------------------\n",
      "107 K     Trainable params\n",
      "0         Non-trainable params\n",
      "107 K     Total params\n",
      "0.431     Total estimated model params size (MB)\n"
     ]
    },
    {
     "name": "stdout",
     "output_type": "stream",
     "text": [
      "Votran\n"
     ]
    },
    {
     "data": {
      "application/vnd.jupyter.widget-view+json": {
       "model_id": "f6ab3c6ddbfa404d8de09ab6e7bff202",
       "version_major": 2,
       "version_minor": 0
      },
      "text/plain": [
       "Training: |          | 0/? [00:00<?, ?it/s]"
      ]
     },
     "metadata": {},
     "output_type": "display_data"
    },
    {
     "data": {
      "application/vnd.jupyter.widget-view+json": {
       "model_id": "9452c9d8f104470fbba9a36081148db5",
       "version_major": 2,
       "version_minor": 0
      },
      "text/plain": [
       "Predicting: |          | 0/? [00:00<?, ?it/s]"
      ]
     },
     "metadata": {},
     "output_type": "display_data"
    },
    {
     "name": "stdout",
     "output_type": "stream",
     "text": [
      "Nashville Metropolitan Transit Authority (Nashville MTA)\n"
     ]
    },
    {
     "name": "stderr",
     "output_type": "stream",
     "text": [
      "\n",
      "  | Name                       | Type            | Params\n",
      "---------------------------------------------------------------\n",
      "0 | loss_fn                    | MSELoss         | 0     \n",
      "1 | min_em                     | MinuteEmbedding | 69.1 K\n",
      "2 | day_em                     | DayEmbedding    | 28    \n",
      "3 | rnn                        | GRU             | 38.6 K\n",
      "4 | feature_extract            | Linear          | 117   \n",
      "5 | feature_extract_activation | ReLU            | 0     \n",
      "---------------------------------------------------------------\n",
      "107 K     Trainable params\n",
      "0         Non-trainable params\n",
      "107 K     Total params\n",
      "0.431     Total estimated model params size (MB)\n"
     ]
    },
    {
     "data": {
      "application/vnd.jupyter.widget-view+json": {
       "model_id": "fecddd445edf4d9982b8d714004a316b",
       "version_major": 2,
       "version_minor": 0
      },
      "text/plain": [
       "Training: |          | 0/? [00:00<?, ?it/s]"
      ]
     },
     "metadata": {},
     "output_type": "display_data"
    },
    {
     "data": {
      "application/vnd.jupyter.widget-view+json": {
       "model_id": "b77eec8d3daf40d693c647819d544197",
       "version_major": 2,
       "version_minor": 0
      },
      "text/plain": [
       "Predicting: |          | 0/? [00:00<?, ?it/s]"
      ]
     },
     "metadata": {},
     "output_type": "display_data"
    },
    {
     "name": "stderr",
     "output_type": "stream",
     "text": [
      "\n",
      "  | Name                       | Type            | Params\n",
      "---------------------------------------------------------------\n",
      "0 | loss_fn                    | MSELoss         | 0     \n",
      "1 | min_em                     | MinuteEmbedding | 69.1 K\n",
      "2 | day_em                     | DayEmbedding    | 28    \n",
      "3 | rnn                        | GRU             | 38.6 K\n",
      "4 | feature_extract            | Linear          | 117   \n",
      "5 | feature_extract_activation | ReLU            | 0     \n",
      "---------------------------------------------------------------\n",
      "107 K     Trainable params\n",
      "0         Non-trainable params\n",
      "107 K     Total params\n",
      "0.431     Total estimated model params size (MB)\n"
     ]
    },
    {
     "name": "stdout",
     "output_type": "stream",
     "text": [
      "Transit Authority of River City (TARC)\n"
     ]
    },
    {
     "data": {
      "application/vnd.jupyter.widget-view+json": {
       "model_id": "622d96fc1b1d444fb364c33f057263be",
       "version_major": 2,
       "version_minor": 0
      },
      "text/plain": [
       "Training: |          | 0/? [00:00<?, ?it/s]"
      ]
     },
     "metadata": {},
     "output_type": "display_data"
    },
    {
     "data": {
      "application/vnd.jupyter.widget-view+json": {
       "model_id": "eb8d60066dd64387b5c98c3db438efe8",
       "version_major": 2,
       "version_minor": 0
      },
      "text/plain": [
       "Predicting: |          | 0/? [00:00<?, ?it/s]"
      ]
     },
     "metadata": {},
     "output_type": "display_data"
    },
    {
     "name": "stdout",
     "output_type": "stream",
     "text": [
      "Metropolitan Atlanta Rapid Transit Authority (MARTA)\n"
     ]
    },
    {
     "name": "stderr",
     "output_type": "stream",
     "text": [
      "\n",
      "  | Name                       | Type            | Params\n",
      "---------------------------------------------------------------\n",
      "0 | loss_fn                    | MSELoss         | 0     \n",
      "1 | min_em                     | MinuteEmbedding | 69.1 K\n",
      "2 | day_em                     | DayEmbedding    | 28    \n",
      "3 | rnn                        | GRU             | 38.6 K\n",
      "4 | feature_extract            | Linear          | 117   \n",
      "5 | feature_extract_activation | ReLU            | 0     \n",
      "---------------------------------------------------------------\n",
      "107 K     Trainable params\n",
      "0         Non-trainable params\n",
      "107 K     Total params\n",
      "0.431     Total estimated model params size (MB)\n"
     ]
    },
    {
     "data": {
      "application/vnd.jupyter.widget-view+json": {
       "model_id": "cb456ab8644343adb8db9833cfd01d7d",
       "version_major": 2,
       "version_minor": 0
      },
      "text/plain": [
       "Training: |          | 0/? [00:00<?, ?it/s]"
      ]
     },
     "metadata": {},
     "output_type": "display_data"
    },
    {
     "data": {
      "application/vnd.jupyter.widget-view+json": {
       "model_id": "161fdfff904d48d39f85ce6ceefa9641",
       "version_major": 2,
       "version_minor": 0
      },
      "text/plain": [
       "Predicting: |          | 0/? [00:00<?, ?it/s]"
      ]
     },
     "metadata": {},
     "output_type": "display_data"
    },
    {
     "name": "stderr",
     "output_type": "stream",
     "text": [
      "\n",
      "  | Name                       | Type            | Params\n",
      "---------------------------------------------------------------\n",
      "0 | loss_fn                    | MSELoss         | 0     \n",
      "1 | min_em                     | MinuteEmbedding | 69.1 K\n",
      "2 | day_em                     | DayEmbedding    | 28    \n",
      "3 | rnn                        | GRU             | 38.6 K\n",
      "4 | feature_extract            | Linear          | 117   \n",
      "5 | feature_extract_activation | ReLU            | 0     \n",
      "---------------------------------------------------------------\n",
      "107 K     Trainable params\n",
      "0         Non-trainable params\n",
      "107 K     Total params\n",
      "0.431     Total estimated model params size (MB)\n"
     ]
    },
    {
     "name": "stdout",
     "output_type": "stream",
     "text": [
      "Springfield Mass Transit District (SMTD)\n"
     ]
    },
    {
     "data": {
      "application/vnd.jupyter.widget-view+json": {
       "model_id": "c82f390ba09a4057abe85d8e17ccdfc2",
       "version_major": 2,
       "version_minor": 0
      },
      "text/plain": [
       "Training: |          | 0/? [00:00<?, ?it/s]"
      ]
     },
     "metadata": {},
     "output_type": "display_data"
    },
    {
     "data": {
      "application/vnd.jupyter.widget-view+json": {
       "model_id": "294b9e9325ca4bcd8ff5998c148384b9",
       "version_major": 2,
       "version_minor": 0
      },
      "text/plain": [
       "Predicting: |          | 0/? [00:00<?, ?it/s]"
      ]
     },
     "metadata": {},
     "output_type": "display_data"
    },
    {
     "name": "stderr",
     "output_type": "stream",
     "text": [
      "\n",
      "  | Name                       | Type            | Params\n",
      "---------------------------------------------------------------\n",
      "0 | loss_fn                    | MSELoss         | 0     \n",
      "1 | min_em                     | MinuteEmbedding | 69.1 K\n",
      "2 | day_em                     | DayEmbedding    | 28    \n",
      "3 | rnn                        | GRU             | 38.6 K\n",
      "4 | feature_extract            | Linear          | 117   \n",
      "5 | feature_extract_activation | ReLU            | 0     \n",
      "---------------------------------------------------------------\n",
      "107 K     Trainable params\n",
      "0         Non-trainable params\n",
      "107 K     Total params\n",
      "0.431     Total estimated model params size (MB)\n"
     ]
    },
    {
     "name": "stdout",
     "output_type": "stream",
     "text": [
      "Metro Transit\n"
     ]
    },
    {
     "data": {
      "application/vnd.jupyter.widget-view+json": {
       "model_id": "88c99dd6822d46d2bbd3e4a92ea34ca4",
       "version_major": 2,
       "version_minor": 0
      },
      "text/plain": [
       "Training: |          | 0/? [00:00<?, ?it/s]"
      ]
     },
     "metadata": {},
     "output_type": "display_data"
    },
    {
     "data": {
      "application/vnd.jupyter.widget-view+json": {
       "model_id": "16952a57052d42bbb1141b1eb8c8f801",
       "version_major": 2,
       "version_minor": 0
      },
      "text/plain": [
       "Predicting: |          | 0/? [00:00<?, ?it/s]"
      ]
     },
     "metadata": {},
     "output_type": "display_data"
    },
    {
     "name": "stdout",
     "output_type": "stream",
     "text": [
      "Port Authority of Allegheny County\n"
     ]
    },
    {
     "name": "stderr",
     "output_type": "stream",
     "text": [
      "\n",
      "  | Name                       | Type            | Params\n",
      "---------------------------------------------------------------\n",
      "0 | loss_fn                    | MSELoss         | 0     \n",
      "1 | min_em                     | MinuteEmbedding | 69.1 K\n",
      "2 | day_em                     | DayEmbedding    | 28    \n",
      "3 | rnn                        | GRU             | 38.6 K\n",
      "4 | feature_extract            | Linear          | 117   \n",
      "5 | feature_extract_activation | ReLU            | 0     \n",
      "---------------------------------------------------------------\n",
      "107 K     Trainable params\n",
      "0         Non-trainable params\n",
      "107 K     Total params\n",
      "0.431     Total estimated model params size (MB)\n"
     ]
    },
    {
     "data": {
      "application/vnd.jupyter.widget-view+json": {
       "model_id": "cd0b1b69f15142bba0cd6c64d3dbfc9f",
       "version_major": 2,
       "version_minor": 0
      },
      "text/plain": [
       "Training: |          | 0/? [00:00<?, ?it/s]"
      ]
     },
     "metadata": {},
     "output_type": "display_data"
    },
    {
     "data": {
      "application/vnd.jupyter.widget-view+json": {
       "model_id": "20652ff1de4d449e870870696e2940df",
       "version_major": 2,
       "version_minor": 0
      },
      "text/plain": [
       "Predicting: |          | 0/? [00:00<?, ?it/s]"
      ]
     },
     "metadata": {},
     "output_type": "display_data"
    },
    {
     "name": "stdout",
     "output_type": "stream",
     "text": [
      "Massachusetts Bay Transportation Authority (MBTA)\n"
     ]
    },
    {
     "name": "stderr",
     "output_type": "stream",
     "text": [
      "\n",
      "  | Name                       | Type            | Params\n",
      "---------------------------------------------------------------\n",
      "0 | loss_fn                    | MSELoss         | 0     \n",
      "1 | min_em                     | MinuteEmbedding | 69.1 K\n",
      "2 | day_em                     | DayEmbedding    | 28    \n",
      "3 | rnn                        | GRU             | 38.6 K\n",
      "4 | feature_extract            | Linear          | 117   \n",
      "5 | feature_extract_activation | ReLU            | 0     \n",
      "---------------------------------------------------------------\n",
      "107 K     Trainable params\n",
      "0         Non-trainable params\n",
      "107 K     Total params\n",
      "0.431     Total estimated model params size (MB)\n"
     ]
    },
    {
     "data": {
      "application/vnd.jupyter.widget-view+json": {
       "model_id": "a77e0bbf7dde4368b88f0b58799a21b5",
       "version_major": 2,
       "version_minor": 0
      },
      "text/plain": [
       "Training: |          | 0/? [00:00<?, ?it/s]"
      ]
     },
     "metadata": {},
     "output_type": "display_data"
    },
    {
     "data": {
      "application/vnd.jupyter.widget-view+json": {
       "model_id": "073b7ef5da384c3eb3744d508578d77d",
       "version_major": 2,
       "version_minor": 0
      },
      "text/plain": [
       "Predicting: |          | 0/? [00:00<?, ?it/s]"
      ]
     },
     "metadata": {},
     "output_type": "display_data"
    },
    {
     "name": "stderr",
     "output_type": "stream",
     "text": [
      "\n",
      "  | Name                       | Type            | Params\n",
      "---------------------------------------------------------------\n",
      "0 | loss_fn                    | MSELoss         | 0     \n",
      "1 | min_em                     | MinuteEmbedding | 69.1 K\n",
      "2 | day_em                     | DayEmbedding    | 28    \n",
      "3 | rnn                        | GRU             | 38.6 K\n",
      "4 | feature_extract            | Linear          | 117   \n",
      "5 | feature_extract_activation | ReLU            | 0     \n",
      "---------------------------------------------------------------\n",
      "107 K     Trainable params\n",
      "0         Non-trainable params\n",
      "107 K     Total params\n",
      "0.431     Total estimated model params size (MB)\n"
     ]
    },
    {
     "name": "stdout",
     "output_type": "stream",
     "text": [
      "Arlington Transit\n"
     ]
    },
    {
     "data": {
      "application/vnd.jupyter.widget-view+json": {
       "model_id": "eba8cdf4e384430a91dddf86258fb6f3",
       "version_major": 2,
       "version_minor": 0
      },
      "text/plain": [
       "Training: |          | 0/? [00:00<?, ?it/s]"
      ]
     },
     "metadata": {},
     "output_type": "display_data"
    },
    {
     "data": {
      "application/vnd.jupyter.widget-view+json": {
       "model_id": "e9ee20035bcc4152a92f7050d9f60198",
       "version_major": 2,
       "version_minor": 0
      },
      "text/plain": [
       "Predicting: |          | 0/? [00:00<?, ?it/s]"
      ]
     },
     "metadata": {},
     "output_type": "display_data"
    },
    {
     "name": "stderr",
     "output_type": "stream",
     "text": [
      "\n",
      "  | Name                       | Type            | Params\n",
      "---------------------------------------------------------------\n",
      "0 | loss_fn                    | MSELoss         | 0     \n",
      "1 | min_em                     | MinuteEmbedding | 69.1 K\n",
      "2 | day_em                     | DayEmbedding    | 28    \n",
      "3 | rnn                        | GRU             | 38.6 K\n",
      "4 | feature_extract            | Linear          | 117   \n",
      "5 | feature_extract_activation | ReLU            | 0     \n",
      "---------------------------------------------------------------\n",
      "107 K     Trainable params\n",
      "0         Non-trainable params\n",
      "107 K     Total params\n",
      "0.431     Total estimated model params size (MB)\n"
     ]
    },
    {
     "name": "stdout",
     "output_type": "stream",
     "text": [
      "Rochester-Genesee Regional Transportation Authority (RGRTA)\n"
     ]
    },
    {
     "data": {
      "application/vnd.jupyter.widget-view+json": {
       "model_id": "0005efff07e34f2ca629cd210f4805f7",
       "version_major": 2,
       "version_minor": 0
      },
      "text/plain": [
       "Training: |          | 0/? [00:00<?, ?it/s]"
      ]
     },
     "metadata": {},
     "output_type": "display_data"
    },
    {
     "data": {
      "application/vnd.jupyter.widget-view+json": {
       "model_id": "ff5e822a11814f61a504c45585f98564",
       "version_major": 2,
       "version_minor": 0
      },
      "text/plain": [
       "Predicting: |          | 0/? [00:00<?, ?it/s]"
      ]
     },
     "metadata": {},
     "output_type": "display_data"
    },
    {
     "name": "stdout",
     "output_type": "stream",
     "text": [
      "Adelaide Metro\n"
     ]
    },
    {
     "name": "stderr",
     "output_type": "stream",
     "text": [
      "\n",
      "  | Name                       | Type            | Params\n",
      "---------------------------------------------------------------\n",
      "0 | loss_fn                    | MSELoss         | 0     \n",
      "1 | min_em                     | MinuteEmbedding | 69.1 K\n",
      "2 | day_em                     | DayEmbedding    | 28    \n",
      "3 | rnn                        | GRU             | 38.6 K\n",
      "4 | feature_extract            | Linear          | 117   \n",
      "5 | feature_extract_activation | ReLU            | 0     \n",
      "---------------------------------------------------------------\n",
      "107 K     Trainable params\n",
      "0         Non-trainable params\n",
      "107 K     Total params\n",
      "0.431     Total estimated model params size (MB)\n"
     ]
    },
    {
     "data": {
      "application/vnd.jupyter.widget-view+json": {
       "model_id": "6337c3454c7d4b8ab2aee6528df644b5",
       "version_major": 2,
       "version_minor": 0
      },
      "text/plain": [
       "Training: |          | 0/? [00:00<?, ?it/s]"
      ]
     },
     "metadata": {},
     "output_type": "display_data"
    },
    {
     "data": {
      "application/vnd.jupyter.widget-view+json": {
       "model_id": "d14365daba764ac2b586dc6dbcdc7bea",
       "version_major": 2,
       "version_minor": 0
      },
      "text/plain": [
       "Predicting: |          | 0/? [00:00<?, ?it/s]"
      ]
     },
     "metadata": {},
     "output_type": "display_data"
    },
    {
     "name": "stderr",
     "output_type": "stream",
     "text": [
      "\n",
      "  | Name                       | Type            | Params\n",
      "---------------------------------------------------------------\n",
      "0 | loss_fn                    | MSELoss         | 0     \n",
      "1 | min_em                     | MinuteEmbedding | 69.1 K\n",
      "2 | day_em                     | DayEmbedding    | 28    \n",
      "3 | rnn                        | GRU             | 38.6 K\n",
      "4 | feature_extract            | Linear          | 117   \n",
      "5 | feature_extract_activation | ReLU            | 0     \n",
      "---------------------------------------------------------------\n",
      "107 K     Trainable params\n",
      "0         Non-trainable params\n",
      "107 K     Total params\n",
      "0.431     Total estimated model params size (MB)\n"
     ]
    },
    {
     "name": "stdout",
     "output_type": "stream",
     "text": [
      "TransLink Sunbus Cairns\n"
     ]
    },
    {
     "data": {
      "application/vnd.jupyter.widget-view+json": {
       "model_id": "9a87e997bfef4938b3660d96a7397a44",
       "version_major": 2,
       "version_minor": 0
      },
      "text/plain": [
       "Training: |          | 0/? [00:00<?, ?it/s]"
      ]
     },
     "metadata": {},
     "output_type": "display_data"
    },
    {
     "data": {
      "application/vnd.jupyter.widget-view+json": {
       "model_id": "f5db67089e5042cc9b37648c647565a5",
       "version_major": 2,
       "version_minor": 0
      },
      "text/plain": [
       "Predicting: |          | 0/? [00:00<?, ?it/s]"
      ]
     },
     "metadata": {},
     "output_type": "display_data"
    },
    {
     "name": "stdout",
     "output_type": "stream",
     "text": [
      "BC Transit (Victoria Regional Transit System)\n"
     ]
    },
    {
     "name": "stderr",
     "output_type": "stream",
     "text": [
      "\n",
      "  | Name                       | Type            | Params\n",
      "---------------------------------------------------------------\n",
      "0 | loss_fn                    | MSELoss         | 0     \n",
      "1 | min_em                     | MinuteEmbedding | 69.1 K\n",
      "2 | day_em                     | DayEmbedding    | 28    \n",
      "3 | rnn                        | GRU             | 38.6 K\n",
      "4 | feature_extract            | Linear          | 117   \n",
      "5 | feature_extract_activation | ReLU            | 0     \n",
      "---------------------------------------------------------------\n",
      "107 K     Trainable params\n",
      "0         Non-trainable params\n",
      "107 K     Total params\n",
      "0.431     Total estimated model params size (MB)\n"
     ]
    },
    {
     "data": {
      "application/vnd.jupyter.widget-view+json": {
       "model_id": "faa0b7b5517e498082743af0f7837358",
       "version_major": 2,
       "version_minor": 0
      },
      "text/plain": [
       "Training: |          | 0/? [00:00<?, ?it/s]"
      ]
     },
     "metadata": {},
     "output_type": "display_data"
    },
    {
     "data": {
      "application/vnd.jupyter.widget-view+json": {
       "model_id": "ca02a94180f845e79523c3a770b95ebd",
       "version_major": 2,
       "version_minor": 0
      },
      "text/plain": [
       "Predicting: |          | 0/? [00:00<?, ?it/s]"
      ]
     },
     "metadata": {},
     "output_type": "display_data"
    },
    {
     "name": "stdout",
     "output_type": "stream",
     "text": [
      "Edmonton Transit System\n"
     ]
    },
    {
     "name": "stderr",
     "output_type": "stream",
     "text": [
      "\n",
      "  | Name                       | Type            | Params\n",
      "---------------------------------------------------------------\n",
      "0 | loss_fn                    | MSELoss         | 0     \n",
      "1 | min_em                     | MinuteEmbedding | 69.1 K\n",
      "2 | day_em                     | DayEmbedding    | 28    \n",
      "3 | rnn                        | GRU             | 38.6 K\n",
      "4 | feature_extract            | Linear          | 117   \n",
      "5 | feature_extract_activation | ReLU            | 0     \n",
      "---------------------------------------------------------------\n",
      "107 K     Trainable params\n",
      "0         Non-trainable params\n",
      "107 K     Total params\n",
      "0.431     Total estimated model params size (MB)\n"
     ]
    },
    {
     "data": {
      "application/vnd.jupyter.widget-view+json": {
       "model_id": "dbd75794b19b492eaadefb53eb20e3d8",
       "version_major": 2,
       "version_minor": 0
      },
      "text/plain": [
       "Training: |          | 0/? [00:00<?, ?it/s]"
      ]
     },
     "metadata": {},
     "output_type": "display_data"
    },
    {
     "data": {
      "application/vnd.jupyter.widget-view+json": {
       "model_id": "082d0b0afbec4a0f8fac0cf1e7562e27",
       "version_major": 2,
       "version_minor": 0
      },
      "text/plain": [
       "Predicting: |          | 0/? [00:00<?, ?it/s]"
      ]
     },
     "metadata": {},
     "output_type": "display_data"
    },
    {
     "name": "stdout",
     "output_type": "stream",
     "text": [
      "Saskatoon Transit\n"
     ]
    },
    {
     "name": "stderr",
     "output_type": "stream",
     "text": [
      "\n",
      "  | Name                       | Type            | Params\n",
      "---------------------------------------------------------------\n",
      "0 | loss_fn                    | MSELoss         | 0     \n",
      "1 | min_em                     | MinuteEmbedding | 69.1 K\n",
      "2 | day_em                     | DayEmbedding    | 28    \n",
      "3 | rnn                        | GRU             | 38.6 K\n",
      "4 | feature_extract            | Linear          | 117   \n",
      "5 | feature_extract_activation | ReLU            | 0     \n",
      "---------------------------------------------------------------\n",
      "107 K     Trainable params\n",
      "0         Non-trainable params\n",
      "107 K     Total params\n",
      "0.431     Total estimated model params size (MB)\n"
     ]
    },
    {
     "data": {
      "application/vnd.jupyter.widget-view+json": {
       "model_id": "ce3fcb8faeb4476fb85b5ce862fb6ef3",
       "version_major": 2,
       "version_minor": 0
      },
      "text/plain": [
       "Training: |          | 0/? [00:00<?, ?it/s]"
      ]
     },
     "metadata": {},
     "output_type": "display_data"
    },
    {
     "data": {
      "application/vnd.jupyter.widget-view+json": {
       "model_id": "45e5dd21caee4da09706f7a154cac2a5",
       "version_major": 2,
       "version_minor": 0
      },
      "text/plain": [
       "Predicting: |          | 0/? [00:00<?, ?it/s]"
      ]
     },
     "metadata": {},
     "output_type": "display_data"
    },
    {
     "name": "stdout",
     "output_type": "stream",
     "text": [
      "Hamilton Street Railway\n"
     ]
    },
    {
     "name": "stderr",
     "output_type": "stream",
     "text": [
      "\n",
      "  | Name                       | Type            | Params\n",
      "---------------------------------------------------------------\n",
      "0 | loss_fn                    | MSELoss         | 0     \n",
      "1 | min_em                     | MinuteEmbedding | 69.1 K\n",
      "2 | day_em                     | DayEmbedding    | 28    \n",
      "3 | rnn                        | GRU             | 38.6 K\n",
      "4 | feature_extract            | Linear          | 117   \n",
      "5 | feature_extract_activation | ReLU            | 0     \n",
      "---------------------------------------------------------------\n",
      "107 K     Trainable params\n",
      "0         Non-trainable params\n",
      "107 K     Total params\n",
      "0.431     Total estimated model params size (MB)\n"
     ]
    },
    {
     "data": {
      "application/vnd.jupyter.widget-view+json": {
       "model_id": "af5a562914c14028a7c64596a94fec48",
       "version_major": 2,
       "version_minor": 0
      },
      "text/plain": [
       "Training: |          | 0/? [00:00<?, ?it/s]"
      ]
     },
     "metadata": {},
     "output_type": "display_data"
    },
    {
     "data": {
      "application/vnd.jupyter.widget-view+json": {
       "model_id": "fe8e9ee4a84e4cd397787ad0f0512786",
       "version_major": 2,
       "version_minor": 0
      },
      "text/plain": [
       "Predicting: |          | 0/? [00:00<?, ?it/s]"
      ]
     },
     "metadata": {},
     "output_type": "display_data"
    },
    {
     "name": "stdout",
     "output_type": "stream",
     "text": [
      "MiWay\n"
     ]
    },
    {
     "name": "stderr",
     "output_type": "stream",
     "text": [
      "\n",
      "  | Name                       | Type            | Params\n",
      "---------------------------------------------------------------\n",
      "0 | loss_fn                    | MSELoss         | 0     \n",
      "1 | min_em                     | MinuteEmbedding | 69.1 K\n",
      "2 | day_em                     | DayEmbedding    | 28    \n",
      "3 | rnn                        | GRU             | 38.6 K\n",
      "4 | feature_extract            | Linear          | 117   \n",
      "5 | feature_extract_activation | ReLU            | 0     \n",
      "---------------------------------------------------------------\n",
      "107 K     Trainable params\n",
      "0         Non-trainable params\n",
      "107 K     Total params\n",
      "0.431     Total estimated model params size (MB)\n"
     ]
    },
    {
     "data": {
      "application/vnd.jupyter.widget-view+json": {
       "model_id": "00a1fd586c504ef288fa2dc7672ee8a2",
       "version_major": 2,
       "version_minor": 0
      },
      "text/plain": [
       "Training: |          | 0/? [00:00<?, ?it/s]"
      ]
     },
     "metadata": {},
     "output_type": "display_data"
    },
    {
     "data": {
      "application/vnd.jupyter.widget-view+json": {
       "model_id": "f421c2ce1853425897f7320a12be9d39",
       "version_major": 2,
       "version_minor": 0
      },
      "text/plain": [
       "Predicting: |          | 0/? [00:00<?, ?it/s]"
      ]
     },
     "metadata": {},
     "output_type": "display_data"
    },
    {
     "name": "stderr",
     "output_type": "stream",
     "text": [
      "\n",
      "  | Name                       | Type            | Params\n",
      "---------------------------------------------------------------\n",
      "0 | loss_fn                    | MSELoss         | 0     \n",
      "1 | min_em                     | MinuteEmbedding | 69.1 K\n",
      "2 | day_em                     | DayEmbedding    | 28    \n",
      "3 | rnn                        | GRU             | 38.6 K\n",
      "4 | feature_extract            | Linear          | 117   \n",
      "5 | feature_extract_activation | ReLU            | 0     \n",
      "---------------------------------------------------------------\n",
      "107 K     Trainable params\n",
      "0         Non-trainable params\n",
      "107 K     Total params\n",
      "0.431     Total estimated model params size (MB)\n"
     ]
    },
    {
     "name": "stdout",
     "output_type": "stream",
     "text": [
      "Kingston Transit\n"
     ]
    },
    {
     "data": {
      "application/vnd.jupyter.widget-view+json": {
       "model_id": "7748cd39b09b4e99bb59eb3ec9d2822e",
       "version_major": 2,
       "version_minor": 0
      },
      "text/plain": [
       "Training: |          | 0/? [00:00<?, ?it/s]"
      ]
     },
     "metadata": {},
     "output_type": "display_data"
    },
    {
     "data": {
      "application/vnd.jupyter.widget-view+json": {
       "model_id": "b881b36b729b4d5785e6ec83ba3e59b9",
       "version_major": 2,
       "version_minor": 0
      },
      "text/plain": [
       "Predicting: |          | 0/? [00:00<?, ?it/s]"
      ]
     },
     "metadata": {},
     "output_type": "display_data"
    },
    {
     "name": "stdout",
     "output_type": "stream",
     "text": [
      "Halifax Transit\n"
     ]
    },
    {
     "name": "stderr",
     "output_type": "stream",
     "text": [
      "\n",
      "  | Name                       | Type            | Params\n",
      "---------------------------------------------------------------\n",
      "0 | loss_fn                    | MSELoss         | 0     \n",
      "1 | min_em                     | MinuteEmbedding | 69.1 K\n",
      "2 | day_em                     | DayEmbedding    | 28    \n",
      "3 | rnn                        | GRU             | 38.6 K\n",
      "4 | feature_extract            | Linear          | 117   \n",
      "5 | feature_extract_activation | ReLU            | 0     \n",
      "---------------------------------------------------------------\n",
      "107 K     Trainable params\n",
      "0         Non-trainable params\n",
      "107 K     Total params\n",
      "0.431     Total estimated model params size (MB)\n"
     ]
    },
    {
     "data": {
      "application/vnd.jupyter.widget-view+json": {
       "model_id": "d349d57bca4c4fe1bade9b7e3487ecbd",
       "version_major": 2,
       "version_minor": 0
      },
      "text/plain": [
       "Training: |          | 0/? [00:00<?, ?it/s]"
      ]
     },
     "metadata": {},
     "output_type": "display_data"
    },
    {
     "data": {
      "application/vnd.jupyter.widget-view+json": {
       "model_id": "b939f2a778ba4ebfaae5c670e71b4a28",
       "version_major": 2,
       "version_minor": 0
      },
      "text/plain": [
       "Predicting: |          | 0/? [00:00<?, ?it/s]"
      ]
     },
     "metadata": {},
     "output_type": "display_data"
    },
    {
     "name": "stderr",
     "output_type": "stream",
     "text": [
      "\n",
      "  | Name                       | Type            | Params\n",
      "---------------------------------------------------------------\n",
      "0 | loss_fn                    | MSELoss         | 0     \n",
      "1 | min_em                     | MinuteEmbedding | 69.1 K\n",
      "2 | day_em                     | DayEmbedding    | 28    \n",
      "3 | rnn                        | GRU             | 38.6 K\n",
      "4 | feature_extract            | Linear          | 117   \n",
      "5 | feature_extract_activation | ReLU            | 0     \n",
      "---------------------------------------------------------------\n",
      "107 K     Trainable params\n",
      "0         Non-trainable params\n",
      "107 K     Total params\n",
      "0.431     Total estimated model params size (MB)\n"
     ]
    },
    {
     "name": "stdout",
     "output_type": "stream",
     "text": [
      "Thunder Bay Transit\n"
     ]
    },
    {
     "data": {
      "application/vnd.jupyter.widget-view+json": {
       "model_id": "661e84e75d56405388f9e757665507af",
       "version_major": 2,
       "version_minor": 0
      },
      "text/plain": [
       "Training: |          | 0/? [00:00<?, ?it/s]"
      ]
     },
     "metadata": {},
     "output_type": "display_data"
    },
    {
     "data": {
      "application/vnd.jupyter.widget-view+json": {
       "model_id": "0ddb92e9aacd4f9aa9a2d51f2b522932",
       "version_major": 2,
       "version_minor": 0
      },
      "text/plain": [
       "Predicting: |          | 0/? [00:00<?, ?it/s]"
      ]
     },
     "metadata": {},
     "output_type": "display_data"
    },
    {
     "name": "stderr",
     "output_type": "stream",
     "text": [
      "\n",
      "  | Name                       | Type            | Params\n",
      "---------------------------------------------------------------\n",
      "0 | loss_fn                    | MSELoss         | 0     \n",
      "1 | min_em                     | MinuteEmbedding | 69.1 K\n",
      "2 | day_em                     | DayEmbedding    | 28    \n",
      "3 | rnn                        | GRU             | 38.6 K\n",
      "4 | feature_extract            | Linear          | 117   \n",
      "5 | feature_extract_activation | ReLU            | 0     \n",
      "---------------------------------------------------------------\n",
      "107 K     Trainable params\n",
      "0         Non-trainable params\n",
      "107 K     Total params\n",
      "0.431     Total estimated model params size (MB)\n"
     ]
    },
    {
     "name": "stdout",
     "output_type": "stream",
     "text": [
      "Port Alberni\n"
     ]
    },
    {
     "data": {
      "application/vnd.jupyter.widget-view+json": {
       "model_id": "a36e8dca0e3147b58e9a503199a6dbff",
       "version_major": 2,
       "version_minor": 0
      },
      "text/plain": [
       "Training: |          | 0/? [00:00<?, ?it/s]"
      ]
     },
     "metadata": {},
     "output_type": "display_data"
    },
    {
     "data": {
      "application/vnd.jupyter.widget-view+json": {
       "model_id": "faf195c995ed46539934ce7203b0353a",
       "version_major": 2,
       "version_minor": 0
      },
      "text/plain": [
       "Predicting: |          | 0/? [00:00<?, ?it/s]"
      ]
     },
     "metadata": {},
     "output_type": "display_data"
    },
    {
     "name": "stderr",
     "output_type": "stream",
     "text": [
      "\n",
      "  | Name                       | Type            | Params\n",
      "---------------------------------------------------------------\n",
      "0 | loss_fn                    | MSELoss         | 0     \n",
      "1 | min_em                     | MinuteEmbedding | 69.1 K\n",
      "2 | day_em                     | DayEmbedding    | 28    \n",
      "3 | rnn                        | GRU             | 38.6 K\n",
      "4 | feature_extract            | Linear          | 117   \n",
      "5 | feature_extract_activation | ReLU            | 0     \n",
      "---------------------------------------------------------------\n",
      "107 K     Trainable params\n",
      "0         Non-trainable params\n",
      "107 K     Total params\n",
      "0.431     Total estimated model params size (MB)\n"
     ]
    },
    {
     "name": "stdout",
     "output_type": "stream",
     "text": [
      "Commerce Municipal Bus Lines\n"
     ]
    },
    {
     "data": {
      "application/vnd.jupyter.widget-view+json": {
       "model_id": "f3e0f8750679438490b3482652df9dc5",
       "version_major": 2,
       "version_minor": 0
      },
      "text/plain": [
       "Training: |          | 0/? [00:00<?, ?it/s]"
      ]
     },
     "metadata": {},
     "output_type": "display_data"
    },
    {
     "data": {
      "application/vnd.jupyter.widget-view+json": {
       "model_id": "8fa697f650564e05be2a8adc302d068c",
       "version_major": 2,
       "version_minor": 0
      },
      "text/plain": [
       "Predicting: |          | 0/? [00:00<?, ?it/s]"
      ]
     },
     "metadata": {},
     "output_type": "display_data"
    },
    {
     "name": "stdout",
     "output_type": "stream",
     "text": [
      "Roma Servizi per la Mobilità\n"
     ]
    },
    {
     "name": "stderr",
     "output_type": "stream",
     "text": [
      "\n",
      "  | Name                       | Type            | Params\n",
      "---------------------------------------------------------------\n",
      "0 | loss_fn                    | MSELoss         | 0     \n",
      "1 | min_em                     | MinuteEmbedding | 69.1 K\n",
      "2 | day_em                     | DayEmbedding    | 28    \n",
      "3 | rnn                        | GRU             | 38.6 K\n",
      "4 | feature_extract            | Linear          | 117   \n",
      "5 | feature_extract_activation | ReLU            | 0     \n",
      "---------------------------------------------------------------\n",
      "107 K     Trainable params\n",
      "0         Non-trainable params\n",
      "107 K     Total params\n",
      "0.431     Total estimated model params size (MB)\n"
     ]
    },
    {
     "data": {
      "application/vnd.jupyter.widget-view+json": {
       "model_id": "10192816ddef4f199cadfe2cc8d061ea",
       "version_major": 2,
       "version_minor": 0
      },
      "text/plain": [
       "Training: |          | 0/? [00:00<?, ?it/s]"
      ]
     },
     "metadata": {},
     "output_type": "display_data"
    },
    {
     "data": {
      "application/vnd.jupyter.widget-view+json": {
       "model_id": "06efeb57fac8495b8ef3d691e678ba78",
       "version_major": 2,
       "version_minor": 0
      },
      "text/plain": [
       "Predicting: |          | 0/? [00:00<?, ?it/s]"
      ]
     },
     "metadata": {},
     "output_type": "display_data"
    },
    {
     "name": "stderr",
     "output_type": "stream",
     "text": [
      "\n",
      "  | Name                       | Type            | Params\n",
      "---------------------------------------------------------------\n",
      "0 | loss_fn                    | MSELoss         | 0     \n",
      "1 | min_em                     | MinuteEmbedding | 69.1 K\n",
      "2 | day_em                     | DayEmbedding    | 28    \n",
      "3 | rnn                        | GRU             | 38.6 K\n",
      "4 | feature_extract            | Linear          | 117   \n",
      "5 | feature_extract_activation | ReLU            | 0     \n",
      "---------------------------------------------------------------\n",
      "107 K     Trainable params\n",
      "0         Non-trainable params\n",
      "107 K     Total params\n",
      "0.431     Total estimated model params size (MB)\n"
     ]
    },
    {
     "name": "stdout",
     "output_type": "stream",
     "text": [
      "Stanislaus Regional Transit Authority (StanRTA)\n"
     ]
    },
    {
     "data": {
      "application/vnd.jupyter.widget-view+json": {
       "model_id": "d7954c47474c40d38ccf0bf0a1274169",
       "version_major": 2,
       "version_minor": 0
      },
      "text/plain": [
       "Training: |          | 0/? [00:00<?, ?it/s]"
      ]
     },
     "metadata": {},
     "output_type": "display_data"
    },
    {
     "data": {
      "application/vnd.jupyter.widget-view+json": {
       "model_id": "a4d2f748974e42af9e2ce10e2ebea49d",
       "version_major": 2,
       "version_minor": 0
      },
      "text/plain": [
       "Predicting: |          | 0/? [00:00<?, ?it/s]"
      ]
     },
     "metadata": {},
     "output_type": "display_data"
    }
   ],
   "source": [
    "# Tune, then re-test\n",
    "n_batches = 1\n",
    "res_tuned = {}\n",
    "test_sources = cleaned_sources.iloc[:]\n",
    "for i, row in test_sources.iterrows():\n",
    "    # Load model and check if day has data for given city\n",
    "    data_folders = [f\"../data/other_feeds/{row['uuid']}_realtime/processed\"]\n",
    "    available_days = [x.name for x in Path(data_folders[0], \"training\").glob('*')]\n",
    "    if train_days[0] not in available_days:\n",
    "        continue\n",
    "    print(row['provider'])\n",
    "    res_tuned[row['uuid']] = {}\n",
    "    # Try increasing amounts of training samples per-city\n",
    "    model = model_utils.load_model(\"../logs/\", model_network, model_type, 0)\n",
    "    model.eval()\n",
    "    train_dataset = data_loader.NumpyDataset(\n",
    "        data_folders,\n",
    "        train_days,\n",
    "        load_in_memory=True,\n",
    "        config = model.config\n",
    "    )\n",
    "    train_loader = DataLoader(\n",
    "        train_dataset,\n",
    "        collate_fn=model.collate_fn,\n",
    "        batch_size=model.batch_size,\n",
    "        shuffle=False,\n",
    "        drop_last=False,\n",
    "        num_workers=num_workers,\n",
    "        pin_memory=pin_memory\n",
    "    )\n",
    "    trainer = pl.Trainer(\n",
    "        max_epochs=10,\n",
    "        limit_train_batches=n_batches,\n",
    "        accelerator=accelerator\n",
    "    )\n",
    "    trainer.fit(model=model, train_dataloaders=train_loader)\n",
    "    # Test after fine-tuning\n",
    "    test_dataset = data_loader.NumpyDataset(\n",
    "        data_folders,\n",
    "        test_days,\n",
    "        load_in_memory=True,\n",
    "        config = model.config\n",
    "    )\n",
    "    train_loader = DataLoader(\n",
    "        train_dataset,\n",
    "        collate_fn=model.collate_fn,\n",
    "        batch_size=model.batch_size,\n",
    "        shuffle=False,\n",
    "        drop_last=False,\n",
    "        num_workers=num_workers,\n",
    "        pin_memory=pin_memory\n",
    "    )\n",
    "    trainer = pl.Trainer(\n",
    "        accelerator=accelerator,\n",
    "        logger=False,\n",
    "        inference_mode=True\n",
    "    )\n",
    "    preds_and_labels = trainer.predict(model=model, dataloaders=test_loader)\n",
    "    preds = np.concatenate([x['preds'] for x in preds_and_labels])\n",
    "    labels = np.concatenate([x['labels'] for x in preds_and_labels])\n",
    "    res_tuned[row['uuid']][f\"{n_batches}_batches\"] = {'preds':preds, 'labels':labels}"
   ]
  },
  {
   "cell_type": "code",
   "execution_count": 12,
   "metadata": {},
   "outputs": [],
   "source": [
    "save_dir = Path(\"..\", \"results\", model_network, \"multicity_tuning\")\n",
    "save_dir.mkdir(parents=True, exist_ok=True)\n",
    "with open(save_dir / f\"{model_type}_TUNED_{n_batches}.pkl\", \"wb\") as f:\n",
    "    pickle.dump(res_tuned, f)"
   ]
  },
  {
   "cell_type": "code",
   "execution_count": 13,
   "metadata": {},
   "outputs": [
    {
     "data": {
      "text/html": [
       "<div>\n",
       "<style scoped>\n",
       "    .dataframe tbody tr th:only-of-type {\n",
       "        vertical-align: middle;\n",
       "    }\n",
       "\n",
       "    .dataframe tbody tr th {\n",
       "        vertical-align: top;\n",
       "    }\n",
       "\n",
       "    .dataframe thead th {\n",
       "        text-align: right;\n",
       "    }\n",
       "</style>\n",
       "<table border=\"1\" class=\"dataframe\">\n",
       "  <thead>\n",
       "    <tr style=\"text-align: right;\">\n",
       "      <th></th>\n",
       "      <th>provider</th>\n",
       "      <th>n_batches</th>\n",
       "      <th>experiment</th>\n",
       "      <th>mae</th>\n",
       "      <th>mape</th>\n",
       "      <th>rmse</th>\n",
       "      <th>ex_var</th>\n",
       "      <th>r_score</th>\n",
       "    </tr>\n",
       "  </thead>\n",
       "  <tbody>\n",
       "    <tr>\n",
       "      <th>17</th>\n",
       "      <td>Arlington Transit</td>\n",
       "      <td>0_batches</td>\n",
       "      <td>not-tuned</td>\n",
       "      <td>65.444176</td>\n",
       "      <td>0.169666</td>\n",
       "      <td>8.089758</td>\n",
       "      <td>0.897595</td>\n",
       "      <td>0.883940</td>\n",
       "    </tr>\n",
       "    <tr>\n",
       "      <th>19</th>\n",
       "      <td>BC Transit (Victoria Regional Transit System)</td>\n",
       "      <td>0_batches</td>\n",
       "      <td>not-tuned</td>\n",
       "      <td>63.073997</td>\n",
       "      <td>0.133397</td>\n",
       "      <td>7.941914</td>\n",
       "      <td>0.938010</td>\n",
       "      <td>0.937397</td>\n",
       "    </tr>\n",
       "    <tr>\n",
       "      <th>1</th>\n",
       "      <td>Barrie Transit</td>\n",
       "      <td>0_batches</td>\n",
       "      <td>not-tuned</td>\n",
       "      <td>188.785934</td>\n",
       "      <td>0.247436</td>\n",
       "      <td>13.739940</td>\n",
       "      <td>0.862307</td>\n",
       "      <td>0.695257</td>\n",
       "    </tr>\n",
       "    <tr>\n",
       "      <th>2</th>\n",
       "      <td>Big Blue Bus</td>\n",
       "      <td>0_batches</td>\n",
       "      <td>not-tuned</td>\n",
       "      <td>391.352905</td>\n",
       "      <td>0.439688</td>\n",
       "      <td>19.782642</td>\n",
       "      <td>0.784724</td>\n",
       "      <td>0.352333</td>\n",
       "    </tr>\n",
       "    <tr>\n",
       "      <th>4</th>\n",
       "      <td>Capital Metro</td>\n",
       "      <td>0_batches</td>\n",
       "      <td>not-tuned</td>\n",
       "      <td>124.948387</td>\n",
       "      <td>0.155420</td>\n",
       "      <td>11.178032</td>\n",
       "      <td>0.941106</td>\n",
       "      <td>0.938324</td>\n",
       "    </tr>\n",
       "    <tr>\n",
       "      <th>28</th>\n",
       "      <td>Commerce Municipal Bus Lines</td>\n",
       "      <td>0_batches</td>\n",
       "      <td>not-tuned</td>\n",
       "      <td>188.270676</td>\n",
       "      <td>0.167360</td>\n",
       "      <td>13.721176</td>\n",
       "      <td>0.880944</td>\n",
       "      <td>0.803108</td>\n",
       "    </tr>\n",
       "    <tr>\n",
       "      <th>8</th>\n",
       "      <td>Duluth Transit</td>\n",
       "      <td>0_batches</td>\n",
       "      <td>not-tuned</td>\n",
       "      <td>104.540520</td>\n",
       "      <td>0.198683</td>\n",
       "      <td>10.224505</td>\n",
       "      <td>0.879514</td>\n",
       "      <td>0.876030</td>\n",
       "    </tr>\n",
       "    <tr>\n",
       "      <th>20</th>\n",
       "      <td>Edmonton Transit System</td>\n",
       "      <td>0_batches</td>\n",
       "      <td>not-tuned</td>\n",
       "      <td>285.925293</td>\n",
       "      <td>0.462649</td>\n",
       "      <td>16.909327</td>\n",
       "      <td>0.655285</td>\n",
       "      <td>0.302092</td>\n",
       "    </tr>\n",
       "    <tr>\n",
       "      <th>25</th>\n",
       "      <td>Halifax Transit</td>\n",
       "      <td>0_batches</td>\n",
       "      <td>not-tuned</td>\n",
       "      <td>103.134399</td>\n",
       "      <td>0.148644</td>\n",
       "      <td>10.155511</td>\n",
       "      <td>0.908909</td>\n",
       "      <td>0.907816</td>\n",
       "    </tr>\n",
       "    <tr>\n",
       "      <th>22</th>\n",
       "      <td>Hamilton Street Railway</td>\n",
       "      <td>0_batches</td>\n",
       "      <td>not-tuned</td>\n",
       "      <td>119.839798</td>\n",
       "      <td>0.174440</td>\n",
       "      <td>10.947137</td>\n",
       "      <td>0.897009</td>\n",
       "      <td>0.887952</td>\n",
       "    </tr>\n",
       "  </tbody>\n",
       "</table>\n",
       "</div>"
      ],
      "text/plain": [
       "                                         provider  n_batches experiment  \\\n",
       "17                              Arlington Transit  0_batches  not-tuned   \n",
       "19  BC Transit (Victoria Regional Transit System)  0_batches  not-tuned   \n",
       "1                                  Barrie Transit  0_batches  not-tuned   \n",
       "2                                    Big Blue Bus  0_batches  not-tuned   \n",
       "4                                   Capital Metro  0_batches  not-tuned   \n",
       "28                   Commerce Municipal Bus Lines  0_batches  not-tuned   \n",
       "8                                  Duluth Transit  0_batches  not-tuned   \n",
       "20                        Edmonton Transit System  0_batches  not-tuned   \n",
       "25                                Halifax Transit  0_batches  not-tuned   \n",
       "22                        Hamilton Street Railway  0_batches  not-tuned   \n",
       "\n",
       "           mae      mape       rmse    ex_var   r_score  \n",
       "17   65.444176  0.169666   8.089758  0.897595  0.883940  \n",
       "19   63.073997  0.133397   7.941914  0.938010  0.937397  \n",
       "1   188.785934  0.247436  13.739940  0.862307  0.695257  \n",
       "2   391.352905  0.439688  19.782642  0.784724  0.352333  \n",
       "4   124.948387  0.155420  11.178032  0.941106  0.938324  \n",
       "28  188.270676  0.167360  13.721176  0.880944  0.803108  \n",
       "8   104.540520  0.198683  10.224505  0.879514  0.876030  \n",
       "20  285.925293  0.462649  16.909327  0.655285  0.302092  \n",
       "25  103.134399  0.148644  10.155511  0.908909  0.907816  \n",
       "22  119.839798  0.174440  10.947137  0.897009  0.887952  "
      ]
     },
     "execution_count": 13,
     "metadata": {},
     "output_type": "execute_result"
    }
   ],
   "source": [
    "metrics = {}\n",
    "for key, value in res.items():\n",
    "    metrics[key] = model_utils.performance_metrics(value['labels'], value['preds'])\n",
    "metrics_df = pd.DataFrame(metrics).T\n",
    "metrics_df.index.name = 'uuid'\n",
    "metrics_df = metrics_df.reset_index()\n",
    "metrics_df = pd.merge(metrics_df, cleaned_sources, on='uuid')\n",
    "metrics_df['experiment'] = 'not-tuned'\n",
    "metrics_df['n_batches'] = '0_batches'\n",
    "metrics_df[['provider','n_batches','experiment','mae', 'mape', 'rmse', 'ex_var', 'r_score']].sort_values(['provider', 'n_batches']).head(10)"
   ]
  },
  {
   "cell_type": "code",
   "execution_count": 14,
   "metadata": {},
   "outputs": [
    {
     "data": {
      "text/html": [
       "<div>\n",
       "<style scoped>\n",
       "    .dataframe tbody tr th:only-of-type {\n",
       "        vertical-align: middle;\n",
       "    }\n",
       "\n",
       "    .dataframe tbody tr th {\n",
       "        vertical-align: top;\n",
       "    }\n",
       "\n",
       "    .dataframe thead th {\n",
       "        text-align: right;\n",
       "    }\n",
       "</style>\n",
       "<table border=\"1\" class=\"dataframe\">\n",
       "  <thead>\n",
       "    <tr style=\"text-align: right;\">\n",
       "      <th></th>\n",
       "      <th>provider</th>\n",
       "      <th>n_batches</th>\n",
       "      <th>experiment</th>\n",
       "      <th>mae</th>\n",
       "      <th>mape</th>\n",
       "      <th>rmse</th>\n",
       "      <th>ex_var</th>\n",
       "      <th>r_score</th>\n",
       "    </tr>\n",
       "  </thead>\n",
       "  <tbody>\n",
       "    <tr>\n",
       "      <th>19</th>\n",
       "      <td>Adelaide Metro</td>\n",
       "      <td>1_batches</td>\n",
       "      <td>tuned</td>\n",
       "      <td>122.660835</td>\n",
       "      <td>0.140794</td>\n",
       "      <td>11.075235</td>\n",
       "      <td>0.789250</td>\n",
       "      <td>0.784115</td>\n",
       "    </tr>\n",
       "    <tr>\n",
       "      <th>17</th>\n",
       "      <td>Arlington Transit</td>\n",
       "      <td>1_batches</td>\n",
       "      <td>tuned</td>\n",
       "      <td>101.352539</td>\n",
       "      <td>0.121102</td>\n",
       "      <td>10.067400</td>\n",
       "      <td>0.913611</td>\n",
       "      <td>0.913501</td>\n",
       "    </tr>\n",
       "    <tr>\n",
       "      <th>21</th>\n",
       "      <td>BC Transit (Victoria Regional Transit System)</td>\n",
       "      <td>1_batches</td>\n",
       "      <td>tuned</td>\n",
       "      <td>168.292358</td>\n",
       "      <td>0.196101</td>\n",
       "      <td>12.972754</td>\n",
       "      <td>0.807387</td>\n",
       "      <td>0.733422</td>\n",
       "    </tr>\n",
       "    <tr>\n",
       "      <th>1</th>\n",
       "      <td>Barrie Transit</td>\n",
       "      <td>1_batches</td>\n",
       "      <td>tuned</td>\n",
       "      <td>108.237457</td>\n",
       "      <td>0.128218</td>\n",
       "      <td>10.403724</td>\n",
       "      <td>0.892388</td>\n",
       "      <td>0.884676</td>\n",
       "    </tr>\n",
       "    <tr>\n",
       "      <th>2</th>\n",
       "      <td>Big Blue Bus</td>\n",
       "      <td>1_batches</td>\n",
       "      <td>tuned</td>\n",
       "      <td>269.800171</td>\n",
       "      <td>0.287338</td>\n",
       "      <td>16.425594</td>\n",
       "      <td>0.163373</td>\n",
       "      <td>-0.085905</td>\n",
       "    </tr>\n",
       "    <tr>\n",
       "      <th>4</th>\n",
       "      <td>Capital Metro</td>\n",
       "      <td>1_batches</td>\n",
       "      <td>tuned</td>\n",
       "      <td>108.740150</td>\n",
       "      <td>0.133437</td>\n",
       "      <td>10.427855</td>\n",
       "      <td>0.915396</td>\n",
       "      <td>0.904870</td>\n",
       "    </tr>\n",
       "    <tr>\n",
       "      <th>30</th>\n",
       "      <td>Commerce Municipal Bus Lines</td>\n",
       "      <td>1_batches</td>\n",
       "      <td>tuned</td>\n",
       "      <td>89.836754</td>\n",
       "      <td>0.111055</td>\n",
       "      <td>9.478226</td>\n",
       "      <td>0.940138</td>\n",
       "      <td>0.940069</td>\n",
       "    </tr>\n",
       "    <tr>\n",
       "      <th>8</th>\n",
       "      <td>Duluth Transit</td>\n",
       "      <td>1_batches</td>\n",
       "      <td>tuned</td>\n",
       "      <td>138.685211</td>\n",
       "      <td>0.165998</td>\n",
       "      <td>11.776468</td>\n",
       "      <td>0.879034</td>\n",
       "      <td>0.839307</td>\n",
       "    </tr>\n",
       "    <tr>\n",
       "      <th>22</th>\n",
       "      <td>Edmonton Transit System</td>\n",
       "      <td>1_batches</td>\n",
       "      <td>tuned</td>\n",
       "      <td>117.479424</td>\n",
       "      <td>0.136586</td>\n",
       "      <td>10.838793</td>\n",
       "      <td>0.892474</td>\n",
       "      <td>0.882070</td>\n",
       "    </tr>\n",
       "    <tr>\n",
       "      <th>27</th>\n",
       "      <td>Halifax Transit</td>\n",
       "      <td>1_batches</td>\n",
       "      <td>tuned</td>\n",
       "      <td>167.348801</td>\n",
       "      <td>0.204512</td>\n",
       "      <td>12.936337</td>\n",
       "      <td>0.905454</td>\n",
       "      <td>0.825614</td>\n",
       "    </tr>\n",
       "  </tbody>\n",
       "</table>\n",
       "</div>"
      ],
      "text/plain": [
       "                                         provider  n_batches experiment  \\\n",
       "19                                 Adelaide Metro  1_batches      tuned   \n",
       "17                              Arlington Transit  1_batches      tuned   \n",
       "21  BC Transit (Victoria Regional Transit System)  1_batches      tuned   \n",
       "1                                  Barrie Transit  1_batches      tuned   \n",
       "2                                    Big Blue Bus  1_batches      tuned   \n",
       "4                                   Capital Metro  1_batches      tuned   \n",
       "30                   Commerce Municipal Bus Lines  1_batches      tuned   \n",
       "8                                  Duluth Transit  1_batches      tuned   \n",
       "22                        Edmonton Transit System  1_batches      tuned   \n",
       "27                                Halifax Transit  1_batches      tuned   \n",
       "\n",
       "           mae      mape       rmse    ex_var   r_score  \n",
       "19  122.660835  0.140794  11.075235  0.789250  0.784115  \n",
       "17  101.352539  0.121102  10.067400  0.913611  0.913501  \n",
       "21  168.292358  0.196101  12.972754  0.807387  0.733422  \n",
       "1   108.237457  0.128218  10.403724  0.892388  0.884676  \n",
       "2   269.800171  0.287338  16.425594  0.163373 -0.085905  \n",
       "4   108.740150  0.133437  10.427855  0.915396  0.904870  \n",
       "30   89.836754  0.111055   9.478226  0.940138  0.940069  \n",
       "8   138.685211  0.165998  11.776468  0.879034  0.839307  \n",
       "22  117.479424  0.136586  10.838793  0.892474  0.882070  \n",
       "27  167.348801  0.204512  12.936337  0.905454  0.825614  "
      ]
     },
     "execution_count": 14,
     "metadata": {},
     "output_type": "execute_result"
    }
   ],
   "source": [
    "metrics = {}\n",
    "for k_uuid, res_uuid in res_tuned.items():\n",
    "    for k_n_batches, res_n_batches in res_uuid.items():\n",
    "        metrics[(k_uuid, k_n_batches)] = model_utils.performance_metrics(res_n_batches['labels'], res_n_batches['preds'])\n",
    "metrics_tuned_df = pd.DataFrame(metrics).T\n",
    "metrics_tuned_df.index.names = ['uuid', 'n_batches']\n",
    "metrics_tuned_df = metrics_tuned_df.reset_index()\n",
    "metrics_tuned_df = pd.merge(metrics_tuned_df, cleaned_sources, on='uuid')\n",
    "metrics_tuned_df['experiment'] = 'tuned'\n",
    "metrics_tuned_df[['provider','n_batches','experiment','mae', 'mape', 'rmse', 'ex_var', 'r_score']].sort_values(['provider', 'n_batches']).head(10)"
   ]
  },
  {
   "cell_type": "code",
   "execution_count": 15,
   "metadata": {},
   "outputs": [
    {
     "data": {
      "text/plain": [
       "<Axes: xlabel='MAPE', ylabel='Count'>"
      ]
     },
     "execution_count": 15,
     "metadata": {},
     "output_type": "execute_result"
    },
    {
     "data": {
      "image/png": "[encoded data removed]",
      "text/plain": [
       "<Figure size 640x480 with 1 Axes>"
      ]
     },
     "metadata": {},
     "output_type": "display_data"
    }
   ],
   "source": [
    "plot_df = pd.concat([metrics_df, metrics_tuned_df], axis=0)\n",
    "plot_df = plot_df[plot_df['n_batches'].isin(['0_batches', '1_batches', '2_batches', '4_batches'])]\n",
    "plot_df['Tuning Sample Size'] = plot_df['n_batches'].replace({'0_batches': 'No Tuning', '1_batches': '1000 Samples', '2_batches': '2000 Samples', '4_batches': '4000 Samples'})\n",
    "plot_df['MAPE'] = plot_df['mape']\n",
    "sns.histplot(plot_df, x='MAPE', hue='Tuning Sample Size', bins=50, kde=True)"
   ]
  }
 ],
 "metadata": {
  "kernelspec": {
   "display_name": ".venv",
   "language": "python",
   "name": "python3"
  },
  "language_info": {
   "codemirror_mode": {
    "name": "ipython",
    "version": 3
   },
   "file_extension": ".py",
   "mimetype": "text/x-python",
   "name": "python",
   "nbconvert_exporter": "python",
   "pygments_lexer": "ipython3",
   "version": "3.9.18"
  }
 },
 "nbformat": 4,
 "nbformat_minor": 2
}
