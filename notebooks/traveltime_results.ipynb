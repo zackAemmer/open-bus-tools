{
 "cells": [
  {
   "cell_type": "code",
   "execution_count": null,
   "metadata": {},
   "outputs": [],
   "source": [
    "import os\n",
    "from pathlib import Path\n",
    "import pickle\n",
    "import sys\n",
    "sys.path.append(\"../\")\n",
    "\n",
    "import contextily as cx\n",
    "import importlib\n",
    "import matplotlib.pyplot as plt\n",
    "import numpy as np\n",
    "import pandas as pd\n",
    "import scipy.stats as stats\n",
    "import seaborn as sns\n",
    "from sklearn import metrics\n",
    "import statsmodels.api as sm\n",
    "\n",
    "\n",
    "from openbustools import plotting, standardfeeds\n",
    "from openbustools.traveltime import data_loader, model_utils"
   ]
  },
  {
   "cell_type": "code",
   "execution_count": null,
   "metadata": {},
   "outputs": [],
   "source": [
    "kcm_res, kcm_out = model_utils.load_results(\"../results_urban_mgmt/kcm/\")\n",
    "atb_res, atb_out = model_utils.load_results(\"../results_urban_mgmt/atb/\")\n",
    "# mix_res, mix_out = model_utils.load_results(\"../results_urban_mgmt/mix/\")"
   ]
  },
  {
   "cell_type": "code",
   "execution_count": null,
   "metadata": {},
   "outputs": [],
   "source": [
    "plot_subset = ['FF', 'GRU', 'CONV', 'TRSF', 'DEEPTTE']\n",
    "plot_metric = 'mape'\n",
    "plot_bounds = [0, 1.0]\n",
    "selected_model = \"GRU\""
   ]
  },
  {
   "cell_type": "code",
   "execution_count": null,
   "metadata": {},
   "outputs": [],
   "source": [
    "kcm_res['run'] = 'kcm'\n",
    "atb_res['run'] = 'atb'\n",
    "# mix_res['run'] = 'mix'\n",
    "# all_res = pd.concat([kcm_res, atb_res, mix_res])\n",
    "all_res = pd.concat([kcm_res, atb_res])\n",
    "kcm_out['run'] = 'kcm'\n",
    "atb_out['run'] = 'atb'\n",
    "# mix_out['run'] = 'mix'\n",
    "# all_out = pd.concat([kcm_out, atb_out, mix_out])\n",
    "all_out = pd.concat([kcm_out, atb_out])\n",
    "\n",
    "all_res.loc[all_res['model']=='FF_TUNED', 'model'] = 'FF'\n",
    "all_res.loc[all_res['model']=='GRU_TUNED', 'model'] = 'GRU'\n",
    "all_res.loc[all_res['model']=='CONV_TUNED', 'model'] = 'CONV'\n",
    "all_res.loc[all_res['model']=='TRSF_TUNED', 'model'] = 'TRSF'\n",
    "all_res.loc[all_res['model']=='DEEPTTE_TUNED', 'model'] = 'DEEPTTE'\n",
    "\n",
    "all_res"
   ]
  },
  {
   "cell_type": "markdown",
   "metadata": {},
   "source": [
    "### Model Selection Baseline Results"
   ]
  },
  {
   "cell_type": "code",
   "execution_count": null,
   "metadata": {},
   "outputs": [],
   "source": [
    "fig, axes = plt.subplots(1,1)\n",
    "subset = all_res[all_res['metric']==plot_metric].copy()\n",
    "subset = subset[subset['is_tuned']==False]\n",
    "subset = subset[subset['experiment_name'].isin(['same_city'])]\n",
    "subset = subset[subset['model'].isin(plot_subset)]\n",
    "sns.barplot(ax=axes, data=subset[subset['is_tuned']==False], x='value', y='model', hue='run', palette=plotting.PALETTE).set_title('Baseline Models')\n",
    "fig.tight_layout()\n",
    "axes.set_xlim(plot_bounds)"
   ]
  },
  {
   "cell_type": "code",
   "execution_count": null,
   "metadata": {},
   "outputs": [],
   "source": [
    "subset = all_res[all_res['metric'].isin(['mape','rmse','mae'])].copy()\n",
    "subset = subset[subset['is_tuned']==False]\n",
    "subset = subset[subset['experiment_name'].isin(['same_city'])]\n",
    "subset = subset[subset['model'].isin(plot_subset)]\n",
    "subset.groupby(['run','model','metric'])[['value']].agg(['mean','std']).sort_values(['run', ('value','mean')], ascending=False)"
   ]
  },
  {
   "cell_type": "markdown",
   "metadata": {},
   "source": [
    "### Model Selection External Generalization Results"
   ]
  },
  {
   "cell_type": "code",
   "execution_count": null,
   "metadata": {},
   "outputs": [],
   "source": [
    "fig, axes = plt.subplots(1,1)\n",
    "fig.set_figheight(5)\n",
    "fig.set_figwidth(8)\n",
    "subset = all_res[all_res['metric']==plot_metric].copy()\n",
    "subset = subset[subset['is_tuned']==False]\n",
    "subset = subset[subset['experiment_name'].isin(['diff_city'])]\n",
    "subset = subset[subset['model'].isin(plot_subset)]\n",
    "sns.barplot(ax=axes, data=subset[subset['is_tuned']==False], x='value', y='model', hue='run', palette=plotting.PALETTE)\n",
    "fig.tight_layout()\n",
    "axes.set_title('Baseline Models Generalization to Target City')\n",
    "axes.set_xlim(plot_bounds)\n",
    "axes.set_xlabel('MAPE')\n",
    "axes.set_ylabel('')\n",
    "axes.legend(title='Source City', handles=axes.get_legend().legend_handles, labels=['KCM', 'AtB', 'Mixed'])"
   ]
  },
  {
   "cell_type": "code",
   "execution_count": null,
   "metadata": {},
   "outputs": [],
   "source": [
    "subset.groupby(['run','model'])[['value']].agg(['mean','std']).sort_values(['run', ('value','mean')], ascending=False)"
   ]
  },
  {
   "cell_type": "markdown",
   "metadata": {},
   "source": [
    "### Model Selection Hyperparameter Results"
   ]
  },
  {
   "cell_type": "code",
   "execution_count": null,
   "metadata": {},
   "outputs": [],
   "source": [
    "# kcm_hyper = model_utils.load_hyper_results(\"../logs/kcm_hyper_search/\", \"GRU\")\n",
    "# kcm_hyper = kcm_hyper.drop_duplicates(['model', 'version'])\n",
    "\n",
    "# kcm_hyper_res, atb_hyper_out = model_utils.load_results(\"../results/kcm_hyper_search/\")\n",
    "# kcm_hyper_res['version'] = kcm_hyper_res['model'].str.split(\"_\").str[2:4].str.join(\"_\")\n",
    "# kcm_hyper_res = kcm_hyper_res.groupby(['version', 'experiment_name', 'metric'], as_index=False)[['value']].mean()\n",
    "\n",
    "# hyper_res = pd.merge(kcm_hyper_res, kcm_hyper, on='version')\n",
    "# hyper_res = hyper_res[hyper_res['metric']=='mape']\n",
    "# hyper_res[hyper_res['experiment_name']=='diff_city']"
   ]
  },
  {
   "cell_type": "code",
   "execution_count": null,
   "metadata": {},
   "outputs": [],
   "source": [
    "# atb_hyper = model_utils.load_hyper_results(\"../logs/atb_hyper_search/\", \"GRU\")\n",
    "# atb_hyper = atb_hyper.drop_duplicates(['model', 'version'])\n",
    "\n",
    "# atb_hyper_res, atb_hyper_out = model_utils.load_results(\"../results/atb_hyper_search/\")\n",
    "# atb_hyper_res['version'] = atb_hyper_res['model'].str.split(\"_\").str[2:4].str.join(\"_\")\n",
    "# atb_hyper_res = atb_hyper_res.groupby(['version', 'experiment_name', 'metric'], as_index=False)[['value']].mean()\n",
    "\n",
    "# hyper_res = pd.merge(atb_hyper_res, atb_hyper, on='version')\n",
    "# hyper_res = hyper_res[hyper_res['metric']=='mape']\n",
    "# hyper_res[hyper_res['experiment_name']=='diff_city']"
   ]
  },
  {
   "cell_type": "markdown",
   "metadata": {},
   "source": [
    "### Internal Generalization Results"
   ]
  },
  {
   "cell_type": "code",
   "execution_count": null,
   "metadata": {},
   "outputs": [],
   "source": [
    "fig, axes = plt.subplots(2,1)\n",
    "axes = axes.flatten()\n",
    "fig.set_figheight(5)\n",
    "fig.set_figwidth(8)\n",
    "subset = all_res[all_res['metric']==plot_metric].copy()\n",
    "subset = subset[subset['is_tuned']==False]\n",
    "subset = subset[subset['experiment_name'].isin(['holdout', 'same_city'])]\n",
    "subset = subset[subset['model'].isin([selected_model, 'AVG', 'SCH', 'DEEPTTE'])]\n",
    "sns.barplot(ax=axes[0], data=subset[subset['run']=='kcm'], x='value', y='model', hue='experiment_name', palette=plotting.PALETTE)\n",
    "sns.barplot(ax=axes[1], data=subset[subset['run']=='atb'], x='value', y='model', hue='experiment_name', palette=plotting.PALETTE)\n",
    "# fig.tight_layout()\n",
    "axes[0].set_xlim(plot_bounds)\n",
    "axes[0].set_title('Internal Generalization')\n",
    "axes[0].set_xlabel('')\n",
    "axes[0].set_ylabel('Source City: KCM')\n",
    "axes[0].get_legend().remove()\n",
    "axes[1].set_xlim(plot_bounds)\n",
    "axes[1].set_xlabel('MAPE')\n",
    "axes[1].set_ylabel('Source City: AtB')\n",
    "axes[1].legend(handles=axes[0].get_legend_handles_labels()[0], loc='lower right', labels=['Source City', 'Source City Holdout Routes'], ncol=1)\n",
    "fig.savefig(\"../plots/internal_generalization.png\", dpi=300)"
   ]
  },
  {
   "cell_type": "code",
   "execution_count": null,
   "metadata": {},
   "outputs": [],
   "source": [
    "subset.groupby(['run','model','experiment_name'])[['value']].agg(['mean','std'])"
   ]
  },
  {
   "cell_type": "markdown",
   "metadata": {},
   "source": [
    "### External Generalization (No Tuning) Results"
   ]
  },
  {
   "cell_type": "code",
   "execution_count": null,
   "metadata": {},
   "outputs": [],
   "source": [
    "subset = all_res[all_res['metric']==plot_metric].copy()\n",
    "subset = subset[subset['is_tuned']==False]\n",
    "subset = subset[subset['experiment_name'].isin(['diff_city', 'same_city'])]\n",
    "subset = subset[subset['model'].isin([selected_model, 'AVG', 'DEEPTTE'])]\n",
    "\n",
    "# AtB models\n",
    "subset_atb = subset[subset['run']=='atb'].copy()\n",
    "subset_atb = subset_atb[subset_atb['experiment_name']=='same_city']\n",
    "subset_kcm = subset[subset['run']=='kcm'].copy()\n",
    "subset_kcm = subset_kcm[subset_kcm['experiment_name']=='diff_city']\n",
    "subset_atb_gen = pd.concat([subset_atb, subset_kcm])\n",
    "\n",
    "# KCM models\n",
    "subset_kcm = subset[subset['run']=='kcm'].copy()\n",
    "subset_kcm = subset_kcm[subset_kcm['experiment_name']=='same_city']\n",
    "subset_atb = subset[subset['run']=='atb'].copy()\n",
    "subset_atb = subset_atb[subset_atb['experiment_name']=='diff_city']\n",
    "subset_kcm_gen = pd.concat([subset_kcm, subset_atb])"
   ]
  },
  {
   "cell_type": "code",
   "execution_count": null,
   "metadata": {},
   "outputs": [],
   "source": [
    "fig, axes = plt.subplots(2,1)\n",
    "fig.set_figheight(5)\n",
    "fig.set_figwidth(8)\n",
    "axes = axes.flatten()\n",
    "sns.barplot(ax=axes[0], data=subset_kcm_gen, x='value', y='model', hue='experiment_name', palette=plotting.PALETTE)\n",
    "sns.barplot(ax=axes[1], data=subset_atb_gen, x='value', y='model', hue='experiment_name', palette=plotting.PALETTE)\n",
    "# fig.tight_layout()\n",
    "axes[0].set_xlim(plot_bounds)\n",
    "axes[0].set_title('External Generalization')\n",
    "axes[0].set_xlabel('')\n",
    "axes[0].set_ylabel('Source City: KCM')\n",
    "axes[0].get_legend().remove()\n",
    "axes[1].set_xlim(plot_bounds)\n",
    "axes[1].set_xlabel('MAPE')\n",
    "axes[1].set_ylabel('Source City: AtB')\n",
    "axes[1].legend(handles=axes[0].get_legend_handles_labels()[0], loc='lower right', labels=['Tested on Source City', 'Tested on Target City'], ncol=1, title='')\n",
    "fig.savefig(\"../plots/external_generalization.png\", dpi=300)"
   ]
  },
  {
   "cell_type": "markdown",
   "metadata": {},
   "source": [
    "### Tuning Results"
   ]
  },
  {
   "cell_type": "code",
   "execution_count": null,
   "metadata": {},
   "outputs": [],
   "source": [
    "# Show dist of improvement rather than bars\n",
    "subset = all_res[all_res['metric']==plot_metric].copy()\n",
    "subset = subset[subset['experiment_name'].isin(['diff_city'])]\n",
    "subset = subset[subset['model'].isin([selected_model, 'DEEPTTE'])]\n",
    "\n",
    "subset_notune = subset[subset['is_tuned']==False]\n",
    "subset_tune = subset[subset['is_tuned']==True]\n",
    "\n",
    "subset = pd.merge(subset_notune, subset_tune, on=['run','model','fold'], suffixes=('_notune', '_tune'))\n",
    "subset['pct_improvement'] = ((subset['value_tune'] - subset['value_notune']) / subset['value_notune']) * 100\n",
    "subset['net_improvement'] = ((subset['value_tune'] - subset['value_notune'])) * 100"
   ]
  },
  {
   "cell_type": "code",
   "execution_count": null,
   "metadata": {},
   "outputs": [],
   "source": [
    "fig, axes = plt.subplots(2,1)\n",
    "fig.set_figheight(5)\n",
    "fig.set_figwidth(8)\n",
    "axes = axes.flatten()\n",
    "sns.boxplot(ax=axes[0], data=subset[subset['run']=='kcm'], x='net_improvement', hue='model', palette=plotting.PALETTE)\n",
    "sns.boxplot(ax=axes[1], data=subset[subset['run']=='atb'], x='net_improvement', hue='model', palette=plotting.PALETTE)\n",
    "# fig.tight_layout()\n",
    "axes[0].set_xlim([-12, 2])\n",
    "axes[0].set_title('Tuned Improvements to External Generalization')\n",
    "axes[0].set_xlabel('')\n",
    "axes[0].set_ylabel('Source City: KCM')\n",
    "axes[0].get_legend().remove()\n",
    "axes[1].set_xlim([-12, 2])\n",
    "axes[1].set_xlabel('Net Reduction in MAPE with 100 Tuning Samples (%)')\n",
    "axes[1].set_ylabel('Source City: AtB')\n",
    "axes[1].legend(handles=axes[0].get_legend_handles_labels()[0], loc='upper right', labels=['GRU', 'DeepTTE'], ncol=1)\n",
    "fig.savefig(\"../plots/tuned_generalization.png\", dpi=300)"
   ]
  },
  {
   "cell_type": "markdown",
   "metadata": {},
   "source": [
    "### Ablation Results"
   ]
  },
  {
   "cell_type": "code",
   "execution_count": null,
   "metadata": {},
   "outputs": [],
   "source": [
    "subset = all_res[all_res['metric']==plot_metric].copy()\n",
    "subset = subset[subset['experiment_name']=='same_city']\n",
    "subset = subset[subset['is_tuned']==False]\n",
    "subset = subset[subset['model_archetype'].isin(['GRU'])]\n",
    "subset.groupby(['run','model'])[['value']].agg(['mean','std']).sort_values(['run', ('value','mean')], ascending=False)"
   ]
  },
  {
   "cell_type": "code",
   "execution_count": null,
   "metadata": {},
   "outputs": [],
   "source": [
    "fig, axes = plt.subplots(2,1)\n",
    "fig.set_figheight(5)\n",
    "fig.set_figwidth(8)\n",
    "axes = axes.flatten()\n",
    "sns.barplot(ax=axes[0], data=subset[subset['run']=='kcm'], x='value', y='model')\n",
    "sns.barplot(ax=axes[1], data=subset[subset['run']=='atb'], x='value', y='model')\n",
    "# fig.tight_layout()\n",
    "axes[0].set_xlim(plot_bounds)\n",
    "axes[0].set_title('Ablation (Source City)')\n",
    "axes[0].set_xlabel('')\n",
    "axes[0].set_ylabel('Source City: KCM')\n",
    "axes[1].set_xlim(plot_bounds)\n",
    "axes[1].set_xlabel('MAPE')\n",
    "axes[1].set_ylabel('Source City: AtB')\n",
    "fig.savefig(\"../plots/ablation_source.png\", dpi=300)"
   ]
  },
  {
   "cell_type": "code",
   "execution_count": null,
   "metadata": {},
   "outputs": [],
   "source": [
    "subset = all_res[all_res['metric']==plot_metric].copy()\n",
    "subset = subset[subset['experiment_name']=='diff_city']\n",
    "subset = subset[subset['is_tuned']==False]\n",
    "subset = subset[subset['model_archetype'].isin(['GRU'])]\n",
    "subset.groupby(['run','model'])[['value']].agg(['mean','std']).sort_values(['run', ('value','mean')], ascending=False)"
   ]
  },
  {
   "cell_type": "code",
   "execution_count": null,
   "metadata": {},
   "outputs": [],
   "source": [
    "fig, axes = plt.subplots(2,1)\n",
    "fig.set_figheight(5)\n",
    "fig.set_figwidth(8)\n",
    "axes = axes.flatten()\n",
    "sns.barplot(ax=axes[0], data=subset[subset['run']=='kcm'], x='value', y='model')\n",
    "sns.barplot(ax=axes[1], data=subset[subset['run']=='atb'], x='value', y='model')\n",
    "# fig.tight_layout()\n",
    "axes[0].set_xlim(plot_bounds)\n",
    "axes[0].set_title('Ablation (Target City - No Tuning)')\n",
    "axes[0].set_xlabel('')\n",
    "axes[0].set_ylabel('Source City: KCM')\n",
    "axes[1].set_xlim(plot_bounds)\n",
    "axes[1].set_xlabel('MAPE')\n",
    "axes[1].set_ylabel('Source City: AtB')\n",
    "fig.savefig(\"../plots/ablation_source.png\", dpi=300)"
   ]
  },
  {
   "cell_type": "code",
   "execution_count": null,
   "metadata": {},
   "outputs": [],
   "source": [
    "subset = all_res[all_res['metric']==plot_metric].copy()\n",
    "subset = subset[subset['experiment_name']=='diff_city']\n",
    "subset = subset[subset['is_tuned']==True]\n",
    "subset = subset[subset['model_archetype'].isin(['GRU'])]\n",
    "subset.groupby(['run','model'])[['value']].agg(['mean','std']).sort_values(['run', ('value','mean')], ascending=False)"
   ]
  },
  {
   "cell_type": "code",
   "execution_count": null,
   "metadata": {},
   "outputs": [],
   "source": [
    "fig, axes = plt.subplots(2,1)\n",
    "fig.set_figheight(5)\n",
    "fig.set_figwidth(8)\n",
    "axes = axes.flatten()\n",
    "sns.barplot(ax=axes[0], data=subset[subset['run']=='kcm'], x='value', y='model')\n",
    "sns.barplot(ax=axes[1], data=subset[subset['run']=='atb'], x='value', y='model')\n",
    "# fig.tight_layout()\n",
    "axes[0].set_xlim(plot_bounds)\n",
    "axes[0].set_title('Ablation (Target City - With Tuning)')\n",
    "axes[0].set_xlabel('')\n",
    "axes[0].set_ylabel('Source City: KCM')\n",
    "axes[1].set_xlim(plot_bounds)\n",
    "axes[1].set_xlabel('MAPE')\n",
    "axes[1].set_ylabel('Source City: AtB')\n",
    "fig.savefig(\"../plots/ablation_source.png\", dpi=300)"
   ]
  },
  {
   "cell_type": "markdown",
   "metadata": {},
   "source": [
    "### Multicity Tuning Results"
   ]
  },
  {
   "cell_type": "code",
   "execution_count": null,
   "metadata": {},
   "outputs": [],
   "source": [
    "cleaned_sources = pd.read_csv(Path(\"..\",\"data\",\"cleaned_sources.csv\")).iloc[:33]\n",
    "all_avg = {}\n",
    "all_base = {}\n",
    "all_tuned = {}\n",
    "for i,row in cleaned_sources.iterrows():\n",
    "    all_avg.update({row['uuid']: pickle.load(open(Path(\"..\", \"results_urban_mgmt\", \"multicity_tuning\", row[\"uuid\"], \"avg.pkl\"), \"rb\"))})\n",
    "    all_base.update({row['uuid']: pickle.load(open(Path(\"..\", \"results_urban_mgmt\", \"multicity_tuning\", row[\"uuid\"], \"base.pkl\"), \"rb\"))})\n",
    "    all_tuned.update({row['uuid']: pickle.load(open(Path(\"..\", \"results_urban_mgmt\", \"multicity_tuning\", row[\"uuid\"], \"tuned.pkl\"), \"rb\"))})"
   ]
  },
  {
   "cell_type": "code",
   "execution_count": null,
   "metadata": {},
   "outputs": [],
   "source": [
    "metrics = {}\n",
    "for k_uuid, res_uuid in all_avg.items():\n",
    "    metrics[k_uuid] = model_utils.performance_metrics(res_uuid[k_uuid]['labels'], res_uuid[k_uuid]['preds'])\n",
    "metrics_avg_df = pd.DataFrame(metrics).T\n",
    "metrics_avg_df.index.names = ['uuid']\n",
    "metrics_avg_df['n_batches'] = 'avg'\n",
    "metrics_avg_df = metrics_avg_df.reset_index()\n",
    "metrics_avg_df = pd.merge(metrics_avg_df, cleaned_sources, on='uuid')\n",
    "metrics_avg_df['experiment'] = 'heuristic'\n",
    "metrics_avg_df[['uuid','provider','n_batches','experiment','mae', 'mape', 'rmse', 'ex_var', 'r_score']].sort_values(['provider', 'n_batches']).head(10)"
   ]
  },
  {
   "cell_type": "code",
   "execution_count": null,
   "metadata": {},
   "outputs": [],
   "source": [
    "metrics = {}\n",
    "for k_uuid, res_uuid in all_base.items():\n",
    "    metrics[k_uuid] = model_utils.performance_metrics(res_uuid[k_uuid]['labels'], res_uuid[k_uuid]['preds'])\n",
    "metrics_base_df = pd.DataFrame(metrics).T\n",
    "metrics_base_df.index.names = ['uuid']\n",
    "metrics_base_df['n_batches'] = '0_batches'\n",
    "metrics_base_df = metrics_base_df.reset_index()\n",
    "metrics_base_df = pd.merge(metrics_base_df, cleaned_sources, on='uuid')\n",
    "metrics_base_df['experiment'] = 'not_tuned'\n",
    "metrics_base_df[['uuid','provider','n_batches','experiment','mae', 'mape', 'rmse', 'ex_var', 'r_score']].sort_values(['provider', 'n_batches']).head(10)"
   ]
  },
  {
   "cell_type": "code",
   "execution_count": null,
   "metadata": {},
   "outputs": [],
   "source": [
    "# all_metrics = pd.concat([metrics_base_df, metrics_tuned_df]).sort_values(['provider', 'n_batches'])\n",
    "# all_metrics['n_batches'] = pd.Categorical(all_metrics['n_batches'], ['0_batches','1_batches','10_batches','100_batches','500_batches','1000_batches','avg'])\n",
    "# all_metrics['Tuning Sample Size'] = all_metrics['n_batches'].replace({'0_batches': 'No Tuning', '1_batches':'10 Samples', '10_batches':'100 Samples', '100_batches':'1,000 Samples', '500_batches':'5,000 Samples', '1000_batches':'10,000 Samples', 'avg':'Heuristic'})\n",
    "# all_metrics['MAPE'] = all_metrics['mape']"
   ]
  },
  {
   "cell_type": "code",
   "execution_count": null,
   "metadata": {},
   "outputs": [],
   "source": [
    "# fig, axes = plt.subplots(1,1)\n",
    "# fig.set_figheight(5)\n",
    "# fig.set_figwidth(8)\n",
    "# sns.boxplot(ax=axes, data=all_metrics, x='MAPE', hue='Tuning Sample Size', palette=plotting.PALETTE)\n",
    "# axes.set_xlim([.08, .3])\n",
    "# axes.set_title('Tuned Performance for 33 International Cities')\n",
    "# axes.legend(handles=axes.get_legend_handles_labels()[0], loc='upper left', ncol=1)\n",
    "# axes.set_xticklabels(['10%', '12.5%', '15%', '17.5%', '20%', '22.5%', '25%', '27.5%', '30%'])\n",
    "# fig.savefig(\"../plots/multicity_generalization.png\", dpi=300)"
   ]
  },
  {
   "cell_type": "markdown",
   "metadata": {},
   "source": [
    "### Residuals"
   ]
  },
  {
   "cell_type": "code",
   "execution_count": null,
   "metadata": {},
   "outputs": [],
   "source": [
    "# fig, axes = plt.subplots(3,3)\n",
    "# fig.set_figheight(8)\n",
    "# fig.set_figwidth(12)\n",
    "\n",
    "# subset = all_out[all_out['model']==selected_model]\n",
    "# subset = subset[subset['experiment_name']=='same_city']\n",
    "# subset = subset.sample(10000)\n",
    "\n",
    "# for i, run_name in enumerate(['kcm','atb','mix']):\n",
    "#     plot_df = subset[subset['run']==run_name]\n",
    "#     sns.residplot(plot_df, ax=axes[i,0], x='labels', y='preds', lowess=True, scatter_kws={'marker': '.'}, line_kws={'color': 'red'})\n",
    "#     sm.qqplot(plot_df['residuals'], ax=axes[i,1], dist=stats.t, distargs=(len(plot_df)-1,), line='45', fit=True)\n",
    "#     sns.histplot(plot_df['residuals'], ax=axes[i,2], bins=100)\n",
    "#     axes[i,0].set_xlim(0,3000)\n",
    "#     axes[i,1].set_ylim(-10,10)\n",
    "#     axes[i,2].set_xlim(-500,500)\n",
    "#     axes[i,0].set_title(run_name)\n",
    "\n",
    "# fig.suptitle(f\"Same City Residuals - {selected_model}\")\n",
    "# fig.tight_layout()"
   ]
  },
  {
   "cell_type": "code",
   "execution_count": null,
   "metadata": {},
   "outputs": [],
   "source": [
    "# fig, axes = plt.subplots(3,3)\n",
    "# fig.set_figheight(8)\n",
    "# fig.set_figwidth(12)\n",
    "\n",
    "# subset = all_out[all_out['model']==selected_model]\n",
    "# subset = subset[subset['experiment_name']=='diff_city']\n",
    "# subset = subset.sample(10000)\n",
    "\n",
    "# for i, run_name in enumerate(['kcm','atb','mix']):\n",
    "#     plot_df = subset[subset['run']==run_name]\n",
    "#     sns.residplot(plot_df, ax=axes[i,0], x='labels', y='preds', lowess=True, scatter_kws={'marker': '.'}, line_kws={'color': 'red'})\n",
    "#     sm.qqplot(plot_df['residuals'], ax=axes[i,1], dist=stats.t, distargs=(len(plot_df)-1,), line='45', fit=True)\n",
    "#     sns.histplot(plot_df['residuals'], ax=axes[i,2], bins=100)\n",
    "#     axes[i,0].set_xlim(0,3000)\n",
    "#     axes[i,1].set_ylim(-10,10)\n",
    "#     axes[i,2].set_xlim(-500,500)\n",
    "#     axes[i,0].set_title(run_name)\n",
    "\n",
    "# fig.suptitle(f\"Different City Residuals - {selected_model}\")\n",
    "# fig.tight_layout()"
   ]
  },
  {
   "cell_type": "code",
   "execution_count": null,
   "metadata": {},
   "outputs": [],
   "source": [
    "# fig, axes = plt.subplots(3,3)\n",
    "# fig.set_figheight(8)\n",
    "# fig.set_figwidth(12)\n",
    "\n",
    "# subset = all_out[all_out['model']==selected_model]\n",
    "# subset = subset[subset['experiment_name']=='holdout']\n",
    "# subset = subset.sample(1000)\n",
    "\n",
    "# for i, run_name in enumerate(['kcm','atb','mix']):\n",
    "#     plot_df = subset[subset['run']==run_name]\n",
    "#     sns.residplot(plot_df, ax=axes[i,0], x='labels', y='preds', lowess=True, scatter_kws={'marker': '.'}, line_kws={'color': 'red'})\n",
    "#     sm.qqplot(plot_df['residuals'], ax=axes[i,1], dist=stats.t, distargs=(len(plot_df)-1,), line='45', fit=True)\n",
    "#     sns.histplot(plot_df['residuals'], ax=axes[i,2], bins=100)\n",
    "#     axes[i,0].set_xlim(0,3000)\n",
    "#     axes[i,1].set_ylim(-10,10)\n",
    "#     axes[i,2].set_xlim(-500,500)\n",
    "#     axes[i,0].set_title(run_name)\n",
    "\n",
    "# fig.suptitle(f\"Holdout Residuals - {selected_model}\")\n",
    "# fig.tight_layout()"
   ]
  }
 ],
 "metadata": {
  "kernelspec": {
   "display_name": "valle_m1",
   "language": "python",
   "name": "python3"
  },
  "language_info": {
   "codemirror_mode": {
    "name": "ipython",
    "version": 3
   },
   "file_extension": ".py",
   "mimetype": "text/x-python",
   "name": "python",
   "nbconvert_exporter": "python",
   "pygments_lexer": "ipython3",
   "version": "3.9.18"
  },
  "orig_nbformat": 4,
  "vscode": {
   "interpreter": {
    "hash": "b30fe1de1713ca8e7537eef068b13a2de77ded03f86aab2e80ea73416dd3d704"
   }
  }
 },
 "nbformat": 4,
 "nbformat_minor": 2
}
