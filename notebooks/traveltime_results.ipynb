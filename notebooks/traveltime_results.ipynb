{
 "cells": [
  {
   "cell_type": "code",
   "execution_count": null,
   "metadata": {},
   "outputs": [],
   "source": [
    "import os\n",
    "from pathlib import Path\n",
    "import pickle\n",
    "import sys\n",
    "sys.path.append(\"../\")\n",
    "\n",
    "import contextily as cx\n",
    "import importlib\n",
    "import matplotlib.pyplot as plt\n",
    "import numpy as np\n",
    "import pandas as pd\n",
    "import scipy.stats as stats\n",
    "import seaborn as sns\n",
    "from sklearn import metrics\n",
    "import statsmodels.api as sm\n",
    "\n",
    "\n",
    "from openbustools import plotting, standardfeeds\n",
    "from openbustools.traveltime import data_loader, model_utils"
   ]
  },
  {
   "cell_type": "code",
   "execution_count": null,
   "metadata": {},
   "outputs": [],
   "source": [
    "kcm_res, kcm_out = model_utils.load_results(\"../results/kcm/\")\n",
    "atb_res, atb_out = model_utils.load_results(\"../results/atb/\")\n",
    "# mix_res, mix_out = model_utils.load_results(\"../results/mix/\")"
   ]
  },
  {
   "cell_type": "code",
   "execution_count": null,
   "metadata": {},
   "outputs": [],
   "source": [
    "plot_subset = ['FF', 'GRU', 'CONV', 'TRSF', 'DEEPTTE']\n",
    "plot_metric = 'mape'\n",
    "plot_bounds = [0, .5]\n",
    "selected_model = \"GRU\""
   ]
  },
  {
   "cell_type": "code",
   "execution_count": null,
   "metadata": {},
   "outputs": [],
   "source": [
    "kcm_res['run'] = 'kcm'\n",
    "atb_res['run'] = 'atb'\n",
    "# mix_res['run'] = 'mix'\n",
    "# all_res = pd.concat([kcm_res, atb_res, mix_res])\n",
    "all_res = pd.concat([kcm_res, atb_res])\n",
    "kcm_out['run'] = 'kcm'\n",
    "atb_out['run'] = 'atb'\n",
    "# mix_out['run'] = 'mix'\n",
    "# all_out = pd.concat([kcm_out, atb_out, mix_out])\n",
    "all_out = pd.concat([kcm_out, atb_out])\n",
    "\n",
    "all_res.loc[all_res['model']=='FF_TUNED', 'model'] = 'FF'\n",
    "all_res.loc[all_res['model']=='GRU_TUNED', 'model'] = 'GRU'\n",
    "all_res.loc[all_res['model']=='CONV_TUNED', 'model'] = 'CONV'\n",
    "all_res.loc[all_res['model']=='TRSF_TUNED', 'model'] = 'TRSF'\n",
    "all_res.loc[all_res['model']=='DEEPTTE_TUNED', 'model'] = 'DEEPTTE'\n",
    "\n",
    "all_res"
   ]
  },
  {
   "cell_type": "markdown",
   "metadata": {},
   "source": [
    "### Model Selection Baseline Results"
   ]
  },
  {
   "cell_type": "code",
   "execution_count": null,
   "metadata": {},
   "outputs": [],
   "source": [
    "fig, axes = plt.subplots(1,1)\n",
    "subset = all_res[all_res['metric']==plot_metric].copy()\n",
    "subset = subset[subset['is_tuned']==False]\n",
    "subset = subset[subset['experiment_name'].isin(['same_city'])]\n",
    "subset = subset[subset['model'].isin(plot_subset)]\n",
    "sns.barplot(ax=axes, data=subset[subset['is_tuned']==False], x='value', y='model', hue='run', palette=plotting.PALETTE).set_title('Baseline Models')\n",
    "fig.tight_layout()\n",
    "axes.set_xlim(plot_bounds)"
   ]
  },
  {
   "cell_type": "code",
   "execution_count": null,
   "metadata": {},
   "outputs": [],
   "source": [
    "subset.groupby(['run','model'])[['value']].agg(['mean','std']).sort_values(['run', ('value','mean')], ascending=False)"
   ]
  },
  {
   "cell_type": "markdown",
   "metadata": {},
   "source": [
    "### Model Selection Generalization Results"
   ]
  },
  {
   "cell_type": "code",
   "execution_count": null,
   "metadata": {},
   "outputs": [],
   "source": [
    "fig, axes = plt.subplots(1,1)\n",
    "fig.set_figheight(5)\n",
    "fig.set_figwidth(8)\n",
    "subset = all_res[all_res['metric']==plot_metric].copy()\n",
    "subset = subset[subset['is_tuned']==False]\n",
    "subset = subset[subset['experiment_name'].isin(['diff_city'])]\n",
    "subset = subset[subset['model'].isin(plot_subset)]\n",
    "sns.barplot(ax=axes, data=subset[subset['is_tuned']==False], x='value', y='model', hue='run', palette=plotting.PALETTE)\n",
    "fig.tight_layout()\n",
    "axes.set_title('Baseline Models Generalization')\n",
    "axes.set_xlim([0, 1.0])\n",
    "axes.set_xlabel('MAPE')\n",
    "axes.set_ylabel('')\n",
    "axes.legend(title='Run', handles=axes.get_legend().legend_handles, labels=['KCM', 'AtB', 'Mixed'])"
   ]
  },
  {
   "cell_type": "code",
   "execution_count": null,
   "metadata": {},
   "outputs": [],
   "source": [
    "subset.groupby(['run','model'])[['value']].agg(['mean','std']).sort_values(['run', ('value','mean')], ascending=False)"
   ]
  },
  {
   "cell_type": "markdown",
   "metadata": {},
   "source": [
    "### Model Selection Hyperparameter Results"
   ]
  },
  {
   "cell_type": "code",
   "execution_count": null,
   "metadata": {},
   "outputs": [],
   "source": [
    "# kcm_hyper = model_utils.load_hyper_results(\"../logs/kcm_hyper_search/\", \"GRU\")\n",
    "# kcm_hyper = kcm_hyper.drop_duplicates(['model', 'version'])\n",
    "\n",
    "# kcm_hyper_res, atb_hyper_out = model_utils.load_results(\"../results/kcm_hyper_search/\")\n",
    "# kcm_hyper_res['version'] = kcm_hyper_res['model'].str.split(\"_\").str[2:4].str.join(\"_\")\n",
    "# kcm_hyper_res = kcm_hyper_res.groupby(['version', 'experiment_name', 'metric'], as_index=False)[['value']].mean()\n",
    "\n",
    "# hyper_res = pd.merge(kcm_hyper_res, kcm_hyper, on='version')\n",
    "# hyper_res = hyper_res[hyper_res['metric']=='mape']\n",
    "# hyper_res[hyper_res['experiment_name']=='diff_city']"
   ]
  },
  {
   "cell_type": "code",
   "execution_count": null,
   "metadata": {},
   "outputs": [],
   "source": [
    "# atb_hyper = model_utils.load_hyper_results(\"../logs/atb_hyper_search/\", \"GRU\")\n",
    "# atb_hyper = atb_hyper.drop_duplicates(['model', 'version'])\n",
    "\n",
    "# atb_hyper_res, atb_hyper_out = model_utils.load_results(\"../results/atb_hyper_search/\")\n",
    "# atb_hyper_res['version'] = atb_hyper_res['model'].str.split(\"_\").str[2:4].str.join(\"_\")\n",
    "# atb_hyper_res = atb_hyper_res.groupby(['version', 'experiment_name', 'metric'], as_index=False)[['value']].mean()\n",
    "\n",
    "# hyper_res = pd.merge(atb_hyper_res, atb_hyper, on='version')\n",
    "# hyper_res = hyper_res[hyper_res['metric']=='mape']\n",
    "# hyper_res[hyper_res['experiment_name']=='diff_city']"
   ]
  },
  {
   "cell_type": "markdown",
   "metadata": {},
   "source": [
    "### Internal Generalization Results"
   ]
  },
  {
   "cell_type": "code",
   "execution_count": null,
   "metadata": {},
   "outputs": [],
   "source": [
    "fig, axes = plt.subplots(2,1)\n",
    "axes = axes.flatten()\n",
    "fig.set_figheight(5)\n",
    "fig.set_figwidth(8)\n",
    "subset = all_res[all_res['metric']==plot_metric].copy()\n",
    "subset = subset[subset['is_tuned']==False]\n",
    "subset = subset[subset['experiment_name'].isin(['holdout', 'same_city'])]\n",
    "subset = subset[subset['model'].isin([selected_model, 'AVG', 'SCH', 'DEEPTTE'])]\n",
    "sns.barplot(ax=axes[0], data=subset[subset['run']=='kcm'], x='value', y='model', hue='experiment_name', palette=plotting.PALETTE)\n",
    "sns.barplot(ax=axes[1], data=subset[subset['run']=='atb'], x='value', y='model', hue='experiment_name', palette=plotting.PALETTE)\n",
    "# fig.tight_layout()\n",
    "axes[0].set_xlim([0, 1.0])\n",
    "axes[0].set_title('Internal Generalization')\n",
    "axes[0].set_xlabel('')\n",
    "axes[0].set_ylabel('Source City: KCM')\n",
    "axes[0].get_legend().remove()\n",
    "axes[1].set_xlim([0, 1.0])\n",
    "axes[1].set_xlabel('MAPE')\n",
    "axes[1].set_ylabel('Source City: AtB')\n",
    "axes[1].legend(handles=axes[0].get_legend_handles_labels()[0], loc='lower right', labels=['Source City', 'Source City Holdout Routes'], ncol=1)\n",
    "fig.savefig(\"../plots/internal_generalization.png\", dpi=300)"
   ]
  },
  {
   "cell_type": "code",
   "execution_count": null,
   "metadata": {},
   "outputs": [],
   "source": [
    "subset.groupby(['run','model','experiment_name'])[['value']].agg(['mean','std'])"
   ]
  },
  {
   "cell_type": "code",
   "execution_count": null,
   "metadata": {},
   "outputs": [],
   "source": [
    "source_df = pd.read_pickle(\"../data/kcm_realtime/processed/analysis/2023_03_13.pkl\")\n",
    "source_df = source_df[~source_df['route_id'].isin(data_loader.HOLDOUT_ROUTES)]\n",
    "# sns.histplot(source_df['calc_speed_m_s'])\n",
    "np.mean(source_df['calc_speed_m_s']), np.std(source_df['calc_speed_m_s'])"
   ]
  },
  {
   "cell_type": "code",
   "execution_count": null,
   "metadata": {},
   "outputs": [],
   "source": [
    "source_df = pd.read_pickle(\"../data/atb_realtime/processed/analysis/2023_03_13.pkl\")\n",
    "source_df = source_df[~source_df['route_id'].isin(data_loader.HOLDOUT_ROUTES)]\n",
    "# sns.histplot(source_df['calc_speed_m_s'])\n",
    "np.mean(source_df['calc_speed_m_s']), np.std(source_df['calc_speed_m_s'])"
   ]
  },
  {
   "cell_type": "code",
   "execution_count": null,
   "metadata": {},
   "outputs": [],
   "source": [
    "# gtfs = standardfeeds.get_gtfs_shapes_lookup(\"../data/kcm_static/2023_01_23/\")\n",
    "# gtfs_shapes = standardfeeds.get_gtfs_shapes(\"../data/kcm_static/2023_01_23/\", epsg=32148)\n",
    "\n",
    "# fig, axes = plt.subplots(1,2)\n",
    "# fig.set_figheight(5)\n",
    "# fig.set_figwidth(10)\n",
    "# axes = axes.flatten()\n",
    "\n",
    "# gtfs_shapes.drop_duplicates('route_id').plot(ax=axes[0])\n",
    "# gtfs_shapes[gtfs_shapes['route_id'].isin(data_loader.HOLDOUT_ROUTES)].plot(column='route_id', ax=axes[0])\n",
    "# cx.add_basemap(ax=axes[0], crs=gtfs_shapes.crs.to_string(), alpha=0.6, source=cx.providers.MapBox(accessToken=os.getenv(key=\"MAPBOX_TOKEN\")))\n",
    "\n",
    "# subset = all_res[all_res['metric']==plot_metric]\n",
    "# subset = subset[subset['run']=='kcm']\n",
    "# subset = subset[subset['is_tuned']==False]\n",
    "# subset = subset[subset['model_archetype'].isin(plot_subset)]\n",
    "# subset = subset[subset['experiment_name'].isin(['same_city','holdout'])]\n",
    "# sns.barplot(subset, x='value', y='model', hue='experiment_name', palette=plotting.PALETTE, ax=axes[1])\n",
    "\n",
    "# fig.suptitle(\"Holdout Routes KCM\")\n",
    "# fig.tight_layout()\n",
    "# axes[1].set_xlim(plot_bounds)"
   ]
  },
  {
   "cell_type": "markdown",
   "metadata": {},
   "source": [
    "### External Generalization Results"
   ]
  },
  {
   "cell_type": "code",
   "execution_count": null,
   "metadata": {},
   "outputs": [],
   "source": [
    "subset = all_res[all_res['metric']==plot_metric].copy()\n",
    "subset = subset[subset['is_tuned']==False]\n",
    "subset = subset[subset['experiment_name'].isin(['diff_city', 'same_city'])]\n",
    "subset = subset[subset['model'].isin([selected_model, 'AVG', 'DEEPTTE'])]\n",
    "\n",
    "# AtB models\n",
    "subset_atb = subset[subset['run']=='atb'].copy()\n",
    "subset_atb = subset_atb[subset_atb['experiment_name']=='same_city']\n",
    "subset_kcm = subset[subset['run']=='kcm'].copy()\n",
    "subset_kcm = subset_kcm[subset_kcm['experiment_name']=='diff_city']\n",
    "subset_atb_gen = pd.concat([subset_atb, subset_kcm])\n",
    "\n",
    "# KCM models\n",
    "subset_kcm = subset[subset['run']=='kcm'].copy()\n",
    "subset_kcm = subset_kcm[subset_kcm['experiment_name']=='same_city']\n",
    "subset_atb = subset[subset['run']=='atb'].copy()\n",
    "subset_atb = subset_atb[subset_atb['experiment_name']=='diff_city']\n",
    "subset_kcm_gen = pd.concat([subset_kcm, subset_atb])"
   ]
  },
  {
   "cell_type": "code",
   "execution_count": null,
   "metadata": {},
   "outputs": [],
   "source": [
    "fig, axes = plt.subplots(2,1)\n",
    "fig.set_figheight(5)\n",
    "fig.set_figwidth(8)\n",
    "axes = axes.flatten()\n",
    "sns.barplot(ax=axes[0], data=subset_kcm_gen, x='value', y='model', hue='experiment_name', palette=plotting.PALETTE)\n",
    "sns.barplot(ax=axes[1], data=subset_atb_gen, x='value', y='model', hue='experiment_name', palette=plotting.PALETTE)\n",
    "# fig.tight_layout()\n",
    "axes[0].set_xlim(plot_bounds)\n",
    "axes[0].set_title('External Generalization')\n",
    "axes[0].set_xlabel('')\n",
    "axes[0].set_ylabel('Source City: KCM')\n",
    "axes[0].get_legend().remove()\n",
    "axes[1].set_xlim(plot_bounds)\n",
    "axes[1].set_xlabel('MAPE')\n",
    "axes[1].set_ylabel('Source City: AtB')\n",
    "axes[1].legend(handles=axes[0].get_legend_handles_labels()[0], loc='lower right', labels=['Tested on Source City', 'Tested on Target City'], ncol=1, title='')\n",
    "fig.savefig(\"../plots/external_generalization.png\", dpi=300)"
   ]
  },
  {
   "cell_type": "markdown",
   "metadata": {},
   "source": [
    "### Tuning Results"
   ]
  },
  {
   "cell_type": "code",
   "execution_count": null,
   "metadata": {},
   "outputs": [],
   "source": [
    "# Show dist of improvement rather than bars\n",
    "subset = all_res[all_res['metric']==plot_metric].copy()\n",
    "subset = subset[subset['experiment_name'].isin(['diff_city'])]\n",
    "subset = subset[subset['model'].isin([selected_model, 'DEEPTTE'])]\n",
    "\n",
    "subset_notune = subset[subset['is_tuned']==False]\n",
    "subset_tune = subset[subset['is_tuned']==True]\n",
    "\n",
    "subset = pd.merge(subset_notune, subset_tune, on=['run','model','fold'], suffixes=('_notune', '_tune'))\n",
    "subset['pct_improvement'] = (subset['value_tune'] - subset['value_notune']) / subset['value_notune']\n",
    "subset['net_improvement'] = (subset['value_tune'] - subset['value_notune'])"
   ]
  },
  {
   "cell_type": "code",
   "execution_count": null,
   "metadata": {},
   "outputs": [],
   "source": [
    "fig, axes = plt.subplots(2,1)\n",
    "fig.set_figheight(5)\n",
    "fig.set_figwidth(8)\n",
    "axes = axes.flatten()\n",
    "sns.boxplot(ax=axes[0], data=subset[subset['run']=='kcm'], x='net_improvement', hue='model', palette=plotting.PALETTE)\n",
    "sns.boxplot(ax=axes[1], data=subset[subset['run']=='atb'], x='net_improvement', hue='model', palette=plotting.PALETTE)\n",
    "# fig.tight_layout()\n",
    "axes[0].set_xlim([-.3, .1])\n",
    "axes[0].set_title('Tuned Improvements to External Generalization')\n",
    "axes[0].set_xlabel('')\n",
    "axes[0].set_ylabel('Source City: KCM')\n",
    "axes[0].get_legend().remove()\n",
    "axes[0].set_xticklabels(['-30%', '-25%', '-20%', '-15%', '-10%', '-5%', '0%', '5%', '10%'])\n",
    "axes[1].set_xlim([-.3, .1])\n",
    "axes[1].set_xlabel('Net Reduction in MAPE w/100 Tuning Samples')\n",
    "axes[1].set_ylabel('Source City: AtB')\n",
    "axes[1].legend(handles=axes[0].get_legend_handles_labels()[0], loc='upper right', labels=['GRU', 'DeepTTE'], ncol=1)\n",
    "axes[1].set_xticklabels(['-30%', '-25%', '-20%', '-15%', '-10%', '-5%', '0%', '5%', '10%'])\n",
    "fig.savefig(\"../plots/tuned_generalization.png\", dpi=300)"
   ]
  },
  {
   "cell_type": "markdown",
   "metadata": {},
   "source": [
    "### Ablation Results"
   ]
  },
  {
   "cell_type": "code",
   "execution_count": null,
   "metadata": {},
   "outputs": [],
   "source": [
    "subset = all_res[all_res['metric']==plot_metric].copy()\n",
    "subset = subset[subset['experiment_name']=='same_city']\n",
    "subset = subset[subset['is_tuned']==True]\n",
    "subset = subset[subset['model_archetype'].isin(['GRU'])]\n",
    "subset.groupby(['run','model'])[['value']].agg(['mean','std'])#.sort_values(['run', ('value','mean')], ascending=False)"
   ]
  },
  {
   "cell_type": "code",
   "execution_count": null,
   "metadata": {},
   "outputs": [],
   "source": [
    "subset = all_res[all_res['metric']==plot_metric].copy()\n",
    "subset = subset[subset['experiment_name']=='diff_city']\n",
    "# subset = subset[subset['is_tuned']==False]\n",
    "subset = subset[subset['model_archetype'].isin(['GRU'])]\n",
    "subset.groupby(['run','model','is_tuned'])[['value']].agg(['mean','std'])#.sort_values(['run', ('value','mean')], ascending=False)"
   ]
  },
  {
   "cell_type": "markdown",
   "metadata": {},
   "source": [
    "### Residuals"
   ]
  },
  {
   "cell_type": "code",
   "execution_count": null,
   "metadata": {},
   "outputs": [],
   "source": [
    "# fig, axes = plt.subplots(3,3)\n",
    "# fig.set_figheight(8)\n",
    "# fig.set_figwidth(12)\n",
    "\n",
    "# subset = all_out[all_out['model']==selected_model]\n",
    "# subset = subset[subset['experiment_name']=='same_city']\n",
    "# subset = subset.sample(10000)\n",
    "\n",
    "# for i, run_name in enumerate(['kcm','atb','mix']):\n",
    "#     plot_df = subset[subset['run']==run_name]\n",
    "#     sns.residplot(plot_df, ax=axes[i,0], x='labels', y='preds', lowess=True, scatter_kws={'marker': '.'}, line_kws={'color': 'red'})\n",
    "#     sm.qqplot(plot_df['residuals'], ax=axes[i,1], dist=stats.t, distargs=(len(plot_df)-1,), line='45', fit=True)\n",
    "#     sns.histplot(plot_df['residuals'], ax=axes[i,2], bins=100)\n",
    "#     axes[i,0].set_xlim(0,3000)\n",
    "#     axes[i,1].set_ylim(-10,10)\n",
    "#     axes[i,2].set_xlim(-500,500)\n",
    "#     axes[i,0].set_title(run_name)\n",
    "\n",
    "# fig.suptitle(f\"Same City Residuals - {selected_model}\")\n",
    "# fig.tight_layout()"
   ]
  },
  {
   "cell_type": "code",
   "execution_count": null,
   "metadata": {},
   "outputs": [],
   "source": [
    "# fig, axes = plt.subplots(3,3)\n",
    "# fig.set_figheight(8)\n",
    "# fig.set_figwidth(12)\n",
    "\n",
    "# subset = all_out[all_out['model']==selected_model]\n",
    "# subset = subset[subset['experiment_name']=='diff_city']\n",
    "# subset = subset.sample(10000)\n",
    "\n",
    "# for i, run_name in enumerate(['kcm','atb','mix']):\n",
    "#     plot_df = subset[subset['run']==run_name]\n",
    "#     sns.residplot(plot_df, ax=axes[i,0], x='labels', y='preds', lowess=True, scatter_kws={'marker': '.'}, line_kws={'color': 'red'})\n",
    "#     sm.qqplot(plot_df['residuals'], ax=axes[i,1], dist=stats.t, distargs=(len(plot_df)-1,), line='45', fit=True)\n",
    "#     sns.histplot(plot_df['residuals'], ax=axes[i,2], bins=100)\n",
    "#     axes[i,0].set_xlim(0,3000)\n",
    "#     axes[i,1].set_ylim(-10,10)\n",
    "#     axes[i,2].set_xlim(-500,500)\n",
    "#     axes[i,0].set_title(run_name)\n",
    "\n",
    "# fig.suptitle(f\"Different City Residuals - {selected_model}\")\n",
    "# fig.tight_layout()"
   ]
  },
  {
   "cell_type": "code",
   "execution_count": null,
   "metadata": {},
   "outputs": [],
   "source": [
    "# fig, axes = plt.subplots(3,3)\n",
    "# fig.set_figheight(8)\n",
    "# fig.set_figwidth(12)\n",
    "\n",
    "# subset = all_out[all_out['model']==selected_model]\n",
    "# subset = subset[subset['experiment_name']=='holdout']\n",
    "# subset = subset.sample(1000)\n",
    "\n",
    "# for i, run_name in enumerate(['kcm','atb','mix']):\n",
    "#     plot_df = subset[subset['run']==run_name]\n",
    "#     sns.residplot(plot_df, ax=axes[i,0], x='labels', y='preds', lowess=True, scatter_kws={'marker': '.'}, line_kws={'color': 'red'})\n",
    "#     sm.qqplot(plot_df['residuals'], ax=axes[i,1], dist=stats.t, distargs=(len(plot_df)-1,), line='45', fit=True)\n",
    "#     sns.histplot(plot_df['residuals'], ax=axes[i,2], bins=100)\n",
    "#     axes[i,0].set_xlim(0,3000)\n",
    "#     axes[i,1].set_ylim(-10,10)\n",
    "#     axes[i,2].set_xlim(-500,500)\n",
    "#     axes[i,0].set_title(run_name)\n",
    "\n",
    "# fig.suptitle(f\"Holdout Residuals - {selected_model}\")\n",
    "# fig.tight_layout()"
   ]
  }
 ],
 "metadata": {
  "kernelspec": {
   "display_name": "valle_m1",
   "language": "python",
   "name": "python3"
  },
  "language_info": {
   "codemirror_mode": {
    "name": "ipython",
    "version": 3
   },
   "file_extension": ".py",
   "mimetype": "text/x-python",
   "name": "python",
   "nbconvert_exporter": "python",
   "pygments_lexer": "ipython3",
   "version": "3.9.18"
  },
  "orig_nbformat": 4,
  "vscode": {
   "interpreter": {
    "hash": "b30fe1de1713ca8e7537eef068b13a2de77ded03f86aab2e80ea73416dd3d704"
   }
  }
 },
 "nbformat": 4,
 "nbformat_minor": 2
}
