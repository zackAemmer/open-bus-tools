{
 "cells": [
  {
   "cell_type": "code",
   "execution_count": null,
   "metadata": {},
   "outputs": [],
   "source": [
    "import os\n",
    "import pickle\n",
    "import sys\n",
    "sys.path.append(\"../\")\n",
    "\n",
    "import importlib\n",
    "import matplotlib.pyplot as plt\n",
    "import numpy as np\n",
    "import pandas as pd\n",
    "import seaborn as sns\n",
    "from sklearn import metrics\n",
    "\n",
    "from openbustools import plotting\n",
    "from openbustools.traveltime import model_utils"
   ]
  },
  {
   "cell_type": "code",
   "execution_count": null,
   "metadata": {},
   "outputs": [],
   "source": [
    "all_res = []\n",
    "for model_res_file in os.listdir(\"../results/kcm/\"):\n",
    "    res = model_utils.format_model_res(f\"../results/kcm/{model_res_file}\")\n",
    "    all_res.append(res)\n",
    "all_res = pd.concat(all_res)\n",
    "all_res['model_archetype'] = all_res['model'].str.split('_').str[0]\n",
    "all_res['is_tuned'] = False\n",
    "all_res.loc[all_res['model'].str.split('_').str[-1]=='TUNED', 'is_tuned'] = True\n",
    "all_res"
   ]
  },
  {
   "cell_type": "code",
   "execution_count": null,
   "metadata": {},
   "outputs": [],
   "source": [
    "subset = all_res[all_res['metric']=='mae']\n",
    "subset = subset[subset['is_tuned']==False]\n",
    "subset = subset[subset['model_archetype'].isin(['GRU','AVGM','AVGH','PERT'])]\n",
    "subset = subset.sort_values('model')\n",
    "sns.barplot(subset, x='value', y='model', hue='experiment_name')"
   ]
  },
  {
   "cell_type": "code",
   "execution_count": null,
   "metadata": {},
   "outputs": [],
   "source": [
    "run_folder_kcm = \"../results/big_run/kcm/models/\"\n",
    "run_folder_atb = \"../results/big_run/atb/models/\"\n",
    "run_folder_mix = \"../results/big_run_nosch/kcm_atb/models/\"\n",
    "run_folder_rut = \"../results/big_run_nosch/rut/models/\""
   ]
  },
  {
   "attachments": {},
   "cell_type": "markdown",
   "metadata": {},
   "source": [
    "### Model Performance"
   ]
  },
  {
   "cell_type": "code",
   "execution_count": null,
   "metadata": {},
   "outputs": [],
   "source": [
    "print(kcm_gen_df[kcm_gen_df['Loss']==\"Train_Losses\"].groupby([\"Model\"])[[\"MAPE\"]].agg([\"mean\",\"std\"]))"
   ]
  },
  {
   "cell_type": "code",
   "execution_count": null,
   "metadata": {},
   "outputs": [],
   "source": [
    "print(kcm_result_df.groupby([\"Model\"])[[\"MAPE\"]].agg([\"mean\",\"std\"]))"
   ]
  }
 ],
 "metadata": {
  "kernelspec": {
   "display_name": "valle_m1",
   "language": "python",
   "name": "python3"
  },
  "language_info": {
   "codemirror_mode": {
    "name": "ipython",
    "version": 3
   },
   "file_extension": ".py",
   "mimetype": "text/x-python",
   "name": "python",
   "nbconvert_exporter": "python",
   "pygments_lexer": "ipython3",
   "version": "3.9.6"
  },
  "orig_nbformat": 4,
  "vscode": {
   "interpreter": {
    "hash": "b30fe1de1713ca8e7537eef068b13a2de77ded03f86aab2e80ea73416dd3d704"
   }
  }
 },
 "nbformat": 4,
 "nbformat_minor": 2
}
