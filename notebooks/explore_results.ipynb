{
 "cells": [
  {
   "cell_type": "code",
   "execution_count": null,
   "metadata": {},
   "outputs": [],
   "source": [
    "import os\n",
    "import pickle\n",
    "import sys\n",
    "sys.path.append(\"../\")\n",
    "\n",
    "import importlib\n",
    "import matplotlib.pyplot as plt\n",
    "import numpy as np\n",
    "import pandas as pd\n",
    "import scipy.stats as stats\n",
    "import seaborn as sns\n",
    "from sklearn import metrics\n",
    "import statsmodels.api as sm\n",
    "\n",
    "\n",
    "from openbustools import plotting\n",
    "from openbustools.traveltime import model_utils"
   ]
  },
  {
   "cell_type": "code",
   "execution_count": null,
   "metadata": {},
   "outputs": [],
   "source": [
    "model_order = [\n",
    "    'AVGH',\n",
    "    'AVGM',\n",
    "    'PERT',\n",
    "    'SCH',\n",
    "    'FF','FF_TUNED',\n",
    "    'FF_STATIC','FF_STATIC_TUNED',\n",
    "    'FF_REALTIME','FF_REALTIME_TUNED',\n",
    "    'CONV','CONV_TUNED',\n",
    "    'CONV_STATIC','CONV_STATIC_TUNED',\n",
    "    'CONV_REALTIME','CONV_REALTIME_TUNED',\n",
    "    'GRU','GRU_TUNED',\n",
    "    'GRU_STATIC','GRU_STATIC_TUNED',\n",
    "    'GRU_REALTIME','GRU_REALTIME_TUNED',\n",
    "    'TRSF','TRSF_TUNED',\n",
    "    'TRSF_STATIC','TRSF_STATIC_TUNED',\n",
    "    'TRSF_REALTIME','TRSF_REALTIME_TUNED',\n",
    "    'DEEPTTE','DEEPTTE_TUNED',\n",
    "    'DEEPTTE_STATIC','DEEPTTE_STATIC_TUNED',\n",
    "]\n",
    "experiment_order = [\n",
    "    'same_city',\n",
    "    'holdout',\n",
    "    'diff_city'\n",
    "]\n",
    "res_folder = \"../results/kcm/\""
   ]
  },
  {
   "cell_type": "code",
   "execution_count": null,
   "metadata": {},
   "outputs": [],
   "source": [
    "all_res = []\n",
    "all_out = []\n",
    "for model_res_file in os.listdir(res_folder):\n",
    "    if model_res_file.split('.')[-1]=='pkl':\n",
    "        res, out = model_utils.format_model_res(f\"{res_folder}{model_res_file}\")\n",
    "        all_res.append(res)\n",
    "        all_out.append(out)\n",
    "all_res = pd.concat(all_res)\n",
    "all_out = pd.concat(all_out)\n",
    "\n",
    "all_res['model_archetype'] = all_res['model'].str.split('_').str[0]\n",
    "all_res['is_tuned'] = False\n",
    "all_res.loc[all_res['model'].str.split('_').str[-1]=='TUNED', 'is_tuned'] = True\n",
    "all_res['plot_order_model'] = all_res['model'].apply(lambda x: model_order.index(x))\n",
    "all_res['plot_order_experiment'] = all_res['experiment_name'].apply(lambda x: experiment_order.index(x))\n",
    "all_res = all_res.sort_values(['plot_order_model','plot_order_experiment'])\n",
    "all_res"
   ]
  },
  {
   "cell_type": "markdown",
   "metadata": {},
   "source": [
    "### Tuning Results"
   ]
  },
  {
   "cell_type": "code",
   "execution_count": null,
   "metadata": {},
   "outputs": [],
   "source": [
    "fig, axes = plt.subplots(2,1)\n",
    "subset = all_res[all_res['metric']=='mape']\n",
    "subset = subset[subset['experiment_name'].isin(['same_city'])]\n",
    "subset = subset[subset['model_archetype'].isin(['AVGM','FF','GRU'])]\n",
    "sns.barplot(ax=axes[0], data=subset[subset['is_tuned']==False], x='value', y='model', hue='experiment_name', palette=plotting.PALETTE).set_title('Original Models')\n",
    "sns.barplot(ax=axes[1], data=subset[subset['is_tuned']==True], x='value', y='model', hue='experiment_name', palette=plotting.PALETTE).set_title('Tuned Models')\n",
    "fig.tight_layout()\n",
    "axes[0].set_xlim(0,0.5)\n",
    "axes[1].set_xlim(0,0.5)"
   ]
  },
  {
   "cell_type": "code",
   "execution_count": null,
   "metadata": {},
   "outputs": [],
   "source": [
    "fig, axes = plt.subplots(2,1)\n",
    "subset = all_res[all_res['metric']=='mape']\n",
    "subset = subset[subset['experiment_name'].isin(['diff_city'])]\n",
    "subset = subset[subset['model_archetype'].isin(['AVGM','FF','GRU'])]\n",
    "sns.barplot(ax=axes[0], data=subset[subset['is_tuned']==False], x='value', y='model', hue='experiment_name', palette=plotting.PALETTE).set_title('Original Models')\n",
    "sns.barplot(ax=axes[1], data=subset[subset['is_tuned']==True], x='value', y='model', hue='experiment_name', palette=plotting.PALETTE).set_title('Tuned Models')\n",
    "fig.tight_layout()\n",
    "# axes[0].set_xlim(0,1)\n",
    "# axes[1].set_xlim(0,1)"
   ]
  },
  {
   "cell_type": "markdown",
   "metadata": {},
   "source": [
    "### Holdout Results"
   ]
  },
  {
   "cell_type": "code",
   "execution_count": null,
   "metadata": {},
   "outputs": [],
   "source": [
    "fig, axes = plt.subplots(1,1)\n",
    "subset = all_res[all_res['metric']=='mape']\n",
    "subset = subset[subset['experiment_name'].isin(['same_city','holdout'])]\n",
    "subset = subset[subset['model_archetype'].isin(['AVGM','GRU'])]\n",
    "sns.barplot(subset, x='value', y='model', hue='experiment_name', palette=plotting.PALETTE)\n",
    "fig.tight_layout()\n",
    "axes.set_xlim(0,.5)"
   ]
  },
  {
   "cell_type": "markdown",
   "metadata": {},
   "source": [
    "### Residuals Plot"
   ]
  },
  {
   "cell_type": "code",
   "execution_count": null,
   "metadata": {},
   "outputs": [],
   "source": [
    "subset = all_out[all_out['model']=='GRU']\n",
    "subset = subset[subset['experiment_name']=='same_city']\n",
    "subset = subset.sample(10000)"
   ]
  },
  {
   "cell_type": "code",
   "execution_count": null,
   "metadata": {},
   "outputs": [],
   "source": [
    "plotting.formatted_residuals_plot(subset)"
   ]
  }
 ],
 "metadata": {
  "kernelspec": {
   "display_name": "valle_m1",
   "language": "python",
   "name": "python3"
  },
  "language_info": {
   "codemirror_mode": {
    "name": "ipython",
    "version": 3
   },
   "file_extension": ".py",
   "mimetype": "text/x-python",
   "name": "python",
   "nbconvert_exporter": "python",
   "pygments_lexer": "ipython3",
   "version": "3.9.18"
  },
  "orig_nbformat": 4,
  "vscode": {
   "interpreter": {
    "hash": "b30fe1de1713ca8e7537eef068b13a2de77ded03f86aab2e80ea73416dd3d704"
   }
  }
 },
 "nbformat": 4,
 "nbformat_minor": 2
}
