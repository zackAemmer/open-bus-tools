{
 "cells": [
  {
   "cell_type": "code",
   "execution_count": null,
   "metadata": {},
   "outputs": [],
   "source": [
    "import os\n",
    "import pickle\n",
    "import sys\n",
    "sys.path.append(\"../\")\n",
    "\n",
    "import importlib\n",
    "import matplotlib.pyplot as plt\n",
    "import numpy as np\n",
    "import pandas as pd\n",
    "import scipy.stats as stats\n",
    "import seaborn as sns\n",
    "from sklearn import metrics\n",
    "import statsmodels.api as sm\n",
    "\n",
    "\n",
    "from openbustools import plotting\n",
    "from openbustools.traveltime import model_utils"
   ]
  },
  {
   "cell_type": "code",
   "execution_count": null,
   "metadata": {},
   "outputs": [],
   "source": [
    "model_order = [\n",
    "    'AVGH',\n",
    "    'AVGM',\n",
    "    'PERT',\n",
    "    'SCH',\n",
    "    'FF','FF_TUNED',\n",
    "    'FF_STATIC','FF_STATIC_TUNED',\n",
    "    'FF_REALTIME','FF_REALTIME_TUNED',\n",
    "    'CONV','CONV_TUNED',\n",
    "    'CONV_STATIC','CONV_STATIC_TUNED',\n",
    "    'CONV_REALTIME','CONV_REALTIME_TUNED',\n",
    "    'GRU','GRU_TUNED',\n",
    "    'GRU_STATIC','GRU_STATIC_TUNED',\n",
    "    'GRU_REALTIME','GRU_REALTIME_TUNED',\n",
    "    'TRSF','TRSF_TUNED',\n",
    "    'TRSF_STATIC','TRSF_STATIC_TUNED',\n",
    "    'TRSF_REALTIME','TRSF_REALTIME_TUNED',\n",
    "    'DEEPTTE','DEEPTTE_TUNED',\n",
    "    'DEEPTTE_STATIC','DEEPTTE_STATIC_TUNED',\n",
    "]\n",
    "experiment_order = [\n",
    "    'same_city',\n",
    "    'holdout',\n",
    "    'diff_city'\n",
    "]"
   ]
  },
  {
   "cell_type": "code",
   "execution_count": null,
   "metadata": {},
   "outputs": [],
   "source": [
    "all_res = []\n",
    "all_out = []\n",
    "for model_res_file in os.listdir(\"../results/kcm/\"):\n",
    "    if model_res_file.split('.')[-1]=='pkl':\n",
    "        res, out = model_utils.format_model_res(f\"../results/kcm/{model_res_file}\")\n",
    "        all_res.append(res)\n",
    "        all_out.append(out)\n",
    "all_res = pd.concat(all_res)\n",
    "all_out = pd.concat(all_out)\n",
    "\n",
    "all_res['model_archetype'] = all_res['model'].str.split('_').str[0]\n",
    "all_res['is_tuned'] = False\n",
    "all_res.loc[all_res['model'].str.split('_').str[-1]=='TUNED', 'is_tuned'] = True\n",
    "all_res['plot_order_model'] = all_res['model'].apply(lambda x: model_order.index(x))\n",
    "all_res['plot_order_experiment'] = all_res['experiment_name'].apply(lambda x: experiment_order.index(x))\n",
    "all_res = all_res.sort_values(['plot_order_model','plot_order_experiment'])\n",
    "all_res"
   ]
  },
  {
   "cell_type": "markdown",
   "metadata": {},
   "source": [
    "### Specific Model"
   ]
  },
  {
   "cell_type": "code",
   "execution_count": null,
   "metadata": {},
   "outputs": [],
   "source": [
    "fig, axes = plt.subplots(2,1)\n",
    "subset = all_res[all_res['metric']=='mape']\n",
    "subset = subset[subset['experiment_name'].isin(['same_city'])]\n",
    "subset = subset[subset['model_archetype'].isin(['AVGM','PERT','SCH','FF'])]\n",
    "sns.barplot(ax=axes[0], data=subset[subset['is_tuned']==False], x='value', y='model', hue='experiment_name', palette=plotting.PALETTE)\n",
    "sns.barplot(ax=axes[1], data=subset[subset['is_tuned']==True], x='value', y='model', hue='experiment_name', palette=plotting.PALETTE)\n",
    "# axes[0].set_xlim(0,0.5)\n",
    "# axes[1].set_xlim(0,0.5)"
   ]
  },
  {
   "cell_type": "code",
   "execution_count": null,
   "metadata": {},
   "outputs": [],
   "source": [
    "subset = all_out[all_out['model']=='FF']\n",
    "subset = subset[subset['experiment_name']=='same_city']\n",
    "subset = subset.sample(10000)"
   ]
  },
  {
   "cell_type": "code",
   "execution_count": null,
   "metadata": {},
   "outputs": [],
   "source": [
    "plotting.formatted_residuals_plot(subset)"
   ]
  },
  {
   "cell_type": "markdown",
   "metadata": {},
   "source": [
    "### Ablation By Experiment"
   ]
  },
  {
   "cell_type": "code",
   "execution_count": null,
   "metadata": {},
   "outputs": [],
   "source": [
    "subset = all_res[all_res['metric']=='mape']\n",
    "subset = subset[subset['is_tuned']==False]\n",
    "subset = subset[subset['model_archetype'].isin(['AVGM','PERT','SCH','FF','GRU','CONV','TRSF','DEEPTTE'])]\n",
    "subset = subset[subset['experiment_name'].isin(['same_city'])]\n",
    "sns.barplot(subset, x='value', y='model', hue='experiment_name', palette=plotting.PALETTE)\n",
    "plt.xlim(0, 0.5)"
   ]
  },
  {
   "cell_type": "code",
   "execution_count": null,
   "metadata": {},
   "outputs": [],
   "source": [
    "subset = all_res[all_res['metric']=='mape']\n",
    "subset = subset[subset['is_tuned']==False]\n",
    "subset = subset[subset['model_archetype'].isin(['AVGM','PERT','SCH','FF','GRU','CONV','TRSF','DEEPTTE'])]\n",
    "subset = subset[subset['experiment_name'].isin(['holdout'])]\n",
    "sns.barplot(subset, x='value', y='model', hue='experiment_name', palette=plotting.PALETTE)\n",
    "plt.xlim(0, 0.5)"
   ]
  },
  {
   "cell_type": "code",
   "execution_count": null,
   "metadata": {},
   "outputs": [],
   "source": [
    "subset = all_res[all_res['metric']=='mape']\n",
    "subset = subset[subset['is_tuned']==False]\n",
    "subset = subset[subset['model_archetype'].isin(['AVGM','PERT','SCH','FF','GRU','CONV','TRSF','DEEPTTE'])]\n",
    "subset = subset[subset['experiment_name'].isin(['diff_city'])]\n",
    "sns.barplot(subset, x='value', y='model', hue='experiment_name', palette=plotting.PALETTE)\n",
    "plt.xlim(0, 0.5)"
   ]
  },
  {
   "cell_type": "markdown",
   "metadata": {},
   "source": [
    "### Holdout Routes"
   ]
  },
  {
   "cell_type": "code",
   "execution_count": null,
   "metadata": {},
   "outputs": [],
   "source": [
    "subset = all_res[all_res['metric']=='mape']\n",
    "subset = subset[subset['is_tuned']==False]\n",
    "subset = subset[subset['model_archetype'].isin(['AVGM','PERT','SCH','FF','GRU','CONV','TRSF','DEEPTTE'])]\n",
    "subset = subset[subset['experiment_name'].isin(['same_city','holdout'])]\n",
    "sns.barplot(subset, x='value', y='model', hue='experiment_name', palette=plotting.PALETTE)\n",
    "plt.xlim(0, 0.5)"
   ]
  },
  {
   "cell_type": "markdown",
   "metadata": {},
   "source": [
    "### Tuning"
   ]
  },
  {
   "cell_type": "code",
   "execution_count": null,
   "metadata": {},
   "outputs": [],
   "source": [
    "subset = all_res[all_res['metric']=='mape']\n",
    "subset = subset[subset['model'].isin(['AVGM','PERT','GRU','GRU_TUNED','TRSF','TRSF_TUNED'])]\n",
    "subset = subset[subset['experiment_name'].isin(['same_city','diff_city'])]\n",
    "sns.barplot(subset, x='value', y='model', hue='experiment_name', palette=plotting.PALETTE)\n",
    "plt.xlim(0, 0.5)"
   ]
  }
 ],
 "metadata": {
  "kernelspec": {
   "display_name": "valle_m1",
   "language": "python",
   "name": "python3"
  },
  "language_info": {
   "codemirror_mode": {
    "name": "ipython",
    "version": 3
   },
   "file_extension": ".py",
   "mimetype": "text/x-python",
   "name": "python",
   "nbconvert_exporter": "python",
   "pygments_lexer": "ipython3",
   "version": "3.9.6"
  },
  "orig_nbformat": 4,
  "vscode": {
   "interpreter": {
    "hash": "b30fe1de1713ca8e7537eef068b13a2de77ded03f86aab2e80ea73416dd3d704"
   }
  }
 },
 "nbformat": 4,
 "nbformat_minor": 2
}
