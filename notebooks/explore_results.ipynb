{
 "cells": [
  {
   "cell_type": "code",
   "execution_count": null,
   "metadata": {},
   "outputs": [],
   "source": [
    "import os\n",
    "import pickle\n",
    "import sys\n",
    "sys.path.append(\"../\")\n",
    "\n",
    "import contextily as cx\n",
    "import importlib\n",
    "import matplotlib.pyplot as plt\n",
    "import numpy as np\n",
    "import pandas as pd\n",
    "import scipy.stats as stats\n",
    "import seaborn as sns\n",
    "from sklearn import metrics\n",
    "import statsmodels.api as sm\n",
    "\n",
    "\n",
    "from openbustools import plotting, standardfeeds\n",
    "from openbustools.traveltime import data_loader, model_utils"
   ]
  },
  {
   "cell_type": "code",
   "execution_count": null,
   "metadata": {},
   "outputs": [],
   "source": [
    "kcm_res, kcm_out = model_utils.load_results(\"../results/kcm/\")\n",
    "# atb_res, atb_out = model_utils.load_results(\"../results/atb/\")\n",
    "# mix_res, mix_out = model_utils.load_results(\"../results/mix/\")"
   ]
  },
  {
   "cell_type": "code",
   "execution_count": null,
   "metadata": {},
   "outputs": [],
   "source": [
    "kcm_res[(kcm_res['model']=='GRU') & (kcm_res['experiment_name']=='same_city') & (kcm_res['fold']==0)]"
   ]
  },
  {
   "cell_type": "code",
   "execution_count": null,
   "metadata": {},
   "outputs": [],
   "source": [
    "plot_subset = ['AVG','FF','GRU','CONV','TRSF','DEEPTTE']\n",
    "plot_metric = 'mape'\n",
    "plot_bounds = [0, 1.0]\n",
    "residuals_model = \"GRU\""
   ]
  },
  {
   "cell_type": "code",
   "execution_count": null,
   "metadata": {},
   "outputs": [],
   "source": [
    "# kcm_res['run'] = 'kcm'\n",
    "# atb_res['run'] = 'atb'\n",
    "# mix_res['run'] = 'mix'\n",
    "# all_res = pd.concat([kcm_res, atb_res, mix_res])\n",
    "# kcm_out['run'] = 'kcm'\n",
    "# atb_out['run'] = 'atb'\n",
    "# mix_out['run'] = 'mix'\n",
    "# all_out = pd.concat([kcm_out, atb_out, mix_out])\n",
    "\n",
    "# all_res.loc[all_res['model']=='FF_TUNED', 'model'] = 'FF'\n",
    "# all_res.loc[all_res['model']=='GRU_TUNED', 'model'] = 'GRU'\n",
    "# all_res.loc[all_res['model']=='CONV_TUNED', 'model'] = 'CONV'\n",
    "# all_res.loc[all_res['model']=='TRSF_TUNED', 'model'] = 'TRSF'\n",
    "# all_res.loc[all_res['model']=='DEEPTTE_TUNED', 'model'] = 'DEEPTTE'\n",
    "\n",
    "# all_res"
   ]
  },
  {
   "cell_type": "code",
   "execution_count": null,
   "metadata": {},
   "outputs": [],
   "source": [
    "kcm_res['run'] = 'kcm'\n",
    "kcm_out['run'] = 'kcm'\n",
    "all_res = kcm_res\n",
    "all_out = kcm_out\n",
    "\n",
    "all_res.loc[all_res['model']=='FF_TUNED', 'model'] = 'FF'\n",
    "all_res.loc[all_res['model']=='GRU_TUNED', 'model'] = 'GRU'\n",
    "all_res.loc[all_res['model']=='CONV_TUNED', 'model'] = 'CONV'\n",
    "all_res.loc[all_res['model']=='TRSF_TUNED', 'model'] = 'TRSF'\n",
    "all_res.loc[all_res['model']=='DEEPTTE_TUNED', 'model'] = 'DEEPTTE'\n",
    "\n",
    "all_res"
   ]
  },
  {
   "cell_type": "markdown",
   "metadata": {},
   "source": [
    "### Baseline Results"
   ]
  },
  {
   "cell_type": "code",
   "execution_count": null,
   "metadata": {},
   "outputs": [],
   "source": [
    "fig, axes = plt.subplots(1,1)\n",
    "subset = all_res[all_res['metric']==plot_metric].copy()\n",
    "subset = subset[subset['is_tuned']==False]\n",
    "subset = subset[subset['experiment_name'].isin(['same_city'])]\n",
    "subset = subset[subset['model_archetype'].isin(plot_subset)]\n",
    "sns.barplot(ax=axes, data=subset[subset['is_tuned']==False], x='value', y='model', hue='run', palette=plotting.PALETTE).set_title('Baseline Models')\n",
    "fig.tight_layout()\n",
    "axes.set_xlim(plot_bounds)"
   ]
  },
  {
   "cell_type": "markdown",
   "metadata": {},
   "source": [
    "### Tuning Results"
   ]
  },
  {
   "cell_type": "code",
   "execution_count": null,
   "metadata": {},
   "outputs": [],
   "source": [
    "fig, axes = plt.subplots(2,1)\n",
    "axes = axes.flatten()\n",
    "subset = all_res[all_res['metric']==plot_metric].copy()\n",
    "subset = subset[subset['run']=='kcm']\n",
    "subset = subset[subset['model_archetype'].isin(plot_subset)]\n",
    "sns.barplot(ax=axes[0], data=subset[subset['experiment_name']=='same_city'], x='value', y='model', hue='is_tuned', palette=plotting.PALETTE).set_title('Same City')\n",
    "sns.barplot(ax=axes[1], data=subset[subset['experiment_name']=='diff_city'], x='value', y='model', hue='is_tuned', palette=plotting.PALETTE).set_title('Different City')\n",
    "fig.suptitle(\"Models Trained on KCM\")\n",
    "fig.tight_layout()\n",
    "axes[0].set_xlim(plot_bounds)\n",
    "axes[1].set_xlim(plot_bounds)"
   ]
  },
  {
   "cell_type": "code",
   "execution_count": null,
   "metadata": {},
   "outputs": [],
   "source": [
    "fig, axes = plt.subplots(2,1)\n",
    "axes = axes.flatten()\n",
    "subset = all_res[all_res['metric']==plot_metric].copy()\n",
    "subset = subset[subset['run']=='atb']\n",
    "subset = subset[subset['model'].isin(plot_subset)]\n",
    "sns.barplot(ax=axes[0], data=subset[subset['experiment_name']=='same_city'], x='value', y='model', hue='is_tuned', palette=plotting.PALETTE).set_title('Same City')\n",
    "sns.barplot(ax=axes[1], data=subset[subset['experiment_name']=='diff_city'], x='value', y='model', hue='is_tuned', palette=plotting.PALETTE).set_title('Different City')\n",
    "fig.suptitle(\"Models Trained on AtB\")\n",
    "fig.tight_layout()\n",
    "axes[0].set_xlim(plot_bounds)\n",
    "axes[1].set_xlim(plot_bounds)"
   ]
  },
  {
   "cell_type": "code",
   "execution_count": null,
   "metadata": {},
   "outputs": [],
   "source": [
    "fig, axes = plt.subplots(2,1)\n",
    "axes = axes.flatten()\n",
    "subset = all_res[all_res['metric']==plot_metric].copy()\n",
    "subset = subset[subset['run']=='mix']\n",
    "subset = subset[subset['model'].isin(plot_subset)]\n",
    "sns.barplot(ax=axes[0], data=subset[subset['experiment_name']=='same_city'], x='value', y='model', hue='is_tuned', palette=plotting.PALETTE).set_title('Same City')\n",
    "sns.barplot(ax=axes[1], data=subset[subset['experiment_name']=='diff_city'], x='value', y='model', hue='is_tuned', palette=plotting.PALETTE).set_title('Different City')\n",
    "fig.suptitle(\"Models Trained on both KCM and AtB\")\n",
    "fig.tight_layout()\n",
    "axes[0].set_xlim(plot_bounds)\n",
    "axes[1].set_xlim(plot_bounds)"
   ]
  },
  {
   "cell_type": "markdown",
   "metadata": {},
   "source": [
    "### Holdout Results"
   ]
  },
  {
   "cell_type": "code",
   "execution_count": null,
   "metadata": {},
   "outputs": [],
   "source": [
    "gtfs = standardfeeds.get_gtfs_shapes_lookup(\"../data/kcm_gtfs/2023_01_23/\")\n",
    "gtfs_shapes = standardfeeds.get_gtfs_shapes(\"../data/kcm_gtfs/2023_01_23/\", epsg=32148)\n",
    "\n",
    "fig, axes = plt.subplots(1,2)\n",
    "fig.set_figheight(5)\n",
    "fig.set_figwidth(10)\n",
    "axes = axes.flatten()\n",
    "\n",
    "gtfs_shapes.drop_duplicates('route_id').plot(ax=axes[0])\n",
    "gtfs_shapes[gtfs_shapes['route_id'].isin(data_loader.HOLDOUT_ROUTES)].plot(column='route_id', ax=axes[0])\n",
    "cx.add_basemap(ax=axes[0], crs=gtfs_shapes.crs.to_string(), alpha=0.6, source=cx.providers.MapBox(accessToken=os.getenv(key=\"MAPBOX_TOKEN\")))\n",
    "\n",
    "subset = all_res[all_res['metric']==plot_metric]\n",
    "subset = subset[subset['run']=='kcm']\n",
    "subset = subset[subset['is_tuned']==False]\n",
    "subset = subset[subset['model_archetype'].isin(plot_subset)]\n",
    "subset = subset[subset['experiment_name'].isin(['same_city','holdout'])]\n",
    "sns.barplot(subset, x='value', y='model', hue='experiment_name', palette=plotting.PALETTE, ax=axes[1])\n",
    "\n",
    "fig.suptitle(\"Holdout Routes KCM\")\n",
    "fig.tight_layout()\n",
    "axes[1].set_xlim(plot_bounds)"
   ]
  },
  {
   "cell_type": "markdown",
   "metadata": {},
   "source": [
    "### Residuals"
   ]
  },
  {
   "cell_type": "code",
   "execution_count": null,
   "metadata": {},
   "outputs": [],
   "source": [
    "fig, axes = plt.subplots(3,3)\n",
    "fig.set_figheight(8)\n",
    "fig.set_figwidth(12)\n",
    "\n",
    "subset = all_out[all_out['model']==residuals_model]\n",
    "subset = subset[subset['experiment_name']=='same_city']\n",
    "subset = subset.sample(10000)\n",
    "\n",
    "for i, run_name in enumerate(['kcm','atb','mix']):\n",
    "    plot_df = subset[subset['run']==run_name]\n",
    "    sns.residplot(plot_df, ax=axes[i,0], x='labels', y='preds', lowess=True, scatter_kws={'marker': '.'}, line_kws={'color': 'red'})\n",
    "    sm.qqplot(plot_df['residuals'], ax=axes[i,1], dist=stats.t, distargs=(len(plot_df)-1,), line='45', fit=True)\n",
    "    sns.histplot(plot_df['residuals'], ax=axes[i,2], bins=100)\n",
    "    axes[i,0].set_xlim(0,3000)\n",
    "    axes[i,1].set_ylim(-10,10)\n",
    "    axes[i,2].set_xlim(-500,500)\n",
    "    axes[i,0].set_title(run_name)\n",
    "\n",
    "fig.suptitle(f\"Same City Residuals - {residuals_model}\")\n",
    "fig.tight_layout()"
   ]
  },
  {
   "cell_type": "code",
   "execution_count": null,
   "metadata": {},
   "outputs": [],
   "source": [
    "fig, axes = plt.subplots(3,3)\n",
    "fig.set_figheight(8)\n",
    "fig.set_figwidth(12)\n",
    "\n",
    "subset = all_out[all_out['model']==residuals_model]\n",
    "subset = subset[subset['experiment_name']=='diff_city']\n",
    "subset = subset.sample(10000)\n",
    "\n",
    "for i, run_name in enumerate(['kcm','atb','mix']):\n",
    "    plot_df = subset[subset['run']==run_name]\n",
    "    sns.residplot(plot_df, ax=axes[i,0], x='labels', y='preds', lowess=True, scatter_kws={'marker': '.'}, line_kws={'color': 'red'})\n",
    "    sm.qqplot(plot_df['residuals'], ax=axes[i,1], dist=stats.t, distargs=(len(plot_df)-1,), line='45', fit=True)\n",
    "    sns.histplot(plot_df['residuals'], ax=axes[i,2], bins=100)\n",
    "    axes[i,0].set_xlim(0,3000)\n",
    "    axes[i,1].set_ylim(-10,10)\n",
    "    axes[i,2].set_xlim(-500,500)\n",
    "    axes[i,0].set_title(run_name)\n",
    "\n",
    "fig.suptitle(f\"Different City Residuals - {residuals_model}\")\n",
    "fig.tight_layout()"
   ]
  },
  {
   "cell_type": "code",
   "execution_count": null,
   "metadata": {},
   "outputs": [],
   "source": [
    "fig, axes = plt.subplots(3,3)\n",
    "fig.set_figheight(8)\n",
    "fig.set_figwidth(12)\n",
    "\n",
    "subset = all_out[all_out['model']==residuals_model]\n",
    "subset = subset[subset['experiment_name']=='holdout']\n",
    "subset = subset.sample(10000)\n",
    "\n",
    "for i, run_name in enumerate(['kcm','atb','mix']):\n",
    "    plot_df = subset[subset['run']==run_name]\n",
    "    sns.residplot(plot_df, ax=axes[i,0], x='labels', y='preds', lowess=True, scatter_kws={'marker': '.'}, line_kws={'color': 'red'})\n",
    "    sm.qqplot(plot_df['residuals'], ax=axes[i,1], dist=stats.t, distargs=(len(plot_df)-1,), line='45', fit=True)\n",
    "    sns.histplot(plot_df['residuals'], ax=axes[i,2], bins=100)\n",
    "    axes[i,0].set_xlim(0,3000)\n",
    "    axes[i,1].set_ylim(-10,10)\n",
    "    axes[i,2].set_xlim(-500,500)\n",
    "    axes[i,0].set_title(run_name)\n",
    "\n",
    "fig.suptitle(f\"Holdout Residuals - {residuals_model}\")\n",
    "fig.tight_layout()"
   ]
  }
 ],
 "metadata": {
  "kernelspec": {
   "display_name": "valle_m1",
   "language": "python",
   "name": "python3"
  },
  "language_info": {
   "codemirror_mode": {
    "name": "ipython",
    "version": 3
   },
   "file_extension": ".py",
   "mimetype": "text/x-python",
   "name": "python",
   "nbconvert_exporter": "python",
   "pygments_lexer": "ipython3",
   "version": "3.9.18"
  },
  "orig_nbformat": 4,
  "vscode": {
   "interpreter": {
    "hash": "b30fe1de1713ca8e7537eef068b13a2de77ded03f86aab2e80ea73416dd3d704"
   }
  }
 },
 "nbformat": 4,
 "nbformat_minor": 2
}
