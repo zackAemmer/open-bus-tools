{
 "cells": [
  {
   "cell_type": "code",
   "execution_count": 26,
   "metadata": {},
   "outputs": [],
   "source": [
    "import os\n",
    "import pickle\n",
    "import sys\n",
    "sys.path.append(\"../\")\n",
    "\n",
    "import importlib\n",
    "import matplotlib.pyplot as plt\n",
    "import numpy as np\n",
    "import pandas as pd\n",
    "import seaborn as sns\n",
    "from sklearn import metrics\n",
    "\n",
    "from openbustools import data_utils, plotting"
   ]
  },
  {
   "cell_type": "code",
   "execution_count": 11,
   "metadata": {},
   "outputs": [],
   "source": [
    "model_res = pickle.load(open(\"../results/kcm/FF.pkl\", 'rb'))"
   ]
  },
  {
   "cell_type": "code",
   "execution_count": 15,
   "metadata": {},
   "outputs": [
    {
     "name": "stdout",
     "output_type": "stream",
     "text": [
      "3845.17\n",
      "3949.025\n",
      "0.3674625\n",
      "3763.362\n",
      "4322.295\n",
      "0.36827886\n",
      "523434880000000.0\n",
      "683335940000000.0\n",
      "0.42199054\n",
      "507685370000000.0\n",
      "646864000000000.0\n",
      "0.39408222\n",
      "550692050000000.0\n",
      "614383860000000.0\n",
      "0.42561212\n"
     ]
    }
   ],
   "source": [
    "for fold_num, experiment_res in model_res.items():\n",
    "    for experiment_name, preds_and_labels in experiment_res.items():\n",
    "        print(metrics.mean_absolute_percentage_error(preds_and_labels['labels'], preds_and_labels['preds']))\n"
   ]
  },
  {
   "cell_type": "code",
   "execution_count": 27,
   "metadata": {},
   "outputs": [],
   "source": [
    "def regression_results(labels, preds):\n",
    "    # Regression metrics\n",
    "    explained_variance=metrics.explained_variance_score(labels, preds)\n",
    "    mean_absolute_error=metrics.mean_absolute_error(labels, preds) \n",
    "    mse=metrics.mean_squared_error(labels, preds) \n",
    "    mean_squared_log_error=metrics.mean_squared_log_error(labels, preds)\n",
    "    median_absolute_error=metrics.median_absolute_error(labels, preds)\n",
    "    r2=metrics.r2_score(labels, preds)\n",
    "\n",
    "    print('explained_variance: ', round(explained_variance,4))    \n",
    "    print('mean_squared_log_error: ', round(mean_squared_log_error,4))\n",
    "    print('r2: ', round(r2,4))\n",
    "    print('MAE: ', round(mean_absolute_error,4))\n",
    "    print('MSE: ', round(mse,4))\n",
    "    print('RMSE: ', round(np.sqrt(mse),4))"
   ]
  },
  {
   "cell_type": "code",
   "execution_count": 35,
   "metadata": {},
   "outputs": [
    {
     "data": {
      "text/plain": [
       "0.0"
      ]
     },
     "execution_count": 35,
     "metadata": {},
     "output_type": "execute_result"
    }
   ],
   "source": [
    "np.min(model_res[4]['same_city']['labels'])"
   ]
  },
  {
   "cell_type": "code",
   "execution_count": 31,
   "metadata": {},
   "outputs": [
    {
     "data": {
      "text/plain": [
       "2455.917"
      ]
     },
     "execution_count": 31,
     "metadata": {},
     "output_type": "execute_result"
    }
   ],
   "source": [
    "np.max(model_res[0]['same_city']['preds'])"
   ]
  },
  {
   "cell_type": "code",
   "execution_count": 28,
   "metadata": {},
   "outputs": [
    {
     "ename": "ValueError",
     "evalue": "Mean Squared Logarithmic Error cannot be used when targets contain negative values.",
     "output_type": "error",
     "traceback": [
      "\u001b[0;31m---------------------------------------------------------------------------\u001b[0m",
      "\u001b[0;31mValueError\u001b[0m                                Traceback (most recent call last)",
      "\u001b[1;32m/Users/zackaemmer/Desktop/open_bus_tools/notebooks/explore_results.ipynb Cell 5\u001b[0m line \u001b[0;36m3\n\u001b[1;32m      <a href='vscode-notebook-cell:/Users/zackaemmer/Desktop/open_bus_tools/notebooks/explore_results.ipynb#X40sZmlsZQ%3D%3D?line=0'>1</a>\u001b[0m axes \u001b[39m=\u001b[39m sns\u001b[39m.\u001b[39mhistplot(model_res[\u001b[39m0\u001b[39m][\u001b[39m'\u001b[39m\u001b[39msame_city\u001b[39m\u001b[39m'\u001b[39m][\u001b[39m'\u001b[39m\u001b[39mlabels\u001b[39m\u001b[39m'\u001b[39m])\n\u001b[1;32m      <a href='vscode-notebook-cell:/Users/zackaemmer/Desktop/open_bus_tools/notebooks/explore_results.ipynb#X40sZmlsZQ%3D%3D?line=1'>2</a>\u001b[0m sns\u001b[39m.\u001b[39mhistplot(model_res[\u001b[39m0\u001b[39m][\u001b[39m'\u001b[39m\u001b[39msame_city\u001b[39m\u001b[39m'\u001b[39m][\u001b[39m'\u001b[39m\u001b[39mpreds\u001b[39m\u001b[39m'\u001b[39m], ax\u001b[39m=\u001b[39maxes)\n\u001b[0;32m----> <a href='vscode-notebook-cell:/Users/zackaemmer/Desktop/open_bus_tools/notebooks/explore_results.ipynb#X40sZmlsZQ%3D%3D?line=2'>3</a>\u001b[0m regression_results(model_res[\u001b[39m0\u001b[39;49m][\u001b[39m'\u001b[39;49m\u001b[39msame_city\u001b[39;49m\u001b[39m'\u001b[39;49m][\u001b[39m'\u001b[39;49m\u001b[39mlabels\u001b[39;49m\u001b[39m'\u001b[39;49m], model_res[\u001b[39m0\u001b[39;49m][\u001b[39m'\u001b[39;49m\u001b[39msame_city\u001b[39;49m\u001b[39m'\u001b[39;49m][\u001b[39m'\u001b[39;49m\u001b[39mpreds\u001b[39;49m\u001b[39m'\u001b[39;49m])\n",
      "\u001b[1;32m/Users/zackaemmer/Desktop/open_bus_tools/notebooks/explore_results.ipynb Cell 5\u001b[0m line \u001b[0;36m6\n\u001b[1;32m      <a href='vscode-notebook-cell:/Users/zackaemmer/Desktop/open_bus_tools/notebooks/explore_results.ipynb#X40sZmlsZQ%3D%3D?line=3'>4</a>\u001b[0m mean_absolute_error\u001b[39m=\u001b[39mmetrics\u001b[39m.\u001b[39mmean_absolute_error(labels, preds) \n\u001b[1;32m      <a href='vscode-notebook-cell:/Users/zackaemmer/Desktop/open_bus_tools/notebooks/explore_results.ipynb#X40sZmlsZQ%3D%3D?line=4'>5</a>\u001b[0m mse\u001b[39m=\u001b[39mmetrics\u001b[39m.\u001b[39mmean_squared_error(labels, preds) \n\u001b[0;32m----> <a href='vscode-notebook-cell:/Users/zackaemmer/Desktop/open_bus_tools/notebooks/explore_results.ipynb#X40sZmlsZQ%3D%3D?line=5'>6</a>\u001b[0m mean_squared_log_error\u001b[39m=\u001b[39mmetrics\u001b[39m.\u001b[39;49mmean_squared_log_error(labels, preds)\n\u001b[1;32m      <a href='vscode-notebook-cell:/Users/zackaemmer/Desktop/open_bus_tools/notebooks/explore_results.ipynb#X40sZmlsZQ%3D%3D?line=6'>7</a>\u001b[0m median_absolute_error\u001b[39m=\u001b[39mmetrics\u001b[39m.\u001b[39mmedian_absolute_error(labels, preds)\n\u001b[1;32m      <a href='vscode-notebook-cell:/Users/zackaemmer/Desktop/open_bus_tools/notebooks/explore_results.ipynb#X40sZmlsZQ%3D%3D?line=7'>8</a>\u001b[0m r2\u001b[39m=\u001b[39mmetrics\u001b[39m.\u001b[39mr2_score(labels, preds)\n",
      "File \u001b[0;32m~/Desktop/open_bus_tools/obt_venv/lib/python3.9/site-packages/sklearn/utils/_param_validation.py:211\u001b[0m, in \u001b[0;36mvalidate_params.<locals>.decorator.<locals>.wrapper\u001b[0;34m(*args, **kwargs)\u001b[0m\n\u001b[1;32m    205\u001b[0m \u001b[39mtry\u001b[39;00m:\n\u001b[1;32m    206\u001b[0m     \u001b[39mwith\u001b[39;00m config_context(\n\u001b[1;32m    207\u001b[0m         skip_parameter_validation\u001b[39m=\u001b[39m(\n\u001b[1;32m    208\u001b[0m             prefer_skip_nested_validation \u001b[39mor\u001b[39;00m global_skip_validation\n\u001b[1;32m    209\u001b[0m         )\n\u001b[1;32m    210\u001b[0m     ):\n\u001b[0;32m--> 211\u001b[0m         \u001b[39mreturn\u001b[39;00m func(\u001b[39m*\u001b[39;49margs, \u001b[39m*\u001b[39;49m\u001b[39m*\u001b[39;49mkwargs)\n\u001b[1;32m    212\u001b[0m \u001b[39mexcept\u001b[39;00m InvalidParameterError \u001b[39mas\u001b[39;00m e:\n\u001b[1;32m    213\u001b[0m     \u001b[39m# When the function is just a wrapper around an estimator, we allow\u001b[39;00m\n\u001b[1;32m    214\u001b[0m     \u001b[39m# the function to delegate validation to the estimator, but we replace\u001b[39;00m\n\u001b[1;32m    215\u001b[0m     \u001b[39m# the name of the estimator by the name of the function in the error\u001b[39;00m\n\u001b[1;32m    216\u001b[0m     \u001b[39m# message to avoid confusion.\u001b[39;00m\n\u001b[1;32m    217\u001b[0m     msg \u001b[39m=\u001b[39m re\u001b[39m.\u001b[39msub(\n\u001b[1;32m    218\u001b[0m         \u001b[39mr\u001b[39m\u001b[39m\"\u001b[39m\u001b[39mparameter of \u001b[39m\u001b[39m\\\u001b[39m\u001b[39mw+ must be\u001b[39m\u001b[39m\"\u001b[39m,\n\u001b[1;32m    219\u001b[0m         \u001b[39mf\u001b[39m\u001b[39m\"\u001b[39m\u001b[39mparameter of \u001b[39m\u001b[39m{\u001b[39;00mfunc\u001b[39m.\u001b[39m\u001b[39m__qualname__\u001b[39m\u001b[39m}\u001b[39;00m\u001b[39m must be\u001b[39m\u001b[39m\"\u001b[39m,\n\u001b[1;32m    220\u001b[0m         \u001b[39mstr\u001b[39m(e),\n\u001b[1;32m    221\u001b[0m     )\n",
      "File \u001b[0;32m~/Desktop/open_bus_tools/obt_venv/lib/python3.9/site-packages/sklearn/metrics/_regression.py:567\u001b[0m, in \u001b[0;36mmean_squared_log_error\u001b[0;34m(y_true, y_pred, sample_weight, multioutput, squared)\u001b[0m\n\u001b[1;32m    564\u001b[0m check_consistent_length(y_true, y_pred, sample_weight)\n\u001b[1;32m    566\u001b[0m \u001b[39mif\u001b[39;00m (y_true \u001b[39m<\u001b[39m \u001b[39m0\u001b[39m)\u001b[39m.\u001b[39many() \u001b[39mor\u001b[39;00m (y_pred \u001b[39m<\u001b[39m \u001b[39m0\u001b[39m)\u001b[39m.\u001b[39many():\n\u001b[0;32m--> 567\u001b[0m     \u001b[39mraise\u001b[39;00m \u001b[39mValueError\u001b[39;00m(\n\u001b[1;32m    568\u001b[0m         \u001b[39m\"\u001b[39m\u001b[39mMean Squared Logarithmic Error cannot be used when \u001b[39m\u001b[39m\"\u001b[39m\n\u001b[1;32m    569\u001b[0m         \u001b[39m\"\u001b[39m\u001b[39mtargets contain negative values.\u001b[39m\u001b[39m\"\u001b[39m\n\u001b[1;32m    570\u001b[0m     )\n\u001b[1;32m    572\u001b[0m \u001b[39mreturn\u001b[39;00m mean_squared_error(\n\u001b[1;32m    573\u001b[0m     np\u001b[39m.\u001b[39mlog1p(y_true),\n\u001b[1;32m    574\u001b[0m     np\u001b[39m.\u001b[39mlog1p(y_pred),\n\u001b[0;32m   (...)\u001b[0m\n\u001b[1;32m    577\u001b[0m     squared\u001b[39m=\u001b[39msquared,\n\u001b[1;32m    578\u001b[0m )\n",
      "\u001b[0;31mValueError\u001b[0m: Mean Squared Logarithmic Error cannot be used when targets contain negative values."
     ]
    },
    {
     "data": {
      "image/png": "[encoded data removed]",
      "text/plain": [
       "<Figure size 640x480 with 1 Axes>"
      ]
     },
     "metadata": {},
     "output_type": "display_data"
    }
   ],
   "source": [
    "axes = sns.histplot(model_res[0]['same_city']['labels'])\n",
    "sns.histplot(model_res[0]['same_city']['preds'], ax=axes)\n",
    "regression_results(model_res[0]['same_city']['labels'], model_res[0]['same_city']['preds'])"
   ]
  },
  {
   "cell_type": "code",
   "execution_count": null,
   "metadata": {},
   "outputs": [],
   "source": [
    "run_folder_kcm = \"../results/big_run/kcm/models/\"\n",
    "run_folder_atb = \"../results/big_run/atb/models/\"\n",
    "run_folder_mix = \"../results/big_run_nosch/kcm_atb/models/\"\n",
    "run_folder_rut = \"../results/big_run_nosch/rut/models/\""
   ]
  },
  {
   "cell_type": "code",
   "execution_count": null,
   "metadata": {},
   "outputs": [],
   "source": [
    "# Hyperparam results per network:\n",
    "# CONV (128, 64, 3, 0.1)\n",
    "# FF (128, 128, 2, 0.2)\n",
    "# GRU (128, 64, 2, 0.05)\n",
    "# TRSF (128, 64, 3, 0.1)\n",
    "\n",
    "# KCM\n",
    "# 512, 16, 2, 0.4 (TRSF)\n",
    "# 512, 16, 5, 0.1\n",
    "# 512, 128, 4, 0.4\n",
    "# 128, 128, 2, 0.2 (FF)\n",
    "# 128, 128, 2, 0.05 (GRU, CONV)\n",
    "# 512, 16, 4, 0.2\n",
    "# 1024, 16, 4, 0.1\n",
    "\n",
    "# Model Epochs TestLoss\n",
    "# CONV_0\t10.000000\t18.066327\n",
    "# FF_0\t11.333333\t168.559759\n",
    "# GRU_0\t16.000000\t18.540478\n",
    "# TRSF_0\t10.000000\t22.919503\n",
    "\n",
    "# CONV_0\t10.000000\t17.851481\n",
    "# FF_0\t11.333333\t157.528422\n",
    "# GRU_0\t10.000000\t22.917446\n",
    "# TRSF_0\t10.000000\t22.915722\n",
    "\n",
    "# CONV_0\t12.0\t15.852690\n",
    "# FF_0\t14.0\t153.020960\n",
    "# GRU_0\t10.0\t22.916604\n",
    "# TRSF_0\t10.0\t22.912308\n",
    "\n",
    "# CONV_0\t12.8\t15.829175\n",
    "# FF_0\t38.8\t137.929590\n",
    "# GRU_0\t10.0\t16.677470\n",
    "# TRSF_0\t10.0\t22.853009\n",
    "\n",
    "# CONV_1\t12.8\t15.750058\n",
    "# FF_1\t38.0\t138.345676\n",
    "# GRU_1\t10.0\t16.506545\n",
    "# TRSF_1\t10.0\t22.851783\n",
    "\n",
    "# CONV_0\t10.0\t17.629307\n",
    "# FF_0\t11.0\t158.601257\n",
    "# GRU_0\t10.0\t22.885823\n",
    "# TRSF_0\t10.0\t22.888074\n",
    "\n",
    "# CONV_1\t10.0\t18.191666\n",
    "# FF_1\t13.0\t157.479233\n",
    "# GRU_1\t10.0\t22.871649\n",
    "# TRSF_1\t10.0\t22.862472\n",
    "\n",
    "\n",
    "# AtB\n",
    "# 512, 32, 3, 0.2\n",
    "# 512, 32, 5, 0.4\n",
    "# 512, 16, 2, 0.4\n",
    "# 128, 32, 4, 0.2\n",
    "# 128, 64, 5, 0.05 (CONV, FF, GRU, TRSF)\n",
    "\n",
    "# CONV_0\t12.666667\t7.069618\n",
    "# FF_0\t19.333333\t63.465285\n",
    "# GRU_0\t17.333333\t9.175895\n",
    "# TRSF_0\t16.000000\t9.075986\n",
    "\n",
    "# CONV_0\t12.000000\t6.991179\n",
    "# FF_0\t18.000000\t67.876277\n",
    "# GRU_0\t16.666667\t9.161330\n",
    "# TRSF_0\t20.000000\t9.001094\n",
    "\n",
    "# CONV_0\t14.000000\t7.567914\n",
    "# FF_0\t23.333333\t66.901993\n",
    "# GRU_0\t20.000000\t9.058873\n",
    "# TRSF_0\t16.000000\t9.404305\n",
    "\n",
    "# CONV_0\t10.8\t6.135663\n",
    "# FF_0\t17.2\t63.238688\n",
    "# GRU_0\t11.6\t8.897823\n",
    "# TRSF_0\t11.6\t8.895937\n",
    "\n",
    "# CONV_1\t10.0\t6.058242\n",
    "# FF_1\t19.2\t60.404724\n",
    "# GRU_1\t10.0\t8.898676\n",
    "# TRSF_1\t10.8\t8.893464"
   ]
  },
  {
   "cell_type": "code",
   "execution_count": null,
   "metadata": {},
   "outputs": [],
   "source": [
    "# Need to combine model results for all models\n",
    "model_list = [x for x in os.listdir(run_folder_kcm) if (x[-3:]!=\"pkl\" and x!=\".DS_Store\")]\n",
    "all_model_results = []\n",
    "all_model_times = []\n",
    "all_model_gen_results = []\n",
    "for i, m in enumerate(model_list):\n",
    "    training_results = data_utils.load_pkl(f\"{run_folder_kcm}{m}/model_results.pkl\")\n",
    "    results_df, time_df = data_utils.extract_results(training_results, \"Seattle\")\n",
    "    if m[-4:]!=\"GRID\":\n",
    "        gen_results = data_utils.load_pkl(f\"{run_folder_kcm}{m}/model_generalization_results.pkl\")\n",
    "        gen_df = data_utils.extract_gen_results(gen_results, \"Seattle\")\n",
    "    if i!=0:\n",
    "        results_df = results_df[results_df['Model']==m]\n",
    "        time_df = time_df[time_df['Model']==m]\n",
    "        gen_df = gen_df[gen_df['Model']==m]\n",
    "    all_model_results.append(results_df)\n",
    "    all_model_times.append(time_df)\n",
    "    all_model_gen_results.append(gen_df)\n",
    "kcm_result_df = pd.concat(all_model_results).sort_values([\"Model\",\"Fold\"])\n",
    "kcm_time_df = pd.concat(all_model_times).sort_values([\"Model\",\"Fold\"])\n",
    "kcm_gen_df = pd.concat(all_model_gen_results).sort_values([\"Model\",\"Fold\"])\n",
    "kcm_baseline_df = kcm_gen_df[kcm_gen_df['Loss']==\"Train_Losses\"].copy()\n",
    "kcm_baseline_df['Loss'] = \"Network Baseline\"\n",
    "kcm_baseline_df = kcm_baseline_df[['Model','City','Loss','Fold','MAPE','RMSE','MAE']]\n",
    "\n",
    "# Need to combine model results for all models\n",
    "model_list = [x for x in os.listdir(run_folder_atb) if (x[-3:]!=\"pkl\" and x!=\".DS_Store\")]\n",
    "all_model_results = []\n",
    "all_model_times = []\n",
    "all_model_gen_results = []\n",
    "for i, m in enumerate(model_list):\n",
    "    training_results = data_utils.load_pkl(f\"{run_folder_atb}{m}/model_results.pkl\")\n",
    "    results_df, time_df = data_utils.extract_results(training_results, \"Trondheim\")\n",
    "    if m[-4:]!=\"GRID\":\n",
    "        gen_results = data_utils.load_pkl(f\"{run_folder_atb}{m}/model_generalization_results.pkl\")\n",
    "        gen_df = data_utils.extract_gen_results(gen_results, \"Trondheim\")\n",
    "    if i!=0:\n",
    "        results_df = results_df[results_df['Model']==m]\n",
    "        time_df = time_df[time_df['Model']==m]\n",
    "        gen_df = gen_df[gen_df['Model']==m]\n",
    "    all_model_results.append(results_df)\n",
    "    all_model_times.append(time_df)\n",
    "    all_model_gen_results.append(gen_df)\n",
    "atb_result_df = pd.concat(all_model_results).sort_values([\"Model\",\"Fold\"])\n",
    "atb_time_df = pd.concat(all_model_times).sort_values([\"Model\",\"Fold\"])\n",
    "atb_gen_df = pd.concat(all_model_gen_results).sort_values([\"Model\",\"Fold\"])\n",
    "atb_baseline_df = atb_gen_df[atb_gen_df['Loss']==\"Train_Losses\"].copy()\n",
    "atb_baseline_df['Loss'] = \"Network Baseline\"\n",
    "atb_baseline_df = atb_baseline_df[['Model','City','Loss','Fold','MAPE','RMSE','MAE']]"
   ]
  },
  {
   "attachments": {},
   "cell_type": "markdown",
   "metadata": {},
   "source": [
    "### Model Performance"
   ]
  },
  {
   "cell_type": "code",
   "execution_count": null,
   "metadata": {},
   "outputs": [],
   "source": [
    "print(kcm_gen_df[kcm_gen_df['Loss']==\"Train_Losses\"].groupby([\"Model\"])[[\"MAPE\"]].agg([\"mean\",\"std\"]))"
   ]
  },
  {
   "cell_type": "code",
   "execution_count": null,
   "metadata": {},
   "outputs": [],
   "source": [
    "print(kcm_result_df.groupby([\"Model\"])[[\"MAPE\"]].agg([\"mean\",\"std\"]))"
   ]
  },
  {
   "cell_type": "code",
   "execution_count": null,
   "metadata": {},
   "outputs": [],
   "source": [
    "plot_data = kcm_result_df\n",
    "fig, axes = plt.subplots(1,1)\n",
    "fig.set_figheight(6)\n",
    "fig.set_figwidth(8)\n",
    "sns.barplot(plot_data, x=\"MAPE\", y=\"Model\", ax=axes)\n",
    "axes.set_xlim([0, 0.5])\n",
    "fig.suptitle('KCM Model Performance', fontsize=16)\n",
    "fig.tight_layout()\n",
    "plt.savefig(\"../plots/model_performances_kcm.eps\", format='eps', dpi=600, bbox_inches='tight')\n",
    "plt.savefig(\"../plots/model_performances_kcm.png\", format='png', dpi=600, bbox_inches='tight')"
   ]
  },
  {
   "cell_type": "code",
   "execution_count": null,
   "metadata": {},
   "outputs": [],
   "source": [
    "print(atb_gen_df[atb_gen_df['Loss']==\"Train_Losses\"].groupby([\"Model\"])[[\"MAPE\"]].agg([\"mean\",\"std\"]))"
   ]
  },
  {
   "cell_type": "code",
   "execution_count": null,
   "metadata": {},
   "outputs": [],
   "source": [
    "print(atb_result_df.groupby([\"Model\"])[[\"MAPE\"]].agg([\"mean\",\"std\"]))"
   ]
  },
  {
   "cell_type": "code",
   "execution_count": null,
   "metadata": {},
   "outputs": [],
   "source": [
    "plot_data = atb_result_df\n",
    "fig, axes = plt.subplots(1,1)\n",
    "fig.set_figheight(6)\n",
    "fig.set_figwidth(8)\n",
    "sns.barplot(plot_data, x=\"MAPE\", y=\"Model\", ax=axes)\n",
    "axes.set_xlim([0, 0.5])\n",
    "fig.suptitle('AtB Model Performance', fontsize=16)\n",
    "fig.tight_layout()\n",
    "plt.savefig(\"../plots/model_performances_atb.eps\", format='eps', dpi=600, bbox_inches='tight')\n",
    "plt.savefig(\"../plots/model_performances_atb.png\", format='png', dpi=600, bbox_inches='tight')"
   ]
  },
  {
   "attachments": {},
   "cell_type": "markdown",
   "metadata": {},
   "source": [
    "### Generalization (Across Networks)"
   ]
  },
  {
   "cell_type": "code",
   "execution_count": null,
   "metadata": {},
   "outputs": [],
   "source": [
    "plot_data = atb_gen_df[atb_gen_df['Loss']==\"Test_Losses\"].copy()\n",
    "plot_data = pd.concat([plot_data, kcm_baseline_df])\n",
    "plot_data = plot_data[~plot_data['Model'].isin([\"AVG\",\"SCH\",\"PER_TIM\"])]\n",
    "plot_data['Loss'] = plot_data['Loss'].replace([\"Test_Losses\"],[\"Model Trained on AtB\"])\n",
    "fig, axes = plt.subplots(1,1)\n",
    "fig.set_figheight(6)\n",
    "fig.set_figwidth(8)\n",
    "sns.barplot(plot_data, x=\"MAPE\", y=\"Model\", hue=\"Loss\", dodge=True)\n",
    "axes.set_xlim([0,.5])\n",
    "axes.set_ylabel(\"Model\")\n",
    "axes.set_xlabel(\"Model Performance (MAPE)\")\n",
    "fig.suptitle('KCM Network Generalization Performance', fontsize=16)\n",
    "fig.tight_layout()\n",
    "plt.savefig(\"../plots/model_generalization_kcm.eps\", format='eps', dpi=600, bbox_inches='tight')\n",
    "plt.savefig(\"../plots/model_generalization_kcm.png\", format='png', dpi=600, bbox_inches='tight')"
   ]
  },
  {
   "cell_type": "code",
   "execution_count": null,
   "metadata": {},
   "outputs": [],
   "source": [
    "plot_data = kcm_gen_df[kcm_gen_df['Loss']==\"Test_Losses\"].copy()\n",
    "plot_data = pd.concat([plot_data, atb_baseline_df])\n",
    "plot_data = plot_data[~plot_data['Model'].isin([\"AVG\",\"SCH\",\"PER_TIM\"])]\n",
    "plot_data['Loss'] = plot_data['Loss'].replace([\"Test_Losses\"],[\"Model Trained on KCM\"])\n",
    "fig, axes = plt.subplots(1,1)\n",
    "fig.set_figheight(6)\n",
    "fig.set_figwidth(8)\n",
    "sns.barplot(plot_data, x=\"MAPE\", y=\"Model\", hue=\"Loss\", dodge=True)\n",
    "axes.set_xlim([0, .5])\n",
    "axes.set_ylabel(\"Model\")\n",
    "axes.set_xlabel(\"Model Performance (MAPE)\")\n",
    "fig.suptitle('AtB Network Generalization Performance', fontsize=16)\n",
    "fig.tight_layout()\n",
    "plt.savefig(\"../plots/model_generalization_atb.eps\", format='eps', dpi=600, bbox_inches='tight')\n",
    "plt.savefig(\"../plots/model_generalization_atb.png\", format='png', dpi=600, bbox_inches='tight')"
   ]
  },
  {
   "attachments": {},
   "cell_type": "markdown",
   "metadata": {},
   "source": [
    "### Generalization (Within Network)"
   ]
  },
  {
   "cell_type": "code",
   "execution_count": null,
   "metadata": {},
   "outputs": [],
   "source": [
    "plot_data = kcm_gen_df[kcm_gen_df['Loss']==\"Holdout_Losses\"].copy()\n",
    "plot_data = pd.concat([plot_data, kcm_baseline_df])\n",
    "plot_data = plot_data[~plot_data['Model'].isin([\"AVG\",\"SCH\",\"PER_TIM\"])]\n",
    "plot_data['Loss'] = plot_data['Loss'].replace([\"Holdout_Losses\"],[\"Holdout Routes\"])\n",
    "fig, axes = plt.subplots(1,1)\n",
    "fig.set_figheight(6)\n",
    "fig.set_figwidth(8)\n",
    "sns.barplot(plot_data, x=\"MAPE\", y=\"Model\", hue=\"Loss\", dodge=True)\n",
    "axes.set_xlim([0, .5])\n",
    "axes.set_ylabel(\"Model\")\n",
    "axes.set_xlabel(\"Model Performance (MAPE)\")\n",
    "fig.suptitle('KCM Network Holdout Route Performance', fontsize=16)\n",
    "fig.tight_layout()\n",
    "plt.savefig(\"../plots/model_holdout_route_kcm.eps\", format='eps', dpi=600, bbox_inches='tight')\n",
    "plt.savefig(\"../plots/model_holdout_route_kcm.png\", format='png', dpi=600, bbox_inches='tight')"
   ]
  },
  {
   "cell_type": "code",
   "execution_count": null,
   "metadata": {},
   "outputs": [],
   "source": [
    "plot_data = atb_gen_df[atb_gen_df['Loss']==\"Holdout_Losses\"].copy()\n",
    "plot_data = pd.concat([plot_data, atb_baseline_df])\n",
    "plot_data = plot_data[~plot_data['Model'].isin([\"AVG\",\"SCH\",\"PER_TIM\"])]\n",
    "plot_data['Loss'] = plot_data['Loss'].replace([\"Holdout_Losses\"],[\"Holdout Routes\"])\n",
    "fig, axes = plt.subplots(1,1)\n",
    "fig.set_figheight(6)\n",
    "fig.set_figwidth(8)\n",
    "sns.barplot(plot_data, x=\"MAPE\", y=\"Model\", hue=\"Loss\", dodge=True)\n",
    "axes.set_xlim([0, .5])\n",
    "axes.set_ylabel(\"Model\")\n",
    "axes.set_xlabel(\"Model Performance (MAPE)\")\n",
    "fig.suptitle('AtB Network Holdout Route Performance', fontsize=16)\n",
    "fig.tight_layout()\n",
    "plt.savefig(\"../plots/model_holdout_route_atb.eps\", format='eps', dpi=600, bbox_inches='tight')\n",
    "plt.savefig(\"../plots/model_holdout_route_atb.png\", format='png', dpi=600, bbox_inches='tight')"
   ]
  },
  {
   "attachments": {},
   "cell_type": "markdown",
   "metadata": {},
   "source": [
    "### Fine Tuning"
   ]
  },
  {
   "cell_type": "code",
   "execution_count": null,
   "metadata": {},
   "outputs": [],
   "source": [
    "plot_data = atb_gen_df[atb_gen_df['Loss'].isin(['Tune_Test_Losses','Test_Losses'])]\n",
    "plot_data = pd.concat([plot_data, kcm_baseline_df])\n",
    "plot_data = plot_data[~plot_data['Model'].isin([\"AVG\",\"SCH\",\"PER_TIM\"])]\n",
    "plot_data['Loss'] = plot_data['Loss'].replace([\"Tune_Test_Losses\",\"Test_Losses\"],[\"Model Trained on AtB + Tuning\", \"Model Trained on AtB\"])\n",
    "fig, axes = plt.subplots(1,1)\n",
    "fig.set_figheight(6)\n",
    "fig.set_figwidth(8)\n",
    "sns.barplot(plot_data, x=\"MAPE\", y=\"Model\", hue=\"Loss\", dodge=True)\n",
    "axes.set_xlim([0, .5])\n",
    "axes.set_ylabel(\"Model\")\n",
    "axes.set_xlabel(\"Model Performance (MAPE)\")\n",
    "fig.suptitle('KCM Tuned Network Generalization Performance', fontsize=16)\n",
    "fig.tight_layout()\n",
    "plt.savefig(\"../plots/model_tuning_kcm.eps\", format='eps', dpi=600, bbox_inches='tight')\n",
    "plt.savefig(\"../plots/model_tuning_kcm.png\", format='png', dpi=600, bbox_inches='tight')"
   ]
  },
  {
   "cell_type": "code",
   "execution_count": null,
   "metadata": {},
   "outputs": [],
   "source": [
    "plot_data = kcm_gen_df[kcm_gen_df['Loss'].isin(['Tune_Test_Losses','Test_Losses'])]\n",
    "plot_data = pd.concat([plot_data, atb_baseline_df])\n",
    "plot_data = plot_data[~plot_data['Model'].isin([\"AVG\",\"SCH\",\"PER_TIM\"])]\n",
    "plot_data['Loss'] = plot_data['Loss'].replace([\"Tune_Test_Losses\",\"Test_Losses\"],[\"Model Trained on KCM + Tuning\", \"Model Trained on KCM\"])\n",
    "fig, axes = plt.subplots(1,1)\n",
    "fig.set_figheight(6)\n",
    "fig.set_figwidth(8)\n",
    "sns.barplot(plot_data, x=\"MAPE\", y=\"Model\", hue=\"Loss\", dodge=True)\n",
    "axes.set_xlim([0, .5])\n",
    "axes.set_ylabel(\"Model\")\n",
    "axes.set_xlabel(\"Model Performance (MAPE)\")\n",
    "fig.suptitle('AtB Tuned Network Generalization Performance', fontsize=16)\n",
    "fig.tight_layout()\n",
    "plt.savefig(\"../plots/model_tuning_atb.eps\", format='eps', dpi=600, bbox_inches='tight')\n",
    "plt.savefig(\"../plots/model_tuning_atb.png\", format='png', dpi=600, bbox_inches='tight')"
   ]
  },
  {
   "cell_type": "code",
   "execution_count": null,
   "metadata": {},
   "outputs": [],
   "source": [
    "plot_data = kcm_gen_df[kcm_gen_df['Loss']==\"Tune_Train_Losses\"]\n",
    "plot_data = pd.concat([plot_data, kcm_baseline_df])\n",
    "plot_data = plot_data[~plot_data['Model'].isin([\"AVG\",\"SCH\",\"PER_TIM\"])]\n",
    "plot_data['Loss'] = plot_data['Loss'].replace([\"Tune_Train_Losses\"],[\"KCM Model Tuned on AtB\"])\n",
    "fig, axes = plt.subplots(1,1)\n",
    "fig.set_figheight(6)\n",
    "fig.set_figwidth(8)\n",
    "sns.barplot(plot_data, x=\"MAPE\", y=\"Model\", hue=\"Loss\", dodge=True)\n",
    "axes.set_xlim([0,.5])\n",
    "axes.set_ylabel(\"Model\")\n",
    "axes.set_xlabel(\"Model Performance (MAPE)\")\n",
    "fig.suptitle('KCM Network Deterioration', fontsize=16)\n",
    "fig.tight_layout()\n",
    "plt.savefig(\"../plots/model_deterioration_kcm.eps\", format='eps', dpi=600, bbox_inches='tight')\n",
    "plt.savefig(\"../plots/model_deterioration_kcm.png\", format='png', dpi=600, bbox_inches='tight')"
   ]
  },
  {
   "cell_type": "code",
   "execution_count": null,
   "metadata": {},
   "outputs": [],
   "source": [
    "plot_data = atb_gen_df[atb_gen_df['Loss']==\"Tune_Train_Losses\"]\n",
    "plot_data = pd.concat([plot_data, atb_baseline_df])\n",
    "plot_data = plot_data[~plot_data['Model'].isin([\"AVG\",\"SCH\",\"PER_TIM\"])]\n",
    "plot_data['Loss'] = plot_data['Loss'].replace([\"Tune_Train_Losses\"],[\"AtB Model Tuned on KCM\"])\n",
    "fig, axes = plt.subplots(1,1)\n",
    "fig.set_figheight(6)\n",
    "fig.set_figwidth(8)\n",
    "sns.barplot(plot_data, x=\"MAPE\", y=\"Model\", hue=\"Loss\", dodge=True)\n",
    "axes.set_xlim([0,.5])\n",
    "axes.set_ylabel(\"Model\")\n",
    "axes.set_xlabel(\"Model Performance (MAPE)\")\n",
    "fig.suptitle('AtB Network Deterioration', fontsize=16)\n",
    "fig.tight_layout()\n",
    "plt.savefig(\"../plots/model_deterioration_atb.eps\", format='eps', dpi=600, bbox_inches='tight')\n",
    "plt.savefig(\"../plots/model_deterioration_atb.png\", format='png', dpi=600, bbox_inches='tight')"
   ]
  },
  {
   "cell_type": "markdown",
   "metadata": {},
   "source": [
    "### Mixed Data"
   ]
  },
  {
   "cell_type": "code",
   "execution_count": null,
   "metadata": {},
   "outputs": [],
   "source": [
    "# Need to combine model results for all models\n",
    "model_list = [x for x in os.listdir(run_folder_mix) if (x[-3:]!=\"pkl\" and x!=\".DS_Store\")]\n",
    "all_model_results = []\n",
    "all_model_times = []\n",
    "all_model_gen_results = []\n",
    "for i, m in enumerate(model_list):\n",
    "    training_results = data_utils.load_pkl(f\"{run_folder_mix}{m}/model_results.pkl\")\n",
    "    results_df, time_df = data_utils.extract_results(training_results, \"Mixed\")\n",
    "    if m[-4:]!=\"GRID\":\n",
    "        gen_results = data_utils.load_pkl(f\"{run_folder_kcm}{m}/model_generalization_results.pkl\")\n",
    "        gen_df = data_utils.extract_gen_results(gen_results, \"Mixed\")\n",
    "    if i!=0:\n",
    "        results_df = results_df[results_df['Model']==m]\n",
    "        time_df = time_df[time_df['Model']==m]\n",
    "        gen_df = gen_df[gen_df['Model']==m]\n",
    "    all_model_results.append(results_df)\n",
    "    all_model_times.append(time_df)\n",
    "    all_model_gen_results.append(gen_df)\n",
    "mix_result_df = pd.concat(all_model_results).sort_values([\"Model\",\"Fold\"])\n",
    "mix_time_df = pd.concat(all_model_times).sort_values([\"Model\",\"Fold\"])\n",
    "mix_gen_df = pd.concat(all_model_gen_results).sort_values([\"Model\",\"Fold\"])\n",
    "\n",
    "mix_baseline_df = mix_gen_df[mix_gen_df['Loss']==\"Train_Losses\"].copy()\n",
    "mix_baseline_df['Loss'] = \"Network Baseline\"\n",
    "mix_baseline_df = mix_baseline_df[['Model','City','Loss','Fold','MAPE','RMSE','MAE']]"
   ]
  },
  {
   "cell_type": "code",
   "execution_count": null,
   "metadata": {},
   "outputs": [],
   "source": [
    "plot_data = mix_gen_df[mix_gen_df['Loss']==\"Test_Losses\"].copy()\n",
    "plot_data = pd.concat([plot_data, mix_baseline_df])\n",
    "plot_data['Loss'] = plot_data['Loss'].replace([\"Test_Losses\"],[\"Tested on Ruter\"])\n",
    "plot_data['Loss'] = plot_data['Loss'].replace([\"Network Baseline\"],[\"Tested on Mixed KCM/AtB\"])\n",
    "plot_data = plot_data[~plot_data['Model'].isin([\"AVG\",\"SCH\",\"PER_TIM\"])]\n",
    "fig, axes = plt.subplots(1,1)\n",
    "fig.set_figheight(6)\n",
    "fig.set_figwidth(8)\n",
    "sns.barplot(plot_data, x=\"MAPE\", y=\"Model\", hue=\"Loss\", dodge=True)\n",
    "axes.set_xlim([0,.5])\n",
    "axes.set_ylabel(\"Model\")\n",
    "axes.set_xlabel(\"Model Performance (MAPE)\")\n",
    "fig.suptitle('KCM/AtB Mixed Models Generalization Performance', fontsize=16)\n",
    "fig.tight_layout()\n",
    "plt.savefig(\"../plots/model_generalization_mix.eps\", format='eps', dpi=600, bbox_inches='tight')\n",
    "plt.savefig(\"../plots/model_generalization_mix.png\", format='png', dpi=600, bbox_inches='tight')"
   ]
  }
 ],
 "metadata": {
  "kernelspec": {
   "display_name": "valle_m1",
   "language": "python",
   "name": "python3"
  },
  "language_info": {
   "codemirror_mode": {
    "name": "ipython",
    "version": 3
   },
   "file_extension": ".py",
   "mimetype": "text/x-python",
   "name": "python",
   "nbconvert_exporter": "python",
   "pygments_lexer": "ipython3",
   "version": "3.9.6"
  },
  "orig_nbformat": 4,
  "vscode": {
   "interpreter": {
    "hash": "b30fe1de1713ca8e7537eef068b13a2de77ded03f86aab2e80ea73416dd3d704"
   }
  }
 },
 "nbformat": 4,
 "nbformat_minor": 2
}
