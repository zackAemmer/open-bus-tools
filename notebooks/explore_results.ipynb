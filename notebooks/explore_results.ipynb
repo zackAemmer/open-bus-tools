{
 "cells": [
  {
   "cell_type": "code",
   "execution_count": 18,
   "metadata": {},
   "outputs": [],
   "source": [
    "import os\n",
    "import pickle\n",
    "import sys\n",
    "sys.path.append(\"../\")\n",
    "\n",
    "import importlib\n",
    "import matplotlib.pyplot as plt\n",
    "import numpy as np\n",
    "import pandas as pd\n",
    "import seaborn as sns\n",
    "from sklearn import metrics\n",
    "\n",
    "from openbustools import plotting\n",
    "from openbustools.traveltime import model_utils"
   ]
  },
  {
   "cell_type": "code",
   "execution_count": 41,
   "metadata": {},
   "outputs": [
    {
     "data": {
      "text/plain": [
       "<module 'openbustools.traveltime.model_utils' from '/home/zack/Desktop/open_bus_tools/notebooks/../openbustools/traveltime/model_utils.py'>"
      ]
     },
     "execution_count": 41,
     "metadata": {},
     "output_type": "execute_result"
    }
   ],
   "source": [
    "importlib.reload(model_utils)"
   ]
  },
  {
   "cell_type": "code",
   "execution_count": 42,
   "metadata": {},
   "outputs": [
    {
     "data": {
      "text/html": [
       "<div>\n",
       "<style scoped>\n",
       "    .dataframe tbody tr th:only-of-type {\n",
       "        vertical-align: middle;\n",
       "    }\n",
       "\n",
       "    .dataframe tbody tr th {\n",
       "        vertical-align: top;\n",
       "    }\n",
       "\n",
       "    .dataframe thead th {\n",
       "        text-align: right;\n",
       "    }\n",
       "</style>\n",
       "<table border=\"1\" class=\"dataframe\">\n",
       "  <thead>\n",
       "    <tr style=\"text-align: right;\">\n",
       "      <th></th>\n",
       "      <th>model</th>\n",
       "      <th>experiment_name</th>\n",
       "      <th>metric</th>\n",
       "      <th>value</th>\n",
       "    </tr>\n",
       "  </thead>\n",
       "  <tbody>\n",
       "    <tr>\n",
       "      <th>0</th>\n",
       "      <td>AVGH</td>\n",
       "      <td>diff_city</td>\n",
       "      <td>ex_var</td>\n",
       "      <td>0.550609</td>\n",
       "    </tr>\n",
       "    <tr>\n",
       "      <th>1</th>\n",
       "      <td>AVGH</td>\n",
       "      <td>diff_city</td>\n",
       "      <td>label_max</td>\n",
       "      <td>2968.000000</td>\n",
       "    </tr>\n",
       "    <tr>\n",
       "      <th>2</th>\n",
       "      <td>AVGH</td>\n",
       "      <td>diff_city</td>\n",
       "      <td>label_mean</td>\n",
       "      <td>581.562118</td>\n",
       "    </tr>\n",
       "    <tr>\n",
       "      <th>3</th>\n",
       "      <td>AVGH</td>\n",
       "      <td>diff_city</td>\n",
       "      <td>label_med</td>\n",
       "      <td>540.000000</td>\n",
       "    </tr>\n",
       "    <tr>\n",
       "      <th>4</th>\n",
       "      <td>AVGH</td>\n",
       "      <td>diff_city</td>\n",
       "      <td>label_min</td>\n",
       "      <td>21.000000</td>\n",
       "    </tr>\n",
       "    <tr>\n",
       "      <th>...</th>\n",
       "      <td>...</td>\n",
       "      <td>...</td>\n",
       "      <td>...</td>\n",
       "      <td>...</td>\n",
       "    </tr>\n",
       "    <tr>\n",
       "      <th>1243</th>\n",
       "      <td>TRSF_TUNED</td>\n",
       "      <td>same_city</td>\n",
       "      <td>pred_mean</td>\n",
       "      <td>-3451.627197</td>\n",
       "    </tr>\n",
       "    <tr>\n",
       "      <th>1244</th>\n",
       "      <td>TRSF_TUNED</td>\n",
       "      <td>same_city</td>\n",
       "      <td>pred_med</td>\n",
       "      <td>-2221.843311</td>\n",
       "    </tr>\n",
       "    <tr>\n",
       "      <th>1245</th>\n",
       "      <td>TRSF_TUNED</td>\n",
       "      <td>same_city</td>\n",
       "      <td>pred_min</td>\n",
       "      <td>-13125.678906</td>\n",
       "    </tr>\n",
       "    <tr>\n",
       "      <th>1246</th>\n",
       "      <td>TRSF_TUNED</td>\n",
       "      <td>same_city</td>\n",
       "      <td>r_score</td>\n",
       "      <td>-2.563338</td>\n",
       "    </tr>\n",
       "    <tr>\n",
       "      <th>1247</th>\n",
       "      <td>TRSF_TUNED</td>\n",
       "      <td>same_city</td>\n",
       "      <td>rmse</td>\n",
       "      <td>52.211330</td>\n",
       "    </tr>\n",
       "  </tbody>\n",
       "</table>\n",
       "<p>1248 rows × 4 columns</p>\n",
       "</div>"
      ],
      "text/plain": [
       "           model experiment_name      metric         value\n",
       "0           AVGH       diff_city      ex_var      0.550609\n",
       "1           AVGH       diff_city   label_max   2968.000000\n",
       "2           AVGH       diff_city  label_mean    581.562118\n",
       "3           AVGH       diff_city   label_med    540.000000\n",
       "4           AVGH       diff_city   label_min     21.000000\n",
       "...          ...             ...         ...           ...\n",
       "1243  TRSF_TUNED       same_city   pred_mean  -3451.627197\n",
       "1244  TRSF_TUNED       same_city    pred_med  -2221.843311\n",
       "1245  TRSF_TUNED       same_city    pred_min -13125.678906\n",
       "1246  TRSF_TUNED       same_city     r_score     -2.563338\n",
       "1247  TRSF_TUNED       same_city        rmse     52.211330\n",
       "\n",
       "[1248 rows x 4 columns]"
      ]
     },
     "execution_count": 42,
     "metadata": {},
     "output_type": "execute_result"
    }
   ],
   "source": [
    "all_res = []\n",
    "for model_res_file in os.listdir(\"../results/kcm/\"):\n",
    "    res = model_utils.format_model_res(f\"../results/kcm/{model_res_file}\")\n",
    "    all_res.append(res)\n",
    "all_res = pd.concat(all_res)\n",
    "all_res = all_res.groupby(['model','experiment_name','metric']).mean()[['value']].reset_index()\n",
    "all_res"
   ]
  },
  {
   "cell_type": "code",
   "execution_count": 49,
   "metadata": {},
   "outputs": [
    {
     "data": {
      "text/plain": [
       "<Axes: xlabel='value', ylabel='model'>"
      ]
     },
     "execution_count": 49,
     "metadata": {},
     "output_type": "execute_result"
    },
    {
     "data": {
      "image/png": "[encoded data removed]",
      "text/plain": [
       "<Figure size 640x480 with 1 Axes>"
      ]
     },
     "metadata": {},
     "output_type": "display_data"
    }
   ],
   "source": [
    "sns.barplot(all_res[all_res['metric']=='label_mean'], x='value', y='model', hue='experiment_name')"
   ]
  },
  {
   "cell_type": "code",
   "execution_count": null,
   "metadata": {},
   "outputs": [],
   "source": [
    "run_folder_kcm = \"../results/big_run/kcm/models/\"\n",
    "run_folder_atb = \"../results/big_run/atb/models/\"\n",
    "run_folder_mix = \"../results/big_run_nosch/kcm_atb/models/\"\n",
    "run_folder_rut = \"../results/big_run_nosch/rut/models/\""
   ]
  },
  {
   "cell_type": "code",
   "execution_count": null,
   "metadata": {},
   "outputs": [],
   "source": [
    "# Need to combine model results for all models\n",
    "model_list = [x for x in os.listdir(run_folder_kcm) if (x[-3:]!=\"pkl\" and x!=\".DS_Store\")]\n",
    "all_model_results = []\n",
    "all_model_times = []\n",
    "all_model_gen_results = []\n",
    "for i, m in enumerate(model_list):\n",
    "    training_results = data_utils.load_pkl(f\"{run_folder_kcm}{m}/model_results.pkl\")\n",
    "    results_df, time_df = data_utils.extract_results(training_results, \"Seattle\")\n",
    "    if m[-4:]!=\"GRID\":\n",
    "        gen_results = data_utils.load_pkl(f\"{run_folder_kcm}{m}/model_generalization_results.pkl\")\n",
    "        gen_df = data_utils.extract_gen_results(gen_results, \"Seattle\")\n",
    "    if i!=0:\n",
    "        results_df = results_df[results_df['Model']==m]\n",
    "        time_df = time_df[time_df['Model']==m]\n",
    "        gen_df = gen_df[gen_df['Model']==m]\n",
    "    all_model_results.append(results_df)\n",
    "    all_model_times.append(time_df)\n",
    "    all_model_gen_results.append(gen_df)\n",
    "kcm_result_df = pd.concat(all_model_results).sort_values([\"Model\",\"Fold\"])\n",
    "kcm_time_df = pd.concat(all_model_times).sort_values([\"Model\",\"Fold\"])\n",
    "kcm_gen_df = pd.concat(all_model_gen_results).sort_values([\"Model\",\"Fold\"])\n",
    "kcm_baseline_df = kcm_gen_df[kcm_gen_df['Loss']==\"Train_Losses\"].copy()\n",
    "kcm_baseline_df['Loss'] = \"Network Baseline\"\n",
    "kcm_baseline_df = kcm_baseline_df[['Model','City','Loss','Fold','MAPE','RMSE','MAE']]\n",
    "\n",
    "# Need to combine model results for all models\n",
    "model_list = [x for x in os.listdir(run_folder_atb) if (x[-3:]!=\"pkl\" and x!=\".DS_Store\")]\n",
    "all_model_results = []\n",
    "all_model_times = []\n",
    "all_model_gen_results = []\n",
    "for i, m in enumerate(model_list):\n",
    "    training_results = data_utils.load_pkl(f\"{run_folder_atb}{m}/model_results.pkl\")\n",
    "    results_df, time_df = data_utils.extract_results(training_results, \"Trondheim\")\n",
    "    if m[-4:]!=\"GRID\":\n",
    "        gen_results = data_utils.load_pkl(f\"{run_folder_atb}{m}/model_generalization_results.pkl\")\n",
    "        gen_df = data_utils.extract_gen_results(gen_results, \"Trondheim\")\n",
    "    if i!=0:\n",
    "        results_df = results_df[results_df['Model']==m]\n",
    "        time_df = time_df[time_df['Model']==m]\n",
    "        gen_df = gen_df[gen_df['Model']==m]\n",
    "    all_model_results.append(results_df)\n",
    "    all_model_times.append(time_df)\n",
    "    all_model_gen_results.append(gen_df)\n",
    "atb_result_df = pd.concat(all_model_results).sort_values([\"Model\",\"Fold\"])\n",
    "atb_time_df = pd.concat(all_model_times).sort_values([\"Model\",\"Fold\"])\n",
    "atb_gen_df = pd.concat(all_model_gen_results).sort_values([\"Model\",\"Fold\"])\n",
    "atb_baseline_df = atb_gen_df[atb_gen_df['Loss']==\"Train_Losses\"].copy()\n",
    "atb_baseline_df['Loss'] = \"Network Baseline\"\n",
    "atb_baseline_df = atb_baseline_df[['Model','City','Loss','Fold','MAPE','RMSE','MAE']]"
   ]
  },
  {
   "attachments": {},
   "cell_type": "markdown",
   "metadata": {},
   "source": [
    "### Model Performance"
   ]
  },
  {
   "cell_type": "code",
   "execution_count": null,
   "metadata": {},
   "outputs": [],
   "source": [
    "print(kcm_gen_df[kcm_gen_df['Loss']==\"Train_Losses\"].groupby([\"Model\"])[[\"MAPE\"]].agg([\"mean\",\"std\"]))"
   ]
  },
  {
   "cell_type": "code",
   "execution_count": null,
   "metadata": {},
   "outputs": [],
   "source": [
    "print(kcm_result_df.groupby([\"Model\"])[[\"MAPE\"]].agg([\"mean\",\"std\"]))"
   ]
  },
  {
   "cell_type": "code",
   "execution_count": null,
   "metadata": {},
   "outputs": [],
   "source": [
    "plot_data = kcm_result_df\n",
    "fig, axes = plt.subplots(1,1)\n",
    "fig.set_figheight(6)\n",
    "fig.set_figwidth(8)\n",
    "sns.barplot(plot_data, x=\"MAPE\", y=\"Model\", ax=axes)\n",
    "axes.set_xlim([0, 0.5])\n",
    "fig.suptitle('KCM Model Performance', fontsize=16)\n",
    "fig.tight_layout()\n",
    "plt.savefig(\"../plots/model_performances_kcm.eps\", format='eps', dpi=600, bbox_inches='tight')\n",
    "plt.savefig(\"../plots/model_performances_kcm.png\", format='png', dpi=600, bbox_inches='tight')"
   ]
  },
  {
   "cell_type": "code",
   "execution_count": null,
   "metadata": {},
   "outputs": [],
   "source": [
    "print(atb_gen_df[atb_gen_df['Loss']==\"Train_Losses\"].groupby([\"Model\"])[[\"MAPE\"]].agg([\"mean\",\"std\"]))"
   ]
  },
  {
   "cell_type": "code",
   "execution_count": null,
   "metadata": {},
   "outputs": [],
   "source": [
    "print(atb_result_df.groupby([\"Model\"])[[\"MAPE\"]].agg([\"mean\",\"std\"]))"
   ]
  },
  {
   "cell_type": "code",
   "execution_count": null,
   "metadata": {},
   "outputs": [],
   "source": [
    "plot_data = atb_result_df\n",
    "fig, axes = plt.subplots(1,1)\n",
    "fig.set_figheight(6)\n",
    "fig.set_figwidth(8)\n",
    "sns.barplot(plot_data, x=\"MAPE\", y=\"Model\", ax=axes)\n",
    "axes.set_xlim([0, 0.5])\n",
    "fig.suptitle('AtB Model Performance', fontsize=16)\n",
    "fig.tight_layout()\n",
    "plt.savefig(\"../plots/model_performances_atb.eps\", format='eps', dpi=600, bbox_inches='tight')\n",
    "plt.savefig(\"../plots/model_performances_atb.png\", format='png', dpi=600, bbox_inches='tight')"
   ]
  },
  {
   "attachments": {},
   "cell_type": "markdown",
   "metadata": {},
   "source": [
    "### Generalization (Across Networks)"
   ]
  },
  {
   "cell_type": "code",
   "execution_count": null,
   "metadata": {},
   "outputs": [],
   "source": [
    "plot_data = atb_gen_df[atb_gen_df['Loss']==\"Test_Losses\"].copy()\n",
    "plot_data = pd.concat([plot_data, kcm_baseline_df])\n",
    "plot_data = plot_data[~plot_data['Model'].isin([\"AVG\",\"SCH\",\"PER_TIM\"])]\n",
    "plot_data['Loss'] = plot_data['Loss'].replace([\"Test_Losses\"],[\"Model Trained on AtB\"])\n",
    "fig, axes = plt.subplots(1,1)\n",
    "fig.set_figheight(6)\n",
    "fig.set_figwidth(8)\n",
    "sns.barplot(plot_data, x=\"MAPE\", y=\"Model\", hue=\"Loss\", dodge=True)\n",
    "axes.set_xlim([0,.5])\n",
    "axes.set_ylabel(\"Model\")\n",
    "axes.set_xlabel(\"Model Performance (MAPE)\")\n",
    "fig.suptitle('KCM Network Generalization Performance', fontsize=16)\n",
    "fig.tight_layout()\n",
    "plt.savefig(\"../plots/model_generalization_kcm.eps\", format='eps', dpi=600, bbox_inches='tight')\n",
    "plt.savefig(\"../plots/model_generalization_kcm.png\", format='png', dpi=600, bbox_inches='tight')"
   ]
  },
  {
   "cell_type": "code",
   "execution_count": null,
   "metadata": {},
   "outputs": [],
   "source": [
    "plot_data = kcm_gen_df[kcm_gen_df['Loss']==\"Test_Losses\"].copy()\n",
    "plot_data = pd.concat([plot_data, atb_baseline_df])\n",
    "plot_data = plot_data[~plot_data['Model'].isin([\"AVG\",\"SCH\",\"PER_TIM\"])]\n",
    "plot_data['Loss'] = plot_data['Loss'].replace([\"Test_Losses\"],[\"Model Trained on KCM\"])\n",
    "fig, axes = plt.subplots(1,1)\n",
    "fig.set_figheight(6)\n",
    "fig.set_figwidth(8)\n",
    "sns.barplot(plot_data, x=\"MAPE\", y=\"Model\", hue=\"Loss\", dodge=True)\n",
    "axes.set_xlim([0, .5])\n",
    "axes.set_ylabel(\"Model\")\n",
    "axes.set_xlabel(\"Model Performance (MAPE)\")\n",
    "fig.suptitle('AtB Network Generalization Performance', fontsize=16)\n",
    "fig.tight_layout()\n",
    "plt.savefig(\"../plots/model_generalization_atb.eps\", format='eps', dpi=600, bbox_inches='tight')\n",
    "plt.savefig(\"../plots/model_generalization_atb.png\", format='png', dpi=600, bbox_inches='tight')"
   ]
  },
  {
   "attachments": {},
   "cell_type": "markdown",
   "metadata": {},
   "source": [
    "### Generalization (Within Network)"
   ]
  },
  {
   "cell_type": "code",
   "execution_count": null,
   "metadata": {},
   "outputs": [],
   "source": [
    "plot_data = kcm_gen_df[kcm_gen_df['Loss']==\"Holdout_Losses\"].copy()\n",
    "plot_data = pd.concat([plot_data, kcm_baseline_df])\n",
    "plot_data = plot_data[~plot_data['Model'].isin([\"AVG\",\"SCH\",\"PER_TIM\"])]\n",
    "plot_data['Loss'] = plot_data['Loss'].replace([\"Holdout_Losses\"],[\"Holdout Routes\"])\n",
    "fig, axes = plt.subplots(1,1)\n",
    "fig.set_figheight(6)\n",
    "fig.set_figwidth(8)\n",
    "sns.barplot(plot_data, x=\"MAPE\", y=\"Model\", hue=\"Loss\", dodge=True)\n",
    "axes.set_xlim([0, .5])\n",
    "axes.set_ylabel(\"Model\")\n",
    "axes.set_xlabel(\"Model Performance (MAPE)\")\n",
    "fig.suptitle('KCM Network Holdout Route Performance', fontsize=16)\n",
    "fig.tight_layout()\n",
    "plt.savefig(\"../plots/model_holdout_route_kcm.eps\", format='eps', dpi=600, bbox_inches='tight')\n",
    "plt.savefig(\"../plots/model_holdout_route_kcm.png\", format='png', dpi=600, bbox_inches='tight')"
   ]
  },
  {
   "cell_type": "code",
   "execution_count": null,
   "metadata": {},
   "outputs": [],
   "source": [
    "plot_data = atb_gen_df[atb_gen_df['Loss']==\"Holdout_Losses\"].copy()\n",
    "plot_data = pd.concat([plot_data, atb_baseline_df])\n",
    "plot_data = plot_data[~plot_data['Model'].isin([\"AVG\",\"SCH\",\"PER_TIM\"])]\n",
    "plot_data['Loss'] = plot_data['Loss'].replace([\"Holdout_Losses\"],[\"Holdout Routes\"])\n",
    "fig, axes = plt.subplots(1,1)\n",
    "fig.set_figheight(6)\n",
    "fig.set_figwidth(8)\n",
    "sns.barplot(plot_data, x=\"MAPE\", y=\"Model\", hue=\"Loss\", dodge=True)\n",
    "axes.set_xlim([0, .5])\n",
    "axes.set_ylabel(\"Model\")\n",
    "axes.set_xlabel(\"Model Performance (MAPE)\")\n",
    "fig.suptitle('AtB Network Holdout Route Performance', fontsize=16)\n",
    "fig.tight_layout()\n",
    "plt.savefig(\"../plots/model_holdout_route_atb.eps\", format='eps', dpi=600, bbox_inches='tight')\n",
    "plt.savefig(\"../plots/model_holdout_route_atb.png\", format='png', dpi=600, bbox_inches='tight')"
   ]
  },
  {
   "attachments": {},
   "cell_type": "markdown",
   "metadata": {},
   "source": [
    "### Fine Tuning"
   ]
  },
  {
   "cell_type": "code",
   "execution_count": null,
   "metadata": {},
   "outputs": [],
   "source": [
    "plot_data = atb_gen_df[atb_gen_df['Loss'].isin(['Tune_Test_Losses','Test_Losses'])]\n",
    "plot_data = pd.concat([plot_data, kcm_baseline_df])\n",
    "plot_data = plot_data[~plot_data['Model'].isin([\"AVG\",\"SCH\",\"PER_TIM\"])]\n",
    "plot_data['Loss'] = plot_data['Loss'].replace([\"Tune_Test_Losses\",\"Test_Losses\"],[\"Model Trained on AtB + Tuning\", \"Model Trained on AtB\"])\n",
    "fig, axes = plt.subplots(1,1)\n",
    "fig.set_figheight(6)\n",
    "fig.set_figwidth(8)\n",
    "sns.barplot(plot_data, x=\"MAPE\", y=\"Model\", hue=\"Loss\", dodge=True)\n",
    "axes.set_xlim([0, .5])\n",
    "axes.set_ylabel(\"Model\")\n",
    "axes.set_xlabel(\"Model Performance (MAPE)\")\n",
    "fig.suptitle('KCM Tuned Network Generalization Performance', fontsize=16)\n",
    "fig.tight_layout()\n",
    "plt.savefig(\"../plots/model_tuning_kcm.eps\", format='eps', dpi=600, bbox_inches='tight')\n",
    "plt.savefig(\"../plots/model_tuning_kcm.png\", format='png', dpi=600, bbox_inches='tight')"
   ]
  },
  {
   "cell_type": "code",
   "execution_count": null,
   "metadata": {},
   "outputs": [],
   "source": [
    "plot_data = kcm_gen_df[kcm_gen_df['Loss'].isin(['Tune_Test_Losses','Test_Losses'])]\n",
    "plot_data = pd.concat([plot_data, atb_baseline_df])\n",
    "plot_data = plot_data[~plot_data['Model'].isin([\"AVG\",\"SCH\",\"PER_TIM\"])]\n",
    "plot_data['Loss'] = plot_data['Loss'].replace([\"Tune_Test_Losses\",\"Test_Losses\"],[\"Model Trained on KCM + Tuning\", \"Model Trained on KCM\"])\n",
    "fig, axes = plt.subplots(1,1)\n",
    "fig.set_figheight(6)\n",
    "fig.set_figwidth(8)\n",
    "sns.barplot(plot_data, x=\"MAPE\", y=\"Model\", hue=\"Loss\", dodge=True)\n",
    "axes.set_xlim([0, .5])\n",
    "axes.set_ylabel(\"Model\")\n",
    "axes.set_xlabel(\"Model Performance (MAPE)\")\n",
    "fig.suptitle('AtB Tuned Network Generalization Performance', fontsize=16)\n",
    "fig.tight_layout()\n",
    "plt.savefig(\"../plots/model_tuning_atb.eps\", format='eps', dpi=600, bbox_inches='tight')\n",
    "plt.savefig(\"../plots/model_tuning_atb.png\", format='png', dpi=600, bbox_inches='tight')"
   ]
  },
  {
   "cell_type": "code",
   "execution_count": null,
   "metadata": {},
   "outputs": [],
   "source": [
    "plot_data = kcm_gen_df[kcm_gen_df['Loss']==\"Tune_Train_Losses\"]\n",
    "plot_data = pd.concat([plot_data, kcm_baseline_df])\n",
    "plot_data = plot_data[~plot_data['Model'].isin([\"AVG\",\"SCH\",\"PER_TIM\"])]\n",
    "plot_data['Loss'] = plot_data['Loss'].replace([\"Tune_Train_Losses\"],[\"KCM Model Tuned on AtB\"])\n",
    "fig, axes = plt.subplots(1,1)\n",
    "fig.set_figheight(6)\n",
    "fig.set_figwidth(8)\n",
    "sns.barplot(plot_data, x=\"MAPE\", y=\"Model\", hue=\"Loss\", dodge=True)\n",
    "axes.set_xlim([0,.5])\n",
    "axes.set_ylabel(\"Model\")\n",
    "axes.set_xlabel(\"Model Performance (MAPE)\")\n",
    "fig.suptitle('KCM Network Deterioration', fontsize=16)\n",
    "fig.tight_layout()\n",
    "plt.savefig(\"../plots/model_deterioration_kcm.eps\", format='eps', dpi=600, bbox_inches='tight')\n",
    "plt.savefig(\"../plots/model_deterioration_kcm.png\", format='png', dpi=600, bbox_inches='tight')"
   ]
  },
  {
   "cell_type": "code",
   "execution_count": null,
   "metadata": {},
   "outputs": [],
   "source": [
    "plot_data = atb_gen_df[atb_gen_df['Loss']==\"Tune_Train_Losses\"]\n",
    "plot_data = pd.concat([plot_data, atb_baseline_df])\n",
    "plot_data = plot_data[~plot_data['Model'].isin([\"AVG\",\"SCH\",\"PER_TIM\"])]\n",
    "plot_data['Loss'] = plot_data['Loss'].replace([\"Tune_Train_Losses\"],[\"AtB Model Tuned on KCM\"])\n",
    "fig, axes = plt.subplots(1,1)\n",
    "fig.set_figheight(6)\n",
    "fig.set_figwidth(8)\n",
    "sns.barplot(plot_data, x=\"MAPE\", y=\"Model\", hue=\"Loss\", dodge=True)\n",
    "axes.set_xlim([0,.5])\n",
    "axes.set_ylabel(\"Model\")\n",
    "axes.set_xlabel(\"Model Performance (MAPE)\")\n",
    "fig.suptitle('AtB Network Deterioration', fontsize=16)\n",
    "fig.tight_layout()\n",
    "plt.savefig(\"../plots/model_deterioration_atb.eps\", format='eps', dpi=600, bbox_inches='tight')\n",
    "plt.savefig(\"../plots/model_deterioration_atb.png\", format='png', dpi=600, bbox_inches='tight')"
   ]
  },
  {
   "cell_type": "markdown",
   "metadata": {},
   "source": [
    "### Mixed Data"
   ]
  },
  {
   "cell_type": "code",
   "execution_count": null,
   "metadata": {},
   "outputs": [],
   "source": [
    "# Need to combine model results for all models\n",
    "model_list = [x for x in os.listdir(run_folder_mix) if (x[-3:]!=\"pkl\" and x!=\".DS_Store\")]\n",
    "all_model_results = []\n",
    "all_model_times = []\n",
    "all_model_gen_results = []\n",
    "for i, m in enumerate(model_list):\n",
    "    training_results = data_utils.load_pkl(f\"{run_folder_mix}{m}/model_results.pkl\")\n",
    "    results_df, time_df = data_utils.extract_results(training_results, \"Mixed\")\n",
    "    if m[-4:]!=\"GRID\":\n",
    "        gen_results = data_utils.load_pkl(f\"{run_folder_kcm}{m}/model_generalization_results.pkl\")\n",
    "        gen_df = data_utils.extract_gen_results(gen_results, \"Mixed\")\n",
    "    if i!=0:\n",
    "        results_df = results_df[results_df['Model']==m]\n",
    "        time_df = time_df[time_df['Model']==m]\n",
    "        gen_df = gen_df[gen_df['Model']==m]\n",
    "    all_model_results.append(results_df)\n",
    "    all_model_times.append(time_df)\n",
    "    all_model_gen_results.append(gen_df)\n",
    "mix_result_df = pd.concat(all_model_results).sort_values([\"Model\",\"Fold\"])\n",
    "mix_time_df = pd.concat(all_model_times).sort_values([\"Model\",\"Fold\"])\n",
    "mix_gen_df = pd.concat(all_model_gen_results).sort_values([\"Model\",\"Fold\"])\n",
    "\n",
    "mix_baseline_df = mix_gen_df[mix_gen_df['Loss']==\"Train_Losses\"].copy()\n",
    "mix_baseline_df['Loss'] = \"Network Baseline\"\n",
    "mix_baseline_df = mix_baseline_df[['Model','City','Loss','Fold','MAPE','RMSE','MAE']]"
   ]
  },
  {
   "cell_type": "code",
   "execution_count": null,
   "metadata": {},
   "outputs": [],
   "source": [
    "plot_data = mix_gen_df[mix_gen_df['Loss']==\"Test_Losses\"].copy()\n",
    "plot_data = pd.concat([plot_data, mix_baseline_df])\n",
    "plot_data['Loss'] = plot_data['Loss'].replace([\"Test_Losses\"],[\"Tested on Ruter\"])\n",
    "plot_data['Loss'] = plot_data['Loss'].replace([\"Network Baseline\"],[\"Tested on Mixed KCM/AtB\"])\n",
    "plot_data = plot_data[~plot_data['Model'].isin([\"AVG\",\"SCH\",\"PER_TIM\"])]\n",
    "fig, axes = plt.subplots(1,1)\n",
    "fig.set_figheight(6)\n",
    "fig.set_figwidth(8)\n",
    "sns.barplot(plot_data, x=\"MAPE\", y=\"Model\", hue=\"Loss\", dodge=True)\n",
    "axes.set_xlim([0,.5])\n",
    "axes.set_ylabel(\"Model\")\n",
    "axes.set_xlabel(\"Model Performance (MAPE)\")\n",
    "fig.suptitle('KCM/AtB Mixed Models Generalization Performance', fontsize=16)\n",
    "fig.tight_layout()\n",
    "plt.savefig(\"../plots/model_generalization_mix.eps\", format='eps', dpi=600, bbox_inches='tight')\n",
    "plt.savefig(\"../plots/model_generalization_mix.png\", format='png', dpi=600, bbox_inches='tight')"
   ]
  }
 ],
 "metadata": {
  "kernelspec": {
   "display_name": "valle_m1",
   "language": "python",
   "name": "python3"
  },
  "language_info": {
   "codemirror_mode": {
    "name": "ipython",
    "version": 3
   },
   "file_extension": ".py",
   "mimetype": "text/x-python",
   "name": "python",
   "nbconvert_exporter": "python",
   "pygments_lexer": "ipython3",
   "version": "3.9.6"
  },
  "orig_nbformat": 4,
  "vscode": {
   "interpreter": {
    "hash": "b30fe1de1713ca8e7537eef068b13a2de77ded03f86aab2e80ea73416dd3d704"
   }
  }
 },
 "nbformat": 4,
 "nbformat_minor": 2
}
