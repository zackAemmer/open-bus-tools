{
 "cells": [
  {
   "cell_type": "code",
   "execution_count": 5,
   "metadata": {},
   "outputs": [],
   "source": [
    "import sys\n",
    "sys.path.append(\"../\")\n",
    "\n",
    "from openbustools import data_utils"
   ]
  },
  {
   "cell_type": "code",
   "execution_count": null,
   "metadata": {},
   "outputs": [],
   "source": [
    "KCM_DATA_FOLDER = \"../data/kcm_all_new/\"\n",
    "ATB_DATA_FOLDER = \"../data/atb_all_new/\"\n",
    "KCM_OLD_DATA_FOLDER = \"../data/kcm_all_old/\"\n",
    "ATB_OLD_DATA_FOLDER = \"../data/atb_all_old/\"\n",
    "\n",
    "kcm_given_names=['trip_id','file','locationtime','lat','lon','vehicle_id']\n",
    "atb_given_names=['trip_id','file','locationtime','lat','lon','vehicle_id']\n",
    "kcm_old_given_names=['trip_id','file','locationtime','lat','lon','vehicle_id']\n",
    "\n",
    "kcm_grid_bounds = [369903,37911,409618,87758]\n",
    "atb_grid_bounds = [550869,7012847,579944,7039521]"
   ]
  },
  {
   "cell_type": "code",
   "execution_count": null,
   "metadata": {},
   "outputs": [],
   "source": [
    "kcm_stats = data_utils.get_dataset_stats(KCM_DATA_FOLDER)\n",
    "kcm_area = (kcm_grid_bounds[2] - kcm_grid_bounds[0]) * (kcm_grid_bounds[3] - kcm_grid_bounds[1]) * 1e-6\n",
    "print(f\"KCM area: {kcm_area}\")\n",
    "kcm_stats"
   ]
  },
  {
   "cell_type": "code",
   "execution_count": null,
   "metadata": {},
   "outputs": [],
   "source": [
    "atb_stats = data_utils.get_dataset_stats(ATB_DATA_FOLDER)\n",
    "atb_area = (atb_grid_bounds[2] - atb_grid_bounds[0]) * (atb_grid_bounds[3] - atb_grid_bounds[1]) * 1e-6\n",
    "print(f\"AtB area: {atb_area}\")\n",
    "atb_stats"
   ]
  }
 ],
 "metadata": {
  "kernelspec": {
   "display_name": "valle_m1",
   "language": "python",
   "name": "python3"
  },
  "language_info": {
   "codemirror_mode": {
    "name": "ipython",
    "version": 3
   },
   "file_extension": ".py",
   "mimetype": "text/x-python",
   "name": "python",
   "nbconvert_exporter": "python",
   "pygments_lexer": "ipython3",
   "version": "3.9.6"
  },
  "orig_nbformat": 4,
  "vscode": {
   "interpreter": {
    "hash": "b30fe1de1713ca8e7537eef068b13a2de77ded03f86aab2e80ea73416dd3d704"
   }
  }
 },
 "nbformat": 4,
 "nbformat_minor": 2
}
