{
 "cells": [
  {
   "cell_type": "code",
   "execution_count": null,
   "metadata": {},
   "outputs": [],
   "source": [
    "import seaborn as sns\n",
    "import matplotlib.pyplot as plt\n",
    "import numpy as np\n",
    "import pandas as pd"
   ]
  },
  {
   "cell_type": "markdown",
   "metadata": {},
   "source": [
    "### BEB Data from KCM"
   ]
  },
  {
   "cell_type": "code",
   "execution_count": null,
   "metadata": {},
   "outputs": [],
   "source": [
    "def clean_parametrix(data_path):\n",
    "    df = pd.read_csv(data_path)\n",
    "    df = df.melt(id_vars=['DateTime'], var_name='vehicle_id_metric', value_name='value')\n",
    "    df['DateTime'] = pd.to_datetime(df['DateTime'])\n",
    "    df['vehicle_id'] = df['vehicle_id_metric'].str.split(' - ').str[0]\n",
    "    df['metric'] = df['vehicle_id_metric'].str.split(' - ').str[1]\n",
    "    df = df.drop(columns=['vehicle_id_metric'])\n",
    "    return df\n",
    "\n",
    "summary_data = clean_parametrix(\"../data/bebdatafollowup/Viriciti_Energy_Reports-2023.csv\")\n",
    "\n",
    "all_data = []\n",
    "data_folders = [\n",
    "    \"../data/bebdatafollowup/Virciti_Energy_byhour-Dec2023.csv\",\n",
    "    \"../data/bebdatafollowup/Dec2023_Performance_by_hour.csv\",\n",
    "    \"../data/bebdatafollowup/Dec2023_Time.csv\",\n",
    "    \"../data/bebdatafollowup/Dec2023_SOC.csv\"\n",
    "]\n",
    "for folder in data_folders:\n",
    "    data = clean_parametrix(folder)\n",
    "    all_data.append(data)"
   ]
  },
  {
   "cell_type": "markdown",
   "metadata": {},
   "source": [
    "### Use Data from FTA"
   ]
  },
  {
   "cell_type": "code",
   "execution_count": null,
   "metadata": {},
   "outputs": [],
   "source": [
    "pmt_plot_df = pd.DataFrame({\n",
    "    'Mode': ['Motor bus', 'Commuter bus', 'Light rail', 'Heavy rail', 'Trolley bus', 'Commuter rail', 'Demand response', 'Ferry boat', 'Other'],\n",
    "    'val': [8243, 506, 1041, 7405, 56, 3707, 481, 268, 665]\n",
    "}).sort_values('val', ascending=False)\n",
    "# plot_df = pd.DataFrame({\n",
    "#     'Mode': ['Motor bus', 'Commuter bus', 'Light rail', 'Heavy rail', 'Trolley bus', 'Commuter rail', 'Demand response', 'Ferry boat', 'Other'],\n",
    "#     'pmt': [10112,750,1474,9802,78,5924,637,377,793]\n",
    "# }).sort_values('pmt', ascending=False)\n",
    "pmt_plot_df['Passenger Kilometers Traveled (Million-PKT)'] = pmt_plot_df['val']*1.60934\n",
    "sns.barplot(pmt_plot_df, x='Mode', y='Passenger Kilometers Traveled (Million-PKT)', hue='Mode')\n",
    "# Don't show x-axis labels\n",
    "plt.xlabel('')\n",
    "plt.xticks(rotation=45)\n",
    "plt.tight_layout()"
   ]
  },
  {
   "cell_type": "code",
   "execution_count": null,
   "metadata": {},
   "outputs": [],
   "source": [
    "cap_plot_df = pd.DataFrame({\n",
    "    'Mode': ['Motor bus', 'Heavy rail', 'Commuter rail', 'Light rail'],\n",
    "    'val': [5178012810, 8155523157, 4817819823, 4719319058]\n",
    "})\n",
    "cap_plot_df['Capital Expenses (Million-$)'] = cap_plot_df['val']/1000000\n",
    "sns.barplot(cap_plot_df, x='Mode', y='Capital Expenses (Million-$)', hue='Mode')\n",
    "# Don't show x-axis labels\n",
    "plt.xlabel('')\n",
    "plt.xticks(rotation=45)\n",
    "plt.tight_layout()"
   ]
  },
  {
   "cell_type": "code",
   "execution_count": null,
   "metadata": {},
   "outputs": [],
   "source": [
    "op_plot_df = pd.DataFrame({\n",
    "    'Mode': ['Motor bus', 'Heavy rail', 'Commuter rail', 'Light rail'],\n",
    "    'val': [23885799593, 9362186080, 4967053257, 2378641425]\n",
    "})\n",
    "op_plot_df['Operating Expenses (Million-$)'] = op_plot_df['val']/1000000\n",
    "sns.barplot(op_plot_df, x='Mode', y='Operating Expenses (Million-$)', hue='Mode')\n",
    "# Don't show x-axis labels\n",
    "plt.xlabel('')\n",
    "plt.xticks(rotation=45)\n",
    "plt.tight_layout()"
   ]
  },
  {
   "cell_type": "code",
   "execution_count": null,
   "metadata": {},
   "outputs": [],
   "source": [
    "plot_df = cap_plot_df.merge(pmt_plot_df, on='Mode')\n",
    "plot_df['Capital $/PKT'] = plot_df['Capital Expenses (Million-$)'] / plot_df['Passenger Kilometers Traveled (Million-PKT)']\n",
    "sns.barplot(plot_df, x='Mode', y='Capital $/PKT', hue='Mode')\n",
    "# Don't show x-axis labels\n",
    "plt.xlabel('')\n",
    "plt.xticks(rotation=45)\n",
    "plt.tight_layout()"
   ]
  },
  {
   "cell_type": "code",
   "execution_count": null,
   "metadata": {},
   "outputs": [],
   "source": [
    "plot_df = op_plot_df.merge(pmt_plot_df, on='Mode')\n",
    "plot_df['Operating $/PKT'] = plot_df['Operating Expenses (Million-$)'] / plot_df['Passenger Kilometers Traveled (Million-PKT)']\n",
    "sns.barplot(plot_df, x='Mode', y='Operating $/PKT', hue='Mode')\n",
    "# Don't show x-axis labels\n",
    "plt.xlabel('')\n",
    "plt.xticks(rotation=45)\n",
    "plt.tight_layout()"
   ]
  }
 ],
 "metadata": {
  "kernelspec": {
   "display_name": ".venv",
   "language": "python",
   "name": "python3"
  },
  "language_info": {
   "codemirror_mode": {
    "name": "ipython",
    "version": 3
   },
   "file_extension": ".py",
   "mimetype": "text/x-python",
   "name": "python",
   "nbconvert_exporter": "python",
   "pygments_lexer": "ipython3",
   "version": "3.9.18"
  }
 },
 "nbformat": 4,
 "nbformat_minor": 2
}
