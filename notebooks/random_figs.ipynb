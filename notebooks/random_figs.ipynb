{
 "cells": [
  {
   "cell_type": "code",
   "execution_count": null,
   "metadata": {},
   "outputs": [],
   "source": [
    "import pickle\n",
    "import sys\n",
    "from zoneinfo import ZoneInfo\n",
    "sys.path.append(\"../\")\n",
    "import seaborn as sns\n",
    "import matplotlib.pyplot as plt\n",
    "import numpy as np\n",
    "import pandas as pd\n",
    "import boto3\n",
    "from dotenv import load_dotenv\n",
    "load_dotenv()\n",
    "import datetime\n",
    "\n",
    "from openbustools import spatial, standardfeeds\n",
    "\n",
    "import plotly.express as px\n",
    "import pandas as pd\n",
    "\n",
    "from pathlib import Path\n",
    "import fastsim as fsim\n",
    "\n",
    "\n",
    "from openbustools import standardfeeds, spatial, plotting\n",
    "from openbustools.drivecycle import trajectory"
   ]
  },
  {
   "cell_type": "markdown",
   "metadata": {},
   "source": [
    "### Presentation Plots"
   ]
  },
  {
   "cell_type": "code",
   "execution_count": null,
   "metadata": {},
   "outputs": [],
   "source": [
    "s3 = boto3.resource('s3')\n",
    "bucket = s3.Bucket(\"gtfs-collection-kcm\")\n",
    "objs = list(bucket.objects.all())\n",
    "available_files = [o.key[:10] for o in objs]\n",
    "dates_list = [datetime.datetime.strptime(date, '%Y_%m_%d').date() for date in available_files]\n",
    "kcm_max, kcm_min = max(dates_list).strftime('%Y-%m-%d'), min(dates_list).strftime('%Y-%m-%d')\n",
    "kcm_min = \"2020-08-01\"\n",
    "\n",
    "s3 = boto3.resource('s3')\n",
    "bucket = s3.Bucket(\"gtfs-collection-nwy\")\n",
    "objs = list(bucket.objects.all())\n",
    "available_files = [o.key[:10] for o in objs]\n",
    "dates_list = [datetime.datetime.strptime(date, '%Y_%m_%d').date() for date in available_files]\n",
    "nwy_max, nwy_min = max(dates_list).strftime('%Y-%m-%d'), min(dates_list).strftime('%Y-%m-%d')\n",
    "\n",
    "s3 = boto3.resource('s3')\n",
    "bucket = s3.Bucket(\"gtfs-collection-others\")\n",
    "objs = list(bucket.objects.all())\n",
    "available_files = [o.key[:10] for o in objs]\n",
    "dates_list = [datetime.datetime.strptime(date, '%Y_%m_%d').date() for date in available_files]\n",
    "other_max, other_min = max(dates_list).strftime('%Y-%m-%d'), min(dates_list).strftime('%Y-%m-%d')"
   ]
  },
  {
   "cell_type": "code",
   "execution_count": null,
   "metadata": {},
   "outputs": [],
   "source": [
    "df = pd.DataFrame([\n",
    "    dict(Task=\"King County Metro (Seattle, US)\", Start=kcm_min, Finish=kcm_max, Network=\"KCM\"),\n",
    "    dict(Task=\"AtB (Trondheim, Norway)\", Start=nwy_min, Finish=nwy_max, Network=\"AtB\"),\n",
    "    dict(Task=\"40 Other International Cities\", Start=other_min, Finish=other_max, Network=\"Other Cities\"),\n",
    "])\n",
    "\n",
    "fig = px.timeline(df, x_start=\"Start\", x_end=\"Finish\", y=\"Task\", color=\"Network\", width=1200, height=400)\n",
    "fig.update_layout(yaxis_title=\"\", xaxis_title=\"Collection Dates\")\n",
    "fig.update_yaxes(autorange=\"reversed\")\n",
    "fig.update_layout(showlegend=False)\n",
    "fig.show()\n",
    "fig.write_image(\"../plots/gtfsrt_collection_dates.png\")"
   ]
  },
  {
   "cell_type": "code",
   "execution_count": null,
   "metadata": {},
   "outputs": [],
   "source": [
    "cleaned_sources = pd.read_csv(\"../data/cleaned_sources.csv\")\n",
    "\n",
    "fleet_sizes = []\n",
    "for i, row in cleaned_sources.iterrows():\n",
    "    available = list(Path(f\"../data/other_feeds/{row['uuid']}_realtime\").glob(\"*.pkl\"))\n",
    "    if len(available) == 0:\n",
    "        print(f\"No data for {row['provider']}\")\n",
    "        fleet_sizes.append(411)\n",
    "        continue\n",
    "    data = pd.read_pickle(available[0])\n",
    "    fleet_sizes.append(data.vehicle_id.nunique())\n",
    "\n",
    "cleaned_sources['fleet_size'] = np.array(fleet_sizes)\n",
    "cleaned_sources = cleaned_sources.dropna()"
   ]
  },
  {
   "cell_type": "code",
   "execution_count": null,
   "metadata": {},
   "outputs": [],
   "source": [
    "fig = px.scatter_geo(cleaned_sources, lat=\"min_lat\", lon=\"min_lon\",\n",
    "                     hover_name=\"provider\",\n",
    "                     projection=\"natural earth\",\n",
    "                     width=1400,\n",
    "                     height=800\n",
    "                     )\n",
    "fig.update_layout(title=\"GTFS-RT Collection Networks\", margin={\"r\":10,\"t\":0,\"l\":10,\"b\":0})\n",
    "fig.show()\n",
    "fig.write_image(\"../plots/gtfsrt_collection_locations.png\")"
   ]
  },
  {
   "cell_type": "markdown",
   "metadata": {},
   "source": [
    "### Use Data from FTA"
   ]
  },
  {
   "cell_type": "code",
   "execution_count": null,
   "metadata": {},
   "outputs": [],
   "source": [
    "pmt_plot_df = pd.DataFrame({\n",
    "    'Mode': ['Motor bus', 'Commuter bus', 'Light rail', 'Heavy rail', 'Trolley bus', 'Commuter rail', 'Demand response', 'Ferry boat', 'Other'],\n",
    "    'val': [8243, 506, 1041, 7405, 56, 3707, 481, 268, 665]\n",
    "}).sort_values('val', ascending=False)\n",
    "# plot_df = pd.DataFrame({\n",
    "#     'Mode': ['Motor bus', 'Commuter bus', 'Light rail', 'Heavy rail', 'Trolley bus', 'Commuter rail', 'Demand response', 'Ferry boat', 'Other'],\n",
    "#     'pmt': [10112,750,1474,9802,78,5924,637,377,793]\n",
    "# }).sort_values('pmt', ascending=False)\n",
    "pmt_plot_df['Passenger Kilometers Traveled (Million-PKT)'] = pmt_plot_df['val']*1.60934\n",
    "sns.barplot(pmt_plot_df, x='Mode', y='Passenger Kilometers Traveled (Million-PKT)', hue='Mode')\n",
    "# Don't show x-axis labels\n",
    "plt.xlabel('')\n",
    "plt.xticks(rotation=45)\n",
    "plt.tight_layout()"
   ]
  },
  {
   "cell_type": "code",
   "execution_count": null,
   "metadata": {},
   "outputs": [],
   "source": [
    "cap_plot_df = pd.DataFrame({\n",
    "    'Mode': ['Motor bus', 'Heavy rail', 'Commuter rail', 'Light rail'],\n",
    "    'val': [5178012810, 8155523157, 4817819823, 4719319058]\n",
    "})\n",
    "cap_plot_df['Capital Expenses (Million-$)'] = cap_plot_df['val']/1000000\n",
    "sns.barplot(cap_plot_df, x='Mode', y='Capital Expenses (Million-$)', hue='Mode')\n",
    "# Don't show x-axis labels\n",
    "plt.xlabel('')\n",
    "plt.xticks(rotation=45)\n",
    "plt.tight_layout()"
   ]
  },
  {
   "cell_type": "code",
   "execution_count": null,
   "metadata": {},
   "outputs": [],
   "source": [
    "op_plot_df = pd.DataFrame({\n",
    "    'Mode': ['Motor bus', 'Heavy rail', 'Commuter rail', 'Light rail'],\n",
    "    'val': [23885799593, 9362186080, 4967053257, 2378641425]\n",
    "})\n",
    "op_plot_df['Operating Expenses (Million-$)'] = op_plot_df['val']/1000000\n",
    "sns.barplot(op_plot_df, x='Mode', y='Operating Expenses (Million-$)', hue='Mode')\n",
    "# Don't show x-axis labels\n",
    "plt.xlabel('')\n",
    "plt.xticks(rotation=45)\n",
    "plt.tight_layout()"
   ]
  },
  {
   "cell_type": "code",
   "execution_count": null,
   "metadata": {},
   "outputs": [],
   "source": [
    "plot_df = cap_plot_df.merge(pmt_plot_df, on='Mode')\n",
    "plot_df['Capital $/PKT'] = plot_df['Capital Expenses (Million-$)'] / plot_df['Passenger Kilometers Traveled (Million-PKT)']\n",
    "sns.barplot(plot_df, x='Mode', y='Capital $/PKT', hue='Mode')\n",
    "# Don't show x-axis labels\n",
    "plt.xlabel('')\n",
    "plt.xticks(rotation=45)\n",
    "plt.tight_layout()"
   ]
  },
  {
   "cell_type": "code",
   "execution_count": null,
   "metadata": {},
   "outputs": [],
   "source": [
    "plot_df = op_plot_df.merge(pmt_plot_df, on='Mode')\n",
    "plot_df['Operating $/PKT'] = plot_df['Operating Expenses (Million-$)'] / plot_df['Passenger Kilometers Traveled (Million-PKT)']\n",
    "sns.barplot(plot_df, x='Mode', y='Operating $/PKT', hue='Mode')\n",
    "# Don't show x-axis labels\n",
    "plt.xlabel('')\n",
    "plt.xticks(rotation=45)\n",
    "plt.tight_layout()"
   ]
  }
 ],
 "metadata": {
  "kernelspec": {
   "display_name": ".venv",
   "language": "python",
   "name": "python3"
  },
  "language_info": {
   "codemirror_mode": {
    "name": "ipython",
    "version": 3
   },
   "file_extension": ".py",
   "mimetype": "text/x-python",
   "name": "python",
   "nbconvert_exporter": "python",
   "pygments_lexer": "ipython3",
   "version": "3.9.18"
  }
 },
 "nbformat": 4,
 "nbformat_minor": 2
}
